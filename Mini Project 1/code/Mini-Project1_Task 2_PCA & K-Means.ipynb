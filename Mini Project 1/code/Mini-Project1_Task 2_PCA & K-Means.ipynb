{
 "cells": [
  {
   "cell_type": "code",
   "execution_count": 1,
   "metadata": {},
   "outputs": [],
   "source": [
    "# Principal Component\n",
    "import pandas as pd  \n",
    "import numpy as np \n",
    "import seaborn as sns\n",
    "import matplotlib.pyplot as plt  \n",
    "import matplotlib as plot\n",
    "import sklearn as sklearn\n",
    "from sklearn.model_selection import train_test_split \n",
    "from sklearn.linear_model import LinearRegression\n",
    "from sklearn import metrics\n",
    "%matplotlib inline"
   ]
  },
  {
   "cell_type": "code",
   "execution_count": 103,
   "metadata": {},
   "outputs": [
    {
     "data": {
      "text/html": [
       "<div>\n",
       "<style scoped>\n",
       "    .dataframe tbody tr th:only-of-type {\n",
       "        vertical-align: middle;\n",
       "    }\n",
       "\n",
       "    .dataframe tbody tr th {\n",
       "        vertical-align: top;\n",
       "    }\n",
       "\n",
       "    .dataframe thead th {\n",
       "        text-align: right;\n",
       "    }\n",
       "</style>\n",
       "<table border=\"1\" class=\"dataframe\">\n",
       "  <thead>\n",
       "    <tr style=\"text-align: right;\">\n",
       "      <th></th>\n",
       "      <th>country_region</th>\n",
       "      <th>sub_region_1</th>\n",
       "      <th>date</th>\n",
       "      <th>Adrenal crisis</th>\n",
       "      <th>Ageusia</th>\n",
       "      <th>Allergic conjunctivitis</th>\n",
       "      <th>Amenorrhea</th>\n",
       "      <th>Angular cheilitis</th>\n",
       "      <th>Anosmia</th>\n",
       "      <th>Asphyxia</th>\n",
       "      <th>...</th>\n",
       "      <th>Subdural hematoma</th>\n",
       "      <th>Tachypnea</th>\n",
       "      <th>Tenderness</th>\n",
       "      <th>Thyroid nodule</th>\n",
       "      <th>Trichoptilosis</th>\n",
       "      <th>Upper respiratory tract infection</th>\n",
       "      <th>Urethritis</th>\n",
       "      <th>Urinary urgency</th>\n",
       "      <th>Ventricular fibrillation</th>\n",
       "      <th>hospitalized_new</th>\n",
       "    </tr>\n",
       "  </thead>\n",
       "  <tbody>\n",
       "    <tr>\n",
       "      <th>0</th>\n",
       "      <td>United States</td>\n",
       "      <td>Alaska</td>\n",
       "      <td>2020-03-23</td>\n",
       "      <td>0.242395</td>\n",
       "      <td>1.000000</td>\n",
       "      <td>NaN</td>\n",
       "      <td>0.190876</td>\n",
       "      <td>NaN</td>\n",
       "      <td>1.000000</td>\n",
       "      <td>0.017390</td>\n",
       "      <td>...</td>\n",
       "      <td>0.173611</td>\n",
       "      <td>0.454545</td>\n",
       "      <td>0.147368</td>\n",
       "      <td>0.000000</td>\n",
       "      <td>0.058757</td>\n",
       "      <td>0.431432</td>\n",
       "      <td>0.044330</td>\n",
       "      <td>NaN</td>\n",
       "      <td>0.069176</td>\n",
       "      <td>6</td>\n",
       "    </tr>\n",
       "    <tr>\n",
       "      <th>1</th>\n",
       "      <td>United States</td>\n",
       "      <td>Alaska</td>\n",
       "      <td>2020-03-30</td>\n",
       "      <td>0.134936</td>\n",
       "      <td>0.282752</td>\n",
       "      <td>0.041096</td>\n",
       "      <td>0.070828</td>\n",
       "      <td>NaN</td>\n",
       "      <td>0.322087</td>\n",
       "      <td>0.053443</td>\n",
       "      <td>...</td>\n",
       "      <td>0.000000</td>\n",
       "      <td>0.546320</td>\n",
       "      <td>0.115088</td>\n",
       "      <td>0.142392</td>\n",
       "      <td>0.785311</td>\n",
       "      <td>0.250794</td>\n",
       "      <td>0.148454</td>\n",
       "      <td>0.650794</td>\n",
       "      <td>0.076297</td>\n",
       "      <td>14</td>\n",
       "    </tr>\n",
       "    <tr>\n",
       "      <th>2</th>\n",
       "      <td>United States</td>\n",
       "      <td>Alaska</td>\n",
       "      <td>2020-04-06</td>\n",
       "      <td>0.189892</td>\n",
       "      <td>0.131008</td>\n",
       "      <td>NaN</td>\n",
       "      <td>0.343337</td>\n",
       "      <td>0.156448</td>\n",
       "      <td>0.003374</td>\n",
       "      <td>0.021066</td>\n",
       "      <td>...</td>\n",
       "      <td>0.088542</td>\n",
       "      <td>0.261472</td>\n",
       "      <td>0.063860</td>\n",
       "      <td>0.082181</td>\n",
       "      <td>0.676836</td>\n",
       "      <td>0.137826</td>\n",
       "      <td>0.176289</td>\n",
       "      <td>NaN</td>\n",
       "      <td>NaN</td>\n",
       "      <td>11</td>\n",
       "    </tr>\n",
       "    <tr>\n",
       "      <th>3</th>\n",
       "      <td>United States</td>\n",
       "      <td>Alaska</td>\n",
       "      <td>2020-04-13</td>\n",
       "      <td>0.001472</td>\n",
       "      <td>NaN</td>\n",
       "      <td>NaN</td>\n",
       "      <td>0.000000</td>\n",
       "      <td>0.042283</td>\n",
       "      <td>0.103815</td>\n",
       "      <td>0.033084</td>\n",
       "      <td>...</td>\n",
       "      <td>0.023727</td>\n",
       "      <td>0.138528</td>\n",
       "      <td>0.203509</td>\n",
       "      <td>0.544345</td>\n",
       "      <td>0.572881</td>\n",
       "      <td>0.130369</td>\n",
       "      <td>0.000000</td>\n",
       "      <td>NaN</td>\n",
       "      <td>NaN</td>\n",
       "      <td>5</td>\n",
       "    </tr>\n",
       "    <tr>\n",
       "      <th>4</th>\n",
       "      <td>United States</td>\n",
       "      <td>Alaska</td>\n",
       "      <td>2020-04-20</td>\n",
       "      <td>0.058391</td>\n",
       "      <td>NaN</td>\n",
       "      <td>0.000000</td>\n",
       "      <td>0.475390</td>\n",
       "      <td>NaN</td>\n",
       "      <td>NaN</td>\n",
       "      <td>0.013856</td>\n",
       "      <td>...</td>\n",
       "      <td>NaN</td>\n",
       "      <td>0.242424</td>\n",
       "      <td>0.476491</td>\n",
       "      <td>0.194467</td>\n",
       "      <td>0.229379</td>\n",
       "      <td>0.077337</td>\n",
       "      <td>0.184536</td>\n",
       "      <td>NaN</td>\n",
       "      <td>0.268566</td>\n",
       "      <td>-36</td>\n",
       "    </tr>\n",
       "    <tr>\n",
       "      <th>...</th>\n",
       "      <td>...</td>\n",
       "      <td>...</td>\n",
       "      <td>...</td>\n",
       "      <td>...</td>\n",
       "      <td>...</td>\n",
       "      <td>...</td>\n",
       "      <td>...</td>\n",
       "      <td>...</td>\n",
       "      <td>...</td>\n",
       "      <td>...</td>\n",
       "      <td>...</td>\n",
       "      <td>...</td>\n",
       "      <td>...</td>\n",
       "      <td>...</td>\n",
       "      <td>...</td>\n",
       "      <td>...</td>\n",
       "      <td>...</td>\n",
       "      <td>...</td>\n",
       "      <td>...</td>\n",
       "      <td>...</td>\n",
       "      <td>...</td>\n",
       "    </tr>\n",
       "    <tr>\n",
       "      <th>125</th>\n",
       "      <td>United States</td>\n",
       "      <td>Wyoming</td>\n",
       "      <td>2020-09-07</td>\n",
       "      <td>0.029605</td>\n",
       "      <td>0.210046</td>\n",
       "      <td>0.000000</td>\n",
       "      <td>NaN</td>\n",
       "      <td>0.000000</td>\n",
       "      <td>0.024441</td>\n",
       "      <td>0.078663</td>\n",
       "      <td>...</td>\n",
       "      <td>0.699208</td>\n",
       "      <td>1.000000</td>\n",
       "      <td>0.767857</td>\n",
       "      <td>0.102564</td>\n",
       "      <td>NaN</td>\n",
       "      <td>0.035044</td>\n",
       "      <td>0.284585</td>\n",
       "      <td>NaN</td>\n",
       "      <td>NaN</td>\n",
       "      <td>9</td>\n",
       "    </tr>\n",
       "    <tr>\n",
       "      <th>126</th>\n",
       "      <td>United States</td>\n",
       "      <td>Wyoming</td>\n",
       "      <td>2020-09-14</td>\n",
       "      <td>0.066729</td>\n",
       "      <td>0.602740</td>\n",
       "      <td>NaN</td>\n",
       "      <td>1.000000</td>\n",
       "      <td>NaN</td>\n",
       "      <td>0.156425</td>\n",
       "      <td>0.079646</td>\n",
       "      <td>...</td>\n",
       "      <td>0.168865</td>\n",
       "      <td>NaN</td>\n",
       "      <td>0.607143</td>\n",
       "      <td>0.825641</td>\n",
       "      <td>0.202532</td>\n",
       "      <td>0.093450</td>\n",
       "      <td>0.296443</td>\n",
       "      <td>0.162791</td>\n",
       "      <td>NaN</td>\n",
       "      <td>15</td>\n",
       "    </tr>\n",
       "    <tr>\n",
       "      <th>127</th>\n",
       "      <td>United States</td>\n",
       "      <td>Wyoming</td>\n",
       "      <td>2020-09-21</td>\n",
       "      <td>0.136748</td>\n",
       "      <td>0.305936</td>\n",
       "      <td>NaN</td>\n",
       "      <td>0.437326</td>\n",
       "      <td>NaN</td>\n",
       "      <td>0.191341</td>\n",
       "      <td>0.023599</td>\n",
       "      <td>...</td>\n",
       "      <td>0.459103</td>\n",
       "      <td>0.173913</td>\n",
       "      <td>0.316964</td>\n",
       "      <td>0.335897</td>\n",
       "      <td>0.230380</td>\n",
       "      <td>0.036713</td>\n",
       "      <td>0.169960</td>\n",
       "      <td>NaN</td>\n",
       "      <td>0.491713</td>\n",
       "      <td>19</td>\n",
       "    </tr>\n",
       "    <tr>\n",
       "      <th>128</th>\n",
       "      <td>United States</td>\n",
       "      <td>Wyoming</td>\n",
       "      <td>2020-09-28</td>\n",
       "      <td>0.331767</td>\n",
       "      <td>0.504566</td>\n",
       "      <td>NaN</td>\n",
       "      <td>0.111421</td>\n",
       "      <td>NaN</td>\n",
       "      <td>0.175978</td>\n",
       "      <td>0.038840</td>\n",
       "      <td>...</td>\n",
       "      <td>0.501319</td>\n",
       "      <td>0.487923</td>\n",
       "      <td>0.607143</td>\n",
       "      <td>0.487179</td>\n",
       "      <td>0.070886</td>\n",
       "      <td>NaN</td>\n",
       "      <td>0.335968</td>\n",
       "      <td>NaN</td>\n",
       "      <td>0.569061</td>\n",
       "      <td>20</td>\n",
       "    </tr>\n",
       "    <tr>\n",
       "      <th>129</th>\n",
       "      <td>United States</td>\n",
       "      <td>Wyoming</td>\n",
       "      <td>2020-10-05</td>\n",
       "      <td>0.034305</td>\n",
       "      <td>1.000000</td>\n",
       "      <td>NaN</td>\n",
       "      <td>0.000000</td>\n",
       "      <td>NaN</td>\n",
       "      <td>0.354050</td>\n",
       "      <td>0.034907</td>\n",
       "      <td>...</td>\n",
       "      <td>0.232190</td>\n",
       "      <td>0.214976</td>\n",
       "      <td>0.620536</td>\n",
       "      <td>0.312821</td>\n",
       "      <td>1.000000</td>\n",
       "      <td>0.007509</td>\n",
       "      <td>1.000000</td>\n",
       "      <td>0.616279</td>\n",
       "      <td>0.071823</td>\n",
       "      <td>41</td>\n",
       "    </tr>\n",
       "  </tbody>\n",
       "</table>\n",
       "<p>130 rows × 104 columns</p>\n",
       "</div>"
      ],
      "text/plain": [
       "    country_region sub_region_1        date  Adrenal crisis   Ageusia  \\\n",
       "0    United States       Alaska  2020-03-23        0.242395  1.000000   \n",
       "1    United States       Alaska  2020-03-30        0.134936  0.282752   \n",
       "2    United States       Alaska  2020-04-06        0.189892  0.131008   \n",
       "3    United States       Alaska  2020-04-13        0.001472       NaN   \n",
       "4    United States       Alaska  2020-04-20        0.058391       NaN   \n",
       "..             ...          ...         ...             ...       ...   \n",
       "125  United States      Wyoming  2020-09-07        0.029605  0.210046   \n",
       "126  United States      Wyoming  2020-09-14        0.066729  0.602740   \n",
       "127  United States      Wyoming  2020-09-21        0.136748  0.305936   \n",
       "128  United States      Wyoming  2020-09-28        0.331767  0.504566   \n",
       "129  United States      Wyoming  2020-10-05        0.034305  1.000000   \n",
       "\n",
       "     Allergic conjunctivitis  Amenorrhea  Angular cheilitis   Anosmia  \\\n",
       "0                        NaN    0.190876                NaN  1.000000   \n",
       "1                   0.041096    0.070828                NaN  0.322087   \n",
       "2                        NaN    0.343337           0.156448  0.003374   \n",
       "3                        NaN    0.000000           0.042283  0.103815   \n",
       "4                   0.000000    0.475390                NaN       NaN   \n",
       "..                       ...         ...                ...       ...   \n",
       "125                 0.000000         NaN           0.000000  0.024441   \n",
       "126                      NaN    1.000000                NaN  0.156425   \n",
       "127                      NaN    0.437326                NaN  0.191341   \n",
       "128                      NaN    0.111421                NaN  0.175978   \n",
       "129                      NaN    0.000000                NaN  0.354050   \n",
       "\n",
       "     Asphyxia  ...  Subdural hematoma  Tachypnea  Tenderness  Thyroid nodule  \\\n",
       "0    0.017390  ...           0.173611   0.454545    0.147368        0.000000   \n",
       "1    0.053443  ...           0.000000   0.546320    0.115088        0.142392   \n",
       "2    0.021066  ...           0.088542   0.261472    0.063860        0.082181   \n",
       "3    0.033084  ...           0.023727   0.138528    0.203509        0.544345   \n",
       "4    0.013856  ...                NaN   0.242424    0.476491        0.194467   \n",
       "..        ...  ...                ...        ...         ...             ...   \n",
       "125  0.078663  ...           0.699208   1.000000    0.767857        0.102564   \n",
       "126  0.079646  ...           0.168865        NaN    0.607143        0.825641   \n",
       "127  0.023599  ...           0.459103   0.173913    0.316964        0.335897   \n",
       "128  0.038840  ...           0.501319   0.487923    0.607143        0.487179   \n",
       "129  0.034907  ...           0.232190   0.214976    0.620536        0.312821   \n",
       "\n",
       "     Trichoptilosis  Upper respiratory tract infection  Urethritis  \\\n",
       "0          0.058757                           0.431432    0.044330   \n",
       "1          0.785311                           0.250794    0.148454   \n",
       "2          0.676836                           0.137826    0.176289   \n",
       "3          0.572881                           0.130369    0.000000   \n",
       "4          0.229379                           0.077337    0.184536   \n",
       "..              ...                                ...         ...   \n",
       "125             NaN                           0.035044    0.284585   \n",
       "126        0.202532                           0.093450    0.296443   \n",
       "127        0.230380                           0.036713    0.169960   \n",
       "128        0.070886                                NaN    0.335968   \n",
       "129        1.000000                           0.007509    1.000000   \n",
       "\n",
       "     Urinary urgency  Ventricular fibrillation  hospitalized_new  \n",
       "0                NaN                  0.069176                 6  \n",
       "1           0.650794                  0.076297                14  \n",
       "2                NaN                       NaN                11  \n",
       "3                NaN                       NaN                 5  \n",
       "4                NaN                  0.268566               -36  \n",
       "..               ...                       ...               ...  \n",
       "125              NaN                       NaN                 9  \n",
       "126         0.162791                       NaN                15  \n",
       "127              NaN                  0.491713                19  \n",
       "128              NaN                  0.569061                20  \n",
       "129         0.616279                  0.071823                41  \n",
       "\n",
       "[130 rows x 104 columns]"
      ]
     },
     "execution_count": 103,
     "metadata": {},
     "output_type": "execute_result"
    }
   ],
   "source": [
    "df = pd.read_csv('finalNormalTotal_NEW.csv')# raw data with missing data\n",
    "df"
   ]
  },
  {
   "cell_type": "code",
   "execution_count": 153,
   "metadata": {},
   "outputs": [
    {
     "data": {
      "text/html": [
       "<div>\n",
       "<style scoped>\n",
       "    .dataframe tbody tr th:only-of-type {\n",
       "        vertical-align: middle;\n",
       "    }\n",
       "\n",
       "    .dataframe tbody tr th {\n",
       "        vertical-align: top;\n",
       "    }\n",
       "\n",
       "    .dataframe thead th {\n",
       "        text-align: right;\n",
       "    }\n",
       "</style>\n",
       "<table border=\"1\" class=\"dataframe\">\n",
       "  <thead>\n",
       "    <tr style=\"text-align: right;\">\n",
       "      <th></th>\n",
       "      <th>country_region</th>\n",
       "      <th>sub_region_1</th>\n",
       "      <th>date</th>\n",
       "      <th>Adrenal crisis</th>\n",
       "      <th>Ageusia</th>\n",
       "      <th>Allergic conjunctivitis</th>\n",
       "      <th>Amenorrhea</th>\n",
       "      <th>Angular cheilitis</th>\n",
       "      <th>Anosmia</th>\n",
       "      <th>Asphyxia</th>\n",
       "      <th>...</th>\n",
       "      <th>Subdural hematoma</th>\n",
       "      <th>Tachypnea</th>\n",
       "      <th>Tenderness</th>\n",
       "      <th>Thyroid nodule</th>\n",
       "      <th>Trichoptilosis</th>\n",
       "      <th>Upper respiratory tract infection</th>\n",
       "      <th>Urethritis</th>\n",
       "      <th>Urinary urgency</th>\n",
       "      <th>Ventricular fibrillation</th>\n",
       "      <th>hospitalized_new</th>\n",
       "    </tr>\n",
       "  </thead>\n",
       "  <tbody>\n",
       "    <tr>\n",
       "      <th>0</th>\n",
       "      <td>United States</td>\n",
       "      <td>Alaska</td>\n",
       "      <td>2020-03-23</td>\n",
       "      <td>0.242395</td>\n",
       "      <td>1.000000</td>\n",
       "      <td>0.337980</td>\n",
       "      <td>0.190876</td>\n",
       "      <td>0.329669</td>\n",
       "      <td>1.000000</td>\n",
       "      <td>0.017390</td>\n",
       "      <td>...</td>\n",
       "      <td>0.173611</td>\n",
       "      <td>0.454545</td>\n",
       "      <td>0.147368</td>\n",
       "      <td>0.000000</td>\n",
       "      <td>0.058757</td>\n",
       "      <td>0.431432</td>\n",
       "      <td>0.044330</td>\n",
       "      <td>0.340649</td>\n",
       "      <td>0.069176</td>\n",
       "      <td>6</td>\n",
       "    </tr>\n",
       "    <tr>\n",
       "      <th>1</th>\n",
       "      <td>United States</td>\n",
       "      <td>Alaska</td>\n",
       "      <td>2020-03-30</td>\n",
       "      <td>0.134936</td>\n",
       "      <td>0.282752</td>\n",
       "      <td>0.041096</td>\n",
       "      <td>0.070828</td>\n",
       "      <td>0.329669</td>\n",
       "      <td>0.322087</td>\n",
       "      <td>0.053443</td>\n",
       "      <td>...</td>\n",
       "      <td>0.000000</td>\n",
       "      <td>0.546320</td>\n",
       "      <td>0.115088</td>\n",
       "      <td>0.142392</td>\n",
       "      <td>0.785311</td>\n",
       "      <td>0.250794</td>\n",
       "      <td>0.148454</td>\n",
       "      <td>0.650794</td>\n",
       "      <td>0.076297</td>\n",
       "      <td>14</td>\n",
       "    </tr>\n",
       "    <tr>\n",
       "      <th>2</th>\n",
       "      <td>United States</td>\n",
       "      <td>Alaska</td>\n",
       "      <td>2020-04-06</td>\n",
       "      <td>0.189892</td>\n",
       "      <td>0.131008</td>\n",
       "      <td>0.337980</td>\n",
       "      <td>0.343337</td>\n",
       "      <td>0.156448</td>\n",
       "      <td>0.003374</td>\n",
       "      <td>0.021066</td>\n",
       "      <td>...</td>\n",
       "      <td>0.088542</td>\n",
       "      <td>0.261472</td>\n",
       "      <td>0.063860</td>\n",
       "      <td>0.082181</td>\n",
       "      <td>0.676836</td>\n",
       "      <td>0.137826</td>\n",
       "      <td>0.176289</td>\n",
       "      <td>0.340649</td>\n",
       "      <td>0.294846</td>\n",
       "      <td>11</td>\n",
       "    </tr>\n",
       "    <tr>\n",
       "      <th>3</th>\n",
       "      <td>United States</td>\n",
       "      <td>Alaska</td>\n",
       "      <td>2020-04-13</td>\n",
       "      <td>0.001472</td>\n",
       "      <td>0.345430</td>\n",
       "      <td>0.337980</td>\n",
       "      <td>0.000000</td>\n",
       "      <td>0.042283</td>\n",
       "      <td>0.103815</td>\n",
       "      <td>0.033084</td>\n",
       "      <td>...</td>\n",
       "      <td>0.023727</td>\n",
       "      <td>0.138528</td>\n",
       "      <td>0.203509</td>\n",
       "      <td>0.544345</td>\n",
       "      <td>0.572881</td>\n",
       "      <td>0.130369</td>\n",
       "      <td>0.000000</td>\n",
       "      <td>0.340649</td>\n",
       "      <td>0.294846</td>\n",
       "      <td>5</td>\n",
       "    </tr>\n",
       "    <tr>\n",
       "      <th>4</th>\n",
       "      <td>United States</td>\n",
       "      <td>Alaska</td>\n",
       "      <td>2020-04-20</td>\n",
       "      <td>0.058391</td>\n",
       "      <td>0.345430</td>\n",
       "      <td>0.000000</td>\n",
       "      <td>0.475390</td>\n",
       "      <td>0.329669</td>\n",
       "      <td>0.291814</td>\n",
       "      <td>0.013856</td>\n",
       "      <td>...</td>\n",
       "      <td>0.261018</td>\n",
       "      <td>0.242424</td>\n",
       "      <td>0.476491</td>\n",
       "      <td>0.194467</td>\n",
       "      <td>0.229379</td>\n",
       "      <td>0.077337</td>\n",
       "      <td>0.184536</td>\n",
       "      <td>0.340649</td>\n",
       "      <td>0.268566</td>\n",
       "      <td>-36</td>\n",
       "    </tr>\n",
       "    <tr>\n",
       "      <th>...</th>\n",
       "      <td>...</td>\n",
       "      <td>...</td>\n",
       "      <td>...</td>\n",
       "      <td>...</td>\n",
       "      <td>...</td>\n",
       "      <td>...</td>\n",
       "      <td>...</td>\n",
       "      <td>...</td>\n",
       "      <td>...</td>\n",
       "      <td>...</td>\n",
       "      <td>...</td>\n",
       "      <td>...</td>\n",
       "      <td>...</td>\n",
       "      <td>...</td>\n",
       "      <td>...</td>\n",
       "      <td>...</td>\n",
       "      <td>...</td>\n",
       "      <td>...</td>\n",
       "      <td>...</td>\n",
       "      <td>...</td>\n",
       "      <td>...</td>\n",
       "    </tr>\n",
       "    <tr>\n",
       "      <th>125</th>\n",
       "      <td>United States</td>\n",
       "      <td>Wyoming</td>\n",
       "      <td>2020-09-07</td>\n",
       "      <td>0.029605</td>\n",
       "      <td>0.210046</td>\n",
       "      <td>0.000000</td>\n",
       "      <td>0.393062</td>\n",
       "      <td>0.000000</td>\n",
       "      <td>0.024441</td>\n",
       "      <td>0.078663</td>\n",
       "      <td>...</td>\n",
       "      <td>0.699208</td>\n",
       "      <td>1.000000</td>\n",
       "      <td>0.767857</td>\n",
       "      <td>0.102564</td>\n",
       "      <td>0.341093</td>\n",
       "      <td>0.035044</td>\n",
       "      <td>0.284585</td>\n",
       "      <td>0.340649</td>\n",
       "      <td>0.294846</td>\n",
       "      <td>9</td>\n",
       "    </tr>\n",
       "    <tr>\n",
       "      <th>126</th>\n",
       "      <td>United States</td>\n",
       "      <td>Wyoming</td>\n",
       "      <td>2020-09-14</td>\n",
       "      <td>0.066729</td>\n",
       "      <td>0.602740</td>\n",
       "      <td>0.337980</td>\n",
       "      <td>1.000000</td>\n",
       "      <td>0.329669</td>\n",
       "      <td>0.156425</td>\n",
       "      <td>0.079646</td>\n",
       "      <td>...</td>\n",
       "      <td>0.168865</td>\n",
       "      <td>0.302293</td>\n",
       "      <td>0.607143</td>\n",
       "      <td>0.825641</td>\n",
       "      <td>0.202532</td>\n",
       "      <td>0.093450</td>\n",
       "      <td>0.296443</td>\n",
       "      <td>0.162791</td>\n",
       "      <td>0.294846</td>\n",
       "      <td>15</td>\n",
       "    </tr>\n",
       "    <tr>\n",
       "      <th>127</th>\n",
       "      <td>United States</td>\n",
       "      <td>Wyoming</td>\n",
       "      <td>2020-09-21</td>\n",
       "      <td>0.136748</td>\n",
       "      <td>0.305936</td>\n",
       "      <td>0.337980</td>\n",
       "      <td>0.437326</td>\n",
       "      <td>0.329669</td>\n",
       "      <td>0.191341</td>\n",
       "      <td>0.023599</td>\n",
       "      <td>...</td>\n",
       "      <td>0.459103</td>\n",
       "      <td>0.173913</td>\n",
       "      <td>0.316964</td>\n",
       "      <td>0.335897</td>\n",
       "      <td>0.230380</td>\n",
       "      <td>0.036713</td>\n",
       "      <td>0.169960</td>\n",
       "      <td>0.340649</td>\n",
       "      <td>0.491713</td>\n",
       "      <td>19</td>\n",
       "    </tr>\n",
       "    <tr>\n",
       "      <th>128</th>\n",
       "      <td>United States</td>\n",
       "      <td>Wyoming</td>\n",
       "      <td>2020-09-28</td>\n",
       "      <td>0.331767</td>\n",
       "      <td>0.504566</td>\n",
       "      <td>0.337980</td>\n",
       "      <td>0.111421</td>\n",
       "      <td>0.329669</td>\n",
       "      <td>0.175978</td>\n",
       "      <td>0.038840</td>\n",
       "      <td>...</td>\n",
       "      <td>0.501319</td>\n",
       "      <td>0.487923</td>\n",
       "      <td>0.607143</td>\n",
       "      <td>0.487179</td>\n",
       "      <td>0.070886</td>\n",
       "      <td>0.103257</td>\n",
       "      <td>0.335968</td>\n",
       "      <td>0.340649</td>\n",
       "      <td>0.569061</td>\n",
       "      <td>20</td>\n",
       "    </tr>\n",
       "    <tr>\n",
       "      <th>129</th>\n",
       "      <td>United States</td>\n",
       "      <td>Wyoming</td>\n",
       "      <td>2020-10-05</td>\n",
       "      <td>0.034305</td>\n",
       "      <td>1.000000</td>\n",
       "      <td>0.337980</td>\n",
       "      <td>0.000000</td>\n",
       "      <td>0.329669</td>\n",
       "      <td>0.354050</td>\n",
       "      <td>0.034907</td>\n",
       "      <td>...</td>\n",
       "      <td>0.232190</td>\n",
       "      <td>0.214976</td>\n",
       "      <td>0.620536</td>\n",
       "      <td>0.312821</td>\n",
       "      <td>1.000000</td>\n",
       "      <td>0.007509</td>\n",
       "      <td>1.000000</td>\n",
       "      <td>0.616279</td>\n",
       "      <td>0.071823</td>\n",
       "      <td>41</td>\n",
       "    </tr>\n",
       "  </tbody>\n",
       "</table>\n",
       "<p>130 rows × 104 columns</p>\n",
       "</div>"
      ],
      "text/plain": [
       "    country_region sub_region_1        date  Adrenal crisis   Ageusia  \\\n",
       "0    United States       Alaska  2020-03-23        0.242395  1.000000   \n",
       "1    United States       Alaska  2020-03-30        0.134936  0.282752   \n",
       "2    United States       Alaska  2020-04-06        0.189892  0.131008   \n",
       "3    United States       Alaska  2020-04-13        0.001472  0.345430   \n",
       "4    United States       Alaska  2020-04-20        0.058391  0.345430   \n",
       "..             ...          ...         ...             ...       ...   \n",
       "125  United States      Wyoming  2020-09-07        0.029605  0.210046   \n",
       "126  United States      Wyoming  2020-09-14        0.066729  0.602740   \n",
       "127  United States      Wyoming  2020-09-21        0.136748  0.305936   \n",
       "128  United States      Wyoming  2020-09-28        0.331767  0.504566   \n",
       "129  United States      Wyoming  2020-10-05        0.034305  1.000000   \n",
       "\n",
       "     Allergic conjunctivitis  Amenorrhea  Angular cheilitis   Anosmia  \\\n",
       "0                   0.337980    0.190876           0.329669  1.000000   \n",
       "1                   0.041096    0.070828           0.329669  0.322087   \n",
       "2                   0.337980    0.343337           0.156448  0.003374   \n",
       "3                   0.337980    0.000000           0.042283  0.103815   \n",
       "4                   0.000000    0.475390           0.329669  0.291814   \n",
       "..                       ...         ...                ...       ...   \n",
       "125                 0.000000    0.393062           0.000000  0.024441   \n",
       "126                 0.337980    1.000000           0.329669  0.156425   \n",
       "127                 0.337980    0.437326           0.329669  0.191341   \n",
       "128                 0.337980    0.111421           0.329669  0.175978   \n",
       "129                 0.337980    0.000000           0.329669  0.354050   \n",
       "\n",
       "     Asphyxia  ...  Subdural hematoma  Tachypnea  Tenderness  Thyroid nodule  \\\n",
       "0    0.017390  ...           0.173611   0.454545    0.147368        0.000000   \n",
       "1    0.053443  ...           0.000000   0.546320    0.115088        0.142392   \n",
       "2    0.021066  ...           0.088542   0.261472    0.063860        0.082181   \n",
       "3    0.033084  ...           0.023727   0.138528    0.203509        0.544345   \n",
       "4    0.013856  ...           0.261018   0.242424    0.476491        0.194467   \n",
       "..        ...  ...                ...        ...         ...             ...   \n",
       "125  0.078663  ...           0.699208   1.000000    0.767857        0.102564   \n",
       "126  0.079646  ...           0.168865   0.302293    0.607143        0.825641   \n",
       "127  0.023599  ...           0.459103   0.173913    0.316964        0.335897   \n",
       "128  0.038840  ...           0.501319   0.487923    0.607143        0.487179   \n",
       "129  0.034907  ...           0.232190   0.214976    0.620536        0.312821   \n",
       "\n",
       "     Trichoptilosis  Upper respiratory tract infection  Urethritis  \\\n",
       "0          0.058757                           0.431432    0.044330   \n",
       "1          0.785311                           0.250794    0.148454   \n",
       "2          0.676836                           0.137826    0.176289   \n",
       "3          0.572881                           0.130369    0.000000   \n",
       "4          0.229379                           0.077337    0.184536   \n",
       "..              ...                                ...         ...   \n",
       "125        0.341093                           0.035044    0.284585   \n",
       "126        0.202532                           0.093450    0.296443   \n",
       "127        0.230380                           0.036713    0.169960   \n",
       "128        0.070886                           0.103257    0.335968   \n",
       "129        1.000000                           0.007509    1.000000   \n",
       "\n",
       "     Urinary urgency  Ventricular fibrillation  hospitalized_new  \n",
       "0           0.340649                  0.069176                 6  \n",
       "1           0.650794                  0.076297                14  \n",
       "2           0.340649                  0.294846                11  \n",
       "3           0.340649                  0.294846                 5  \n",
       "4           0.340649                  0.268566               -36  \n",
       "..               ...                       ...               ...  \n",
       "125         0.340649                  0.294846                 9  \n",
       "126         0.162791                  0.294846                15  \n",
       "127         0.340649                  0.491713                19  \n",
       "128         0.340649                  0.569061                20  \n",
       "129         0.616279                  0.071823                41  \n",
       "\n",
       "[130 rows x 104 columns]"
      ]
     },
     "execution_count": 153,
     "metadata": {},
     "output_type": "execute_result"
    }
   ],
   "source": [
    "df_pca=df.fillna(df.mean()) \n",
    "df_pca"
   ]
  },
  {
   "cell_type": "code",
   "execution_count": 46,
   "metadata": {},
   "outputs": [
    {
     "data": {
      "text/html": [
       "<div>\n",
       "<style scoped>\n",
       "    .dataframe tbody tr th:only-of-type {\n",
       "        vertical-align: middle;\n",
       "    }\n",
       "\n",
       "    .dataframe tbody tr th {\n",
       "        vertical-align: top;\n",
       "    }\n",
       "\n",
       "    .dataframe thead th {\n",
       "        text-align: right;\n",
       "    }\n",
       "</style>\n",
       "<table border=\"1\" class=\"dataframe\">\n",
       "  <thead>\n",
       "    <tr style=\"text-align: right;\">\n",
       "      <th></th>\n",
       "      <th>Adrenal crisis</th>\n",
       "      <th>Ageusia</th>\n",
       "      <th>Allergic conjunctivitis</th>\n",
       "      <th>Amenorrhea</th>\n",
       "      <th>Angular cheilitis</th>\n",
       "      <th>Anosmia</th>\n",
       "      <th>Asphyxia</th>\n",
       "      <th>Atheroma</th>\n",
       "      <th>Auditory hallucination</th>\n",
       "      <th>Balance disorder</th>\n",
       "      <th>...</th>\n",
       "      <th>Subdural hematoma</th>\n",
       "      <th>Tachypnea</th>\n",
       "      <th>Tenderness</th>\n",
       "      <th>Thyroid nodule</th>\n",
       "      <th>Trichoptilosis</th>\n",
       "      <th>Upper respiratory tract infection</th>\n",
       "      <th>Urethritis</th>\n",
       "      <th>Urinary urgency</th>\n",
       "      <th>Ventricular fibrillation</th>\n",
       "      <th>hospitalized_new</th>\n",
       "    </tr>\n",
       "  </thead>\n",
       "  <tbody>\n",
       "    <tr>\n",
       "      <th>Adrenal crisis</th>\n",
       "      <td>1.000000</td>\n",
       "      <td>0.330678</td>\n",
       "      <td>-0.108635</td>\n",
       "      <td>0.185440</td>\n",
       "      <td>-0.153662</td>\n",
       "      <td>0.436511</td>\n",
       "      <td>-0.068765</td>\n",
       "      <td>0.342987</td>\n",
       "      <td>0.219688</td>\n",
       "      <td>-0.006738</td>\n",
       "      <td>...</td>\n",
       "      <td>0.021967</td>\n",
       "      <td>0.180194</td>\n",
       "      <td>0.100835</td>\n",
       "      <td>0.000387</td>\n",
       "      <td>-0.013074</td>\n",
       "      <td>0.109022</td>\n",
       "      <td>-0.212711</td>\n",
       "      <td>-0.126861</td>\n",
       "      <td>0.117171</td>\n",
       "      <td>0.429947</td>\n",
       "    </tr>\n",
       "    <tr>\n",
       "      <th>Ageusia</th>\n",
       "      <td>0.330678</td>\n",
       "      <td>1.000000</td>\n",
       "      <td>-0.214110</td>\n",
       "      <td>0.070465</td>\n",
       "      <td>0.037265</td>\n",
       "      <td>0.803266</td>\n",
       "      <td>-0.206825</td>\n",
       "      <td>0.168262</td>\n",
       "      <td>-0.048839</td>\n",
       "      <td>0.108912</td>\n",
       "      <td>...</td>\n",
       "      <td>0.161873</td>\n",
       "      <td>0.312567</td>\n",
       "      <td>0.063603</td>\n",
       "      <td>0.066618</td>\n",
       "      <td>-0.131700</td>\n",
       "      <td>0.145203</td>\n",
       "      <td>0.220380</td>\n",
       "      <td>0.137946</td>\n",
       "      <td>0.232901</td>\n",
       "      <td>0.602505</td>\n",
       "    </tr>\n",
       "    <tr>\n",
       "      <th>Allergic conjunctivitis</th>\n",
       "      <td>-0.108635</td>\n",
       "      <td>-0.214110</td>\n",
       "      <td>1.000000</td>\n",
       "      <td>0.057303</td>\n",
       "      <td>0.072460</td>\n",
       "      <td>-0.214571</td>\n",
       "      <td>0.199182</td>\n",
       "      <td>-0.193978</td>\n",
       "      <td>0.202881</td>\n",
       "      <td>-0.046639</td>\n",
       "      <td>...</td>\n",
       "      <td>-0.115087</td>\n",
       "      <td>-0.310145</td>\n",
       "      <td>0.037135</td>\n",
       "      <td>0.304777</td>\n",
       "      <td>-0.099170</td>\n",
       "      <td>-0.382077</td>\n",
       "      <td>-0.109268</td>\n",
       "      <td>0.024507</td>\n",
       "      <td>-0.120588</td>\n",
       "      <td>-0.107421</td>\n",
       "    </tr>\n",
       "    <tr>\n",
       "      <th>Amenorrhea</th>\n",
       "      <td>0.185440</td>\n",
       "      <td>0.070465</td>\n",
       "      <td>0.057303</td>\n",
       "      <td>1.000000</td>\n",
       "      <td>-0.100918</td>\n",
       "      <td>0.105206</td>\n",
       "      <td>-0.018449</td>\n",
       "      <td>0.195027</td>\n",
       "      <td>0.251613</td>\n",
       "      <td>0.124514</td>\n",
       "      <td>...</td>\n",
       "      <td>0.156541</td>\n",
       "      <td>0.012246</td>\n",
       "      <td>-0.029737</td>\n",
       "      <td>0.203957</td>\n",
       "      <td>-0.070448</td>\n",
       "      <td>-0.088620</td>\n",
       "      <td>-0.031525</td>\n",
       "      <td>0.132172</td>\n",
       "      <td>0.270180</td>\n",
       "      <td>0.300547</td>\n",
       "    </tr>\n",
       "    <tr>\n",
       "      <th>Angular cheilitis</th>\n",
       "      <td>-0.153662</td>\n",
       "      <td>0.037265</td>\n",
       "      <td>0.072460</td>\n",
       "      <td>-0.100918</td>\n",
       "      <td>1.000000</td>\n",
       "      <td>-0.102519</td>\n",
       "      <td>0.110131</td>\n",
       "      <td>-0.257858</td>\n",
       "      <td>-0.088997</td>\n",
       "      <td>0.024461</td>\n",
       "      <td>...</td>\n",
       "      <td>0.078894</td>\n",
       "      <td>-0.152399</td>\n",
       "      <td>-0.079773</td>\n",
       "      <td>0.440743</td>\n",
       "      <td>-0.427160</td>\n",
       "      <td>-0.272350</td>\n",
       "      <td>0.066990</td>\n",
       "      <td>0.052377</td>\n",
       "      <td>0.008228</td>\n",
       "      <td>-0.100931</td>\n",
       "    </tr>\n",
       "    <tr>\n",
       "      <th>...</th>\n",
       "      <td>...</td>\n",
       "      <td>...</td>\n",
       "      <td>...</td>\n",
       "      <td>...</td>\n",
       "      <td>...</td>\n",
       "      <td>...</td>\n",
       "      <td>...</td>\n",
       "      <td>...</td>\n",
       "      <td>...</td>\n",
       "      <td>...</td>\n",
       "      <td>...</td>\n",
       "      <td>...</td>\n",
       "      <td>...</td>\n",
       "      <td>...</td>\n",
       "      <td>...</td>\n",
       "      <td>...</td>\n",
       "      <td>...</td>\n",
       "      <td>...</td>\n",
       "      <td>...</td>\n",
       "      <td>...</td>\n",
       "      <td>...</td>\n",
       "    </tr>\n",
       "    <tr>\n",
       "      <th>Upper respiratory tract infection</th>\n",
       "      <td>0.109022</td>\n",
       "      <td>0.145203</td>\n",
       "      <td>-0.382077</td>\n",
       "      <td>-0.088620</td>\n",
       "      <td>-0.272350</td>\n",
       "      <td>0.369435</td>\n",
       "      <td>-0.148437</td>\n",
       "      <td>0.118969</td>\n",
       "      <td>-0.260232</td>\n",
       "      <td>-0.276797</td>\n",
       "      <td>...</td>\n",
       "      <td>-0.240660</td>\n",
       "      <td>0.457670</td>\n",
       "      <td>-0.168222</td>\n",
       "      <td>-0.244482</td>\n",
       "      <td>0.234455</td>\n",
       "      <td>1.000000</td>\n",
       "      <td>-0.090796</td>\n",
       "      <td>0.103304</td>\n",
       "      <td>-0.058145</td>\n",
       "      <td>-0.088004</td>\n",
       "    </tr>\n",
       "    <tr>\n",
       "      <th>Urethritis</th>\n",
       "      <td>-0.212711</td>\n",
       "      <td>0.220380</td>\n",
       "      <td>-0.109268</td>\n",
       "      <td>-0.031525</td>\n",
       "      <td>0.066990</td>\n",
       "      <td>-0.038648</td>\n",
       "      <td>-0.176410</td>\n",
       "      <td>-0.149357</td>\n",
       "      <td>-0.106485</td>\n",
       "      <td>0.012080</td>\n",
       "      <td>...</td>\n",
       "      <td>-0.021743</td>\n",
       "      <td>-0.077260</td>\n",
       "      <td>0.252272</td>\n",
       "      <td>0.122622</td>\n",
       "      <td>-0.011084</td>\n",
       "      <td>-0.090796</td>\n",
       "      <td>1.000000</td>\n",
       "      <td>0.008761</td>\n",
       "      <td>0.099734</td>\n",
       "      <td>0.049075</td>\n",
       "    </tr>\n",
       "    <tr>\n",
       "      <th>Urinary urgency</th>\n",
       "      <td>-0.126861</td>\n",
       "      <td>0.137946</td>\n",
       "      <td>0.024507</td>\n",
       "      <td>0.132172</td>\n",
       "      <td>0.052377</td>\n",
       "      <td>0.053815</td>\n",
       "      <td>-0.125167</td>\n",
       "      <td>-0.034116</td>\n",
       "      <td>0.060159</td>\n",
       "      <td>0.172255</td>\n",
       "      <td>...</td>\n",
       "      <td>0.149981</td>\n",
       "      <td>-0.138744</td>\n",
       "      <td>-0.109542</td>\n",
       "      <td>-0.026253</td>\n",
       "      <td>0.092480</td>\n",
       "      <td>0.103304</td>\n",
       "      <td>0.008761</td>\n",
       "      <td>1.000000</td>\n",
       "      <td>0.218496</td>\n",
       "      <td>0.315570</td>\n",
       "    </tr>\n",
       "    <tr>\n",
       "      <th>Ventricular fibrillation</th>\n",
       "      <td>0.117171</td>\n",
       "      <td>0.232901</td>\n",
       "      <td>-0.120588</td>\n",
       "      <td>0.270180</td>\n",
       "      <td>0.008228</td>\n",
       "      <td>0.182582</td>\n",
       "      <td>-0.030284</td>\n",
       "      <td>0.224399</td>\n",
       "      <td>0.134997</td>\n",
       "      <td>0.139573</td>\n",
       "      <td>...</td>\n",
       "      <td>0.223023</td>\n",
       "      <td>0.165578</td>\n",
       "      <td>0.094679</td>\n",
       "      <td>0.187494</td>\n",
       "      <td>-0.086122</td>\n",
       "      <td>-0.058145</td>\n",
       "      <td>0.099734</td>\n",
       "      <td>0.218496</td>\n",
       "      <td>1.000000</td>\n",
       "      <td>0.337428</td>\n",
       "    </tr>\n",
       "    <tr>\n",
       "      <th>hospitalized_new</th>\n",
       "      <td>0.429947</td>\n",
       "      <td>0.602505</td>\n",
       "      <td>-0.107421</td>\n",
       "      <td>0.300547</td>\n",
       "      <td>-0.100931</td>\n",
       "      <td>0.542771</td>\n",
       "      <td>-0.151623</td>\n",
       "      <td>0.169997</td>\n",
       "      <td>0.179517</td>\n",
       "      <td>0.196267</td>\n",
       "      <td>...</td>\n",
       "      <td>0.297884</td>\n",
       "      <td>0.095827</td>\n",
       "      <td>0.042950</td>\n",
       "      <td>0.101854</td>\n",
       "      <td>-0.070101</td>\n",
       "      <td>-0.088004</td>\n",
       "      <td>0.049075</td>\n",
       "      <td>0.315570</td>\n",
       "      <td>0.337428</td>\n",
       "      <td>1.000000</td>\n",
       "    </tr>\n",
       "  </tbody>\n",
       "</table>\n",
       "<p>101 rows × 101 columns</p>\n",
       "</div>"
      ],
      "text/plain": [
       "                                   Adrenal crisis   Ageusia  \\\n",
       "Adrenal crisis                           1.000000  0.330678   \n",
       "Ageusia                                  0.330678  1.000000   \n",
       "Allergic conjunctivitis                 -0.108635 -0.214110   \n",
       "Amenorrhea                               0.185440  0.070465   \n",
       "Angular cheilitis                       -0.153662  0.037265   \n",
       "...                                           ...       ...   \n",
       "Upper respiratory tract infection        0.109022  0.145203   \n",
       "Urethritis                              -0.212711  0.220380   \n",
       "Urinary urgency                         -0.126861  0.137946   \n",
       "Ventricular fibrillation                 0.117171  0.232901   \n",
       "hospitalized_new                         0.429947  0.602505   \n",
       "\n",
       "                                   Allergic conjunctivitis  Amenorrhea  \\\n",
       "Adrenal crisis                                   -0.108635    0.185440   \n",
       "Ageusia                                          -0.214110    0.070465   \n",
       "Allergic conjunctivitis                           1.000000    0.057303   \n",
       "Amenorrhea                                        0.057303    1.000000   \n",
       "Angular cheilitis                                 0.072460   -0.100918   \n",
       "...                                                    ...         ...   \n",
       "Upper respiratory tract infection                -0.382077   -0.088620   \n",
       "Urethritis                                       -0.109268   -0.031525   \n",
       "Urinary urgency                                   0.024507    0.132172   \n",
       "Ventricular fibrillation                         -0.120588    0.270180   \n",
       "hospitalized_new                                 -0.107421    0.300547   \n",
       "\n",
       "                                   Angular cheilitis   Anosmia  Asphyxia  \\\n",
       "Adrenal crisis                             -0.153662  0.436511 -0.068765   \n",
       "Ageusia                                     0.037265  0.803266 -0.206825   \n",
       "Allergic conjunctivitis                     0.072460 -0.214571  0.199182   \n",
       "Amenorrhea                                 -0.100918  0.105206 -0.018449   \n",
       "Angular cheilitis                           1.000000 -0.102519  0.110131   \n",
       "...                                              ...       ...       ...   \n",
       "Upper respiratory tract infection          -0.272350  0.369435 -0.148437   \n",
       "Urethritis                                  0.066990 -0.038648 -0.176410   \n",
       "Urinary urgency                             0.052377  0.053815 -0.125167   \n",
       "Ventricular fibrillation                    0.008228  0.182582 -0.030284   \n",
       "hospitalized_new                           -0.100931  0.542771 -0.151623   \n",
       "\n",
       "                                   Atheroma  Auditory hallucination  \\\n",
       "Adrenal crisis                     0.342987                0.219688   \n",
       "Ageusia                            0.168262               -0.048839   \n",
       "Allergic conjunctivitis           -0.193978                0.202881   \n",
       "Amenorrhea                         0.195027                0.251613   \n",
       "Angular cheilitis                 -0.257858               -0.088997   \n",
       "...                                     ...                     ...   \n",
       "Upper respiratory tract infection  0.118969               -0.260232   \n",
       "Urethritis                        -0.149357               -0.106485   \n",
       "Urinary urgency                   -0.034116                0.060159   \n",
       "Ventricular fibrillation           0.224399                0.134997   \n",
       "hospitalized_new                   0.169997                0.179517   \n",
       "\n",
       "                                   Balance disorder  ...  Subdural hematoma  \\\n",
       "Adrenal crisis                            -0.006738  ...           0.021967   \n",
       "Ageusia                                    0.108912  ...           0.161873   \n",
       "Allergic conjunctivitis                   -0.046639  ...          -0.115087   \n",
       "Amenorrhea                                 0.124514  ...           0.156541   \n",
       "Angular cheilitis                          0.024461  ...           0.078894   \n",
       "...                                             ...  ...                ...   \n",
       "Upper respiratory tract infection         -0.276797  ...          -0.240660   \n",
       "Urethritis                                 0.012080  ...          -0.021743   \n",
       "Urinary urgency                            0.172255  ...           0.149981   \n",
       "Ventricular fibrillation                   0.139573  ...           0.223023   \n",
       "hospitalized_new                           0.196267  ...           0.297884   \n",
       "\n",
       "                                   Tachypnea  Tenderness  Thyroid nodule  \\\n",
       "Adrenal crisis                      0.180194    0.100835        0.000387   \n",
       "Ageusia                             0.312567    0.063603        0.066618   \n",
       "Allergic conjunctivitis            -0.310145    0.037135        0.304777   \n",
       "Amenorrhea                          0.012246   -0.029737        0.203957   \n",
       "Angular cheilitis                  -0.152399   -0.079773        0.440743   \n",
       "...                                      ...         ...             ...   \n",
       "Upper respiratory tract infection   0.457670   -0.168222       -0.244482   \n",
       "Urethritis                         -0.077260    0.252272        0.122622   \n",
       "Urinary urgency                    -0.138744   -0.109542       -0.026253   \n",
       "Ventricular fibrillation            0.165578    0.094679        0.187494   \n",
       "hospitalized_new                    0.095827    0.042950        0.101854   \n",
       "\n",
       "                                   Trichoptilosis  \\\n",
       "Adrenal crisis                          -0.013074   \n",
       "Ageusia                                 -0.131700   \n",
       "Allergic conjunctivitis                 -0.099170   \n",
       "Amenorrhea                              -0.070448   \n",
       "Angular cheilitis                       -0.427160   \n",
       "...                                           ...   \n",
       "Upper respiratory tract infection        0.234455   \n",
       "Urethritis                              -0.011084   \n",
       "Urinary urgency                          0.092480   \n",
       "Ventricular fibrillation                -0.086122   \n",
       "hospitalized_new                        -0.070101   \n",
       "\n",
       "                                   Upper respiratory tract infection  \\\n",
       "Adrenal crisis                                              0.109022   \n",
       "Ageusia                                                     0.145203   \n",
       "Allergic conjunctivitis                                    -0.382077   \n",
       "Amenorrhea                                                 -0.088620   \n",
       "Angular cheilitis                                          -0.272350   \n",
       "...                                                              ...   \n",
       "Upper respiratory tract infection                           1.000000   \n",
       "Urethritis                                                 -0.090796   \n",
       "Urinary urgency                                             0.103304   \n",
       "Ventricular fibrillation                                   -0.058145   \n",
       "hospitalized_new                                           -0.088004   \n",
       "\n",
       "                                   Urethritis  Urinary urgency  \\\n",
       "Adrenal crisis                      -0.212711        -0.126861   \n",
       "Ageusia                              0.220380         0.137946   \n",
       "Allergic conjunctivitis             -0.109268         0.024507   \n",
       "Amenorrhea                          -0.031525         0.132172   \n",
       "Angular cheilitis                    0.066990         0.052377   \n",
       "...                                       ...              ...   \n",
       "Upper respiratory tract infection   -0.090796         0.103304   \n",
       "Urethritis                           1.000000         0.008761   \n",
       "Urinary urgency                      0.008761         1.000000   \n",
       "Ventricular fibrillation             0.099734         0.218496   \n",
       "hospitalized_new                     0.049075         0.315570   \n",
       "\n",
       "                                   Ventricular fibrillation  hospitalized_new  \n",
       "Adrenal crisis                                     0.117171          0.429947  \n",
       "Ageusia                                            0.232901          0.602505  \n",
       "Allergic conjunctivitis                           -0.120588         -0.107421  \n",
       "Amenorrhea                                         0.270180          0.300547  \n",
       "Angular cheilitis                                  0.008228         -0.100931  \n",
       "...                                                     ...               ...  \n",
       "Upper respiratory tract infection                 -0.058145         -0.088004  \n",
       "Urethritis                                         0.099734          0.049075  \n",
       "Urinary urgency                                    0.218496          0.315570  \n",
       "Ventricular fibrillation                           1.000000          0.337428  \n",
       "hospitalized_new                                   0.337428          1.000000  \n",
       "\n",
       "[101 rows x 101 columns]"
      ]
     },
     "execution_count": 46,
     "metadata": {},
     "output_type": "execute_result"
    }
   ],
   "source": [
    "x = pd.read_csv('finalNormalTotal_NEW.csv')# raw data with missing data\n",
    "x.drop('country_region', axis=1, inplace=True)\n",
    "x.drop('sub_region_1', axis=1, inplace=True)\n",
    "x.drop('date', axis=1, inplace=True)\n",
    "corr_mat=x.corr()\n",
    "corr_mat.to_excel(\"Corr_X.xlsx\")\n",
    "corr_mat"
   ]
  },
  {
   "cell_type": "code",
   "execution_count": 47,
   "metadata": {},
   "outputs": [
    {
     "data": {
      "text/plain": [
       "country_region                       False\n",
       "sub_region_1                         False\n",
       "date                                 False\n",
       "Adrenal crisis                       False\n",
       "Ageusia                              False\n",
       "                                     ...  \n",
       "Upper respiratory tract infection    False\n",
       "Urethritis                           False\n",
       "Urinary urgency                      False\n",
       "Ventricular fibrillation             False\n",
       "hospitalized_new                     False\n",
       "Length: 104, dtype: bool"
      ]
     },
     "execution_count": 47,
     "metadata": {},
     "output_type": "execute_result"
    }
   ],
   "source": [
    "df_pca.isnull().any()"
   ]
  },
  {
   "cell_type": "code",
   "execution_count": 48,
   "metadata": {},
   "outputs": [
    {
     "data": {
      "image/png": "[encoded data removed]",
      "text/plain": [
       "<Figure size 576x288 with 1 Axes>"
      ]
     },
     "metadata": {
      "needs_background": "light"
     },
     "output_type": "display_data"
    },
    {
     "data": {
      "image/png": "[encoded data removed]",
      "text/plain": [
       "<Figure size 576x288 with 1 Axes>"
      ]
     },
     "metadata": {
      "needs_background": "light"
     },
     "output_type": "display_data"
    },
    {
     "data": {
      "image/png": "[encoded data removed]",
      "text/plain": [
       "<Figure size 576x288 with 1 Axes>"
      ]
     },
     "metadata": {
      "needs_background": "light"
     },
     "output_type": "display_data"
    }
   ],
   "source": [
    "#Task2.1 Raw Data Previous Visualization Standarized Data\n",
    "\n",
    "plt.figure(figsize=(8,4))\n",
    "plt.ylim(0,2.0)\n",
    "plt.bar(df_pca['date'],df_pca['Adrenal crisis'])\n",
    "plt.xlabel('Date', fontsize=12)\n",
    "plt.ylabel('Search:Adrenal crisis', fontsize=12)\n",
    "\n",
    "plt.figure(figsize=(8,4))\n",
    "plt.ylim(0,2)\n",
    "plt.bar(df_pca['date'],df_pca['Ageusia'])\n",
    "plt.xlabel('Date', fontsize=12)\n",
    "plt.ylabel('Search:Ageusia', fontsize=12)\n",
    "\n",
    "plt.figure(figsize=(8,4))\n",
    "plt.ylim(0,2)\n",
    "plt.bar(df_pca['date'],df_pca['Dysgeusia'])\n",
    "plt.xlabel('Date', fontsize=12)\n",
    "plt.ylabel('Search:Dysgeusia', fontsize=12)\n",
    "\n",
    "\n",
    "plt.show()"
   ]
  },
  {
   "cell_type": "code",
   "execution_count": 50,
   "metadata": {},
   "outputs": [
    {
     "data": {
      "image/png": "[encoded data removed]",
      "text/plain": [
       "<Figure size 432x288 with 3 Axes>"
      ]
     },
     "metadata": {
      "needs_background": "light"
     },
     "output_type": "display_data"
    }
   ],
   "source": [
    "marker_size=10\n",
    "plt.subplot(131)\n",
    "plt.xlim(0,1)\n",
    "plt.ylim(-50,200)\n",
    "plt.scatter(df_pca['Adrenal crisis'],df_pca['hospitalized_new'],marker_size)\n",
    "plt.xlabel('Adrenal Crisis')\n",
    "plt.ylabel('hospitalized_new')\n",
    "plt.title(\"Raw Data Visualization\")\n",
    "\n",
    "marker_size=10\n",
    "plt.subplot(132)\n",
    "plt.xlim(0,1)\n",
    "plt.ylim(-50,200)\n",
    "plt.scatter(df_pca['Ageusia'],df_pca['hospitalized_new'],marker_size)\n",
    "plt.xlabel('Ageusia')\n",
    "plt.ylabel('hospitalized_new')\n",
    "plt.title(\"Raw Data Visualization\")\n",
    "\n",
    "marker_size=10\n",
    "plt.subplot(133)\n",
    "plt.xlim(0,1)\n",
    "plt.ylim(-50,200)\n",
    "plt.scatter(df_pca['Dysgeusia'],df_pca['hospitalized_new'],marker_size)\n",
    "plt.xlabel('Dysgeusia')\n",
    "plt.ylabel('hospitalized_new')\n",
    "plt.title(\"Raw Data Visualization\")\n",
    "\n",
    "\n",
    "plt.subplots_adjust(left=0.0, bottom=0.0, right=3.0, top=1.0, wspace=0.2, hspace=0.3)\n",
    "plt.show()"
   ]
  },
  {
   "cell_type": "code",
   "execution_count": 51,
   "metadata": {},
   "outputs": [
    {
     "data": {
      "text/plain": [
       "<matplotlib.legend.Legend at 0x170ec0910c8>"
      ]
     },
     "execution_count": 51,
     "metadata": {},
     "output_type": "execute_result"
    },
    {
     "data": {
      "image/png": "[encoded data removed]",
      "text/plain": [
       "<Figure size 360x360 with 1 Axes>"
      ]
     },
     "metadata": {
      "needs_background": "light"
     },
     "output_type": "display_data"
    },
    {
     "data": {
      "image/png": "[encoded data removed]",
      "text/plain": [
       "<Figure size 360x360 with 1 Axes>"
      ]
     },
     "metadata": {
      "needs_background": "light"
     },
     "output_type": "display_data"
    },
    {
     "data": {
      "image/png": "[encoded data removed]",
      "text/plain": [
       "<Figure size 360x360 with 1 Axes>"
      ]
     },
     "metadata": {
      "needs_background": "light"
     },
     "output_type": "display_data"
    }
   ],
   "source": [
    "# Use the 'hue' argument to provide a factor variable\n",
    "\n",
    "sns.lmplot( x='Adrenal crisis',y='hospitalized_new', data=df_pca, fit_reg=False, hue='sub_region_1', legend=False)\n",
    "plt.legend(loc='upper right')\n",
    "\n",
    "sns.lmplot( x='Ageusia',y='hospitalized_new', data=df_pca, fit_reg=False, hue='sub_region_1', legend=False)\n",
    "plt.legend(loc='upper right')\n",
    "\n",
    "sns.lmplot( x='Dysgeusia',y='hospitalized_new', data=df_pca, fit_reg=False, hue='sub_region_1', legend=False)\n",
    "plt.legend(loc='upper right')\n"
   ]
  },
  {
   "cell_type": "code",
   "execution_count": 154,
   "metadata": {},
   "outputs": [],
   "source": [
    "date = pd.read_csv('finalNormalTotal_DATE2.csv')\n",
    "df_pca['date2']=date['date2']"
   ]
  },
  {
   "cell_type": "code",
   "execution_count": 85,
   "metadata": {
    "scrolled": true
   },
   "outputs": [
    {
     "name": "stderr",
     "output_type": "stream",
     "text": [
      "C:\\Users\\Javier\\Anaconda3\\lib\\site-packages\\ipykernel_launcher.py:17: SettingWithCopyWarning:\n",
      "\n",
      "\n",
      "A value is trying to be set on a copy of a slice from a DataFrame.\n",
      "Try using .loc[row_indexer,col_indexer] = value instead\n",
      "\n",
      "See the caveats in the documentation: https://pandas.pydata.org/pandas-docs/stable/user_guide/indexing.html#returning-a-view-versus-a-copy\n",
      "\n"
     ]
    },
    {
     "data": {
      "application/vnd.plotly.v1+json": {
       "config": {
        "linkText": "Export to plot.ly",
        "plotlyServerURL": "https://plot.ly",
        "showLink": false
       },
       "data": [
        {
         "colorbar": {
          "title": {
           "text": "Ageusia Average per State"
          }
         },
         "colorscale": [
          [
           0,
           "rgb(255,245,240)"
          ],
          [
           0.125,
           "rgb(254,224,210)"
          ],
          [
           0.25,
           "rgb(252,187,161)"
          ],
          [
           0.375,
           "rgb(252,146,114)"
          ],
          [
           0.5,
           "rgb(251,106,74)"
          ],
          [
           0.625,
           "rgb(239,59,44)"
          ],
          [
           0.75,
           "rgb(203,24,29)"
          ],
          [
           0.875,
           "rgb(165,15,21)"
          ],
          [
           1,
           "rgb(103,0,13)"
          ]
         ],
         "locationmode": "USA-states",
         "locations": [
          "AK",
          "MT",
          "ND",
          "SD",
          "VT",
          "WY"
         ],
         "type": "choropleth",
         "z": [
          1,
          0.684260731,
          0.32670979699999997,
          0.881136238,
          0.616438356
         ]
        },
        {
         "colorbar": {
          "title": {
           "text": "Ageusia Average per State"
          }
         },
         "colorscale": [
          [
           0,
           "rgb(255,245,240)"
          ],
          [
           0.125,
           "rgb(254,224,210)"
          ],
          [
           0.25,
           "rgb(252,187,161)"
          ],
          [
           0.375,
           "rgb(252,146,114)"
          ],
          [
           0.5,
           "rgb(251,106,74)"
          ],
          [
           0.625,
           "rgb(239,59,44)"
          ],
          [
           0.75,
           "rgb(203,24,29)"
          ],
          [
           0.875,
           "rgb(165,15,21)"
          ],
          [
           1,
           "rgb(103,0,13)"
          ]
         ],
         "locationmode": "USA-states",
         "locations": [
          "AK",
          "MT",
          "ND",
          "SD",
          "VT",
          "WY"
         ],
         "type": "choropleth",
         "z": [
          0.282752121,
          0.330683625,
          0.18484288399999999,
          0.19257012899999998,
          0.36927744100000004,
          0.632420091
         ]
        },
        {
         "colorbar": {
          "title": {
           "text": "Ageusia Average per State"
          }
         },
         "colorscale": [
          [
           0,
           "rgb(255,245,240)"
          ],
          [
           0.125,
           "rgb(254,224,210)"
          ],
          [
           0.25,
           "rgb(252,187,161)"
          ],
          [
           0.375,
           "rgb(252,146,114)"
          ],
          [
           0.5,
           "rgb(251,106,74)"
          ],
          [
           0.625,
           "rgb(239,59,44)"
          ],
          [
           0.75,
           "rgb(203,24,29)"
          ],
          [
           0.875,
           "rgb(165,15,21)"
          ],
          [
           1,
           "rgb(103,0,13)"
          ]
         ],
         "locationmode": "USA-states",
         "locations": [
          "AK",
          "MT",
          "ND",
          "SD",
          "VT",
          "WY"
         ],
         "type": "choropleth",
         "z": [
          0.131008483,
          0.17170111300000002,
          0.015711645,
          0.198256255,
          0.410645339,
          0.34543022881818186
         ]
        },
        {
         "colorbar": {
          "title": {
           "text": "Ageusia Average per State"
          }
         },
         "colorscale": [
          [
           0,
           "rgb(255,245,240)"
          ],
          [
           0.125,
           "rgb(254,224,210)"
          ],
          [
           0.25,
           "rgb(252,187,161)"
          ],
          [
           0.375,
           "rgb(252,146,114)"
          ],
          [
           0.5,
           "rgb(251,106,74)"
          ],
          [
           0.625,
           "rgb(239,59,44)"
          ],
          [
           0.75,
           "rgb(203,24,29)"
          ],
          [
           0.875,
           "rgb(165,15,21)"
          ],
          [
           1,
           "rgb(103,0,13)"
          ]
         ],
         "locationmode": "USA-states",
         "locations": [
          "AK",
          "MT",
          "ND",
          "SD",
          "VT",
          "WY"
         ],
         "type": "choropleth",
         "z": [
          0.34543022881818186,
          0.21176470600000002,
          0.34543022881818186,
          0.212661107,
          0
         ]
        },
        {
         "colorbar": {
          "title": {
           "text": "Ageusia Average per State"
          }
         },
         "colorscale": [
          [
           0,
           "rgb(255,245,240)"
          ],
          [
           0.125,
           "rgb(254,224,210)"
          ],
          [
           0.25,
           "rgb(252,187,161)"
          ],
          [
           0.375,
           "rgb(252,146,114)"
          ],
          [
           0.5,
           "rgb(251,106,74)"
          ],
          [
           0.625,
           "rgb(239,59,44)"
          ],
          [
           0.75,
           "rgb(203,24,29)"
          ],
          [
           0.875,
           "rgb(165,15,21)"
          ],
          [
           1,
           "rgb(103,0,13)"
          ]
         ],
         "locationmode": "USA-states",
         "locations": [
          "AK",
          "MT",
          "ND",
          "SD",
          "VT",
          "WY"
         ],
         "type": "choropleth",
         "z": [
          0.34543022881818186,
          0.147217806,
          0.10258779999999999,
          0.147460197,
          0.34543022881818186
         ]
        },
        {
         "colorbar": {
          "title": {
           "text": "Ageusia Average per State"
          }
         },
         "colorscale": [
          [
           0,
           "rgb(255,245,240)"
          ],
          [
           0.125,
           "rgb(254,224,210)"
          ],
          [
           0.25,
           "rgb(252,187,161)"
          ],
          [
           0.375,
           "rgb(252,146,114)"
          ],
          [
           0.5,
           "rgb(251,106,74)"
          ],
          [
           0.625,
           "rgb(239,59,44)"
          ],
          [
           0.75,
           "rgb(203,24,29)"
          ],
          [
           0.875,
           "rgb(165,15,21)"
          ],
          [
           1,
           "rgb(103,0,13)"
          ]
         ],
         "locationmode": "USA-states",
         "locations": [
          "AK",
          "MT",
          "ND",
          "SD",
          "VT",
          "WY"
         ],
         "type": "choropleth",
         "z": [
          0,
          0.152305246,
          0.053142329,
          0.11865049300000001,
          0.46347032
         ]
        },
        {
         "colorbar": {
          "title": {
           "text": "Ageusia Average per State"
          }
         },
         "colorscale": [
          [
           0,
           "rgb(255,245,240)"
          ],
          [
           0.125,
           "rgb(254,224,210)"
          ],
          [
           0.25,
           "rgb(252,187,161)"
          ],
          [
           0.375,
           "rgb(252,146,114)"
          ],
          [
           0.5,
           "rgb(251,106,74)"
          ],
          [
           0.625,
           "rgb(239,59,44)"
          ],
          [
           0.75,
           "rgb(203,24,29)"
          ],
          [
           0.875,
           "rgb(165,15,21)"
          ],
          [
           1,
           "rgb(103,0,13)"
          ]
         ],
         "locationmode": "USA-states",
         "locations": [
          "AK",
          "MT",
          "ND",
          "SD",
          "VT",
          "WY"
         ],
         "type": "choropleth",
         "z": [
          0.34543022881818186,
          0.086486486,
          0.083179298,
          0.180439727,
          0.34543022881818186
         ]
        },
        {
         "colorbar": {
          "title": {
           "text": "Ageusia Average per State"
          }
         },
         "colorscale": [
          [
           0,
           "rgb(255,245,240)"
          ],
          [
           0.125,
           "rgb(254,224,210)"
          ],
          [
           0.25,
           "rgb(252,187,161)"
          ],
          [
           0.375,
           "rgb(252,146,114)"
          ],
          [
           0.5,
           "rgb(251,106,74)"
          ],
          [
           0.625,
           "rgb(239,59,44)"
          ],
          [
           0.75,
           "rgb(203,24,29)"
          ],
          [
           0.875,
           "rgb(165,15,21)"
          ],
          [
           1,
           "rgb(103,0,13)"
          ]
         ],
         "locationmode": "USA-states",
         "locations": [
          "AK",
          "MT",
          "ND",
          "SD",
          "VT",
          "WY"
         ],
         "type": "choropleth",
         "z": [
          0.34543022881818186,
          0.036565978,
          0.053142329,
          0.258529189,
          0.34543022881818186
         ]
        },
        {
         "colorbar": {
          "title": {
           "text": "Ageusia Average per State"
          }
         },
         "colorscale": [
          [
           0,
           "rgb(255,245,240)"
          ],
          [
           0.125,
           "rgb(254,224,210)"
          ],
          [
           0.25,
           "rgb(252,187,161)"
          ],
          [
           0.375,
           "rgb(252,146,114)"
          ],
          [
           0.5,
           "rgb(251,106,74)"
          ],
          [
           0.625,
           "rgb(239,59,44)"
          ],
          [
           0.75,
           "rgb(203,24,29)"
          ],
          [
           0.875,
           "rgb(165,15,21)"
          ],
          [
           1,
           "rgb(103,0,13)"
          ]
         ],
         "locationmode": "USA-states",
         "locations": [
          "AK",
          "MT",
          "ND",
          "SD",
          "VT",
          "WY"
         ],
         "type": "choropleth",
         "z": [
          0.34543022881818186,
          0.037519872999999995,
          0.154805915,
          0.17513267600000001,
          0.34543022881818186
         ]
        },
        {
         "colorbar": {
          "title": {
           "text": "Ageusia Average per State"
          }
         },
         "colorscale": [
          [
           0,
           "rgb(255,245,240)"
          ],
          [
           0.125,
           "rgb(254,224,210)"
          ],
          [
           0.25,
           "rgb(252,187,161)"
          ],
          [
           0.375,
           "rgb(252,146,114)"
          ],
          [
           0.5,
           "rgb(251,106,74)"
          ],
          [
           0.625,
           "rgb(239,59,44)"
          ],
          [
           0.75,
           "rgb(203,24,29)"
          ],
          [
           0.875,
           "rgb(165,15,21)"
          ],
          [
           1,
           "rgb(103,0,13)"
          ]
         ],
         "locationmode": "USA-states",
         "locations": [
          "AK",
          "MT",
          "ND",
          "SD",
          "VT",
          "WY"
         ],
         "type": "choropleth",
         "z": [
          0.34543022881818186,
          0.025119237000000003,
          0.034658041,
          0.19560272899999998,
          0.34543022881818186
         ]
        },
        {
         "colorbar": {
          "title": {
           "text": "Ageusia Average per State"
          }
         },
         "colorscale": [
          [
           0,
           "rgb(255,245,240)"
          ],
          [
           0.125,
           "rgb(254,224,210)"
          ],
          [
           0.25,
           "rgb(252,187,161)"
          ],
          [
           0.375,
           "rgb(252,146,114)"
          ],
          [
           0.5,
           "rgb(251,106,74)"
          ],
          [
           0.625,
           "rgb(239,59,44)"
          ],
          [
           0.75,
           "rgb(203,24,29)"
          ],
          [
           0.875,
           "rgb(165,15,21)"
          ],
          [
           1,
           "rgb(103,0,13)"
          ]
         ],
         "locationmode": "USA-states",
         "locations": [
          "AK",
          "MT",
          "ND",
          "SD",
          "VT",
          "WY"
         ],
         "type": "choropleth",
         "z": [
          0.34543022881818186,
          0.34543022881818186,
          0.020332717,
          0.177786202,
          0.150684932
         ]
        },
        {
         "colorbar": {
          "title": {
           "text": "Ageusia Average per State"
          }
         },
         "colorscale": [
          [
           0,
           "rgb(255,245,240)"
          ],
          [
           0.125,
           "rgb(254,224,210)"
          ],
          [
           0.25,
           "rgb(252,187,161)"
          ],
          [
           0.375,
           "rgb(252,146,114)"
          ],
          [
           0.5,
           "rgb(251,106,74)"
          ],
          [
           0.625,
           "rgb(239,59,44)"
          ],
          [
           0.75,
           "rgb(203,24,29)"
          ],
          [
           0.875,
           "rgb(165,15,21)"
          ],
          [
           1,
           "rgb(103,0,13)"
          ]
         ],
         "locationmode": "USA-states",
         "locations": [
          "AK",
          "MT",
          "ND",
          "SD",
          "VT",
          "WY"
         ],
         "type": "choropleth",
         "z": [
          0.171065183,
          0.126617375,
          0.152009098,
          0.34543022881818186
         ]
        },
        {
         "colorbar": {
          "title": {
           "text": "Ageusia Average per State"
          }
         },
         "colorscale": [
          [
           0,
           "rgb(255,245,240)"
          ],
          [
           0.125,
           "rgb(254,224,210)"
          ],
          [
           0.25,
           "rgb(252,187,161)"
          ],
          [
           0.375,
           "rgb(252,146,114)"
          ],
          [
           0.5,
           "rgb(251,106,74)"
          ],
          [
           0.625,
           "rgb(239,59,44)"
          ],
          [
           0.75,
           "rgb(203,24,29)"
          ],
          [
           0.875,
           "rgb(165,15,21)"
          ],
          [
           1,
           "rgb(103,0,13)"
          ]
         ],
         "locationmode": "USA-states",
         "locations": [
          "AK",
          "MT",
          "ND",
          "SD",
          "VT",
          "WY"
         ],
         "type": "choropleth",
         "z": [
          0.10079491300000001,
          0.095194085,
          0.170204701,
          0.34543022881818186
         ]
        },
        {
         "colorbar": {
          "title": {
           "text": "Ageusia Average per State"
          }
         },
         "colorscale": [
          [
           0,
           "rgb(255,245,240)"
          ],
          [
           0.125,
           "rgb(254,224,210)"
          ],
          [
           0.25,
           "rgb(252,187,161)"
          ],
          [
           0.375,
           "rgb(252,146,114)"
          ],
          [
           0.5,
           "rgb(251,106,74)"
          ],
          [
           0.625,
           "rgb(239,59,44)"
          ],
          [
           0.75,
           "rgb(203,24,29)"
          ],
          [
           0.875,
           "rgb(165,15,21)"
          ],
          [
           1,
           "rgb(103,0,13)"
          ]
         ],
         "locationmode": "USA-states",
         "locations": [
          "AK",
          "MT",
          "ND",
          "SD",
          "VT",
          "WY"
         ],
         "type": "choropleth",
         "z": [
          0.17201907800000002,
          0.34543022881818186,
          0.128127369,
          0.406392694
         ]
        },
        {
         "colorbar": {
          "title": {
           "text": "Ageusia Average per State"
          }
         },
         "colorscale": [
          [
           0,
           "rgb(255,245,240)"
          ],
          [
           0.125,
           "rgb(254,224,210)"
          ],
          [
           0.25,
           "rgb(252,187,161)"
          ],
          [
           0.375,
           "rgb(252,146,114)"
          ],
          [
           0.5,
           "rgb(251,106,74)"
          ],
          [
           0.625,
           "rgb(239,59,44)"
          ],
          [
           0.75,
           "rgb(203,24,29)"
          ],
          [
           0.875,
           "rgb(165,15,21)"
          ],
          [
           1,
           "rgb(103,0,13)"
          ]
         ],
         "locationmode": "USA-states",
         "locations": [
          "AK",
          "MT",
          "ND",
          "SD",
          "VT",
          "WY"
         ],
         "type": "choropleth",
         "z": [
          0.306200318,
          0.072088725,
          0.171721001,
          0.070776256
         ]
        },
        {
         "colorbar": {
          "title": {
           "text": "Ageusia Average per State"
          }
         },
         "colorscale": [
          [
           0,
           "rgb(255,245,240)"
          ],
          [
           0.125,
           "rgb(254,224,210)"
          ],
          [
           0.25,
           "rgb(252,187,161)"
          ],
          [
           0.375,
           "rgb(252,146,114)"
          ],
          [
           0.5,
           "rgb(251,106,74)"
          ],
          [
           0.625,
           "rgb(239,59,44)"
          ],
          [
           0.75,
           "rgb(203,24,29)"
          ],
          [
           0.875,
           "rgb(165,15,21)"
          ],
          [
           1,
           "rgb(103,0,13)"
          ]
         ],
         "locationmode": "USA-states",
         "locations": [
          "AK",
          "MT",
          "ND",
          "SD",
          "VT",
          "WY"
         ],
         "type": "choropleth",
         "z": [
          0.35802861700000005,
          0.18715342,
          0.35140257799999997,
          0.216894977
         ]
        },
        {
         "colorbar": {
          "title": {
           "text": "Ageusia Average per State"
          }
         },
         "colorscale": [
          [
           0,
           "rgb(255,245,240)"
          ],
          [
           0.125,
           "rgb(254,224,210)"
          ],
          [
           0.25,
           "rgb(252,187,161)"
          ],
          [
           0.375,
           "rgb(252,146,114)"
          ],
          [
           0.5,
           "rgb(251,106,74)"
          ],
          [
           0.625,
           "rgb(239,59,44)"
          ],
          [
           0.75,
           "rgb(203,24,29)"
          ],
          [
           0.875,
           "rgb(165,15,21)"
          ],
          [
           1,
           "rgb(103,0,13)"
          ]
         ],
         "locationmode": "USA-states",
         "locations": [
          "AK",
          "MT",
          "ND",
          "SD",
          "VT",
          "WY"
         ],
         "type": "choropleth",
         "z": [
          0.48775834700000004,
          0.17375231100000002,
          0.44351781700000004,
          0.210045662
         ]
        },
        {
         "colorbar": {
          "title": {
           "text": "Ageusia Average per State"
          }
         },
         "colorscale": [
          [
           0,
           "rgb(255,245,240)"
          ],
          [
           0.125,
           "rgb(254,224,210)"
          ],
          [
           0.25,
           "rgb(252,187,161)"
          ],
          [
           0.375,
           "rgb(252,146,114)"
          ],
          [
           0.5,
           "rgb(251,106,74)"
          ],
          [
           0.625,
           "rgb(239,59,44)"
          ],
          [
           0.75,
           "rgb(203,24,29)"
          ],
          [
           0.875,
           "rgb(165,15,21)"
          ],
          [
           1,
           "rgb(103,0,13)"
          ]
         ],
         "locationmode": "USA-states",
         "locations": [
          "AK",
          "MT",
          "ND",
          "SD",
          "VT",
          "WY"
         ],
         "type": "choropleth",
         "z": [
          0.521780604,
          0.20933456600000003,
          0.40788476100000004,
          0.34543022881818186
         ]
        },
        {
         "colorbar": {
          "title": {
           "text": "Ageusia Average per State"
          }
         },
         "colorscale": [
          [
           0,
           "rgb(255,245,240)"
          ],
          [
           0.125,
           "rgb(254,224,210)"
          ],
          [
           0.25,
           "rgb(252,187,161)"
          ],
          [
           0.375,
           "rgb(252,146,114)"
          ],
          [
           0.5,
           "rgb(251,106,74)"
          ],
          [
           0.625,
           "rgb(239,59,44)"
          ],
          [
           0.75,
           "rgb(203,24,29)"
          ],
          [
           0.875,
           "rgb(165,15,21)"
          ],
          [
           1,
           "rgb(103,0,13)"
          ]
         ],
         "locationmode": "USA-states",
         "locations": [
          "AK",
          "MT",
          "ND",
          "SD",
          "VT",
          "WY"
         ],
         "type": "choropleth",
         "z": [
          0.392686804,
          0.345194085,
          0.395754359,
          0.095890411
         ]
        },
        {
         "colorbar": {
          "title": {
           "text": "Ageusia Average per State"
          }
         },
         "colorscale": [
          [
           0,
           "rgb(255,245,240)"
          ],
          [
           0.125,
           "rgb(254,224,210)"
          ],
          [
           0.25,
           "rgb(252,187,161)"
          ],
          [
           0.375,
           "rgb(252,146,114)"
          ],
          [
           0.5,
           "rgb(251,106,74)"
          ],
          [
           0.625,
           "rgb(239,59,44)"
          ],
          [
           0.75,
           "rgb(203,24,29)"
          ],
          [
           0.875,
           "rgb(165,15,21)"
          ],
          [
           1,
           "rgb(103,0,13)"
          ]
         ],
         "locationmode": "USA-states",
         "locations": [
          "AK",
          "MT",
          "ND",
          "SD",
          "VT",
          "WY"
         ],
         "type": "choropleth",
         "z": [
          0.299205087,
          0.279574861,
          0.41887793799999995,
          0.184931507
         ]
        },
        {
         "colorbar": {
          "title": {
           "text": "Ageusia Average per State"
          }
         },
         "colorscale": [
          [
           0,
           "rgb(255,245,240)"
          ],
          [
           0.125,
           "rgb(254,224,210)"
          ],
          [
           0.25,
           "rgb(252,187,161)"
          ],
          [
           0.375,
           "rgb(252,146,114)"
          ],
          [
           0.5,
           "rgb(251,106,74)"
          ],
          [
           0.625,
           "rgb(239,59,44)"
          ],
          [
           0.75,
           "rgb(203,24,29)"
          ],
          [
           0.875,
           "rgb(165,15,21)"
          ],
          [
           1,
           "rgb(103,0,13)"
          ]
         ],
         "locationmode": "USA-states",
         "locations": [
          "AK",
          "MT",
          "ND",
          "SD",
          "VT",
          "WY"
         ],
         "type": "choropleth",
         "z": [
          0.19141494399999998,
          0.3012939,
          0.368460955,
          0.34543022881818186
         ]
        },
        {
         "colorbar": {
          "title": {
           "text": "Ageusia Average per State"
          }
         },
         "colorscale": [
          [
           0,
           "rgb(255,245,240)"
          ],
          [
           0.125,
           "rgb(254,224,210)"
          ],
          [
           0.25,
           "rgb(252,187,161)"
          ],
          [
           0.375,
           "rgb(252,146,114)"
          ],
          [
           0.5,
           "rgb(251,106,74)"
          ],
          [
           0.625,
           "rgb(239,59,44)"
          ],
          [
           0.75,
           "rgb(203,24,29)"
          ],
          [
           0.875,
           "rgb(165,15,21)"
          ],
          [
           1,
           "rgb(103,0,13)"
          ]
         ],
         "locationmode": "USA-states",
         "locations": [
          "AK",
          "MT",
          "ND",
          "SD",
          "VT",
          "WY"
         ],
         "type": "choropleth",
         "z": [
          0.256597774,
          0.322550832,
          0.428733889,
          0.404109589
         ]
        },
        {
         "colorbar": {
          "title": {
           "text": "Ageusia Average per State"
          }
         },
         "colorscale": [
          [
           0,
           "rgb(255,245,240)"
          ],
          [
           0.125,
           "rgb(254,224,210)"
          ],
          [
           0.25,
           "rgb(252,187,161)"
          ],
          [
           0.375,
           "rgb(252,146,114)"
          ],
          [
           0.5,
           "rgb(251,106,74)"
          ],
          [
           0.625,
           "rgb(239,59,44)"
          ],
          [
           0.75,
           "rgb(203,24,29)"
          ],
          [
           0.875,
           "rgb(165,15,21)"
          ],
          [
           1,
           "rgb(103,0,13)"
          ]
         ],
         "locationmode": "USA-states",
         "locations": [
          "AK",
          "MT",
          "ND",
          "SD",
          "VT",
          "WY"
         ],
         "type": "choropleth",
         "z": [
          0.34054054100000003,
          0.450554529,
          0.879833207,
          0.22374429199999998
         ]
        },
        {
         "colorbar": {
          "title": {
           "text": "Ageusia Average per State"
          }
         },
         "colorscale": [
          [
           0,
           "rgb(255,245,240)"
          ],
          [
           0.125,
           "rgb(254,224,210)"
          ],
          [
           0.25,
           "rgb(252,187,161)"
          ],
          [
           0.375,
           "rgb(252,146,114)"
          ],
          [
           0.5,
           "rgb(251,106,74)"
          ],
          [
           0.625,
           "rgb(239,59,44)"
          ],
          [
           0.75,
           "rgb(203,24,29)"
          ],
          [
           0.875,
           "rgb(165,15,21)"
          ],
          [
           1,
           "rgb(103,0,13)"
          ]
         ],
         "locationmode": "USA-states",
         "locations": [
          "AK",
          "MT",
          "ND",
          "SD",
          "VT",
          "WY"
         ],
         "type": "choropleth",
         "z": [
          0.296343402,
          0.6936229209999999,
          0.761182714,
          0.105022831
         ]
        },
        {
         "colorbar": {
          "title": {
           "text": "Ageusia Average per State"
          }
         },
         "colorscale": [
          [
           0,
           "rgb(255,245,240)"
          ],
          [
           0.125,
           "rgb(254,224,210)"
          ],
          [
           0.25,
           "rgb(252,187,161)"
          ],
          [
           0.375,
           "rgb(252,146,114)"
          ],
          [
           0.5,
           "rgb(251,106,74)"
          ],
          [
           0.625,
           "rgb(239,59,44)"
          ],
          [
           0.75,
           "rgb(203,24,29)"
          ],
          [
           0.875,
           "rgb(165,15,21)"
          ],
          [
           1,
           "rgb(103,0,13)"
          ]
         ],
         "locationmode": "USA-states",
         "locations": [
          "AK",
          "MT",
          "ND",
          "SD",
          "VT",
          "WY"
         ],
         "type": "choropleth",
         "z": [
          0.330047695,
          0.682532348,
          0.7194844579999999,
          0.210045662
         ]
        },
        {
         "colorbar": {
          "title": {
           "text": "Ageusia Average per State"
          }
         },
         "colorscale": [
          [
           0,
           "rgb(255,245,240)"
          ],
          [
           0.125,
           "rgb(254,224,210)"
          ],
          [
           0.25,
           "rgb(252,187,161)"
          ],
          [
           0.375,
           "rgb(252,146,114)"
          ],
          [
           0.5,
           "rgb(251,106,74)"
          ],
          [
           0.625,
           "rgb(239,59,44)"
          ],
          [
           0.75,
           "rgb(203,24,29)"
          ],
          [
           0.875,
           "rgb(165,15,21)"
          ],
          [
           1,
           "rgb(103,0,13)"
          ]
         ],
         "locationmode": "USA-states",
         "locations": [
          "AK",
          "MT",
          "ND",
          "SD",
          "VT",
          "WY"
         ],
         "type": "choropleth",
         "z": [
          0.390143084,
          0.712107209,
          0.687642153,
          0.602739726
         ]
        },
        {
         "colorbar": {
          "title": {
           "text": "Ageusia Average per State"
          }
         },
         "colorscale": [
          [
           0,
           "rgb(255,245,240)"
          ],
          [
           0.125,
           "rgb(254,224,210)"
          ],
          [
           0.25,
           "rgb(252,187,161)"
          ],
          [
           0.375,
           "rgb(252,146,114)"
          ],
          [
           0.5,
           "rgb(251,106,74)"
          ],
          [
           0.625,
           "rgb(239,59,44)"
          ],
          [
           0.75,
           "rgb(203,24,29)"
          ],
          [
           0.875,
           "rgb(165,15,21)"
          ],
          [
           1,
           "rgb(103,0,13)"
          ]
         ],
         "locationmode": "USA-states",
         "locations": [
          "AK",
          "MT",
          "ND",
          "SD",
          "VT",
          "WY"
         ],
         "type": "choropleth",
         "z": [
          0.514785374,
          0.846118299,
          0.857467779,
          0.30593607300000003
         ]
        },
        {
         "colorbar": {
          "title": {
           "text": "Ageusia Average per State"
          }
         },
         "colorscale": [
          [
           0,
           "rgb(255,245,240)"
          ],
          [
           0.125,
           "rgb(254,224,210)"
          ],
          [
           0.25,
           "rgb(252,187,161)"
          ],
          [
           0.375,
           "rgb(252,146,114)"
          ],
          [
           0.5,
           "rgb(251,106,74)"
          ],
          [
           0.625,
           "rgb(239,59,44)"
          ],
          [
           0.75,
           "rgb(203,24,29)"
          ],
          [
           0.875,
           "rgb(165,15,21)"
          ],
          [
           1,
           "rgb(103,0,13)"
          ]
         ],
         "locationmode": "USA-states",
         "locations": [
          "AK",
          "MT",
          "ND",
          "SD",
          "VT",
          "WY"
         ],
         "type": "choropleth",
         "z": [
          0.841971383,
          1,
          0.885898408,
          0.50456621
         ]
        },
        {
         "colorbar": {
          "title": {
           "text": "Ageusia Average per State"
          }
         },
         "colorscale": [
          [
           0,
           "rgb(255,245,240)"
          ],
          [
           0.125,
           "rgb(254,224,210)"
          ],
          [
           0.25,
           "rgb(252,187,161)"
          ],
          [
           0.375,
           "rgb(252,146,114)"
          ],
          [
           0.5,
           "rgb(251,106,74)"
          ],
          [
           0.625,
           "rgb(239,59,44)"
          ],
          [
           0.75,
           "rgb(203,24,29)"
          ],
          [
           0.875,
           "rgb(165,15,21)"
          ],
          [
           1,
           "rgb(103,0,13)"
          ]
         ],
         "locationmode": "USA-states",
         "locations": [
          "AK",
          "MT",
          "ND",
          "SD",
          "VT",
          "WY"
         ],
         "type": "choropleth",
         "z": [
          1,
          0.9750462109999999,
          1,
          1
         ]
        },
        {
         "colorbar": {
          "title": {
           "text": "Ageusia Average per State"
          }
         },
         "colorscale": [
          [
           0,
           "rgb(255,245,240)"
          ],
          [
           0.125,
           "rgb(254,224,210)"
          ],
          [
           0.25,
           "rgb(252,187,161)"
          ],
          [
           0.375,
           "rgb(252,146,114)"
          ],
          [
           0.5,
           "rgb(251,106,74)"
          ],
          [
           0.625,
           "rgb(239,59,44)"
          ],
          [
           0.75,
           "rgb(203,24,29)"
          ],
          [
           0.875,
           "rgb(165,15,21)"
          ],
          [
           1,
           "rgb(103,0,13)"
          ]
         ],
         "locationmode": "USA-states",
         "locations": [
          "AK",
          "MT",
          "ND",
          "SD",
          "VT",
          "WY"
         ],
         "type": "choropleth",
         "z": [
          0.07624768900000001
         ]
        }
       ],
       "layout": {
        "geo": {
         "projection": {
          "type": "mercator"
         },
         "scope": "world"
        },
        "sliders": [
         {
          "active": 0,
          "pad": {
           "t": 1
          },
          "steps": [
           {
            "args": [
             "visible",
             [
              true,
              false,
              false,
              false,
              false,
              false,
              false,
              false,
              false,
              false,
              false,
              false,
              false,
              false,
              false,
              false,
              false,
              false,
              false,
              false,
              false,
              false,
              false,
              false,
              false,
              false,
              false,
              false,
              false,
              false
             ]
            ],
            "label": "Search Day 0",
            "method": "restyle"
           },
           {
            "args": [
             "visible",
             [
              false,
              true,
              false,
              false,
              false,
              false,
              false,
              false,
              false,
              false,
              false,
              false,
              false,
              false,
              false,
              false,
              false,
              false,
              false,
              false,
              false,
              false,
              false,
              false,
              false,
              false,
              false,
              false,
              false,
              false
             ]
            ],
            "label": "Search Day 1",
            "method": "restyle"
           },
           {
            "args": [
             "visible",
             [
              false,
              false,
              true,
              false,
              false,
              false,
              false,
              false,
              false,
              false,
              false,
              false,
              false,
              false,
              false,
              false,
              false,
              false,
              false,
              false,
              false,
              false,
              false,
              false,
              false,
              false,
              false,
              false,
              false,
              false
             ]
            ],
            "label": "Search Day 2",
            "method": "restyle"
           },
           {
            "args": [
             "visible",
             [
              false,
              false,
              false,
              true,
              false,
              false,
              false,
              false,
              false,
              false,
              false,
              false,
              false,
              false,
              false,
              false,
              false,
              false,
              false,
              false,
              false,
              false,
              false,
              false,
              false,
              false,
              false,
              false,
              false,
              false
             ]
            ],
            "label": "Search Day 3",
            "method": "restyle"
           },
           {
            "args": [
             "visible",
             [
              false,
              false,
              false,
              false,
              true,
              false,
              false,
              false,
              false,
              false,
              false,
              false,
              false,
              false,
              false,
              false,
              false,
              false,
              false,
              false,
              false,
              false,
              false,
              false,
              false,
              false,
              false,
              false,
              false,
              false
             ]
            ],
            "label": "Search Day 4",
            "method": "restyle"
           },
           {
            "args": [
             "visible",
             [
              false,
              false,
              false,
              false,
              false,
              true,
              false,
              false,
              false,
              false,
              false,
              false,
              false,
              false,
              false,
              false,
              false,
              false,
              false,
              false,
              false,
              false,
              false,
              false,
              false,
              false,
              false,
              false,
              false,
              false
             ]
            ],
            "label": "Search Day 5",
            "method": "restyle"
           },
           {
            "args": [
             "visible",
             [
              false,
              false,
              false,
              false,
              false,
              false,
              true,
              false,
              false,
              false,
              false,
              false,
              false,
              false,
              false,
              false,
              false,
              false,
              false,
              false,
              false,
              false,
              false,
              false,
              false,
              false,
              false,
              false,
              false,
              false
             ]
            ],
            "label": "Search Day 6",
            "method": "restyle"
           },
           {
            "args": [
             "visible",
             [
              false,
              false,
              false,
              false,
              false,
              false,
              false,
              true,
              false,
              false,
              false,
              false,
              false,
              false,
              false,
              false,
              false,
              false,
              false,
              false,
              false,
              false,
              false,
              false,
              false,
              false,
              false,
              false,
              false,
              false
             ]
            ],
            "label": "Search Day 7",
            "method": "restyle"
           },
           {
            "args": [
             "visible",
             [
              false,
              false,
              false,
              false,
              false,
              false,
              false,
              false,
              true,
              false,
              false,
              false,
              false,
              false,
              false,
              false,
              false,
              false,
              false,
              false,
              false,
              false,
              false,
              false,
              false,
              false,
              false,
              false,
              false,
              false
             ]
            ],
            "label": "Search Day 8",
            "method": "restyle"
           },
           {
            "args": [
             "visible",
             [
              false,
              false,
              false,
              false,
              false,
              false,
              false,
              false,
              false,
              true,
              false,
              false,
              false,
              false,
              false,
              false,
              false,
              false,
              false,
              false,
              false,
              false,
              false,
              false,
              false,
              false,
              false,
              false,
              false,
              false
             ]
            ],
            "label": "Search Day 9",
            "method": "restyle"
           },
           {
            "args": [
             "visible",
             [
              false,
              false,
              false,
              false,
              false,
              false,
              false,
              false,
              false,
              false,
              true,
              false,
              false,
              false,
              false,
              false,
              false,
              false,
              false,
              false,
              false,
              false,
              false,
              false,
              false,
              false,
              false,
              false,
              false,
              false
             ]
            ],
            "label": "Search Day 10",
            "method": "restyle"
           },
           {
            "args": [
             "visible",
             [
              false,
              false,
              false,
              false,
              false,
              false,
              false,
              false,
              false,
              false,
              false,
              true,
              false,
              false,
              false,
              false,
              false,
              false,
              false,
              false,
              false,
              false,
              false,
              false,
              false,
              false,
              false,
              false,
              false,
              false
             ]
            ],
            "label": "Search Day 11",
            "method": "restyle"
           },
           {
            "args": [
             "visible",
             [
              false,
              false,
              false,
              false,
              false,
              false,
              false,
              false,
              false,
              false,
              false,
              false,
              true,
              false,
              false,
              false,
              false,
              false,
              false,
              false,
              false,
              false,
              false,
              false,
              false,
              false,
              false,
              false,
              false,
              false
             ]
            ],
            "label": "Search Day 12",
            "method": "restyle"
           },
           {
            "args": [
             "visible",
             [
              false,
              false,
              false,
              false,
              false,
              false,
              false,
              false,
              false,
              false,
              false,
              false,
              false,
              true,
              false,
              false,
              false,
              false,
              false,
              false,
              false,
              false,
              false,
              false,
              false,
              false,
              false,
              false,
              false,
              false
             ]
            ],
            "label": "Search Day 13",
            "method": "restyle"
           },
           {
            "args": [
             "visible",
             [
              false,
              false,
              false,
              false,
              false,
              false,
              false,
              false,
              false,
              false,
              false,
              false,
              false,
              false,
              true,
              false,
              false,
              false,
              false,
              false,
              false,
              false,
              false,
              false,
              false,
              false,
              false,
              false,
              false,
              false
             ]
            ],
            "label": "Search Day 14",
            "method": "restyle"
           },
           {
            "args": [
             "visible",
             [
              false,
              false,
              false,
              false,
              false,
              false,
              false,
              false,
              false,
              false,
              false,
              false,
              false,
              false,
              false,
              true,
              false,
              false,
              false,
              false,
              false,
              false,
              false,
              false,
              false,
              false,
              false,
              false,
              false,
              false
             ]
            ],
            "label": "Search Day 15",
            "method": "restyle"
           },
           {
            "args": [
             "visible",
             [
              false,
              false,
              false,
              false,
              false,
              false,
              false,
              false,
              false,
              false,
              false,
              false,
              false,
              false,
              false,
              false,
              true,
              false,
              false,
              false,
              false,
              false,
              false,
              false,
              false,
              false,
              false,
              false,
              false,
              false
             ]
            ],
            "label": "Search Day 16",
            "method": "restyle"
           },
           {
            "args": [
             "visible",
             [
              false,
              false,
              false,
              false,
              false,
              false,
              false,
              false,
              false,
              false,
              false,
              false,
              false,
              false,
              false,
              false,
              false,
              true,
              false,
              false,
              false,
              false,
              false,
              false,
              false,
              false,
              false,
              false,
              false,
              false
             ]
            ],
            "label": "Search Day 17",
            "method": "restyle"
           },
           {
            "args": [
             "visible",
             [
              false,
              false,
              false,
              false,
              false,
              false,
              false,
              false,
              false,
              false,
              false,
              false,
              false,
              false,
              false,
              false,
              false,
              false,
              true,
              false,
              false,
              false,
              false,
              false,
              false,
              false,
              false,
              false,
              false,
              false
             ]
            ],
            "label": "Search Day 18",
            "method": "restyle"
           },
           {
            "args": [
             "visible",
             [
              false,
              false,
              false,
              false,
              false,
              false,
              false,
              false,
              false,
              false,
              false,
              false,
              false,
              false,
              false,
              false,
              false,
              false,
              false,
              true,
              false,
              false,
              false,
              false,
              false,
              false,
              false,
              false,
              false,
              false
             ]
            ],
            "label": "Search Day 19",
            "method": "restyle"
           },
           {
            "args": [
             "visible",
             [
              false,
              false,
              false,
              false,
              false,
              false,
              false,
              false,
              false,
              false,
              false,
              false,
              false,
              false,
              false,
              false,
              false,
              false,
              false,
              false,
              true,
              false,
              false,
              false,
              false,
              false,
              false,
              false,
              false,
              false
             ]
            ],
            "label": "Search Day 20",
            "method": "restyle"
           },
           {
            "args": [
             "visible",
             [
              false,
              false,
              false,
              false,
              false,
              false,
              false,
              false,
              false,
              false,
              false,
              false,
              false,
              false,
              false,
              false,
              false,
              false,
              false,
              false,
              false,
              true,
              false,
              false,
              false,
              false,
              false,
              false,
              false,
              false
             ]
            ],
            "label": "Search Day 21",
            "method": "restyle"
           },
           {
            "args": [
             "visible",
             [
              false,
              false,
              false,
              false,
              false,
              false,
              false,
              false,
              false,
              false,
              false,
              false,
              false,
              false,
              false,
              false,
              false,
              false,
              false,
              false,
              false,
              false,
              true,
              false,
              false,
              false,
              false,
              false,
              false,
              false
             ]
            ],
            "label": "Search Day 22",
            "method": "restyle"
           },
           {
            "args": [
             "visible",
             [
              false,
              false,
              false,
              false,
              false,
              false,
              false,
              false,
              false,
              false,
              false,
              false,
              false,
              false,
              false,
              false,
              false,
              false,
              false,
              false,
              false,
              false,
              false,
              true,
              false,
              false,
              false,
              false,
              false,
              false
             ]
            ],
            "label": "Search Day 23",
            "method": "restyle"
           },
           {
            "args": [
             "visible",
             [
              false,
              false,
              false,
              false,
              false,
              false,
              false,
              false,
              false,
              false,
              false,
              false,
              false,
              false,
              false,
              false,
              false,
              false,
              false,
              false,
              false,
              false,
              false,
              false,
              true,
              false,
              false,
              false,
              false,
              false
             ]
            ],
            "label": "Search Day 24",
            "method": "restyle"
           },
           {
            "args": [
             "visible",
             [
              false,
              false,
              false,
              false,
              false,
              false,
              false,
              false,
              false,
              false,
              false,
              false,
              false,
              false,
              false,
              false,
              false,
              false,
              false,
              false,
              false,
              false,
              false,
              false,
              false,
              true,
              false,
              false,
              false,
              false
             ]
            ],
            "label": "Search Day 25",
            "method": "restyle"
           },
           {
            "args": [
             "visible",
             [
              false,
              false,
              false,
              false,
              false,
              false,
              false,
              false,
              false,
              false,
              false,
              false,
              false,
              false,
              false,
              false,
              false,
              false,
              false,
              false,
              false,
              false,
              false,
              false,
              false,
              false,
              true,
              false,
              false,
              false
             ]
            ],
            "label": "Search Day 26",
            "method": "restyle"
           },
           {
            "args": [
             "visible",
             [
              false,
              false,
              false,
              false,
              false,
              false,
              false,
              false,
              false,
              false,
              false,
              false,
              false,
              false,
              false,
              false,
              false,
              false,
              false,
              false,
              false,
              false,
              false,
              false,
              false,
              false,
              false,
              true,
              false,
              false
             ]
            ],
            "label": "Search Day 27",
            "method": "restyle"
           },
           {
            "args": [
             "visible",
             [
              false,
              false,
              false,
              false,
              false,
              false,
              false,
              false,
              false,
              false,
              false,
              false,
              false,
              false,
              false,
              false,
              false,
              false,
              false,
              false,
              false,
              false,
              false,
              false,
              false,
              false,
              false,
              false,
              true,
              false
             ]
            ],
            "label": "Search Day 28",
            "method": "restyle"
           },
           {
            "args": [
             "visible",
             [
              false,
              false,
              false,
              false,
              false,
              false,
              false,
              false,
              false,
              false,
              false,
              false,
              false,
              false,
              false,
              false,
              false,
              false,
              false,
              false,
              false,
              false,
              false,
              false,
              false,
              false,
              false,
              false,
              false,
              true
             ]
            ],
            "label": "Search Day 29",
            "method": "restyle"
           }
          ]
         }
        ],
        "template": {
         "data": {
          "bar": [
           {
            "error_x": {
             "color": "#2a3f5f"
            },
            "error_y": {
             "color": "#2a3f5f"
            },
            "marker": {
             "line": {
              "color": "#E5ECF6",
              "width": 0.5
             }
            },
            "type": "bar"
           }
          ],
          "barpolar": [
           {
            "marker": {
             "line": {
              "color": "#E5ECF6",
              "width": 0.5
             }
            },
            "type": "barpolar"
           }
          ],
          "carpet": [
           {
            "aaxis": {
             "endlinecolor": "#2a3f5f",
             "gridcolor": "white",
             "linecolor": "white",
             "minorgridcolor": "white",
             "startlinecolor": "#2a3f5f"
            },
            "baxis": {
             "endlinecolor": "#2a3f5f",
             "gridcolor": "white",
             "linecolor": "white",
             "minorgridcolor": "white",
             "startlinecolor": "#2a3f5f"
            },
            "type": "carpet"
           }
          ],
          "choropleth": [
           {
            "colorbar": {
             "outlinewidth": 0,
             "ticks": ""
            },
            "type": "choropleth"
           }
          ],
          "contour": [
           {
            "colorbar": {
             "outlinewidth": 0,
             "ticks": ""
            },
            "colorscale": [
             [
              0,
              "#0d0887"
             ],
             [
              0.1111111111111111,
              "#46039f"
             ],
             [
              0.2222222222222222,
              "#7201a8"
             ],
             [
              0.3333333333333333,
              "#9c179e"
             ],
             [
              0.4444444444444444,
              "#bd3786"
             ],
             [
              0.5555555555555556,
              "#d8576b"
             ],
             [
              0.6666666666666666,
              "#ed7953"
             ],
             [
              0.7777777777777778,
              "#fb9f3a"
             ],
             [
              0.8888888888888888,
              "#fdca26"
             ],
             [
              1,
              "#f0f921"
             ]
            ],
            "type": "contour"
           }
          ],
          "contourcarpet": [
           {
            "colorbar": {
             "outlinewidth": 0,
             "ticks": ""
            },
            "type": "contourcarpet"
           }
          ],
          "heatmap": [
           {
            "colorbar": {
             "outlinewidth": 0,
             "ticks": ""
            },
            "colorscale": [
             [
              0,
              "#0d0887"
             ],
             [
              0.1111111111111111,
              "#46039f"
             ],
             [
              0.2222222222222222,
              "#7201a8"
             ],
             [
              0.3333333333333333,
              "#9c179e"
             ],
             [
              0.4444444444444444,
              "#bd3786"
             ],
             [
              0.5555555555555556,
              "#d8576b"
             ],
             [
              0.6666666666666666,
              "#ed7953"
             ],
             [
              0.7777777777777778,
              "#fb9f3a"
             ],
             [
              0.8888888888888888,
              "#fdca26"
             ],
             [
              1,
              "#f0f921"
             ]
            ],
            "type": "heatmap"
           }
          ],
          "heatmapgl": [
           {
            "colorbar": {
             "outlinewidth": 0,
             "ticks": ""
            },
            "colorscale": [
             [
              0,
              "#0d0887"
             ],
             [
              0.1111111111111111,
              "#46039f"
             ],
             [
              0.2222222222222222,
              "#7201a8"
             ],
             [
              0.3333333333333333,
              "#9c179e"
             ],
             [
              0.4444444444444444,
              "#bd3786"
             ],
             [
              0.5555555555555556,
              "#d8576b"
             ],
             [
              0.6666666666666666,
              "#ed7953"
             ],
             [
              0.7777777777777778,
              "#fb9f3a"
             ],
             [
              0.8888888888888888,
              "#fdca26"
             ],
             [
              1,
              "#f0f921"
             ]
            ],
            "type": "heatmapgl"
           }
          ],
          "histogram": [
           {
            "marker": {
             "colorbar": {
              "outlinewidth": 0,
              "ticks": ""
             }
            },
            "type": "histogram"
           }
          ],
          "histogram2d": [
           {
            "colorbar": {
             "outlinewidth": 0,
             "ticks": ""
            },
            "colorscale": [
             [
              0,
              "#0d0887"
             ],
             [
              0.1111111111111111,
              "#46039f"
             ],
             [
              0.2222222222222222,
              "#7201a8"
             ],
             [
              0.3333333333333333,
              "#9c179e"
             ],
             [
              0.4444444444444444,
              "#bd3786"
             ],
             [
              0.5555555555555556,
              "#d8576b"
             ],
             [
              0.6666666666666666,
              "#ed7953"
             ],
             [
              0.7777777777777778,
              "#fb9f3a"
             ],
             [
              0.8888888888888888,
              "#fdca26"
             ],
             [
              1,
              "#f0f921"
             ]
            ],
            "type": "histogram2d"
           }
          ],
          "histogram2dcontour": [
           {
            "colorbar": {
             "outlinewidth": 0,
             "ticks": ""
            },
            "colorscale": [
             [
              0,
              "#0d0887"
             ],
             [
              0.1111111111111111,
              "#46039f"
             ],
             [
              0.2222222222222222,
              "#7201a8"
             ],
             [
              0.3333333333333333,
              "#9c179e"
             ],
             [
              0.4444444444444444,
              "#bd3786"
             ],
             [
              0.5555555555555556,
              "#d8576b"
             ],
             [
              0.6666666666666666,
              "#ed7953"
             ],
             [
              0.7777777777777778,
              "#fb9f3a"
             ],
             [
              0.8888888888888888,
              "#fdca26"
             ],
             [
              1,
              "#f0f921"
             ]
            ],
            "type": "histogram2dcontour"
           }
          ],
          "mesh3d": [
           {
            "colorbar": {
             "outlinewidth": 0,
             "ticks": ""
            },
            "type": "mesh3d"
           }
          ],
          "parcoords": [
           {
            "line": {
             "colorbar": {
              "outlinewidth": 0,
              "ticks": ""
             }
            },
            "type": "parcoords"
           }
          ],
          "pie": [
           {
            "automargin": true,
            "type": "pie"
           }
          ],
          "scatter": [
           {
            "marker": {
             "colorbar": {
              "outlinewidth": 0,
              "ticks": ""
             }
            },
            "type": "scatter"
           }
          ],
          "scatter3d": [
           {
            "line": {
             "colorbar": {
              "outlinewidth": 0,
              "ticks": ""
             }
            },
            "marker": {
             "colorbar": {
              "outlinewidth": 0,
              "ticks": ""
             }
            },
            "type": "scatter3d"
           }
          ],
          "scattercarpet": [
           {
            "marker": {
             "colorbar": {
              "outlinewidth": 0,
              "ticks": ""
             }
            },
            "type": "scattercarpet"
           }
          ],
          "scattergeo": [
           {
            "marker": {
             "colorbar": {
              "outlinewidth": 0,
              "ticks": ""
             }
            },
            "type": "scattergeo"
           }
          ],
          "scattergl": [
           {
            "marker": {
             "colorbar": {
              "outlinewidth": 0,
              "ticks": ""
             }
            },
            "type": "scattergl"
           }
          ],
          "scattermapbox": [
           {
            "marker": {
             "colorbar": {
              "outlinewidth": 0,
              "ticks": ""
             }
            },
            "type": "scattermapbox"
           }
          ],
          "scatterpolar": [
           {
            "marker": {
             "colorbar": {
              "outlinewidth": 0,
              "ticks": ""
             }
            },
            "type": "scatterpolar"
           }
          ],
          "scatterpolargl": [
           {
            "marker": {
             "colorbar": {
              "outlinewidth": 0,
              "ticks": ""
             }
            },
            "type": "scatterpolargl"
           }
          ],
          "scatterternary": [
           {
            "marker": {
             "colorbar": {
              "outlinewidth": 0,
              "ticks": ""
             }
            },
            "type": "scatterternary"
           }
          ],
          "surface": [
           {
            "colorbar": {
             "outlinewidth": 0,
             "ticks": ""
            },
            "colorscale": [
             [
              0,
              "#0d0887"
             ],
             [
              0.1111111111111111,
              "#46039f"
             ],
             [
              0.2222222222222222,
              "#7201a8"
             ],
             [
              0.3333333333333333,
              "#9c179e"
             ],
             [
              0.4444444444444444,
              "#bd3786"
             ],
             [
              0.5555555555555556,
              "#d8576b"
             ],
             [
              0.6666666666666666,
              "#ed7953"
             ],
             [
              0.7777777777777778,
              "#fb9f3a"
             ],
             [
              0.8888888888888888,
              "#fdca26"
             ],
             [
              1,
              "#f0f921"
             ]
            ],
            "type": "surface"
           }
          ],
          "table": [
           {
            "cells": {
             "fill": {
              "color": "#EBF0F8"
             },
             "line": {
              "color": "white"
             }
            },
            "header": {
             "fill": {
              "color": "#C8D4E3"
             },
             "line": {
              "color": "white"
             }
            },
            "type": "table"
           }
          ]
         },
         "layout": {
          "annotationdefaults": {
           "arrowcolor": "#2a3f5f",
           "arrowhead": 0,
           "arrowwidth": 1
          },
          "coloraxis": {
           "colorbar": {
            "outlinewidth": 0,
            "ticks": ""
           }
          },
          "colorscale": {
           "diverging": [
            [
             0,
             "#8e0152"
            ],
            [
             0.1,
             "#c51b7d"
            ],
            [
             0.2,
             "#de77ae"
            ],
            [
             0.3,
             "#f1b6da"
            ],
            [
             0.4,
             "#fde0ef"
            ],
            [
             0.5,
             "#f7f7f7"
            ],
            [
             0.6,
             "#e6f5d0"
            ],
            [
             0.7,
             "#b8e186"
            ],
            [
             0.8,
             "#7fbc41"
            ],
            [
             0.9,
             "#4d9221"
            ],
            [
             1,
             "#276419"
            ]
           ],
           "sequential": [
            [
             0,
             "#0d0887"
            ],
            [
             0.1111111111111111,
             "#46039f"
            ],
            [
             0.2222222222222222,
             "#7201a8"
            ],
            [
             0.3333333333333333,
             "#9c179e"
            ],
            [
             0.4444444444444444,
             "#bd3786"
            ],
            [
             0.5555555555555556,
             "#d8576b"
            ],
            [
             0.6666666666666666,
             "#ed7953"
            ],
            [
             0.7777777777777778,
             "#fb9f3a"
            ],
            [
             0.8888888888888888,
             "#fdca26"
            ],
            [
             1,
             "#f0f921"
            ]
           ],
           "sequentialminus": [
            [
             0,
             "#0d0887"
            ],
            [
             0.1111111111111111,
             "#46039f"
            ],
            [
             0.2222222222222222,
             "#7201a8"
            ],
            [
             0.3333333333333333,
             "#9c179e"
            ],
            [
             0.4444444444444444,
             "#bd3786"
            ],
            [
             0.5555555555555556,
             "#d8576b"
            ],
            [
             0.6666666666666666,
             "#ed7953"
            ],
            [
             0.7777777777777778,
             "#fb9f3a"
            ],
            [
             0.8888888888888888,
             "#fdca26"
            ],
            [
             1,
             "#f0f921"
            ]
           ]
          },
          "colorway": [
           "#636efa",
           "#EF553B",
           "#00cc96",
           "#ab63fa",
           "#FFA15A",
           "#19d3f3",
           "#FF6692",
           "#B6E880",
           "#FF97FF",
           "#FECB52"
          ],
          "font": {
           "color": "#2a3f5f"
          },
          "geo": {
           "bgcolor": "white",
           "lakecolor": "white",
           "landcolor": "#E5ECF6",
           "showlakes": true,
           "showland": true,
           "subunitcolor": "white"
          },
          "hoverlabel": {
           "align": "left"
          },
          "hovermode": "closest",
          "mapbox": {
           "style": "light"
          },
          "paper_bgcolor": "white",
          "plot_bgcolor": "#E5ECF6",
          "polar": {
           "angularaxis": {
            "gridcolor": "white",
            "linecolor": "white",
            "ticks": ""
           },
           "bgcolor": "#E5ECF6",
           "radialaxis": {
            "gridcolor": "white",
            "linecolor": "white",
            "ticks": ""
           }
          },
          "scene": {
           "xaxis": {
            "backgroundcolor": "#E5ECF6",
            "gridcolor": "white",
            "gridwidth": 2,
            "linecolor": "white",
            "showbackground": true,
            "ticks": "",
            "zerolinecolor": "white"
           },
           "yaxis": {
            "backgroundcolor": "#E5ECF6",
            "gridcolor": "white",
            "gridwidth": 2,
            "linecolor": "white",
            "showbackground": true,
            "ticks": "",
            "zerolinecolor": "white"
           },
           "zaxis": {
            "backgroundcolor": "#E5ECF6",
            "gridcolor": "white",
            "gridwidth": 2,
            "linecolor": "white",
            "showbackground": true,
            "ticks": "",
            "zerolinecolor": "white"
           }
          },
          "shapedefaults": {
           "line": {
            "color": "#2a3f5f"
           }
          },
          "ternary": {
           "aaxis": {
            "gridcolor": "white",
            "linecolor": "white",
            "ticks": ""
           },
           "baxis": {
            "gridcolor": "white",
            "linecolor": "white",
            "ticks": ""
           },
           "bgcolor": "#E5ECF6",
           "caxis": {
            "gridcolor": "white",
            "linecolor": "white",
            "ticks": ""
           }
          },
          "title": {
           "x": 0.05
          },
          "xaxis": {
           "automargin": true,
           "gridcolor": "white",
           "linecolor": "white",
           "ticks": "",
           "title": {
            "standoff": 15
           },
           "zerolinecolor": "white",
           "zerolinewidth": 2
          },
          "yaxis": {
           "automargin": true,
           "gridcolor": "white",
           "linecolor": "white",
           "ticks": "",
           "title": {
            "standoff": 15
           },
           "zerolinecolor": "white",
           "zerolinewidth": 2
          }
         }
        }
       }
      },
      "text/html": [
       "<div>                            <div id=\"1d8214c2-b712-465a-8d64-448ed638408b\" class=\"plotly-graph-div\" style=\"height:525px; width:100%;\"></div>            <script type=\"text/javascript\">                require([\"plotly\"], function(Plotly) {                    window.PLOTLYENV=window.PLOTLYENV || {};                                    if (document.getElementById(\"1d8214c2-b712-465a-8d64-448ed638408b\")) {                    Plotly.newPlot(                        \"1d8214c2-b712-465a-8d64-448ed638408b\",                        [{\"colorbar\": {\"title\": {\"text\": \"Ageusia Average per State\"}}, \"colorscale\": [[0.0, \"rgb(255,245,240)\"], [0.125, \"rgb(254,224,210)\"], [0.25, \"rgb(252,187,161)\"], [0.375, \"rgb(252,146,114)\"], [0.5, \"rgb(251,106,74)\"], [0.625, \"rgb(239,59,44)\"], [0.75, \"rgb(203,24,29)\"], [0.875, \"rgb(165,15,21)\"], [1.0, \"rgb(103,0,13)\"]], \"locationmode\": \"USA-states\", \"locations\": [\"AK\", \"MT\", \"ND\", \"SD\", \"VT\", \"WY\"], \"type\": \"choropleth\", \"z\": [1.0, 0.684260731, 0.32670979699999997, 0.881136238, 0.616438356]}, {\"colorbar\": {\"title\": {\"text\": \"Ageusia Average per State\"}}, \"colorscale\": [[0.0, \"rgb(255,245,240)\"], [0.125, \"rgb(254,224,210)\"], [0.25, \"rgb(252,187,161)\"], [0.375, \"rgb(252,146,114)\"], [0.5, \"rgb(251,106,74)\"], [0.625, \"rgb(239,59,44)\"], [0.75, \"rgb(203,24,29)\"], [0.875, \"rgb(165,15,21)\"], [1.0, \"rgb(103,0,13)\"]], \"locationmode\": \"USA-states\", \"locations\": [\"AK\", \"MT\", \"ND\", \"SD\", \"VT\", \"WY\"], \"type\": \"choropleth\", \"z\": [0.282752121, 0.330683625, 0.18484288399999999, 0.19257012899999998, 0.36927744100000004, 0.632420091]}, {\"colorbar\": {\"title\": {\"text\": \"Ageusia Average per State\"}}, \"colorscale\": [[0.0, \"rgb(255,245,240)\"], [0.125, \"rgb(254,224,210)\"], [0.25, \"rgb(252,187,161)\"], [0.375, \"rgb(252,146,114)\"], [0.5, \"rgb(251,106,74)\"], [0.625, \"rgb(239,59,44)\"], [0.75, \"rgb(203,24,29)\"], [0.875, \"rgb(165,15,21)\"], [1.0, \"rgb(103,0,13)\"]], \"locationmode\": \"USA-states\", \"locations\": [\"AK\", \"MT\", \"ND\", \"SD\", \"VT\", \"WY\"], \"type\": \"choropleth\", \"z\": [0.131008483, 0.17170111300000002, 0.015711645, 0.198256255, 0.410645339, 0.34543022881818186]}, {\"colorbar\": {\"title\": {\"text\": \"Ageusia Average per State\"}}, \"colorscale\": [[0.0, \"rgb(255,245,240)\"], [0.125, \"rgb(254,224,210)\"], [0.25, \"rgb(252,187,161)\"], [0.375, \"rgb(252,146,114)\"], [0.5, \"rgb(251,106,74)\"], [0.625, \"rgb(239,59,44)\"], [0.75, \"rgb(203,24,29)\"], [0.875, \"rgb(165,15,21)\"], [1.0, \"rgb(103,0,13)\"]], \"locationmode\": \"USA-states\", \"locations\": [\"AK\", \"MT\", \"ND\", \"SD\", \"VT\", \"WY\"], \"type\": \"choropleth\", \"z\": [0.34543022881818186, 0.21176470600000002, 0.34543022881818186, 0.212661107, 0.0]}, {\"colorbar\": {\"title\": {\"text\": \"Ageusia Average per State\"}}, \"colorscale\": [[0.0, \"rgb(255,245,240)\"], [0.125, \"rgb(254,224,210)\"], [0.25, \"rgb(252,187,161)\"], [0.375, \"rgb(252,146,114)\"], [0.5, \"rgb(251,106,74)\"], [0.625, \"rgb(239,59,44)\"], [0.75, \"rgb(203,24,29)\"], [0.875, \"rgb(165,15,21)\"], [1.0, \"rgb(103,0,13)\"]], \"locationmode\": \"USA-states\", \"locations\": [\"AK\", \"MT\", \"ND\", \"SD\", \"VT\", \"WY\"], \"type\": \"choropleth\", \"z\": [0.34543022881818186, 0.147217806, 0.10258779999999999, 0.147460197, 0.34543022881818186]}, {\"colorbar\": {\"title\": {\"text\": \"Ageusia Average per State\"}}, \"colorscale\": [[0.0, \"rgb(255,245,240)\"], [0.125, \"rgb(254,224,210)\"], [0.25, \"rgb(252,187,161)\"], [0.375, \"rgb(252,146,114)\"], [0.5, \"rgb(251,106,74)\"], [0.625, \"rgb(239,59,44)\"], [0.75, \"rgb(203,24,29)\"], [0.875, \"rgb(165,15,21)\"], [1.0, \"rgb(103,0,13)\"]], \"locationmode\": \"USA-states\", \"locations\": [\"AK\", \"MT\", \"ND\", \"SD\", \"VT\", \"WY\"], \"type\": \"choropleth\", \"z\": [0.0, 0.152305246, 0.053142329, 0.11865049300000001, 0.46347032]}, {\"colorbar\": {\"title\": {\"text\": \"Ageusia Average per State\"}}, \"colorscale\": [[0.0, \"rgb(255,245,240)\"], [0.125, \"rgb(254,224,210)\"], [0.25, \"rgb(252,187,161)\"], [0.375, \"rgb(252,146,114)\"], [0.5, \"rgb(251,106,74)\"], [0.625, \"rgb(239,59,44)\"], [0.75, \"rgb(203,24,29)\"], [0.875, \"rgb(165,15,21)\"], [1.0, \"rgb(103,0,13)\"]], \"locationmode\": \"USA-states\", \"locations\": [\"AK\", \"MT\", \"ND\", \"SD\", \"VT\", \"WY\"], \"type\": \"choropleth\", \"z\": [0.34543022881818186, 0.086486486, 0.083179298, 0.180439727, 0.34543022881818186]}, {\"colorbar\": {\"title\": {\"text\": \"Ageusia Average per State\"}}, \"colorscale\": [[0.0, \"rgb(255,245,240)\"], [0.125, \"rgb(254,224,210)\"], [0.25, \"rgb(252,187,161)\"], [0.375, \"rgb(252,146,114)\"], [0.5, \"rgb(251,106,74)\"], [0.625, \"rgb(239,59,44)\"], [0.75, \"rgb(203,24,29)\"], [0.875, \"rgb(165,15,21)\"], [1.0, \"rgb(103,0,13)\"]], \"locationmode\": \"USA-states\", \"locations\": [\"AK\", \"MT\", \"ND\", \"SD\", \"VT\", \"WY\"], \"type\": \"choropleth\", \"z\": [0.34543022881818186, 0.036565978, 0.053142329, 0.258529189, 0.34543022881818186]}, {\"colorbar\": {\"title\": {\"text\": \"Ageusia Average per State\"}}, \"colorscale\": [[0.0, \"rgb(255,245,240)\"], [0.125, \"rgb(254,224,210)\"], [0.25, \"rgb(252,187,161)\"], [0.375, \"rgb(252,146,114)\"], [0.5, \"rgb(251,106,74)\"], [0.625, \"rgb(239,59,44)\"], [0.75, \"rgb(203,24,29)\"], [0.875, \"rgb(165,15,21)\"], [1.0, \"rgb(103,0,13)\"]], \"locationmode\": \"USA-states\", \"locations\": [\"AK\", \"MT\", \"ND\", \"SD\", \"VT\", \"WY\"], \"type\": \"choropleth\", \"z\": [0.34543022881818186, 0.037519872999999995, 0.154805915, 0.17513267600000001, 0.34543022881818186]}, {\"colorbar\": {\"title\": {\"text\": \"Ageusia Average per State\"}}, \"colorscale\": [[0.0, \"rgb(255,245,240)\"], [0.125, \"rgb(254,224,210)\"], [0.25, \"rgb(252,187,161)\"], [0.375, \"rgb(252,146,114)\"], [0.5, \"rgb(251,106,74)\"], [0.625, \"rgb(239,59,44)\"], [0.75, \"rgb(203,24,29)\"], [0.875, \"rgb(165,15,21)\"], [1.0, \"rgb(103,0,13)\"]], \"locationmode\": \"USA-states\", \"locations\": [\"AK\", \"MT\", \"ND\", \"SD\", \"VT\", \"WY\"], \"type\": \"choropleth\", \"z\": [0.34543022881818186, 0.025119237000000003, 0.034658041, 0.19560272899999998, 0.34543022881818186]}, {\"colorbar\": {\"title\": {\"text\": \"Ageusia Average per State\"}}, \"colorscale\": [[0.0, \"rgb(255,245,240)\"], [0.125, \"rgb(254,224,210)\"], [0.25, \"rgb(252,187,161)\"], [0.375, \"rgb(252,146,114)\"], [0.5, \"rgb(251,106,74)\"], [0.625, \"rgb(239,59,44)\"], [0.75, \"rgb(203,24,29)\"], [0.875, \"rgb(165,15,21)\"], [1.0, \"rgb(103,0,13)\"]], \"locationmode\": \"USA-states\", \"locations\": [\"AK\", \"MT\", \"ND\", \"SD\", \"VT\", \"WY\"], \"type\": \"choropleth\", \"z\": [0.34543022881818186, 0.34543022881818186, 0.020332717, 0.177786202, 0.150684932]}, {\"colorbar\": {\"title\": {\"text\": \"Ageusia Average per State\"}}, \"colorscale\": [[0.0, \"rgb(255,245,240)\"], [0.125, \"rgb(254,224,210)\"], [0.25, \"rgb(252,187,161)\"], [0.375, \"rgb(252,146,114)\"], [0.5, \"rgb(251,106,74)\"], [0.625, \"rgb(239,59,44)\"], [0.75, \"rgb(203,24,29)\"], [0.875, \"rgb(165,15,21)\"], [1.0, \"rgb(103,0,13)\"]], \"locationmode\": \"USA-states\", \"locations\": [\"AK\", \"MT\", \"ND\", \"SD\", \"VT\", \"WY\"], \"type\": \"choropleth\", \"z\": [0.171065183, 0.126617375, 0.152009098, 0.34543022881818186]}, {\"colorbar\": {\"title\": {\"text\": \"Ageusia Average per State\"}}, \"colorscale\": [[0.0, \"rgb(255,245,240)\"], [0.125, \"rgb(254,224,210)\"], [0.25, \"rgb(252,187,161)\"], [0.375, \"rgb(252,146,114)\"], [0.5, \"rgb(251,106,74)\"], [0.625, \"rgb(239,59,44)\"], [0.75, \"rgb(203,24,29)\"], [0.875, \"rgb(165,15,21)\"], [1.0, \"rgb(103,0,13)\"]], \"locationmode\": \"USA-states\", \"locations\": [\"AK\", \"MT\", \"ND\", \"SD\", \"VT\", \"WY\"], \"type\": \"choropleth\", \"z\": [0.10079491300000001, 0.095194085, 0.170204701, 0.34543022881818186]}, {\"colorbar\": {\"title\": {\"text\": \"Ageusia Average per State\"}}, \"colorscale\": [[0.0, \"rgb(255,245,240)\"], [0.125, \"rgb(254,224,210)\"], [0.25, \"rgb(252,187,161)\"], [0.375, \"rgb(252,146,114)\"], [0.5, \"rgb(251,106,74)\"], [0.625, \"rgb(239,59,44)\"], [0.75, \"rgb(203,24,29)\"], [0.875, \"rgb(165,15,21)\"], [1.0, \"rgb(103,0,13)\"]], \"locationmode\": \"USA-states\", \"locations\": [\"AK\", \"MT\", \"ND\", \"SD\", \"VT\", \"WY\"], \"type\": \"choropleth\", \"z\": [0.17201907800000002, 0.34543022881818186, 0.128127369, 0.406392694]}, {\"colorbar\": {\"title\": {\"text\": \"Ageusia Average per State\"}}, \"colorscale\": [[0.0, \"rgb(255,245,240)\"], [0.125, \"rgb(254,224,210)\"], [0.25, \"rgb(252,187,161)\"], [0.375, \"rgb(252,146,114)\"], [0.5, \"rgb(251,106,74)\"], [0.625, \"rgb(239,59,44)\"], [0.75, \"rgb(203,24,29)\"], [0.875, \"rgb(165,15,21)\"], [1.0, \"rgb(103,0,13)\"]], \"locationmode\": \"USA-states\", \"locations\": [\"AK\", \"MT\", \"ND\", \"SD\", \"VT\", \"WY\"], \"type\": \"choropleth\", \"z\": [0.306200318, 0.072088725, 0.171721001, 0.070776256]}, {\"colorbar\": {\"title\": {\"text\": \"Ageusia Average per State\"}}, \"colorscale\": [[0.0, \"rgb(255,245,240)\"], [0.125, \"rgb(254,224,210)\"], [0.25, \"rgb(252,187,161)\"], [0.375, \"rgb(252,146,114)\"], [0.5, \"rgb(251,106,74)\"], [0.625, \"rgb(239,59,44)\"], [0.75, \"rgb(203,24,29)\"], [0.875, \"rgb(165,15,21)\"], [1.0, \"rgb(103,0,13)\"]], \"locationmode\": \"USA-states\", \"locations\": [\"AK\", \"MT\", \"ND\", \"SD\", \"VT\", \"WY\"], \"type\": \"choropleth\", \"z\": [0.35802861700000005, 0.18715342, 0.35140257799999997, 0.216894977]}, {\"colorbar\": {\"title\": {\"text\": \"Ageusia Average per State\"}}, \"colorscale\": [[0.0, \"rgb(255,245,240)\"], [0.125, \"rgb(254,224,210)\"], [0.25, \"rgb(252,187,161)\"], [0.375, \"rgb(252,146,114)\"], [0.5, \"rgb(251,106,74)\"], [0.625, \"rgb(239,59,44)\"], [0.75, \"rgb(203,24,29)\"], [0.875, \"rgb(165,15,21)\"], [1.0, \"rgb(103,0,13)\"]], \"locationmode\": \"USA-states\", \"locations\": [\"AK\", \"MT\", \"ND\", \"SD\", \"VT\", \"WY\"], \"type\": \"choropleth\", \"z\": [0.48775834700000004, 0.17375231100000002, 0.44351781700000004, 0.210045662]}, {\"colorbar\": {\"title\": {\"text\": \"Ageusia Average per State\"}}, \"colorscale\": [[0.0, \"rgb(255,245,240)\"], [0.125, \"rgb(254,224,210)\"], [0.25, \"rgb(252,187,161)\"], [0.375, \"rgb(252,146,114)\"], [0.5, \"rgb(251,106,74)\"], [0.625, \"rgb(239,59,44)\"], [0.75, \"rgb(203,24,29)\"], [0.875, \"rgb(165,15,21)\"], [1.0, \"rgb(103,0,13)\"]], \"locationmode\": \"USA-states\", \"locations\": [\"AK\", \"MT\", \"ND\", \"SD\", \"VT\", \"WY\"], \"type\": \"choropleth\", \"z\": [0.521780604, 0.20933456600000003, 0.40788476100000004, 0.34543022881818186]}, {\"colorbar\": {\"title\": {\"text\": \"Ageusia Average per State\"}}, \"colorscale\": [[0.0, \"rgb(255,245,240)\"], [0.125, \"rgb(254,224,210)\"], [0.25, \"rgb(252,187,161)\"], [0.375, \"rgb(252,146,114)\"], [0.5, \"rgb(251,106,74)\"], [0.625, \"rgb(239,59,44)\"], [0.75, \"rgb(203,24,29)\"], [0.875, \"rgb(165,15,21)\"], [1.0, \"rgb(103,0,13)\"]], \"locationmode\": \"USA-states\", \"locations\": [\"AK\", \"MT\", \"ND\", \"SD\", \"VT\", \"WY\"], \"type\": \"choropleth\", \"z\": [0.392686804, 0.345194085, 0.395754359, 0.095890411]}, {\"colorbar\": {\"title\": {\"text\": \"Ageusia Average per State\"}}, \"colorscale\": [[0.0, \"rgb(255,245,240)\"], [0.125, \"rgb(254,224,210)\"], [0.25, \"rgb(252,187,161)\"], [0.375, \"rgb(252,146,114)\"], [0.5, \"rgb(251,106,74)\"], [0.625, \"rgb(239,59,44)\"], [0.75, \"rgb(203,24,29)\"], [0.875, \"rgb(165,15,21)\"], [1.0, \"rgb(103,0,13)\"]], \"locationmode\": \"USA-states\", \"locations\": [\"AK\", \"MT\", \"ND\", \"SD\", \"VT\", \"WY\"], \"type\": \"choropleth\", \"z\": [0.299205087, 0.279574861, 0.41887793799999995, 0.184931507]}, {\"colorbar\": {\"title\": {\"text\": \"Ageusia Average per State\"}}, \"colorscale\": [[0.0, \"rgb(255,245,240)\"], [0.125, \"rgb(254,224,210)\"], [0.25, \"rgb(252,187,161)\"], [0.375, \"rgb(252,146,114)\"], [0.5, \"rgb(251,106,74)\"], [0.625, \"rgb(239,59,44)\"], [0.75, \"rgb(203,24,29)\"], [0.875, \"rgb(165,15,21)\"], [1.0, \"rgb(103,0,13)\"]], \"locationmode\": \"USA-states\", \"locations\": [\"AK\", \"MT\", \"ND\", \"SD\", \"VT\", \"WY\"], \"type\": \"choropleth\", \"z\": [0.19141494399999998, 0.3012939, 0.368460955, 0.34543022881818186]}, {\"colorbar\": {\"title\": {\"text\": \"Ageusia Average per State\"}}, \"colorscale\": [[0.0, \"rgb(255,245,240)\"], [0.125, \"rgb(254,224,210)\"], [0.25, \"rgb(252,187,161)\"], [0.375, \"rgb(252,146,114)\"], [0.5, \"rgb(251,106,74)\"], [0.625, \"rgb(239,59,44)\"], [0.75, \"rgb(203,24,29)\"], [0.875, \"rgb(165,15,21)\"], [1.0, \"rgb(103,0,13)\"]], \"locationmode\": \"USA-states\", \"locations\": [\"AK\", \"MT\", \"ND\", \"SD\", \"VT\", \"WY\"], \"type\": \"choropleth\", \"z\": [0.256597774, 0.322550832, 0.428733889, 0.404109589]}, {\"colorbar\": {\"title\": {\"text\": \"Ageusia Average per State\"}}, \"colorscale\": [[0.0, \"rgb(255,245,240)\"], [0.125, \"rgb(254,224,210)\"], [0.25, \"rgb(252,187,161)\"], [0.375, \"rgb(252,146,114)\"], [0.5, \"rgb(251,106,74)\"], [0.625, \"rgb(239,59,44)\"], [0.75, \"rgb(203,24,29)\"], [0.875, \"rgb(165,15,21)\"], [1.0, \"rgb(103,0,13)\"]], \"locationmode\": \"USA-states\", \"locations\": [\"AK\", \"MT\", \"ND\", \"SD\", \"VT\", \"WY\"], \"type\": \"choropleth\", \"z\": [0.34054054100000003, 0.450554529, 0.879833207, 0.22374429199999998]}, {\"colorbar\": {\"title\": {\"text\": \"Ageusia Average per State\"}}, \"colorscale\": [[0.0, \"rgb(255,245,240)\"], [0.125, \"rgb(254,224,210)\"], [0.25, \"rgb(252,187,161)\"], [0.375, \"rgb(252,146,114)\"], [0.5, \"rgb(251,106,74)\"], [0.625, \"rgb(239,59,44)\"], [0.75, \"rgb(203,24,29)\"], [0.875, \"rgb(165,15,21)\"], [1.0, \"rgb(103,0,13)\"]], \"locationmode\": \"USA-states\", \"locations\": [\"AK\", \"MT\", \"ND\", \"SD\", \"VT\", \"WY\"], \"type\": \"choropleth\", \"z\": [0.296343402, 0.6936229209999999, 0.761182714, 0.105022831]}, {\"colorbar\": {\"title\": {\"text\": \"Ageusia Average per State\"}}, \"colorscale\": [[0.0, \"rgb(255,245,240)\"], [0.125, \"rgb(254,224,210)\"], [0.25, \"rgb(252,187,161)\"], [0.375, \"rgb(252,146,114)\"], [0.5, \"rgb(251,106,74)\"], [0.625, \"rgb(239,59,44)\"], [0.75, \"rgb(203,24,29)\"], [0.875, \"rgb(165,15,21)\"], [1.0, \"rgb(103,0,13)\"]], \"locationmode\": \"USA-states\", \"locations\": [\"AK\", \"MT\", \"ND\", \"SD\", \"VT\", \"WY\"], \"type\": \"choropleth\", \"z\": [0.330047695, 0.682532348, 0.7194844579999999, 0.210045662]}, {\"colorbar\": {\"title\": {\"text\": \"Ageusia Average per State\"}}, \"colorscale\": [[0.0, \"rgb(255,245,240)\"], [0.125, \"rgb(254,224,210)\"], [0.25, \"rgb(252,187,161)\"], [0.375, \"rgb(252,146,114)\"], [0.5, \"rgb(251,106,74)\"], [0.625, \"rgb(239,59,44)\"], [0.75, \"rgb(203,24,29)\"], [0.875, \"rgb(165,15,21)\"], [1.0, \"rgb(103,0,13)\"]], \"locationmode\": \"USA-states\", \"locations\": [\"AK\", \"MT\", \"ND\", \"SD\", \"VT\", \"WY\"], \"type\": \"choropleth\", \"z\": [0.390143084, 0.712107209, 0.687642153, 0.602739726]}, {\"colorbar\": {\"title\": {\"text\": \"Ageusia Average per State\"}}, \"colorscale\": [[0.0, \"rgb(255,245,240)\"], [0.125, \"rgb(254,224,210)\"], [0.25, \"rgb(252,187,161)\"], [0.375, \"rgb(252,146,114)\"], [0.5, \"rgb(251,106,74)\"], [0.625, \"rgb(239,59,44)\"], [0.75, \"rgb(203,24,29)\"], [0.875, \"rgb(165,15,21)\"], [1.0, \"rgb(103,0,13)\"]], \"locationmode\": \"USA-states\", \"locations\": [\"AK\", \"MT\", \"ND\", \"SD\", \"VT\", \"WY\"], \"type\": \"choropleth\", \"z\": [0.514785374, 0.846118299, 0.857467779, 0.30593607300000003]}, {\"colorbar\": {\"title\": {\"text\": \"Ageusia Average per State\"}}, \"colorscale\": [[0.0, \"rgb(255,245,240)\"], [0.125, \"rgb(254,224,210)\"], [0.25, \"rgb(252,187,161)\"], [0.375, \"rgb(252,146,114)\"], [0.5, \"rgb(251,106,74)\"], [0.625, \"rgb(239,59,44)\"], [0.75, \"rgb(203,24,29)\"], [0.875, \"rgb(165,15,21)\"], [1.0, \"rgb(103,0,13)\"]], \"locationmode\": \"USA-states\", \"locations\": [\"AK\", \"MT\", \"ND\", \"SD\", \"VT\", \"WY\"], \"type\": \"choropleth\", \"z\": [0.841971383, 1.0, 0.885898408, 0.50456621]}, {\"colorbar\": {\"title\": {\"text\": \"Ageusia Average per State\"}}, \"colorscale\": [[0.0, \"rgb(255,245,240)\"], [0.125, \"rgb(254,224,210)\"], [0.25, \"rgb(252,187,161)\"], [0.375, \"rgb(252,146,114)\"], [0.5, \"rgb(251,106,74)\"], [0.625, \"rgb(239,59,44)\"], [0.75, \"rgb(203,24,29)\"], [0.875, \"rgb(165,15,21)\"], [1.0, \"rgb(103,0,13)\"]], \"locationmode\": \"USA-states\", \"locations\": [\"AK\", \"MT\", \"ND\", \"SD\", \"VT\", \"WY\"], \"type\": \"choropleth\", \"z\": [1.0, 0.9750462109999999, 1.0, 1.0]}, {\"colorbar\": {\"title\": {\"text\": \"Ageusia Average per State\"}}, \"colorscale\": [[0.0, \"rgb(255,245,240)\"], [0.125, \"rgb(254,224,210)\"], [0.25, \"rgb(252,187,161)\"], [0.375, \"rgb(252,146,114)\"], [0.5, \"rgb(251,106,74)\"], [0.625, \"rgb(239,59,44)\"], [0.75, \"rgb(203,24,29)\"], [0.875, \"rgb(165,15,21)\"], [1.0, \"rgb(103,0,13)\"]], \"locationmode\": \"USA-states\", \"locations\": [\"AK\", \"MT\", \"ND\", \"SD\", \"VT\", \"WY\"], \"type\": \"choropleth\", \"z\": [0.07624768900000001]}],                        {\"geo\": {\"projection\": {\"type\": \"mercator\"}, \"scope\": \"world\"}, \"sliders\": [{\"active\": 0, \"pad\": {\"t\": 1}, \"steps\": [{\"args\": [\"visible\", [true, false, false, false, false, false, false, false, false, false, false, false, false, false, false, false, false, false, false, false, false, false, false, false, false, false, false, false, false, false]], \"label\": \"Search Day 0\", \"method\": \"restyle\"}, {\"args\": [\"visible\", [false, true, false, false, false, false, false, false, false, false, false, false, false, false, false, false, false, false, false, false, false, false, false, false, false, false, false, false, false, false]], \"label\": \"Search Day 1\", \"method\": \"restyle\"}, {\"args\": [\"visible\", [false, false, true, false, false, false, false, false, false, false, false, false, false, false, false, false, false, false, false, false, false, false, false, false, false, false, false, false, false, false]], \"label\": \"Search Day 2\", \"method\": \"restyle\"}, {\"args\": [\"visible\", [false, false, false, true, false, false, false, false, false, false, false, false, false, false, false, false, false, false, false, false, false, false, false, false, false, false, false, false, false, false]], \"label\": \"Search Day 3\", \"method\": \"restyle\"}, {\"args\": [\"visible\", [false, false, false, false, true, false, false, false, false, false, false, false, false, false, false, false, false, false, false, false, false, false, false, false, false, false, false, false, false, false]], \"label\": \"Search Day 4\", \"method\": \"restyle\"}, {\"args\": [\"visible\", [false, false, false, false, false, true, false, false, false, false, false, false, false, false, false, false, false, false, false, false, false, false, false, false, false, false, false, false, false, false]], \"label\": \"Search Day 5\", \"method\": \"restyle\"}, {\"args\": [\"visible\", [false, false, false, false, false, false, true, false, false, false, false, false, false, false, false, false, false, false, false, false, false, false, false, false, false, false, false, false, false, false]], \"label\": \"Search Day 6\", \"method\": \"restyle\"}, {\"args\": [\"visible\", [false, false, false, false, false, false, false, true, false, false, false, false, false, false, false, false, false, false, false, false, false, false, false, false, false, false, false, false, false, false]], \"label\": \"Search Day 7\", \"method\": \"restyle\"}, {\"args\": [\"visible\", [false, false, false, false, false, false, false, false, true, false, false, false, false, false, false, false, false, false, false, false, false, false, false, false, false, false, false, false, false, false]], \"label\": \"Search Day 8\", \"method\": \"restyle\"}, {\"args\": [\"visible\", [false, false, false, false, false, false, false, false, false, true, false, false, false, false, false, false, false, false, false, false, false, false, false, false, false, false, false, false, false, false]], \"label\": \"Search Day 9\", \"method\": \"restyle\"}, {\"args\": [\"visible\", [false, false, false, false, false, false, false, false, false, false, true, false, false, false, false, false, false, false, false, false, false, false, false, false, false, false, false, false, false, false]], \"label\": \"Search Day 10\", \"method\": \"restyle\"}, {\"args\": [\"visible\", [false, false, false, false, false, false, false, false, false, false, false, true, false, false, false, false, false, false, false, false, false, false, false, false, false, false, false, false, false, false]], \"label\": \"Search Day 11\", \"method\": \"restyle\"}, {\"args\": [\"visible\", [false, false, false, false, false, false, false, false, false, false, false, false, true, false, false, false, false, false, false, false, false, false, false, false, false, false, false, false, false, false]], \"label\": \"Search Day 12\", \"method\": \"restyle\"}, {\"args\": [\"visible\", [false, false, false, false, false, false, false, false, false, false, false, false, false, true, false, false, false, false, false, false, false, false, false, false, false, false, false, false, false, false]], \"label\": \"Search Day 13\", \"method\": \"restyle\"}, {\"args\": [\"visible\", [false, false, false, false, false, false, false, false, false, false, false, false, false, false, true, false, false, false, false, false, false, false, false, false, false, false, false, false, false, false]], \"label\": \"Search Day 14\", \"method\": \"restyle\"}, {\"args\": [\"visible\", [false, false, false, false, false, false, false, false, false, false, false, false, false, false, false, true, false, false, false, false, false, false, false, false, false, false, false, false, false, false]], \"label\": \"Search Day 15\", \"method\": \"restyle\"}, {\"args\": [\"visible\", [false, false, false, false, false, false, false, false, false, false, false, false, false, false, false, false, true, false, false, false, false, false, false, false, false, false, false, false, false, false]], \"label\": \"Search Day 16\", \"method\": \"restyle\"}, {\"args\": [\"visible\", [false, false, false, false, false, false, false, false, false, false, false, false, false, false, false, false, false, true, false, false, false, false, false, false, false, false, false, false, false, false]], \"label\": \"Search Day 17\", \"method\": \"restyle\"}, {\"args\": [\"visible\", [false, false, false, false, false, false, false, false, false, false, false, false, false, false, false, false, false, false, true, false, false, false, false, false, false, false, false, false, false, false]], \"label\": \"Search Day 18\", \"method\": \"restyle\"}, {\"args\": [\"visible\", [false, false, false, false, false, false, false, false, false, false, false, false, false, false, false, false, false, false, false, true, false, false, false, false, false, false, false, false, false, false]], \"label\": \"Search Day 19\", \"method\": \"restyle\"}, {\"args\": [\"visible\", [false, false, false, false, false, false, false, false, false, false, false, false, false, false, false, false, false, false, false, false, true, false, false, false, false, false, false, false, false, false]], \"label\": \"Search Day 20\", \"method\": \"restyle\"}, {\"args\": [\"visible\", [false, false, false, false, false, false, false, false, false, false, false, false, false, false, false, false, false, false, false, false, false, true, false, false, false, false, false, false, false, false]], \"label\": \"Search Day 21\", \"method\": \"restyle\"}, {\"args\": [\"visible\", [false, false, false, false, false, false, false, false, false, false, false, false, false, false, false, false, false, false, false, false, false, false, true, false, false, false, false, false, false, false]], \"label\": \"Search Day 22\", \"method\": \"restyle\"}, {\"args\": [\"visible\", [false, false, false, false, false, false, false, false, false, false, false, false, false, false, false, false, false, false, false, false, false, false, false, true, false, false, false, false, false, false]], \"label\": \"Search Day 23\", \"method\": \"restyle\"}, {\"args\": [\"visible\", [false, false, false, false, false, false, false, false, false, false, false, false, false, false, false, false, false, false, false, false, false, false, false, false, true, false, false, false, false, false]], \"label\": \"Search Day 24\", \"method\": \"restyle\"}, {\"args\": [\"visible\", [false, false, false, false, false, false, false, false, false, false, false, false, false, false, false, false, false, false, false, false, false, false, false, false, false, true, false, false, false, false]], \"label\": \"Search Day 25\", \"method\": \"restyle\"}, {\"args\": [\"visible\", [false, false, false, false, false, false, false, false, false, false, false, false, false, false, false, false, false, false, false, false, false, false, false, false, false, false, true, false, false, false]], \"label\": \"Search Day 26\", \"method\": \"restyle\"}, {\"args\": [\"visible\", [false, false, false, false, false, false, false, false, false, false, false, false, false, false, false, false, false, false, false, false, false, false, false, false, false, false, false, true, false, false]], \"label\": \"Search Day 27\", \"method\": \"restyle\"}, {\"args\": [\"visible\", [false, false, false, false, false, false, false, false, false, false, false, false, false, false, false, false, false, false, false, false, false, false, false, false, false, false, false, false, true, false]], \"label\": \"Search Day 28\", \"method\": \"restyle\"}, {\"args\": [\"visible\", [false, false, false, false, false, false, false, false, false, false, false, false, false, false, false, false, false, false, false, false, false, false, false, false, false, false, false, false, false, true]], \"label\": \"Search Day 29\", \"method\": \"restyle\"}]}], \"template\": {\"data\": {\"bar\": [{\"error_x\": {\"color\": \"#2a3f5f\"}, \"error_y\": {\"color\": \"#2a3f5f\"}, \"marker\": {\"line\": {\"color\": \"#E5ECF6\", \"width\": 0.5}}, \"type\": \"bar\"}], \"barpolar\": [{\"marker\": {\"line\": {\"color\": \"#E5ECF6\", \"width\": 0.5}}, \"type\": \"barpolar\"}], \"carpet\": [{\"aaxis\": {\"endlinecolor\": \"#2a3f5f\", \"gridcolor\": \"white\", \"linecolor\": \"white\", \"minorgridcolor\": \"white\", \"startlinecolor\": \"#2a3f5f\"}, \"baxis\": {\"endlinecolor\": \"#2a3f5f\", \"gridcolor\": \"white\", \"linecolor\": \"white\", \"minorgridcolor\": \"white\", \"startlinecolor\": \"#2a3f5f\"}, \"type\": \"carpet\"}], \"choropleth\": [{\"colorbar\": {\"outlinewidth\": 0, \"ticks\": \"\"}, \"type\": \"choropleth\"}], \"contour\": [{\"colorbar\": {\"outlinewidth\": 0, \"ticks\": \"\"}, \"colorscale\": [[0.0, \"#0d0887\"], [0.1111111111111111, \"#46039f\"], [0.2222222222222222, \"#7201a8\"], [0.3333333333333333, \"#9c179e\"], [0.4444444444444444, \"#bd3786\"], [0.5555555555555556, \"#d8576b\"], [0.6666666666666666, \"#ed7953\"], [0.7777777777777778, \"#fb9f3a\"], [0.8888888888888888, \"#fdca26\"], [1.0, \"#f0f921\"]], \"type\": \"contour\"}], \"contourcarpet\": [{\"colorbar\": {\"outlinewidth\": 0, \"ticks\": \"\"}, \"type\": \"contourcarpet\"}], \"heatmap\": [{\"colorbar\": {\"outlinewidth\": 0, \"ticks\": \"\"}, \"colorscale\": [[0.0, \"#0d0887\"], [0.1111111111111111, \"#46039f\"], [0.2222222222222222, \"#7201a8\"], [0.3333333333333333, \"#9c179e\"], [0.4444444444444444, \"#bd3786\"], [0.5555555555555556, \"#d8576b\"], [0.6666666666666666, \"#ed7953\"], [0.7777777777777778, \"#fb9f3a\"], [0.8888888888888888, \"#fdca26\"], [1.0, \"#f0f921\"]], \"type\": \"heatmap\"}], \"heatmapgl\": [{\"colorbar\": {\"outlinewidth\": 0, \"ticks\": \"\"}, \"colorscale\": [[0.0, \"#0d0887\"], [0.1111111111111111, \"#46039f\"], [0.2222222222222222, \"#7201a8\"], [0.3333333333333333, \"#9c179e\"], [0.4444444444444444, \"#bd3786\"], [0.5555555555555556, \"#d8576b\"], [0.6666666666666666, \"#ed7953\"], [0.7777777777777778, \"#fb9f3a\"], [0.8888888888888888, \"#fdca26\"], [1.0, \"#f0f921\"]], \"type\": \"heatmapgl\"}], \"histogram\": [{\"marker\": {\"colorbar\": {\"outlinewidth\": 0, \"ticks\": \"\"}}, \"type\": \"histogram\"}], \"histogram2d\": [{\"colorbar\": {\"outlinewidth\": 0, \"ticks\": \"\"}, \"colorscale\": [[0.0, \"#0d0887\"], [0.1111111111111111, \"#46039f\"], [0.2222222222222222, \"#7201a8\"], [0.3333333333333333, \"#9c179e\"], [0.4444444444444444, \"#bd3786\"], [0.5555555555555556, \"#d8576b\"], [0.6666666666666666, \"#ed7953\"], [0.7777777777777778, \"#fb9f3a\"], [0.8888888888888888, \"#fdca26\"], [1.0, \"#f0f921\"]], \"type\": \"histogram2d\"}], \"histogram2dcontour\": [{\"colorbar\": {\"outlinewidth\": 0, \"ticks\": \"\"}, \"colorscale\": [[0.0, \"#0d0887\"], [0.1111111111111111, \"#46039f\"], [0.2222222222222222, \"#7201a8\"], [0.3333333333333333, \"#9c179e\"], [0.4444444444444444, \"#bd3786\"], [0.5555555555555556, \"#d8576b\"], [0.6666666666666666, \"#ed7953\"], [0.7777777777777778, \"#fb9f3a\"], [0.8888888888888888, \"#fdca26\"], [1.0, \"#f0f921\"]], \"type\": \"histogram2dcontour\"}], \"mesh3d\": [{\"colorbar\": {\"outlinewidth\": 0, \"ticks\": \"\"}, \"type\": \"mesh3d\"}], \"parcoords\": [{\"line\": {\"colorbar\": {\"outlinewidth\": 0, \"ticks\": \"\"}}, \"type\": \"parcoords\"}], \"pie\": [{\"automargin\": true, \"type\": \"pie\"}], \"scatter\": [{\"marker\": {\"colorbar\": {\"outlinewidth\": 0, \"ticks\": \"\"}}, \"type\": \"scatter\"}], \"scatter3d\": [{\"line\": {\"colorbar\": {\"outlinewidth\": 0, \"ticks\": \"\"}}, \"marker\": {\"colorbar\": {\"outlinewidth\": 0, \"ticks\": \"\"}}, \"type\": \"scatter3d\"}], \"scattercarpet\": [{\"marker\": {\"colorbar\": {\"outlinewidth\": 0, \"ticks\": \"\"}}, \"type\": \"scattercarpet\"}], \"scattergeo\": [{\"marker\": {\"colorbar\": {\"outlinewidth\": 0, \"ticks\": \"\"}}, \"type\": \"scattergeo\"}], \"scattergl\": [{\"marker\": {\"colorbar\": {\"outlinewidth\": 0, \"ticks\": \"\"}}, \"type\": \"scattergl\"}], \"scattermapbox\": [{\"marker\": {\"colorbar\": {\"outlinewidth\": 0, \"ticks\": \"\"}}, \"type\": \"scattermapbox\"}], \"scatterpolar\": [{\"marker\": {\"colorbar\": {\"outlinewidth\": 0, \"ticks\": \"\"}}, \"type\": \"scatterpolar\"}], \"scatterpolargl\": [{\"marker\": {\"colorbar\": {\"outlinewidth\": 0, \"ticks\": \"\"}}, \"type\": \"scatterpolargl\"}], \"scatterternary\": [{\"marker\": {\"colorbar\": {\"outlinewidth\": 0, \"ticks\": \"\"}}, \"type\": \"scatterternary\"}], \"surface\": [{\"colorbar\": {\"outlinewidth\": 0, \"ticks\": \"\"}, \"colorscale\": [[0.0, \"#0d0887\"], [0.1111111111111111, \"#46039f\"], [0.2222222222222222, \"#7201a8\"], [0.3333333333333333, \"#9c179e\"], [0.4444444444444444, \"#bd3786\"], [0.5555555555555556, \"#d8576b\"], [0.6666666666666666, \"#ed7953\"], [0.7777777777777778, \"#fb9f3a\"], [0.8888888888888888, \"#fdca26\"], [1.0, \"#f0f921\"]], \"type\": \"surface\"}], \"table\": [{\"cells\": {\"fill\": {\"color\": \"#EBF0F8\"}, \"line\": {\"color\": \"white\"}}, \"header\": {\"fill\": {\"color\": \"#C8D4E3\"}, \"line\": {\"color\": \"white\"}}, \"type\": \"table\"}]}, \"layout\": {\"annotationdefaults\": {\"arrowcolor\": \"#2a3f5f\", \"arrowhead\": 0, \"arrowwidth\": 1}, \"coloraxis\": {\"colorbar\": {\"outlinewidth\": 0, \"ticks\": \"\"}}, \"colorscale\": {\"diverging\": [[0, \"#8e0152\"], [0.1, \"#c51b7d\"], [0.2, \"#de77ae\"], [0.3, \"#f1b6da\"], [0.4, \"#fde0ef\"], [0.5, \"#f7f7f7\"], [0.6, \"#e6f5d0\"], [0.7, \"#b8e186\"], [0.8, \"#7fbc41\"], [0.9, \"#4d9221\"], [1, \"#276419\"]], \"sequential\": [[0.0, \"#0d0887\"], [0.1111111111111111, \"#46039f\"], [0.2222222222222222, \"#7201a8\"], [0.3333333333333333, \"#9c179e\"], [0.4444444444444444, \"#bd3786\"], [0.5555555555555556, \"#d8576b\"], [0.6666666666666666, \"#ed7953\"], [0.7777777777777778, \"#fb9f3a\"], [0.8888888888888888, \"#fdca26\"], [1.0, \"#f0f921\"]], \"sequentialminus\": [[0.0, \"#0d0887\"], [0.1111111111111111, \"#46039f\"], [0.2222222222222222, \"#7201a8\"], [0.3333333333333333, \"#9c179e\"], [0.4444444444444444, \"#bd3786\"], [0.5555555555555556, \"#d8576b\"], [0.6666666666666666, \"#ed7953\"], [0.7777777777777778, \"#fb9f3a\"], [0.8888888888888888, \"#fdca26\"], [1.0, \"#f0f921\"]]}, \"colorway\": [\"#636efa\", \"#EF553B\", \"#00cc96\", \"#ab63fa\", \"#FFA15A\", \"#19d3f3\", \"#FF6692\", \"#B6E880\", \"#FF97FF\", \"#FECB52\"], \"font\": {\"color\": \"#2a3f5f\"}, \"geo\": {\"bgcolor\": \"white\", \"lakecolor\": \"white\", \"landcolor\": \"#E5ECF6\", \"showlakes\": true, \"showland\": true, \"subunitcolor\": \"white\"}, \"hoverlabel\": {\"align\": \"left\"}, \"hovermode\": \"closest\", \"mapbox\": {\"style\": \"light\"}, \"paper_bgcolor\": \"white\", \"plot_bgcolor\": \"#E5ECF6\", \"polar\": {\"angularaxis\": {\"gridcolor\": \"white\", \"linecolor\": \"white\", \"ticks\": \"\"}, \"bgcolor\": \"#E5ECF6\", \"radialaxis\": {\"gridcolor\": \"white\", \"linecolor\": \"white\", \"ticks\": \"\"}}, \"scene\": {\"xaxis\": {\"backgroundcolor\": \"#E5ECF6\", \"gridcolor\": \"white\", \"gridwidth\": 2, \"linecolor\": \"white\", \"showbackground\": true, \"ticks\": \"\", \"zerolinecolor\": \"white\"}, \"yaxis\": {\"backgroundcolor\": \"#E5ECF6\", \"gridcolor\": \"white\", \"gridwidth\": 2, \"linecolor\": \"white\", \"showbackground\": true, \"ticks\": \"\", \"zerolinecolor\": \"white\"}, \"zaxis\": {\"backgroundcolor\": \"#E5ECF6\", \"gridcolor\": \"white\", \"gridwidth\": 2, \"linecolor\": \"white\", \"showbackground\": true, \"ticks\": \"\", \"zerolinecolor\": \"white\"}}, \"shapedefaults\": {\"line\": {\"color\": \"#2a3f5f\"}}, \"ternary\": {\"aaxis\": {\"gridcolor\": \"white\", \"linecolor\": \"white\", \"ticks\": \"\"}, \"baxis\": {\"gridcolor\": \"white\", \"linecolor\": \"white\", \"ticks\": \"\"}, \"bgcolor\": \"#E5ECF6\", \"caxis\": {\"gridcolor\": \"white\", \"linecolor\": \"white\", \"ticks\": \"\"}}, \"title\": {\"x\": 0.05}, \"xaxis\": {\"automargin\": true, \"gridcolor\": \"white\", \"linecolor\": \"white\", \"ticks\": \"\", \"title\": {\"standoff\": 15}, \"zerolinecolor\": \"white\", \"zerolinewidth\": 2}, \"yaxis\": {\"automargin\": true, \"gridcolor\": \"white\", \"linecolor\": \"white\", \"ticks\": \"\", \"title\": {\"standoff\": 15}, \"zerolinecolor\": \"white\", \"zerolinewidth\": 2}}}},                        {\"responsive\": true}                    ).then(function(){\n",
       "                            \n",
       "var gd = document.getElementById('1d8214c2-b712-465a-8d64-448ed638408b');\n",
       "var x = new MutationObserver(function (mutations, observer) {{\n",
       "        var display = window.getComputedStyle(gd).display;\n",
       "        if (!display || display === 'none') {{\n",
       "            console.log([gd, 'removed!']);\n",
       "            Plotly.purge(gd);\n",
       "            observer.disconnect();\n",
       "        }}\n",
       "}});\n",
       "\n",
       "// Listen for the removal of the full notebook cells\n",
       "var notebookContainer = gd.closest('#notebook-container');\n",
       "if (notebookContainer) {{\n",
       "    x.observe(notebookContainer, {childList: true});\n",
       "}}\n",
       "\n",
       "// Listen for the clearing of the current output cell\n",
       "var outputEl = gd.closest('.output');\n",
       "if (outputEl) {{\n",
       "    x.observe(outputEl, {childList: true});\n",
       "}}\n",
       "\n",
       "                        })                };                });            </script>        </div>"
      ]
     },
     "metadata": {},
     "output_type": "display_data"
    }
   ],
   "source": [
    "import plotly\n",
    "import plotly.graph_objs as go\n",
    "import plotly.offline as offline\n",
    "from plotly.graph_objs import *\n",
    "from plotly.offline import download_plotlyjs, init_notebook_mode, plot, iplot\n",
    "\n",
    "df_date = df_pca\n",
    "\n",
    "data_slider = []\n",
    "\n",
    "for days in df_date['date2'].unique():\n",
    "\n",
    "    # I select the day\n",
    "    df_days = df_date[df_date['date2'] == days]\n",
    "\n",
    "    for col in df_days.columns:  # I transform the columns into string type so I can:\n",
    "        df_days[col] = df_days[col].astype(str)\n",
    "\n",
    "    ### create the dictionary with the data for the current year\n",
    "    data_one_day = dict(\n",
    "                        type='choropleth',\n",
    "                        locations=[\"AK\",\"MT\",\"ND\",\"SD\",\"VT\", \"WY\"], # Spatial coordinates\n",
    "                        z = df_days['Ageusia'].astype(float), # Data to be color-coded\n",
    "                        locationmode = 'USA-states', # set of locations match entries in `locations`\n",
    "                        colorscale = 'Reds',\n",
    "                        colorbar_title = \"Ageusia Average per State\"\n",
    "                        )\n",
    " \n",
    "    data_slider.append(data_one_day)\n",
    "    \n",
    "\n",
    "##  I create the steps for the slider\n",
    "steps = []\n",
    "\n",
    "for i in range(len(data_slider)):\n",
    "    step = dict(method='restyle',\n",
    "                args=['visible', [False] * len(data_slider)],\n",
    "                label='Search Day {}'.format(i)) # label to be displayed for each step (day)\n",
    "    step['args'][1][i] = True\n",
    "    steps.append(step)\n",
    "\n",
    "##  I create the 'sliders' object from the 'steps' \n",
    "sliders = [dict(active=0, pad={\"t\": 1}, steps=steps)] \n",
    "\n",
    "\n",
    "# I set up the layout (including slider option)\n",
    "layout = dict(geo=dict(scope='world',\n",
    "                       projection={'type': 'mercator'}),\n",
    "              sliders=sliders)\n",
    "       \n",
    "\n",
    "\n",
    "# I create the figure object:\n",
    "fig = dict(data=data_slider, layout=layout) \n",
    "\n",
    "\n",
    "# to plot in the notebook\n",
    "plotly.offline.iplot(fig)\n"
   ]
  },
  {
   "cell_type": "code",
   "execution_count": 86,
   "metadata": {},
   "outputs": [
    {
     "name": "stderr",
     "output_type": "stream",
     "text": [
      "C:\\Users\\Javier\\Anaconda3\\lib\\site-packages\\ipykernel_launcher.py:11: SettingWithCopyWarning:\n",
      "\n",
      "\n",
      "A value is trying to be set on a copy of a slice from a DataFrame.\n",
      "Try using .loc[row_indexer,col_indexer] = value instead\n",
      "\n",
      "See the caveats in the documentation: https://pandas.pydata.org/pandas-docs/stable/user_guide/indexing.html#returning-a-view-versus-a-copy\n",
      "\n"
     ]
    },
    {
     "data": {
      "application/vnd.plotly.v1+json": {
       "config": {
        "linkText": "Export to plot.ly",
        "plotlyServerURL": "https://plot.ly",
        "showLink": false
       },
       "data": [
        {
         "colorbar": {
          "title": {
           "text": "Dysgeusia Average per State"
          }
         },
         "colorscale": [
          [
           0,
           "rgb(255,245,240)"
          ],
          [
           0.125,
           "rgb(254,224,210)"
          ],
          [
           0.25,
           "rgb(252,187,161)"
          ],
          [
           0.375,
           "rgb(252,146,114)"
          ],
          [
           0.5,
           "rgb(251,106,74)"
          ],
          [
           0.625,
           "rgb(239,59,44)"
          ],
          [
           0.75,
           "rgb(203,24,29)"
          ],
          [
           0.875,
           "rgb(165,15,21)"
          ],
          [
           1,
           "rgb(103,0,13)"
          ]
         ],
         "locationmode": "USA-states",
         "locations": [
          "AK",
          "MT",
          "ND",
          "SD",
          "VT",
          "WY"
         ],
         "type": "choropleth",
         "z": [
          1,
          0.8090169070000001,
          0.57469015,
          0.37200776399999996,
          0.92
         ]
        },
        {
         "colorbar": {
          "title": {
           "text": "Dysgeusia Average per State"
          }
         },
         "colorscale": [
          [
           0,
           "rgb(255,245,240)"
          ],
          [
           0.125,
           "rgb(254,224,210)"
          ],
          [
           0.25,
           "rgb(252,187,161)"
          ],
          [
           0.375,
           "rgb(252,146,114)"
          ],
          [
           0.5,
           "rgb(251,106,74)"
          ],
          [
           0.625,
           "rgb(239,59,44)"
          ],
          [
           0.75,
           "rgb(203,24,29)"
          ],
          [
           0.875,
           "rgb(165,15,21)"
          ],
          [
           1,
           "rgb(103,0,13)"
          ]
         ],
         "locationmode": "USA-states",
         "locations": [
          "AK",
          "MT",
          "ND",
          "SD",
          "VT",
          "WY"
         ],
         "type": "choropleth",
         "z": [
          0.7705943690000001,
          0.5648090170000001,
          0.415525114,
          0.408494691,
          0.235065775,
          0.72
         ]
        },
        {
         "colorbar": {
          "title": {
           "text": "Dysgeusia Average per State"
          }
         },
         "colorscale": [
          [
           0,
           "rgb(255,245,240)"
          ],
          [
           0.125,
           "rgb(254,224,210)"
          ],
          [
           0.25,
           "rgb(252,187,161)"
          ],
          [
           0.375,
           "rgb(252,146,114)"
          ],
          [
           0.5,
           "rgb(251,106,74)"
          ],
          [
           0.625,
           "rgb(239,59,44)"
          ],
          [
           0.75,
           "rgb(203,24,29)"
          ],
          [
           0.875,
           "rgb(165,15,21)"
          ],
          [
           1,
           "rgb(103,0,13)"
          ]
         ],
         "locationmode": "USA-states",
         "locations": [
          "AK",
          "MT",
          "ND",
          "SD",
          "VT",
          "WY"
         ],
         "type": "choropleth",
         "z": [
          0.519290928,
          0.564182843,
          0.2987606,
          0.307932542,
          0.468406297,
          0.48
         ]
        },
        {
         "colorbar": {
          "title": {
           "text": "Dysgeusia Average per State"
          }
         },
         "colorscale": [
          [
           0,
           "rgb(255,245,240)"
          ],
          [
           0.125,
           "rgb(254,224,210)"
          ],
          [
           0.25,
           "rgb(252,187,161)"
          ],
          [
           0.375,
           "rgb(252,146,114)"
          ],
          [
           0.5,
           "rgb(251,106,74)"
          ],
          [
           0.625,
           "rgb(239,59,44)"
          ],
          [
           0.75,
           "rgb(203,24,29)"
          ],
          [
           0.875,
           "rgb(165,15,21)"
          ],
          [
           1,
           "rgb(103,0,13)"
          ]
         ],
         "locationmode": "USA-states",
         "locations": [
          "AK",
          "MT",
          "ND",
          "SD",
          "VT",
          "WY"
         ],
         "type": "choropleth",
         "z": [
          0.145985401,
          0.33750782700000004,
          0.42791911299999996,
          0.574640849,
          0.4
         ]
        },
        {
         "colorbar": {
          "title": {
           "text": "Dysgeusia Average per State"
          }
         },
         "colorscale": [
          [
           0,
           "rgb(255,245,240)"
          ],
          [
           0.125,
           "rgb(254,224,210)"
          ],
          [
           0.25,
           "rgb(252,187,161)"
          ],
          [
           0.375,
           "rgb(252,146,114)"
          ],
          [
           0.5,
           "rgb(251,106,74)"
          ],
          [
           0.625,
           "rgb(239,59,44)"
          ],
          [
           0.75,
           "rgb(203,24,29)"
          ],
          [
           0.875,
           "rgb(165,15,21)"
          ],
          [
           1,
           "rgb(103,0,13)"
          ]
         ],
         "locationmode": "USA-states",
         "locations": [
          "AK",
          "MT",
          "ND",
          "SD",
          "VT",
          "WY"
         ],
         "type": "choropleth",
         "z": [
          0.013555787,
          0.37883531600000003,
          0.352902805,
          0.419737664,
          0.35666666700000005
         ]
        },
        {
         "colorbar": {
          "title": {
           "text": "Dysgeusia Average per State"
          }
         },
         "colorscale": [
          [
           0,
           "rgb(255,245,240)"
          ],
          [
           0.125,
           "rgb(254,224,210)"
          ],
          [
           0.25,
           "rgb(252,187,161)"
          ],
          [
           0.375,
           "rgb(252,146,114)"
          ],
          [
           0.5,
           "rgb(251,106,74)"
          ],
          [
           0.625,
           "rgb(239,59,44)"
          ],
          [
           0.75,
           "rgb(203,24,29)"
          ],
          [
           0.875,
           "rgb(165,15,21)"
          ],
          [
           1,
           "rgb(103,0,13)"
          ]
         ],
         "locationmode": "USA-states",
         "locations": [
          "AK",
          "MT",
          "ND",
          "SD",
          "VT",
          "WY"
         ],
         "type": "choropleth",
         "z": [
          0.20229405600000003,
          0.22479649300000001,
          0,
          0.207995003,
          0.043333332999999995
         ]
        },
        {
         "colorbar": {
          "title": {
           "text": "Dysgeusia Average per State"
          }
         },
         "colorscale": [
          [
           0,
           "rgb(255,245,240)"
          ],
          [
           0.125,
           "rgb(254,224,210)"
          ],
          [
           0.25,
           "rgb(252,187,161)"
          ],
          [
           0.375,
           "rgb(252,146,114)"
          ],
          [
           0.5,
           "rgb(251,106,74)"
          ],
          [
           0.625,
           "rgb(239,59,44)"
          ],
          [
           0.75,
           "rgb(203,24,29)"
          ],
          [
           0.875,
           "rgb(165,15,21)"
          ],
          [
           1,
           "rgb(103,0,13)"
          ]
         ],
         "locationmode": "USA-states",
         "locations": [
          "AK",
          "MT",
          "ND",
          "SD",
          "VT",
          "WY"
         ],
         "type": "choropleth",
         "z": [
          0.022940562999999997,
          0.127739512,
          0.278538813,
          0.39412867,
          0.093333333
         ]
        },
        {
         "colorbar": {
          "title": {
           "text": "Dysgeusia Average per State"
          }
         },
         "colorscale": [
          [
           0,
           "rgb(255,245,240)"
          ],
          [
           0.125,
           "rgb(254,224,210)"
          ],
          [
           0.25,
           "rgb(252,187,161)"
          ],
          [
           0.375,
           "rgb(252,146,114)"
          ],
          [
           0.5,
           "rgb(251,106,74)"
          ],
          [
           0.625,
           "rgb(239,59,44)"
          ],
          [
           0.75,
           "rgb(203,24,29)"
          ],
          [
           0.875,
           "rgb(165,15,21)"
          ],
          [
           1,
           "rgb(103,0,13)"
          ]
         ],
         "locationmode": "USA-states",
         "locations": [
          "AK",
          "MT",
          "ND",
          "SD",
          "VT",
          "WY"
         ],
         "type": "choropleth",
         "z": [
          0,
          0.237946149,
          0.278538813,
          0.291068082,
          0.40333333299999996
         ]
        },
        {
         "colorbar": {
          "title": {
           "text": "Dysgeusia Average per State"
          }
         },
         "colorscale": [
          [
           0,
           "rgb(255,245,240)"
          ],
          [
           0.125,
           "rgb(254,224,210)"
          ],
          [
           0.25,
           "rgb(252,187,161)"
          ],
          [
           0.375,
           "rgb(252,146,114)"
          ],
          [
           0.5,
           "rgb(251,106,74)"
          ],
          [
           0.625,
           "rgb(239,59,44)"
          ],
          [
           0.75,
           "rgb(203,24,29)"
          ],
          [
           0.875,
           "rgb(165,15,21)"
          ],
          [
           1,
           "rgb(103,0,13)"
          ]
         ],
         "locationmode": "USA-states",
         "locations": [
          "AK",
          "MT",
          "ND",
          "SD",
          "VT",
          "WY"
         ],
         "type": "choropleth",
         "z": [
          0.43661986157480326,
          0.09830933,
          0.42074364,
          0.14990630900000002,
          0.76
         ]
        },
        {
         "colorbar": {
          "title": {
           "text": "Dysgeusia Average per State"
          }
         },
         "colorscale": [
          [
           0,
           "rgb(255,245,240)"
          ],
          [
           0.125,
           "rgb(254,224,210)"
          ],
          [
           0.25,
           "rgb(252,187,161)"
          ],
          [
           0.375,
           "rgb(252,146,114)"
          ],
          [
           0.5,
           "rgb(251,106,74)"
          ],
          [
           0.625,
           "rgb(239,59,44)"
          ],
          [
           0.75,
           "rgb(203,24,29)"
          ],
          [
           0.875,
           "rgb(165,15,21)"
          ],
          [
           1,
           "rgb(103,0,13)"
          ]
         ],
         "locationmode": "USA-states",
         "locations": [
          "AK",
          "MT",
          "ND",
          "SD",
          "VT",
          "WY"
         ],
         "type": "choropleth",
         "z": [
          0.43661986157480326,
          0.19035691899999999,
          0.284409654,
          0.238600874,
          0.06
         ]
        },
        {
         "colorbar": {
          "title": {
           "text": "Dysgeusia Average per State"
          }
         },
         "colorscale": [
          [
           0,
           "rgb(255,245,240)"
          ],
          [
           0.125,
           "rgb(254,224,210)"
          ],
          [
           0.25,
           "rgb(252,187,161)"
          ],
          [
           0.375,
           "rgb(252,146,114)"
          ],
          [
           0.5,
           "rgb(251,106,74)"
          ],
          [
           0.625,
           "rgb(239,59,44)"
          ],
          [
           0.75,
           "rgb(203,24,29)"
          ],
          [
           0.875,
           "rgb(165,15,21)"
          ],
          [
           1,
           "rgb(103,0,13)"
          ]
         ],
         "locationmode": "USA-states",
         "locations": [
          "AK",
          "MT",
          "ND",
          "SD",
          "VT",
          "WY"
         ],
         "type": "choropleth",
         "z": [
          0.225234619,
          0,
          0.327462492,
          0.201748907,
          0.323333333
         ]
        },
        {
         "colorbar": {
          "title": {
           "text": "Dysgeusia Average per State"
          }
         },
         "colorscale": [
          [
           0,
           "rgb(255,245,240)"
          ],
          [
           0.125,
           "rgb(254,224,210)"
          ],
          [
           0.25,
           "rgb(252,187,161)"
          ],
          [
           0.375,
           "rgb(252,146,114)"
          ],
          [
           0.5,
           "rgb(251,106,74)"
          ],
          [
           0.625,
           "rgb(239,59,44)"
          ],
          [
           0.75,
           "rgb(203,24,29)"
          ],
          [
           0.875,
           "rgb(165,15,21)"
          ],
          [
           1,
           "rgb(103,0,13)"
          ]
         ],
         "locationmode": "USA-states",
         "locations": [
          "AK",
          "MT",
          "ND",
          "SD",
          "VT",
          "WY"
         ],
         "type": "choropleth",
         "z": [
          0.257357545,
          0.607305936,
          0.221736415,
          0.6033333329999999
         ]
        },
        {
         "colorbar": {
          "title": {
           "text": "Dysgeusia Average per State"
          }
         },
         "colorscale": [
          [
           0,
           "rgb(255,245,240)"
          ],
          [
           0.125,
           "rgb(254,224,210)"
          ],
          [
           0.25,
           "rgb(252,187,161)"
          ],
          [
           0.375,
           "rgb(252,146,114)"
          ],
          [
           0.5,
           "rgb(251,106,74)"
          ],
          [
           0.625,
           "rgb(239,59,44)"
          ],
          [
           0.75,
           "rgb(203,24,29)"
          ],
          [
           0.875,
           "rgb(165,15,21)"
          ],
          [
           1,
           "rgb(103,0,13)"
          ]
         ],
         "locationmode": "USA-states",
         "locations": [
          "AK",
          "MT",
          "ND",
          "SD",
          "VT",
          "WY"
         ],
         "type": "choropleth",
         "z": [
          0.283656857,
          0.30658838899999996,
          0.470955653,
          0
         ]
        },
        {
         "colorbar": {
          "title": {
           "text": "Dysgeusia Average per State"
          }
         },
         "colorscale": [
          [
           0,
           "rgb(255,245,240)"
          ],
          [
           0.125,
           "rgb(254,224,210)"
          ],
          [
           0.25,
           "rgb(252,187,161)"
          ],
          [
           0.375,
           "rgb(252,146,114)"
          ],
          [
           0.5,
           "rgb(251,106,74)"
          ],
          [
           0.625,
           "rgb(239,59,44)"
          ],
          [
           0.75,
           "rgb(203,24,29)"
          ],
          [
           0.875,
           "rgb(165,15,21)"
          ],
          [
           1,
           "rgb(103,0,13)"
          ]
         ],
         "locationmode": "USA-states",
         "locations": [
          "AK",
          "MT",
          "ND",
          "SD",
          "VT",
          "WY"
         ],
         "type": "choropleth",
         "z": [
          0.46336881700000004,
          0.31702544,
          0.347282948,
          0.56
         ]
        },
        {
         "colorbar": {
          "title": {
           "text": "Dysgeusia Average per State"
          }
         },
         "colorscale": [
          [
           0,
           "rgb(255,245,240)"
          ],
          [
           0.125,
           "rgb(254,224,210)"
          ],
          [
           0.25,
           "rgb(252,187,161)"
          ],
          [
           0.375,
           "rgb(252,146,114)"
          ],
          [
           0.5,
           "rgb(251,106,74)"
          ],
          [
           0.625,
           "rgb(239,59,44)"
          ],
          [
           0.75,
           "rgb(203,24,29)"
          ],
          [
           0.875,
           "rgb(165,15,21)"
          ],
          [
           1,
           "rgb(103,0,13)"
          ]
         ],
         "locationmode": "USA-states",
         "locations": [
          "AK",
          "MT",
          "ND",
          "SD",
          "VT",
          "WY"
         ],
         "type": "choropleth",
         "z": [
          0.313087038,
          0.298108284,
          0.30480949399999996,
          0.47
         ]
        },
        {
         "colorbar": {
          "title": {
           "text": "Dysgeusia Average per State"
          }
         },
         "colorscale": [
          [
           0,
           "rgb(255,245,240)"
          ],
          [
           0.125,
           "rgb(254,224,210)"
          ],
          [
           0.25,
           "rgb(252,187,161)"
          ],
          [
           0.375,
           "rgb(252,146,114)"
          ],
          [
           0.5,
           "rgb(251,106,74)"
          ],
          [
           0.625,
           "rgb(239,59,44)"
          ],
          [
           0.75,
           "rgb(203,24,29)"
          ],
          [
           0.875,
           "rgb(165,15,21)"
          ],
          [
           1,
           "rgb(103,0,13)"
          ]
         ],
         "locationmode": "USA-states",
         "locations": [
          "AK",
          "MT",
          "ND",
          "SD",
          "VT",
          "WY"
         ],
         "type": "choropleth",
         "z": [
          0.35441452700000003,
          0.518590998,
          0.394753279,
          0.41333333299999997
         ]
        },
        {
         "colorbar": {
          "title": {
           "text": "Dysgeusia Average per State"
          }
         },
         "colorscale": [
          [
           0,
           "rgb(255,245,240)"
          ],
          [
           0.125,
           "rgb(254,224,210)"
          ],
          [
           0.25,
           "rgb(252,187,161)"
          ],
          [
           0.375,
           "rgb(252,146,114)"
          ],
          [
           0.5,
           "rgb(251,106,74)"
          ],
          [
           0.625,
           "rgb(239,59,44)"
          ],
          [
           0.75,
           "rgb(203,24,29)"
          ],
          [
           0.875,
           "rgb(165,15,21)"
          ],
          [
           1,
           "rgb(103,0,13)"
          ]
         ],
         "locationmode": "USA-states",
         "locations": [
          "AK",
          "MT",
          "ND",
          "SD",
          "VT",
          "WY"
         ],
         "type": "choropleth",
         "z": [
          0.579211021,
          0.523809524,
          0.385384135,
          0.196666667
         ]
        },
        {
         "colorbar": {
          "title": {
           "text": "Dysgeusia Average per State"
          }
         },
         "colorscale": [
          [
           0,
           "rgb(255,245,240)"
          ],
          [
           0.125,
           "rgb(254,224,210)"
          ],
          [
           0.25,
           "rgb(252,187,161)"
          ],
          [
           0.375,
           "rgb(252,146,114)"
          ],
          [
           0.5,
           "rgb(251,106,74)"
          ],
          [
           0.625,
           "rgb(239,59,44)"
          ],
          [
           0.75,
           "rgb(203,24,29)"
          ],
          [
           0.875,
           "rgb(165,15,21)"
          ],
          [
           1,
           "rgb(103,0,13)"
          ]
         ],
         "locationmode": "USA-states",
         "locations": [
          "AK",
          "MT",
          "ND",
          "SD",
          "VT",
          "WY"
         ],
         "type": "choropleth",
         "z": [
          0.48591108299999997,
          0.426614481,
          0.511555278,
          0.66
         ]
        },
        {
         "colorbar": {
          "title": {
           "text": "Dysgeusia Average per State"
          }
         },
         "colorscale": [
          [
           0,
           "rgb(255,245,240)"
          ],
          [
           0.125,
           "rgb(254,224,210)"
          ],
          [
           0.25,
           "rgb(252,187,161)"
          ],
          [
           0.375,
           "rgb(252,146,114)"
          ],
          [
           0.5,
           "rgb(251,106,74)"
          ],
          [
           0.625,
           "rgb(239,59,44)"
          ],
          [
           0.75,
           "rgb(203,24,29)"
          ],
          [
           0.875,
           "rgb(165,15,21)"
          ],
          [
           1,
           "rgb(103,0,13)"
          ]
         ],
         "locationmode": "USA-states",
         "locations": [
          "AK",
          "MT",
          "ND",
          "SD",
          "VT",
          "WY"
         ],
         "type": "choropleth",
         "z": [
          0.369442705,
          0.400521853,
          0.800749532,
          0.563333333
         ]
        },
        {
         "colorbar": {
          "title": {
           "text": "Dysgeusia Average per State"
          }
         },
         "colorscale": [
          [
           0,
           "rgb(255,245,240)"
          ],
          [
           0.125,
           "rgb(254,224,210)"
          ],
          [
           0.25,
           "rgb(252,187,161)"
          ],
          [
           0.375,
           "rgb(252,146,114)"
          ],
          [
           0.5,
           "rgb(251,106,74)"
          ],
          [
           0.625,
           "rgb(239,59,44)"
          ],
          [
           0.75,
           "rgb(203,24,29)"
          ],
          [
           0.875,
           "rgb(165,15,21)"
          ],
          [
           1,
           "rgb(103,0,13)"
          ]
         ],
         "locationmode": "USA-states",
         "locations": [
          "AK",
          "MT",
          "ND",
          "SD",
          "VT",
          "WY"
         ],
         "type": "choropleth",
         "z": [
          0.42705072,
          0.600130463,
          0.514678326,
          0.31
         ]
        },
        {
         "colorbar": {
          "title": {
           "text": "Dysgeusia Average per State"
          }
         },
         "colorscale": [
          [
           0,
           "rgb(255,245,240)"
          ],
          [
           0.125,
           "rgb(254,224,210)"
          ],
          [
           0.25,
           "rgb(252,187,161)"
          ],
          [
           0.375,
           "rgb(252,146,114)"
          ],
          [
           0.5,
           "rgb(251,106,74)"
          ],
          [
           0.625,
           "rgb(239,59,44)"
          ],
          [
           0.75,
           "rgb(203,24,29)"
          ],
          [
           0.875,
           "rgb(165,15,21)"
          ],
          [
           1,
           "rgb(103,0,13)"
          ]
         ],
         "locationmode": "USA-states",
         "locations": [
          "AK",
          "MT",
          "ND",
          "SD",
          "VT",
          "WY"
         ],
         "type": "choropleth",
         "z": [
          0.418910457,
          0.602739726,
          0.47033104299999995,
          0.006666666999999999
         ]
        },
        {
         "colorbar": {
          "title": {
           "text": "Dysgeusia Average per State"
          }
         },
         "colorscale": [
          [
           0,
           "rgb(255,245,240)"
          ],
          [
           0.125,
           "rgb(254,224,210)"
          ],
          [
           0.25,
           "rgb(252,187,161)"
          ],
          [
           0.375,
           "rgb(252,146,114)"
          ],
          [
           0.5,
           "rgb(251,106,74)"
          ],
          [
           0.625,
           "rgb(239,59,44)"
          ],
          [
           0.75,
           "rgb(203,24,29)"
          ],
          [
           0.875,
           "rgb(165,15,21)"
          ],
          [
           1,
           "rgb(103,0,13)"
          ]
         ],
         "locationmode": "USA-states",
         "locations": [
          "AK",
          "MT",
          "ND",
          "SD",
          "VT",
          "WY"
         ],
         "type": "choropleth",
         "z": [
          0.552285535,
          0.281148076,
          0.483447845,
          0.423333333
         ]
        },
        {
         "colorbar": {
          "title": {
           "text": "Dysgeusia Average per State"
          }
         },
         "colorscale": [
          [
           0,
           "rgb(255,245,240)"
          ],
          [
           0.125,
           "rgb(254,224,210)"
          ],
          [
           0.25,
           "rgb(252,187,161)"
          ],
          [
           0.375,
           "rgb(252,146,114)"
          ],
          [
           0.5,
           "rgb(251,106,74)"
          ],
          [
           0.625,
           "rgb(239,59,44)"
          ],
          [
           0.75,
           "rgb(203,24,29)"
          ],
          [
           0.875,
           "rgb(165,15,21)"
          ],
          [
           1,
           "rgb(103,0,13)"
          ]
         ],
         "locationmode": "USA-states",
         "locations": [
          "AK",
          "MT",
          "ND",
          "SD",
          "VT",
          "WY"
         ],
         "type": "choropleth",
         "z": [
          0.307451472,
          0.5414220479999999,
          0.550281074,
          0.513333333
         ]
        },
        {
         "colorbar": {
          "title": {
           "text": "Dysgeusia Average per State"
          }
         },
         "colorscale": [
          [
           0,
           "rgb(255,245,240)"
          ],
          [
           0.125,
           "rgb(254,224,210)"
          ],
          [
           0.25,
           "rgb(252,187,161)"
          ],
          [
           0.375,
           "rgb(252,146,114)"
          ],
          [
           0.5,
           "rgb(251,106,74)"
          ],
          [
           0.625,
           "rgb(239,59,44)"
          ],
          [
           0.75,
           "rgb(203,24,29)"
          ],
          [
           0.875,
           "rgb(165,15,21)"
          ],
          [
           1,
           "rgb(103,0,13)"
          ]
         ],
         "locationmode": "USA-states",
         "locations": [
          "AK",
          "MT",
          "ND",
          "SD",
          "VT",
          "WY"
         ],
         "type": "choropleth",
         "z": [
          0.29931120899999997,
          0.6131767779999999,
          1,
          0.51
         ]
        },
        {
         "colorbar": {
          "title": {
           "text": "Dysgeusia Average per State"
          }
         },
         "colorscale": [
          [
           0,
           "rgb(255,245,240)"
          ],
          [
           0.125,
           "rgb(254,224,210)"
          ],
          [
           0.25,
           "rgb(252,187,161)"
          ],
          [
           0.375,
           "rgb(252,146,114)"
          ],
          [
           0.5,
           "rgb(251,106,74)"
          ],
          [
           0.625,
           "rgb(239,59,44)"
          ],
          [
           0.75,
           "rgb(203,24,29)"
          ],
          [
           0.875,
           "rgb(165,15,21)"
          ],
          [
           1,
           "rgb(103,0,13)"
          ]
         ],
         "locationmode": "USA-states",
         "locations": [
          "AK",
          "MT",
          "ND",
          "SD",
          "VT",
          "WY"
         ],
         "type": "choropleth",
         "z": [
          0.372573575,
          0.479452055,
          0.581511555,
          0.563333333
         ]
        },
        {
         "colorbar": {
          "title": {
           "text": "Dysgeusia Average per State"
          }
         },
         "colorscale": [
          [
           0,
           "rgb(255,245,240)"
          ],
          [
           0.125,
           "rgb(254,224,210)"
          ],
          [
           0.25,
           "rgb(252,187,161)"
          ],
          [
           0.375,
           "rgb(252,146,114)"
          ],
          [
           0.5,
           "rgb(251,106,74)"
          ],
          [
           0.625,
           "rgb(239,59,44)"
          ],
          [
           0.75,
           "rgb(203,24,29)"
          ],
          [
           0.875,
           "rgb(165,15,21)"
          ],
          [
           1,
           "rgb(103,0,13)"
          ]
         ],
         "locationmode": "USA-states",
         "locations": [
          "AK",
          "MT",
          "ND",
          "SD",
          "VT",
          "WY"
         ],
         "type": "choropleth",
         "z": [
          0.510958046,
          0.6979778209999999,
          0.7326670829999999,
          0.496666667
         ]
        },
        {
         "colorbar": {
          "title": {
           "text": "Dysgeusia Average per State"
          }
         },
         "colorscale": [
          [
           0,
           "rgb(255,245,240)"
          ],
          [
           0.125,
           "rgb(254,224,210)"
          ],
          [
           0.25,
           "rgb(252,187,161)"
          ],
          [
           0.375,
           "rgb(252,146,114)"
          ],
          [
           0.5,
           "rgb(251,106,74)"
          ],
          [
           0.625,
           "rgb(239,59,44)"
          ],
          [
           0.75,
           "rgb(203,24,29)"
          ],
          [
           0.875,
           "rgb(165,15,21)"
          ],
          [
           1,
           "rgb(103,0,13)"
          ]
         ],
         "locationmode": "USA-states",
         "locations": [
          "AK",
          "MT",
          "ND",
          "SD",
          "VT",
          "WY"
         ],
         "type": "choropleth",
         "z": [
          0.581715717,
          0.780821918,
          0.7763897559999999,
          0.43661986157480326
         ]
        },
        {
         "colorbar": {
          "title": {
           "text": "Dysgeusia Average per State"
          }
         },
         "colorscale": [
          [
           0,
           "rgb(255,245,240)"
          ],
          [
           0.125,
           "rgb(254,224,210)"
          ],
          [
           0.25,
           "rgb(252,187,161)"
          ],
          [
           0.375,
           "rgb(252,146,114)"
          ],
          [
           0.5,
           "rgb(251,106,74)"
          ],
          [
           0.625,
           "rgb(239,59,44)"
          ],
          [
           0.75,
           "rgb(203,24,29)"
          ],
          [
           0.875,
           "rgb(165,15,21)"
          ],
          [
           1,
           "rgb(103,0,13)"
          ]
         ],
         "locationmode": "USA-states",
         "locations": [
          "AK",
          "MT",
          "ND",
          "SD",
          "VT",
          "WY"
         ],
         "type": "choropleth",
         "z": [
          0.778960551,
          0.727332029,
          0.697064335,
          0.79
         ]
        },
        {
         "colorbar": {
          "title": {
           "text": "Dysgeusia Average per State"
          }
         },
         "colorscale": [
          [
           0,
           "rgb(255,245,240)"
          ],
          [
           0.125,
           "rgb(254,224,210)"
          ],
          [
           0.25,
           "rgb(252,187,161)"
          ],
          [
           0.375,
           "rgb(252,146,114)"
          ],
          [
           0.5,
           "rgb(251,106,74)"
          ],
          [
           0.625,
           "rgb(239,59,44)"
          ],
          [
           0.75,
           "rgb(203,24,29)"
          ],
          [
           0.875,
           "rgb(165,15,21)"
          ],
          [
           1,
           "rgb(103,0,13)"
          ]
         ],
         "locationmode": "USA-states",
         "locations": [
          "AK",
          "MT",
          "ND",
          "SD",
          "VT",
          "WY"
         ],
         "type": "choropleth",
         "z": [
          1,
          1,
          0.7607745159999999,
          1
         ]
        },
        {
         "colorbar": {
          "title": {
           "text": "Dysgeusia Average per State"
          }
         },
         "colorscale": [
          [
           0,
           "rgb(255,245,240)"
          ],
          [
           0.125,
           "rgb(254,224,210)"
          ],
          [
           0.25,
           "rgb(252,187,161)"
          ],
          [
           0.375,
           "rgb(252,146,114)"
          ],
          [
           0.5,
           "rgb(251,106,74)"
          ],
          [
           0.625,
           "rgb(239,59,44)"
          ],
          [
           0.75,
           "rgb(203,24,29)"
          ],
          [
           0.875,
           "rgb(165,15,21)"
          ],
          [
           1,
           "rgb(103,0,13)"
          ]
         ],
         "locationmode": "USA-states",
         "locations": [
          "AK",
          "MT",
          "ND",
          "SD",
          "VT",
          "WY"
         ],
         "type": "choropleth",
         "z": [
          0.365296804
         ]
        }
       ],
       "layout": {
        "geo": {
         "projection": {
          "type": "mercator"
         },
         "scope": "world"
        },
        "sliders": [
         {
          "active": 0,
          "pad": {
           "t": 1
          },
          "steps": [
           {
            "args": [
             "visible",
             [
              true,
              false,
              false,
              false,
              false,
              false,
              false,
              false,
              false,
              false,
              false,
              false,
              false,
              false,
              false,
              false,
              false,
              false,
              false,
              false,
              false,
              false,
              false,
              false,
              false,
              false,
              false,
              false,
              false,
              false
             ]
            ],
            "label": "Search Day 0",
            "method": "restyle"
           },
           {
            "args": [
             "visible",
             [
              false,
              true,
              false,
              false,
              false,
              false,
              false,
              false,
              false,
              false,
              false,
              false,
              false,
              false,
              false,
              false,
              false,
              false,
              false,
              false,
              false,
              false,
              false,
              false,
              false,
              false,
              false,
              false,
              false,
              false
             ]
            ],
            "label": "Search Day 1",
            "method": "restyle"
           },
           {
            "args": [
             "visible",
             [
              false,
              false,
              true,
              false,
              false,
              false,
              false,
              false,
              false,
              false,
              false,
              false,
              false,
              false,
              false,
              false,
              false,
              false,
              false,
              false,
              false,
              false,
              false,
              false,
              false,
              false,
              false,
              false,
              false,
              false
             ]
            ],
            "label": "Search Day 2",
            "method": "restyle"
           },
           {
            "args": [
             "visible",
             [
              false,
              false,
              false,
              true,
              false,
              false,
              false,
              false,
              false,
              false,
              false,
              false,
              false,
              false,
              false,
              false,
              false,
              false,
              false,
              false,
              false,
              false,
              false,
              false,
              false,
              false,
              false,
              false,
              false,
              false
             ]
            ],
            "label": "Search Day 3",
            "method": "restyle"
           },
           {
            "args": [
             "visible",
             [
              false,
              false,
              false,
              false,
              true,
              false,
              false,
              false,
              false,
              false,
              false,
              false,
              false,
              false,
              false,
              false,
              false,
              false,
              false,
              false,
              false,
              false,
              false,
              false,
              false,
              false,
              false,
              false,
              false,
              false
             ]
            ],
            "label": "Search Day 4",
            "method": "restyle"
           },
           {
            "args": [
             "visible",
             [
              false,
              false,
              false,
              false,
              false,
              true,
              false,
              false,
              false,
              false,
              false,
              false,
              false,
              false,
              false,
              false,
              false,
              false,
              false,
              false,
              false,
              false,
              false,
              false,
              false,
              false,
              false,
              false,
              false,
              false
             ]
            ],
            "label": "Search Day 5",
            "method": "restyle"
           },
           {
            "args": [
             "visible",
             [
              false,
              false,
              false,
              false,
              false,
              false,
              true,
              false,
              false,
              false,
              false,
              false,
              false,
              false,
              false,
              false,
              false,
              false,
              false,
              false,
              false,
              false,
              false,
              false,
              false,
              false,
              false,
              false,
              false,
              false
             ]
            ],
            "label": "Search Day 6",
            "method": "restyle"
           },
           {
            "args": [
             "visible",
             [
              false,
              false,
              false,
              false,
              false,
              false,
              false,
              true,
              false,
              false,
              false,
              false,
              false,
              false,
              false,
              false,
              false,
              false,
              false,
              false,
              false,
              false,
              false,
              false,
              false,
              false,
              false,
              false,
              false,
              false
             ]
            ],
            "label": "Search Day 7",
            "method": "restyle"
           },
           {
            "args": [
             "visible",
             [
              false,
              false,
              false,
              false,
              false,
              false,
              false,
              false,
              true,
              false,
              false,
              false,
              false,
              false,
              false,
              false,
              false,
              false,
              false,
              false,
              false,
              false,
              false,
              false,
              false,
              false,
              false,
              false,
              false,
              false
             ]
            ],
            "label": "Search Day 8",
            "method": "restyle"
           },
           {
            "args": [
             "visible",
             [
              false,
              false,
              false,
              false,
              false,
              false,
              false,
              false,
              false,
              true,
              false,
              false,
              false,
              false,
              false,
              false,
              false,
              false,
              false,
              false,
              false,
              false,
              false,
              false,
              false,
              false,
              false,
              false,
              false,
              false
             ]
            ],
            "label": "Search Day 9",
            "method": "restyle"
           },
           {
            "args": [
             "visible",
             [
              false,
              false,
              false,
              false,
              false,
              false,
              false,
              false,
              false,
              false,
              true,
              false,
              false,
              false,
              false,
              false,
              false,
              false,
              false,
              false,
              false,
              false,
              false,
              false,
              false,
              false,
              false,
              false,
              false,
              false
             ]
            ],
            "label": "Search Day 10",
            "method": "restyle"
           },
           {
            "args": [
             "visible",
             [
              false,
              false,
              false,
              false,
              false,
              false,
              false,
              false,
              false,
              false,
              false,
              true,
              false,
              false,
              false,
              false,
              false,
              false,
              false,
              false,
              false,
              false,
              false,
              false,
              false,
              false,
              false,
              false,
              false,
              false
             ]
            ],
            "label": "Search Day 11",
            "method": "restyle"
           },
           {
            "args": [
             "visible",
             [
              false,
              false,
              false,
              false,
              false,
              false,
              false,
              false,
              false,
              false,
              false,
              false,
              true,
              false,
              false,
              false,
              false,
              false,
              false,
              false,
              false,
              false,
              false,
              false,
              false,
              false,
              false,
              false,
              false,
              false
             ]
            ],
            "label": "Search Day 12",
            "method": "restyle"
           },
           {
            "args": [
             "visible",
             [
              false,
              false,
              false,
              false,
              false,
              false,
              false,
              false,
              false,
              false,
              false,
              false,
              false,
              true,
              false,
              false,
              false,
              false,
              false,
              false,
              false,
              false,
              false,
              false,
              false,
              false,
              false,
              false,
              false,
              false
             ]
            ],
            "label": "Search Day 13",
            "method": "restyle"
           },
           {
            "args": [
             "visible",
             [
              false,
              false,
              false,
              false,
              false,
              false,
              false,
              false,
              false,
              false,
              false,
              false,
              false,
              false,
              true,
              false,
              false,
              false,
              false,
              false,
              false,
              false,
              false,
              false,
              false,
              false,
              false,
              false,
              false,
              false
             ]
            ],
            "label": "Search Day 14",
            "method": "restyle"
           },
           {
            "args": [
             "visible",
             [
              false,
              false,
              false,
              false,
              false,
              false,
              false,
              false,
              false,
              false,
              false,
              false,
              false,
              false,
              false,
              true,
              false,
              false,
              false,
              false,
              false,
              false,
              false,
              false,
              false,
              false,
              false,
              false,
              false,
              false
             ]
            ],
            "label": "Search Day 15",
            "method": "restyle"
           },
           {
            "args": [
             "visible",
             [
              false,
              false,
              false,
              false,
              false,
              false,
              false,
              false,
              false,
              false,
              false,
              false,
              false,
              false,
              false,
              false,
              true,
              false,
              false,
              false,
              false,
              false,
              false,
              false,
              false,
              false,
              false,
              false,
              false,
              false
             ]
            ],
            "label": "Search Day 16",
            "method": "restyle"
           },
           {
            "args": [
             "visible",
             [
              false,
              false,
              false,
              false,
              false,
              false,
              false,
              false,
              false,
              false,
              false,
              false,
              false,
              false,
              false,
              false,
              false,
              true,
              false,
              false,
              false,
              false,
              false,
              false,
              false,
              false,
              false,
              false,
              false,
              false
             ]
            ],
            "label": "Search Day 17",
            "method": "restyle"
           },
           {
            "args": [
             "visible",
             [
              false,
              false,
              false,
              false,
              false,
              false,
              false,
              false,
              false,
              false,
              false,
              false,
              false,
              false,
              false,
              false,
              false,
              false,
              true,
              false,
              false,
              false,
              false,
              false,
              false,
              false,
              false,
              false,
              false,
              false
             ]
            ],
            "label": "Search Day 18",
            "method": "restyle"
           },
           {
            "args": [
             "visible",
             [
              false,
              false,
              false,
              false,
              false,
              false,
              false,
              false,
              false,
              false,
              false,
              false,
              false,
              false,
              false,
              false,
              false,
              false,
              false,
              true,
              false,
              false,
              false,
              false,
              false,
              false,
              false,
              false,
              false,
              false
             ]
            ],
            "label": "Search Day 19",
            "method": "restyle"
           },
           {
            "args": [
             "visible",
             [
              false,
              false,
              false,
              false,
              false,
              false,
              false,
              false,
              false,
              false,
              false,
              false,
              false,
              false,
              false,
              false,
              false,
              false,
              false,
              false,
              true,
              false,
              false,
              false,
              false,
              false,
              false,
              false,
              false,
              false
             ]
            ],
            "label": "Search Day 20",
            "method": "restyle"
           },
           {
            "args": [
             "visible",
             [
              false,
              false,
              false,
              false,
              false,
              false,
              false,
              false,
              false,
              false,
              false,
              false,
              false,
              false,
              false,
              false,
              false,
              false,
              false,
              false,
              false,
              true,
              false,
              false,
              false,
              false,
              false,
              false,
              false,
              false
             ]
            ],
            "label": "Search Day 21",
            "method": "restyle"
           },
           {
            "args": [
             "visible",
             [
              false,
              false,
              false,
              false,
              false,
              false,
              false,
              false,
              false,
              false,
              false,
              false,
              false,
              false,
              false,
              false,
              false,
              false,
              false,
              false,
              false,
              false,
              true,
              false,
              false,
              false,
              false,
              false,
              false,
              false
             ]
            ],
            "label": "Search Day 22",
            "method": "restyle"
           },
           {
            "args": [
             "visible",
             [
              false,
              false,
              false,
              false,
              false,
              false,
              false,
              false,
              false,
              false,
              false,
              false,
              false,
              false,
              false,
              false,
              false,
              false,
              false,
              false,
              false,
              false,
              false,
              true,
              false,
              false,
              false,
              false,
              false,
              false
             ]
            ],
            "label": "Search Day 23",
            "method": "restyle"
           },
           {
            "args": [
             "visible",
             [
              false,
              false,
              false,
              false,
              false,
              false,
              false,
              false,
              false,
              false,
              false,
              false,
              false,
              false,
              false,
              false,
              false,
              false,
              false,
              false,
              false,
              false,
              false,
              false,
              true,
              false,
              false,
              false,
              false,
              false
             ]
            ],
            "label": "Search Day 24",
            "method": "restyle"
           },
           {
            "args": [
             "visible",
             [
              false,
              false,
              false,
              false,
              false,
              false,
              false,
              false,
              false,
              false,
              false,
              false,
              false,
              false,
              false,
              false,
              false,
              false,
              false,
              false,
              false,
              false,
              false,
              false,
              false,
              true,
              false,
              false,
              false,
              false
             ]
            ],
            "label": "Search Day 25",
            "method": "restyle"
           },
           {
            "args": [
             "visible",
             [
              false,
              false,
              false,
              false,
              false,
              false,
              false,
              false,
              false,
              false,
              false,
              false,
              false,
              false,
              false,
              false,
              false,
              false,
              false,
              false,
              false,
              false,
              false,
              false,
              false,
              false,
              true,
              false,
              false,
              false
             ]
            ],
            "label": "Search Day 26",
            "method": "restyle"
           },
           {
            "args": [
             "visible",
             [
              false,
              false,
              false,
              false,
              false,
              false,
              false,
              false,
              false,
              false,
              false,
              false,
              false,
              false,
              false,
              false,
              false,
              false,
              false,
              false,
              false,
              false,
              false,
              false,
              false,
              false,
              false,
              true,
              false,
              false
             ]
            ],
            "label": "Search Day 27",
            "method": "restyle"
           },
           {
            "args": [
             "visible",
             [
              false,
              false,
              false,
              false,
              false,
              false,
              false,
              false,
              false,
              false,
              false,
              false,
              false,
              false,
              false,
              false,
              false,
              false,
              false,
              false,
              false,
              false,
              false,
              false,
              false,
              false,
              false,
              false,
              true,
              false
             ]
            ],
            "label": "Search Day 28",
            "method": "restyle"
           },
           {
            "args": [
             "visible",
             [
              false,
              false,
              false,
              false,
              false,
              false,
              false,
              false,
              false,
              false,
              false,
              false,
              false,
              false,
              false,
              false,
              false,
              false,
              false,
              false,
              false,
              false,
              false,
              false,
              false,
              false,
              false,
              false,
              false,
              true
             ]
            ],
            "label": "Search Day 29",
            "method": "restyle"
           }
          ]
         }
        ],
        "template": {
         "data": {
          "bar": [
           {
            "error_x": {
             "color": "#2a3f5f"
            },
            "error_y": {
             "color": "#2a3f5f"
            },
            "marker": {
             "line": {
              "color": "#E5ECF6",
              "width": 0.5
             }
            },
            "type": "bar"
           }
          ],
          "barpolar": [
           {
            "marker": {
             "line": {
              "color": "#E5ECF6",
              "width": 0.5
             }
            },
            "type": "barpolar"
           }
          ],
          "carpet": [
           {
            "aaxis": {
             "endlinecolor": "#2a3f5f",
             "gridcolor": "white",
             "linecolor": "white",
             "minorgridcolor": "white",
             "startlinecolor": "#2a3f5f"
            },
            "baxis": {
             "endlinecolor": "#2a3f5f",
             "gridcolor": "white",
             "linecolor": "white",
             "minorgridcolor": "white",
             "startlinecolor": "#2a3f5f"
            },
            "type": "carpet"
           }
          ],
          "choropleth": [
           {
            "colorbar": {
             "outlinewidth": 0,
             "ticks": ""
            },
            "type": "choropleth"
           }
          ],
          "contour": [
           {
            "colorbar": {
             "outlinewidth": 0,
             "ticks": ""
            },
            "colorscale": [
             [
              0,
              "#0d0887"
             ],
             [
              0.1111111111111111,
              "#46039f"
             ],
             [
              0.2222222222222222,
              "#7201a8"
             ],
             [
              0.3333333333333333,
              "#9c179e"
             ],
             [
              0.4444444444444444,
              "#bd3786"
             ],
             [
              0.5555555555555556,
              "#d8576b"
             ],
             [
              0.6666666666666666,
              "#ed7953"
             ],
             [
              0.7777777777777778,
              "#fb9f3a"
             ],
             [
              0.8888888888888888,
              "#fdca26"
             ],
             [
              1,
              "#f0f921"
             ]
            ],
            "type": "contour"
           }
          ],
          "contourcarpet": [
           {
            "colorbar": {
             "outlinewidth": 0,
             "ticks": ""
            },
            "type": "contourcarpet"
           }
          ],
          "heatmap": [
           {
            "colorbar": {
             "outlinewidth": 0,
             "ticks": ""
            },
            "colorscale": [
             [
              0,
              "#0d0887"
             ],
             [
              0.1111111111111111,
              "#46039f"
             ],
             [
              0.2222222222222222,
              "#7201a8"
             ],
             [
              0.3333333333333333,
              "#9c179e"
             ],
             [
              0.4444444444444444,
              "#bd3786"
             ],
             [
              0.5555555555555556,
              "#d8576b"
             ],
             [
              0.6666666666666666,
              "#ed7953"
             ],
             [
              0.7777777777777778,
              "#fb9f3a"
             ],
             [
              0.8888888888888888,
              "#fdca26"
             ],
             [
              1,
              "#f0f921"
             ]
            ],
            "type": "heatmap"
           }
          ],
          "heatmapgl": [
           {
            "colorbar": {
             "outlinewidth": 0,
             "ticks": ""
            },
            "colorscale": [
             [
              0,
              "#0d0887"
             ],
             [
              0.1111111111111111,
              "#46039f"
             ],
             [
              0.2222222222222222,
              "#7201a8"
             ],
             [
              0.3333333333333333,
              "#9c179e"
             ],
             [
              0.4444444444444444,
              "#bd3786"
             ],
             [
              0.5555555555555556,
              "#d8576b"
             ],
             [
              0.6666666666666666,
              "#ed7953"
             ],
             [
              0.7777777777777778,
              "#fb9f3a"
             ],
             [
              0.8888888888888888,
              "#fdca26"
             ],
             [
              1,
              "#f0f921"
             ]
            ],
            "type": "heatmapgl"
           }
          ],
          "histogram": [
           {
            "marker": {
             "colorbar": {
              "outlinewidth": 0,
              "ticks": ""
             }
            },
            "type": "histogram"
           }
          ],
          "histogram2d": [
           {
            "colorbar": {
             "outlinewidth": 0,
             "ticks": ""
            },
            "colorscale": [
             [
              0,
              "#0d0887"
             ],
             [
              0.1111111111111111,
              "#46039f"
             ],
             [
              0.2222222222222222,
              "#7201a8"
             ],
             [
              0.3333333333333333,
              "#9c179e"
             ],
             [
              0.4444444444444444,
              "#bd3786"
             ],
             [
              0.5555555555555556,
              "#d8576b"
             ],
             [
              0.6666666666666666,
              "#ed7953"
             ],
             [
              0.7777777777777778,
              "#fb9f3a"
             ],
             [
              0.8888888888888888,
              "#fdca26"
             ],
             [
              1,
              "#f0f921"
             ]
            ],
            "type": "histogram2d"
           }
          ],
          "histogram2dcontour": [
           {
            "colorbar": {
             "outlinewidth": 0,
             "ticks": ""
            },
            "colorscale": [
             [
              0,
              "#0d0887"
             ],
             [
              0.1111111111111111,
              "#46039f"
             ],
             [
              0.2222222222222222,
              "#7201a8"
             ],
             [
              0.3333333333333333,
              "#9c179e"
             ],
             [
              0.4444444444444444,
              "#bd3786"
             ],
             [
              0.5555555555555556,
              "#d8576b"
             ],
             [
              0.6666666666666666,
              "#ed7953"
             ],
             [
              0.7777777777777778,
              "#fb9f3a"
             ],
             [
              0.8888888888888888,
              "#fdca26"
             ],
             [
              1,
              "#f0f921"
             ]
            ],
            "type": "histogram2dcontour"
           }
          ],
          "mesh3d": [
           {
            "colorbar": {
             "outlinewidth": 0,
             "ticks": ""
            },
            "type": "mesh3d"
           }
          ],
          "parcoords": [
           {
            "line": {
             "colorbar": {
              "outlinewidth": 0,
              "ticks": ""
             }
            },
            "type": "parcoords"
           }
          ],
          "pie": [
           {
            "automargin": true,
            "type": "pie"
           }
          ],
          "scatter": [
           {
            "marker": {
             "colorbar": {
              "outlinewidth": 0,
              "ticks": ""
             }
            },
            "type": "scatter"
           }
          ],
          "scatter3d": [
           {
            "line": {
             "colorbar": {
              "outlinewidth": 0,
              "ticks": ""
             }
            },
            "marker": {
             "colorbar": {
              "outlinewidth": 0,
              "ticks": ""
             }
            },
            "type": "scatter3d"
           }
          ],
          "scattercarpet": [
           {
            "marker": {
             "colorbar": {
              "outlinewidth": 0,
              "ticks": ""
             }
            },
            "type": "scattercarpet"
           }
          ],
          "scattergeo": [
           {
            "marker": {
             "colorbar": {
              "outlinewidth": 0,
              "ticks": ""
             }
            },
            "type": "scattergeo"
           }
          ],
          "scattergl": [
           {
            "marker": {
             "colorbar": {
              "outlinewidth": 0,
              "ticks": ""
             }
            },
            "type": "scattergl"
           }
          ],
          "scattermapbox": [
           {
            "marker": {
             "colorbar": {
              "outlinewidth": 0,
              "ticks": ""
             }
            },
            "type": "scattermapbox"
           }
          ],
          "scatterpolar": [
           {
            "marker": {
             "colorbar": {
              "outlinewidth": 0,
              "ticks": ""
             }
            },
            "type": "scatterpolar"
           }
          ],
          "scatterpolargl": [
           {
            "marker": {
             "colorbar": {
              "outlinewidth": 0,
              "ticks": ""
             }
            },
            "type": "scatterpolargl"
           }
          ],
          "scatterternary": [
           {
            "marker": {
             "colorbar": {
              "outlinewidth": 0,
              "ticks": ""
             }
            },
            "type": "scatterternary"
           }
          ],
          "surface": [
           {
            "colorbar": {
             "outlinewidth": 0,
             "ticks": ""
            },
            "colorscale": [
             [
              0,
              "#0d0887"
             ],
             [
              0.1111111111111111,
              "#46039f"
             ],
             [
              0.2222222222222222,
              "#7201a8"
             ],
             [
              0.3333333333333333,
              "#9c179e"
             ],
             [
              0.4444444444444444,
              "#bd3786"
             ],
             [
              0.5555555555555556,
              "#d8576b"
             ],
             [
              0.6666666666666666,
              "#ed7953"
             ],
             [
              0.7777777777777778,
              "#fb9f3a"
             ],
             [
              0.8888888888888888,
              "#fdca26"
             ],
             [
              1,
              "#f0f921"
             ]
            ],
            "type": "surface"
           }
          ],
          "table": [
           {
            "cells": {
             "fill": {
              "color": "#EBF0F8"
             },
             "line": {
              "color": "white"
             }
            },
            "header": {
             "fill": {
              "color": "#C8D4E3"
             },
             "line": {
              "color": "white"
             }
            },
            "type": "table"
           }
          ]
         },
         "layout": {
          "annotationdefaults": {
           "arrowcolor": "#2a3f5f",
           "arrowhead": 0,
           "arrowwidth": 1
          },
          "coloraxis": {
           "colorbar": {
            "outlinewidth": 0,
            "ticks": ""
           }
          },
          "colorscale": {
           "diverging": [
            [
             0,
             "#8e0152"
            ],
            [
             0.1,
             "#c51b7d"
            ],
            [
             0.2,
             "#de77ae"
            ],
            [
             0.3,
             "#f1b6da"
            ],
            [
             0.4,
             "#fde0ef"
            ],
            [
             0.5,
             "#f7f7f7"
            ],
            [
             0.6,
             "#e6f5d0"
            ],
            [
             0.7,
             "#b8e186"
            ],
            [
             0.8,
             "#7fbc41"
            ],
            [
             0.9,
             "#4d9221"
            ],
            [
             1,
             "#276419"
            ]
           ],
           "sequential": [
            [
             0,
             "#0d0887"
            ],
            [
             0.1111111111111111,
             "#46039f"
            ],
            [
             0.2222222222222222,
             "#7201a8"
            ],
            [
             0.3333333333333333,
             "#9c179e"
            ],
            [
             0.4444444444444444,
             "#bd3786"
            ],
            [
             0.5555555555555556,
             "#d8576b"
            ],
            [
             0.6666666666666666,
             "#ed7953"
            ],
            [
             0.7777777777777778,
             "#fb9f3a"
            ],
            [
             0.8888888888888888,
             "#fdca26"
            ],
            [
             1,
             "#f0f921"
            ]
           ],
           "sequentialminus": [
            [
             0,
             "#0d0887"
            ],
            [
             0.1111111111111111,
             "#46039f"
            ],
            [
             0.2222222222222222,
             "#7201a8"
            ],
            [
             0.3333333333333333,
             "#9c179e"
            ],
            [
             0.4444444444444444,
             "#bd3786"
            ],
            [
             0.5555555555555556,
             "#d8576b"
            ],
            [
             0.6666666666666666,
             "#ed7953"
            ],
            [
             0.7777777777777778,
             "#fb9f3a"
            ],
            [
             0.8888888888888888,
             "#fdca26"
            ],
            [
             1,
             "#f0f921"
            ]
           ]
          },
          "colorway": [
           "#636efa",
           "#EF553B",
           "#00cc96",
           "#ab63fa",
           "#FFA15A",
           "#19d3f3",
           "#FF6692",
           "#B6E880",
           "#FF97FF",
           "#FECB52"
          ],
          "font": {
           "color": "#2a3f5f"
          },
          "geo": {
           "bgcolor": "white",
           "lakecolor": "white",
           "landcolor": "#E5ECF6",
           "showlakes": true,
           "showland": true,
           "subunitcolor": "white"
          },
          "hoverlabel": {
           "align": "left"
          },
          "hovermode": "closest",
          "mapbox": {
           "style": "light"
          },
          "paper_bgcolor": "white",
          "plot_bgcolor": "#E5ECF6",
          "polar": {
           "angularaxis": {
            "gridcolor": "white",
            "linecolor": "white",
            "ticks": ""
           },
           "bgcolor": "#E5ECF6",
           "radialaxis": {
            "gridcolor": "white",
            "linecolor": "white",
            "ticks": ""
           }
          },
          "scene": {
           "xaxis": {
            "backgroundcolor": "#E5ECF6",
            "gridcolor": "white",
            "gridwidth": 2,
            "linecolor": "white",
            "showbackground": true,
            "ticks": "",
            "zerolinecolor": "white"
           },
           "yaxis": {
            "backgroundcolor": "#E5ECF6",
            "gridcolor": "white",
            "gridwidth": 2,
            "linecolor": "white",
            "showbackground": true,
            "ticks": "",
            "zerolinecolor": "white"
           },
           "zaxis": {
            "backgroundcolor": "#E5ECF6",
            "gridcolor": "white",
            "gridwidth": 2,
            "linecolor": "white",
            "showbackground": true,
            "ticks": "",
            "zerolinecolor": "white"
           }
          },
          "shapedefaults": {
           "line": {
            "color": "#2a3f5f"
           }
          },
          "ternary": {
           "aaxis": {
            "gridcolor": "white",
            "linecolor": "white",
            "ticks": ""
           },
           "baxis": {
            "gridcolor": "white",
            "linecolor": "white",
            "ticks": ""
           },
           "bgcolor": "#E5ECF6",
           "caxis": {
            "gridcolor": "white",
            "linecolor": "white",
            "ticks": ""
           }
          },
          "title": {
           "x": 0.05
          },
          "xaxis": {
           "automargin": true,
           "gridcolor": "white",
           "linecolor": "white",
           "ticks": "",
           "title": {
            "standoff": 15
           },
           "zerolinecolor": "white",
           "zerolinewidth": 2
          },
          "yaxis": {
           "automargin": true,
           "gridcolor": "white",
           "linecolor": "white",
           "ticks": "",
           "title": {
            "standoff": 15
           },
           "zerolinecolor": "white",
           "zerolinewidth": 2
          }
         }
        }
       }
      },
      "text/html": [
       "<div>                            <div id=\"3dc6294b-1b7b-4070-8174-97bc4f4c73cc\" class=\"plotly-graph-div\" style=\"height:525px; width:100%;\"></div>            <script type=\"text/javascript\">                require([\"plotly\"], function(Plotly) {                    window.PLOTLYENV=window.PLOTLYENV || {};                                    if (document.getElementById(\"3dc6294b-1b7b-4070-8174-97bc4f4c73cc\")) {                    Plotly.newPlot(                        \"3dc6294b-1b7b-4070-8174-97bc4f4c73cc\",                        [{\"colorbar\": {\"title\": {\"text\": \"Dysgeusia Average per State\"}}, \"colorscale\": [[0.0, \"rgb(255,245,240)\"], [0.125, \"rgb(254,224,210)\"], [0.25, \"rgb(252,187,161)\"], [0.375, \"rgb(252,146,114)\"], [0.5, \"rgb(251,106,74)\"], [0.625, \"rgb(239,59,44)\"], [0.75, \"rgb(203,24,29)\"], [0.875, \"rgb(165,15,21)\"], [1.0, \"rgb(103,0,13)\"]], \"locationmode\": \"USA-states\", \"locations\": [\"AK\", \"MT\", \"ND\", \"SD\", \"VT\", \"WY\"], \"type\": \"choropleth\", \"z\": [1.0, 0.8090169070000001, 0.57469015, 0.37200776399999996, 0.92]}, {\"colorbar\": {\"title\": {\"text\": \"Dysgeusia Average per State\"}}, \"colorscale\": [[0.0, \"rgb(255,245,240)\"], [0.125, \"rgb(254,224,210)\"], [0.25, \"rgb(252,187,161)\"], [0.375, \"rgb(252,146,114)\"], [0.5, \"rgb(251,106,74)\"], [0.625, \"rgb(239,59,44)\"], [0.75, \"rgb(203,24,29)\"], [0.875, \"rgb(165,15,21)\"], [1.0, \"rgb(103,0,13)\"]], \"locationmode\": \"USA-states\", \"locations\": [\"AK\", \"MT\", \"ND\", \"SD\", \"VT\", \"WY\"], \"type\": \"choropleth\", \"z\": [0.7705943690000001, 0.5648090170000001, 0.415525114, 0.408494691, 0.235065775, 0.72]}, {\"colorbar\": {\"title\": {\"text\": \"Dysgeusia Average per State\"}}, \"colorscale\": [[0.0, \"rgb(255,245,240)\"], [0.125, \"rgb(254,224,210)\"], [0.25, \"rgb(252,187,161)\"], [0.375, \"rgb(252,146,114)\"], [0.5, \"rgb(251,106,74)\"], [0.625, \"rgb(239,59,44)\"], [0.75, \"rgb(203,24,29)\"], [0.875, \"rgb(165,15,21)\"], [1.0, \"rgb(103,0,13)\"]], \"locationmode\": \"USA-states\", \"locations\": [\"AK\", \"MT\", \"ND\", \"SD\", \"VT\", \"WY\"], \"type\": \"choropleth\", \"z\": [0.519290928, 0.564182843, 0.2987606, 0.307932542, 0.468406297, 0.48]}, {\"colorbar\": {\"title\": {\"text\": \"Dysgeusia Average per State\"}}, \"colorscale\": [[0.0, \"rgb(255,245,240)\"], [0.125, \"rgb(254,224,210)\"], [0.25, \"rgb(252,187,161)\"], [0.375, \"rgb(252,146,114)\"], [0.5, \"rgb(251,106,74)\"], [0.625, \"rgb(239,59,44)\"], [0.75, \"rgb(203,24,29)\"], [0.875, \"rgb(165,15,21)\"], [1.0, \"rgb(103,0,13)\"]], \"locationmode\": \"USA-states\", \"locations\": [\"AK\", \"MT\", \"ND\", \"SD\", \"VT\", \"WY\"], \"type\": \"choropleth\", \"z\": [0.145985401, 0.33750782700000004, 0.42791911299999996, 0.574640849, 0.4]}, {\"colorbar\": {\"title\": {\"text\": \"Dysgeusia Average per State\"}}, \"colorscale\": [[0.0, \"rgb(255,245,240)\"], [0.125, \"rgb(254,224,210)\"], [0.25, \"rgb(252,187,161)\"], [0.375, \"rgb(252,146,114)\"], [0.5, \"rgb(251,106,74)\"], [0.625, \"rgb(239,59,44)\"], [0.75, \"rgb(203,24,29)\"], [0.875, \"rgb(165,15,21)\"], [1.0, \"rgb(103,0,13)\"]], \"locationmode\": \"USA-states\", \"locations\": [\"AK\", \"MT\", \"ND\", \"SD\", \"VT\", \"WY\"], \"type\": \"choropleth\", \"z\": [0.013555787, 0.37883531600000003, 0.352902805, 0.419737664, 0.35666666700000005]}, {\"colorbar\": {\"title\": {\"text\": \"Dysgeusia Average per State\"}}, \"colorscale\": [[0.0, \"rgb(255,245,240)\"], [0.125, \"rgb(254,224,210)\"], [0.25, \"rgb(252,187,161)\"], [0.375, \"rgb(252,146,114)\"], [0.5, \"rgb(251,106,74)\"], [0.625, \"rgb(239,59,44)\"], [0.75, \"rgb(203,24,29)\"], [0.875, \"rgb(165,15,21)\"], [1.0, \"rgb(103,0,13)\"]], \"locationmode\": \"USA-states\", \"locations\": [\"AK\", \"MT\", \"ND\", \"SD\", \"VT\", \"WY\"], \"type\": \"choropleth\", \"z\": [0.20229405600000003, 0.22479649300000001, 0.0, 0.207995003, 0.043333332999999995]}, {\"colorbar\": {\"title\": {\"text\": \"Dysgeusia Average per State\"}}, \"colorscale\": [[0.0, \"rgb(255,245,240)\"], [0.125, \"rgb(254,224,210)\"], [0.25, \"rgb(252,187,161)\"], [0.375, \"rgb(252,146,114)\"], [0.5, \"rgb(251,106,74)\"], [0.625, \"rgb(239,59,44)\"], [0.75, \"rgb(203,24,29)\"], [0.875, \"rgb(165,15,21)\"], [1.0, \"rgb(103,0,13)\"]], \"locationmode\": \"USA-states\", \"locations\": [\"AK\", \"MT\", \"ND\", \"SD\", \"VT\", \"WY\"], \"type\": \"choropleth\", \"z\": [0.022940562999999997, 0.127739512, 0.278538813, 0.39412867, 0.093333333]}, {\"colorbar\": {\"title\": {\"text\": \"Dysgeusia Average per State\"}}, \"colorscale\": [[0.0, \"rgb(255,245,240)\"], [0.125, \"rgb(254,224,210)\"], [0.25, \"rgb(252,187,161)\"], [0.375, \"rgb(252,146,114)\"], [0.5, \"rgb(251,106,74)\"], [0.625, \"rgb(239,59,44)\"], [0.75, \"rgb(203,24,29)\"], [0.875, \"rgb(165,15,21)\"], [1.0, \"rgb(103,0,13)\"]], \"locationmode\": \"USA-states\", \"locations\": [\"AK\", \"MT\", \"ND\", \"SD\", \"VT\", \"WY\"], \"type\": \"choropleth\", \"z\": [0.0, 0.237946149, 0.278538813, 0.291068082, 0.40333333299999996]}, {\"colorbar\": {\"title\": {\"text\": \"Dysgeusia Average per State\"}}, \"colorscale\": [[0.0, \"rgb(255,245,240)\"], [0.125, \"rgb(254,224,210)\"], [0.25, \"rgb(252,187,161)\"], [0.375, \"rgb(252,146,114)\"], [0.5, \"rgb(251,106,74)\"], [0.625, \"rgb(239,59,44)\"], [0.75, \"rgb(203,24,29)\"], [0.875, \"rgb(165,15,21)\"], [1.0, \"rgb(103,0,13)\"]], \"locationmode\": \"USA-states\", \"locations\": [\"AK\", \"MT\", \"ND\", \"SD\", \"VT\", \"WY\"], \"type\": \"choropleth\", \"z\": [0.43661986157480326, 0.09830933, 0.42074364, 0.14990630900000002, 0.76]}, {\"colorbar\": {\"title\": {\"text\": \"Dysgeusia Average per State\"}}, \"colorscale\": [[0.0, \"rgb(255,245,240)\"], [0.125, \"rgb(254,224,210)\"], [0.25, \"rgb(252,187,161)\"], [0.375, \"rgb(252,146,114)\"], [0.5, \"rgb(251,106,74)\"], [0.625, \"rgb(239,59,44)\"], [0.75, \"rgb(203,24,29)\"], [0.875, \"rgb(165,15,21)\"], [1.0, \"rgb(103,0,13)\"]], \"locationmode\": \"USA-states\", \"locations\": [\"AK\", \"MT\", \"ND\", \"SD\", \"VT\", \"WY\"], \"type\": \"choropleth\", \"z\": [0.43661986157480326, 0.19035691899999999, 0.284409654, 0.238600874, 0.06]}, {\"colorbar\": {\"title\": {\"text\": \"Dysgeusia Average per State\"}}, \"colorscale\": [[0.0, \"rgb(255,245,240)\"], [0.125, \"rgb(254,224,210)\"], [0.25, \"rgb(252,187,161)\"], [0.375, \"rgb(252,146,114)\"], [0.5, \"rgb(251,106,74)\"], [0.625, \"rgb(239,59,44)\"], [0.75, \"rgb(203,24,29)\"], [0.875, \"rgb(165,15,21)\"], [1.0, \"rgb(103,0,13)\"]], \"locationmode\": \"USA-states\", \"locations\": [\"AK\", \"MT\", \"ND\", \"SD\", \"VT\", \"WY\"], \"type\": \"choropleth\", \"z\": [0.225234619, 0.0, 0.327462492, 0.201748907, 0.323333333]}, {\"colorbar\": {\"title\": {\"text\": \"Dysgeusia Average per State\"}}, \"colorscale\": [[0.0, \"rgb(255,245,240)\"], [0.125, \"rgb(254,224,210)\"], [0.25, \"rgb(252,187,161)\"], [0.375, \"rgb(252,146,114)\"], [0.5, \"rgb(251,106,74)\"], [0.625, \"rgb(239,59,44)\"], [0.75, \"rgb(203,24,29)\"], [0.875, \"rgb(165,15,21)\"], [1.0, \"rgb(103,0,13)\"]], \"locationmode\": \"USA-states\", \"locations\": [\"AK\", \"MT\", \"ND\", \"SD\", \"VT\", \"WY\"], \"type\": \"choropleth\", \"z\": [0.257357545, 0.607305936, 0.221736415, 0.6033333329999999]}, {\"colorbar\": {\"title\": {\"text\": \"Dysgeusia Average per State\"}}, \"colorscale\": [[0.0, \"rgb(255,245,240)\"], [0.125, \"rgb(254,224,210)\"], [0.25, \"rgb(252,187,161)\"], [0.375, \"rgb(252,146,114)\"], [0.5, \"rgb(251,106,74)\"], [0.625, \"rgb(239,59,44)\"], [0.75, \"rgb(203,24,29)\"], [0.875, \"rgb(165,15,21)\"], [1.0, \"rgb(103,0,13)\"]], \"locationmode\": \"USA-states\", \"locations\": [\"AK\", \"MT\", \"ND\", \"SD\", \"VT\", \"WY\"], \"type\": \"choropleth\", \"z\": [0.283656857, 0.30658838899999996, 0.470955653, 0.0]}, {\"colorbar\": {\"title\": {\"text\": \"Dysgeusia Average per State\"}}, \"colorscale\": [[0.0, \"rgb(255,245,240)\"], [0.125, \"rgb(254,224,210)\"], [0.25, \"rgb(252,187,161)\"], [0.375, \"rgb(252,146,114)\"], [0.5, \"rgb(251,106,74)\"], [0.625, \"rgb(239,59,44)\"], [0.75, \"rgb(203,24,29)\"], [0.875, \"rgb(165,15,21)\"], [1.0, \"rgb(103,0,13)\"]], \"locationmode\": \"USA-states\", \"locations\": [\"AK\", \"MT\", \"ND\", \"SD\", \"VT\", \"WY\"], \"type\": \"choropleth\", \"z\": [0.46336881700000004, 0.31702544, 0.347282948, 0.56]}, {\"colorbar\": {\"title\": {\"text\": \"Dysgeusia Average per State\"}}, \"colorscale\": [[0.0, \"rgb(255,245,240)\"], [0.125, \"rgb(254,224,210)\"], [0.25, \"rgb(252,187,161)\"], [0.375, \"rgb(252,146,114)\"], [0.5, \"rgb(251,106,74)\"], [0.625, \"rgb(239,59,44)\"], [0.75, \"rgb(203,24,29)\"], [0.875, \"rgb(165,15,21)\"], [1.0, \"rgb(103,0,13)\"]], \"locationmode\": \"USA-states\", \"locations\": [\"AK\", \"MT\", \"ND\", \"SD\", \"VT\", \"WY\"], \"type\": \"choropleth\", \"z\": [0.313087038, 0.298108284, 0.30480949399999996, 0.47]}, {\"colorbar\": {\"title\": {\"text\": \"Dysgeusia Average per State\"}}, \"colorscale\": [[0.0, \"rgb(255,245,240)\"], [0.125, \"rgb(254,224,210)\"], [0.25, \"rgb(252,187,161)\"], [0.375, \"rgb(252,146,114)\"], [0.5, \"rgb(251,106,74)\"], [0.625, \"rgb(239,59,44)\"], [0.75, \"rgb(203,24,29)\"], [0.875, \"rgb(165,15,21)\"], [1.0, \"rgb(103,0,13)\"]], \"locationmode\": \"USA-states\", \"locations\": [\"AK\", \"MT\", \"ND\", \"SD\", \"VT\", \"WY\"], \"type\": \"choropleth\", \"z\": [0.35441452700000003, 0.518590998, 0.394753279, 0.41333333299999997]}, {\"colorbar\": {\"title\": {\"text\": \"Dysgeusia Average per State\"}}, \"colorscale\": [[0.0, \"rgb(255,245,240)\"], [0.125, \"rgb(254,224,210)\"], [0.25, \"rgb(252,187,161)\"], [0.375, \"rgb(252,146,114)\"], [0.5, \"rgb(251,106,74)\"], [0.625, \"rgb(239,59,44)\"], [0.75, \"rgb(203,24,29)\"], [0.875, \"rgb(165,15,21)\"], [1.0, \"rgb(103,0,13)\"]], \"locationmode\": \"USA-states\", \"locations\": [\"AK\", \"MT\", \"ND\", \"SD\", \"VT\", \"WY\"], \"type\": \"choropleth\", \"z\": [0.579211021, 0.523809524, 0.385384135, 0.196666667]}, {\"colorbar\": {\"title\": {\"text\": \"Dysgeusia Average per State\"}}, \"colorscale\": [[0.0, \"rgb(255,245,240)\"], [0.125, \"rgb(254,224,210)\"], [0.25, \"rgb(252,187,161)\"], [0.375, \"rgb(252,146,114)\"], [0.5, \"rgb(251,106,74)\"], [0.625, \"rgb(239,59,44)\"], [0.75, \"rgb(203,24,29)\"], [0.875, \"rgb(165,15,21)\"], [1.0, \"rgb(103,0,13)\"]], \"locationmode\": \"USA-states\", \"locations\": [\"AK\", \"MT\", \"ND\", \"SD\", \"VT\", \"WY\"], \"type\": \"choropleth\", \"z\": [0.48591108299999997, 0.426614481, 0.511555278, 0.66]}, {\"colorbar\": {\"title\": {\"text\": \"Dysgeusia Average per State\"}}, \"colorscale\": [[0.0, \"rgb(255,245,240)\"], [0.125, \"rgb(254,224,210)\"], [0.25, \"rgb(252,187,161)\"], [0.375, \"rgb(252,146,114)\"], [0.5, \"rgb(251,106,74)\"], [0.625, \"rgb(239,59,44)\"], [0.75, \"rgb(203,24,29)\"], [0.875, \"rgb(165,15,21)\"], [1.0, \"rgb(103,0,13)\"]], \"locationmode\": \"USA-states\", \"locations\": [\"AK\", \"MT\", \"ND\", \"SD\", \"VT\", \"WY\"], \"type\": \"choropleth\", \"z\": [0.369442705, 0.400521853, 0.800749532, 0.563333333]}, {\"colorbar\": {\"title\": {\"text\": \"Dysgeusia Average per State\"}}, \"colorscale\": [[0.0, \"rgb(255,245,240)\"], [0.125, \"rgb(254,224,210)\"], [0.25, \"rgb(252,187,161)\"], [0.375, \"rgb(252,146,114)\"], [0.5, \"rgb(251,106,74)\"], [0.625, \"rgb(239,59,44)\"], [0.75, \"rgb(203,24,29)\"], [0.875, \"rgb(165,15,21)\"], [1.0, \"rgb(103,0,13)\"]], \"locationmode\": \"USA-states\", \"locations\": [\"AK\", \"MT\", \"ND\", \"SD\", \"VT\", \"WY\"], \"type\": \"choropleth\", \"z\": [0.42705072, 0.600130463, 0.514678326, 0.31]}, {\"colorbar\": {\"title\": {\"text\": \"Dysgeusia Average per State\"}}, \"colorscale\": [[0.0, \"rgb(255,245,240)\"], [0.125, \"rgb(254,224,210)\"], [0.25, \"rgb(252,187,161)\"], [0.375, \"rgb(252,146,114)\"], [0.5, \"rgb(251,106,74)\"], [0.625, \"rgb(239,59,44)\"], [0.75, \"rgb(203,24,29)\"], [0.875, \"rgb(165,15,21)\"], [1.0, \"rgb(103,0,13)\"]], \"locationmode\": \"USA-states\", \"locations\": [\"AK\", \"MT\", \"ND\", \"SD\", \"VT\", \"WY\"], \"type\": \"choropleth\", \"z\": [0.418910457, 0.602739726, 0.47033104299999995, 0.006666666999999999]}, {\"colorbar\": {\"title\": {\"text\": \"Dysgeusia Average per State\"}}, \"colorscale\": [[0.0, \"rgb(255,245,240)\"], [0.125, \"rgb(254,224,210)\"], [0.25, \"rgb(252,187,161)\"], [0.375, \"rgb(252,146,114)\"], [0.5, \"rgb(251,106,74)\"], [0.625, \"rgb(239,59,44)\"], [0.75, \"rgb(203,24,29)\"], [0.875, \"rgb(165,15,21)\"], [1.0, \"rgb(103,0,13)\"]], \"locationmode\": \"USA-states\", \"locations\": [\"AK\", \"MT\", \"ND\", \"SD\", \"VT\", \"WY\"], \"type\": \"choropleth\", \"z\": [0.552285535, 0.281148076, 0.483447845, 0.423333333]}, {\"colorbar\": {\"title\": {\"text\": \"Dysgeusia Average per State\"}}, \"colorscale\": [[0.0, \"rgb(255,245,240)\"], [0.125, \"rgb(254,224,210)\"], [0.25, \"rgb(252,187,161)\"], [0.375, \"rgb(252,146,114)\"], [0.5, \"rgb(251,106,74)\"], [0.625, \"rgb(239,59,44)\"], [0.75, \"rgb(203,24,29)\"], [0.875, \"rgb(165,15,21)\"], [1.0, \"rgb(103,0,13)\"]], \"locationmode\": \"USA-states\", \"locations\": [\"AK\", \"MT\", \"ND\", \"SD\", \"VT\", \"WY\"], \"type\": \"choropleth\", \"z\": [0.307451472, 0.5414220479999999, 0.550281074, 0.513333333]}, {\"colorbar\": {\"title\": {\"text\": \"Dysgeusia Average per State\"}}, \"colorscale\": [[0.0, \"rgb(255,245,240)\"], [0.125, \"rgb(254,224,210)\"], [0.25, \"rgb(252,187,161)\"], [0.375, \"rgb(252,146,114)\"], [0.5, \"rgb(251,106,74)\"], [0.625, \"rgb(239,59,44)\"], [0.75, \"rgb(203,24,29)\"], [0.875, \"rgb(165,15,21)\"], [1.0, \"rgb(103,0,13)\"]], \"locationmode\": \"USA-states\", \"locations\": [\"AK\", \"MT\", \"ND\", \"SD\", \"VT\", \"WY\"], \"type\": \"choropleth\", \"z\": [0.29931120899999997, 0.6131767779999999, 1.0, 0.51]}, {\"colorbar\": {\"title\": {\"text\": \"Dysgeusia Average per State\"}}, \"colorscale\": [[0.0, \"rgb(255,245,240)\"], [0.125, \"rgb(254,224,210)\"], [0.25, \"rgb(252,187,161)\"], [0.375, \"rgb(252,146,114)\"], [0.5, \"rgb(251,106,74)\"], [0.625, \"rgb(239,59,44)\"], [0.75, \"rgb(203,24,29)\"], [0.875, \"rgb(165,15,21)\"], [1.0, \"rgb(103,0,13)\"]], \"locationmode\": \"USA-states\", \"locations\": [\"AK\", \"MT\", \"ND\", \"SD\", \"VT\", \"WY\"], \"type\": \"choropleth\", \"z\": [0.372573575, 0.479452055, 0.581511555, 0.563333333]}, {\"colorbar\": {\"title\": {\"text\": \"Dysgeusia Average per State\"}}, \"colorscale\": [[0.0, \"rgb(255,245,240)\"], [0.125, \"rgb(254,224,210)\"], [0.25, \"rgb(252,187,161)\"], [0.375, \"rgb(252,146,114)\"], [0.5, \"rgb(251,106,74)\"], [0.625, \"rgb(239,59,44)\"], [0.75, \"rgb(203,24,29)\"], [0.875, \"rgb(165,15,21)\"], [1.0, \"rgb(103,0,13)\"]], \"locationmode\": \"USA-states\", \"locations\": [\"AK\", \"MT\", \"ND\", \"SD\", \"VT\", \"WY\"], \"type\": \"choropleth\", \"z\": [0.510958046, 0.6979778209999999, 0.7326670829999999, 0.496666667]}, {\"colorbar\": {\"title\": {\"text\": \"Dysgeusia Average per State\"}}, \"colorscale\": [[0.0, \"rgb(255,245,240)\"], [0.125, \"rgb(254,224,210)\"], [0.25, \"rgb(252,187,161)\"], [0.375, \"rgb(252,146,114)\"], [0.5, \"rgb(251,106,74)\"], [0.625, \"rgb(239,59,44)\"], [0.75, \"rgb(203,24,29)\"], [0.875, \"rgb(165,15,21)\"], [1.0, \"rgb(103,0,13)\"]], \"locationmode\": \"USA-states\", \"locations\": [\"AK\", \"MT\", \"ND\", \"SD\", \"VT\", \"WY\"], \"type\": \"choropleth\", \"z\": [0.581715717, 0.780821918, 0.7763897559999999, 0.43661986157480326]}, {\"colorbar\": {\"title\": {\"text\": \"Dysgeusia Average per State\"}}, \"colorscale\": [[0.0, \"rgb(255,245,240)\"], [0.125, \"rgb(254,224,210)\"], [0.25, \"rgb(252,187,161)\"], [0.375, \"rgb(252,146,114)\"], [0.5, \"rgb(251,106,74)\"], [0.625, \"rgb(239,59,44)\"], [0.75, \"rgb(203,24,29)\"], [0.875, \"rgb(165,15,21)\"], [1.0, \"rgb(103,0,13)\"]], \"locationmode\": \"USA-states\", \"locations\": [\"AK\", \"MT\", \"ND\", \"SD\", \"VT\", \"WY\"], \"type\": \"choropleth\", \"z\": [0.778960551, 0.727332029, 0.697064335, 0.79]}, {\"colorbar\": {\"title\": {\"text\": \"Dysgeusia Average per State\"}}, \"colorscale\": [[0.0, \"rgb(255,245,240)\"], [0.125, \"rgb(254,224,210)\"], [0.25, \"rgb(252,187,161)\"], [0.375, \"rgb(252,146,114)\"], [0.5, \"rgb(251,106,74)\"], [0.625, \"rgb(239,59,44)\"], [0.75, \"rgb(203,24,29)\"], [0.875, \"rgb(165,15,21)\"], [1.0, \"rgb(103,0,13)\"]], \"locationmode\": \"USA-states\", \"locations\": [\"AK\", \"MT\", \"ND\", \"SD\", \"VT\", \"WY\"], \"type\": \"choropleth\", \"z\": [1.0, 1.0, 0.7607745159999999, 1.0]}, {\"colorbar\": {\"title\": {\"text\": \"Dysgeusia Average per State\"}}, \"colorscale\": [[0.0, \"rgb(255,245,240)\"], [0.125, \"rgb(254,224,210)\"], [0.25, \"rgb(252,187,161)\"], [0.375, \"rgb(252,146,114)\"], [0.5, \"rgb(251,106,74)\"], [0.625, \"rgb(239,59,44)\"], [0.75, \"rgb(203,24,29)\"], [0.875, \"rgb(165,15,21)\"], [1.0, \"rgb(103,0,13)\"]], \"locationmode\": \"USA-states\", \"locations\": [\"AK\", \"MT\", \"ND\", \"SD\", \"VT\", \"WY\"], \"type\": \"choropleth\", \"z\": [0.365296804]}],                        {\"geo\": {\"projection\": {\"type\": \"mercator\"}, \"scope\": \"world\"}, \"sliders\": [{\"active\": 0, \"pad\": {\"t\": 1}, \"steps\": [{\"args\": [\"visible\", [true, false, false, false, false, false, false, false, false, false, false, false, false, false, false, false, false, false, false, false, false, false, false, false, false, false, false, false, false, false]], \"label\": \"Search Day 0\", \"method\": \"restyle\"}, {\"args\": [\"visible\", [false, true, false, false, false, false, false, false, false, false, false, false, false, false, false, false, false, false, false, false, false, false, false, false, false, false, false, false, false, false]], \"label\": \"Search Day 1\", \"method\": \"restyle\"}, {\"args\": [\"visible\", [false, false, true, false, false, false, false, false, false, false, false, false, false, false, false, false, false, false, false, false, false, false, false, false, false, false, false, false, false, false]], \"label\": \"Search Day 2\", \"method\": \"restyle\"}, {\"args\": [\"visible\", [false, false, false, true, false, false, false, false, false, false, false, false, false, false, false, false, false, false, false, false, false, false, false, false, false, false, false, false, false, false]], \"label\": \"Search Day 3\", \"method\": \"restyle\"}, {\"args\": [\"visible\", [false, false, false, false, true, false, false, false, false, false, false, false, false, false, false, false, false, false, false, false, false, false, false, false, false, false, false, false, false, false]], \"label\": \"Search Day 4\", \"method\": \"restyle\"}, {\"args\": [\"visible\", [false, false, false, false, false, true, false, false, false, false, false, false, false, false, false, false, false, false, false, false, false, false, false, false, false, false, false, false, false, false]], \"label\": \"Search Day 5\", \"method\": \"restyle\"}, {\"args\": [\"visible\", [false, false, false, false, false, false, true, false, false, false, false, false, false, false, false, false, false, false, false, false, false, false, false, false, false, false, false, false, false, false]], \"label\": \"Search Day 6\", \"method\": \"restyle\"}, {\"args\": [\"visible\", [false, false, false, false, false, false, false, true, false, false, false, false, false, false, false, false, false, false, false, false, false, false, false, false, false, false, false, false, false, false]], \"label\": \"Search Day 7\", \"method\": \"restyle\"}, {\"args\": [\"visible\", [false, false, false, false, false, false, false, false, true, false, false, false, false, false, false, false, false, false, false, false, false, false, false, false, false, false, false, false, false, false]], \"label\": \"Search Day 8\", \"method\": \"restyle\"}, {\"args\": [\"visible\", [false, false, false, false, false, false, false, false, false, true, false, false, false, false, false, false, false, false, false, false, false, false, false, false, false, false, false, false, false, false]], \"label\": \"Search Day 9\", \"method\": \"restyle\"}, {\"args\": [\"visible\", [false, false, false, false, false, false, false, false, false, false, true, false, false, false, false, false, false, false, false, false, false, false, false, false, false, false, false, false, false, false]], \"label\": \"Search Day 10\", \"method\": \"restyle\"}, {\"args\": [\"visible\", [false, false, false, false, false, false, false, false, false, false, false, true, false, false, false, false, false, false, false, false, false, false, false, false, false, false, false, false, false, false]], \"label\": \"Search Day 11\", \"method\": \"restyle\"}, {\"args\": [\"visible\", [false, false, false, false, false, false, false, false, false, false, false, false, true, false, false, false, false, false, false, false, false, false, false, false, false, false, false, false, false, false]], \"label\": \"Search Day 12\", \"method\": \"restyle\"}, {\"args\": [\"visible\", [false, false, false, false, false, false, false, false, false, false, false, false, false, true, false, false, false, false, false, false, false, false, false, false, false, false, false, false, false, false]], \"label\": \"Search Day 13\", \"method\": \"restyle\"}, {\"args\": [\"visible\", [false, false, false, false, false, false, false, false, false, false, false, false, false, false, true, false, false, false, false, false, false, false, false, false, false, false, false, false, false, false]], \"label\": \"Search Day 14\", \"method\": \"restyle\"}, {\"args\": [\"visible\", [false, false, false, false, false, false, false, false, false, false, false, false, false, false, false, true, false, false, false, false, false, false, false, false, false, false, false, false, false, false]], \"label\": \"Search Day 15\", \"method\": \"restyle\"}, {\"args\": [\"visible\", [false, false, false, false, false, false, false, false, false, false, false, false, false, false, false, false, true, false, false, false, false, false, false, false, false, false, false, false, false, false]], \"label\": \"Search Day 16\", \"method\": \"restyle\"}, {\"args\": [\"visible\", [false, false, false, false, false, false, false, false, false, false, false, false, false, false, false, false, false, true, false, false, false, false, false, false, false, false, false, false, false, false]], \"label\": \"Search Day 17\", \"method\": \"restyle\"}, {\"args\": [\"visible\", [false, false, false, false, false, false, false, false, false, false, false, false, false, false, false, false, false, false, true, false, false, false, false, false, false, false, false, false, false, false]], \"label\": \"Search Day 18\", \"method\": \"restyle\"}, {\"args\": [\"visible\", [false, false, false, false, false, false, false, false, false, false, false, false, false, false, false, false, false, false, false, true, false, false, false, false, false, false, false, false, false, false]], \"label\": \"Search Day 19\", \"method\": \"restyle\"}, {\"args\": [\"visible\", [false, false, false, false, false, false, false, false, false, false, false, false, false, false, false, false, false, false, false, false, true, false, false, false, false, false, false, false, false, false]], \"label\": \"Search Day 20\", \"method\": \"restyle\"}, {\"args\": [\"visible\", [false, false, false, false, false, false, false, false, false, false, false, false, false, false, false, false, false, false, false, false, false, true, false, false, false, false, false, false, false, false]], \"label\": \"Search Day 21\", \"method\": \"restyle\"}, {\"args\": [\"visible\", [false, false, false, false, false, false, false, false, false, false, false, false, false, false, false, false, false, false, false, false, false, false, true, false, false, false, false, false, false, false]], \"label\": \"Search Day 22\", \"method\": \"restyle\"}, {\"args\": [\"visible\", [false, false, false, false, false, false, false, false, false, false, false, false, false, false, false, false, false, false, false, false, false, false, false, true, false, false, false, false, false, false]], \"label\": \"Search Day 23\", \"method\": \"restyle\"}, {\"args\": [\"visible\", [false, false, false, false, false, false, false, false, false, false, false, false, false, false, false, false, false, false, false, false, false, false, false, false, true, false, false, false, false, false]], \"label\": \"Search Day 24\", \"method\": \"restyle\"}, {\"args\": [\"visible\", [false, false, false, false, false, false, false, false, false, false, false, false, false, false, false, false, false, false, false, false, false, false, false, false, false, true, false, false, false, false]], \"label\": \"Search Day 25\", \"method\": \"restyle\"}, {\"args\": [\"visible\", [false, false, false, false, false, false, false, false, false, false, false, false, false, false, false, false, false, false, false, false, false, false, false, false, false, false, true, false, false, false]], \"label\": \"Search Day 26\", \"method\": \"restyle\"}, {\"args\": [\"visible\", [false, false, false, false, false, false, false, false, false, false, false, false, false, false, false, false, false, false, false, false, false, false, false, false, false, false, false, true, false, false]], \"label\": \"Search Day 27\", \"method\": \"restyle\"}, {\"args\": [\"visible\", [false, false, false, false, false, false, false, false, false, false, false, false, false, false, false, false, false, false, false, false, false, false, false, false, false, false, false, false, true, false]], \"label\": \"Search Day 28\", \"method\": \"restyle\"}, {\"args\": [\"visible\", [false, false, false, false, false, false, false, false, false, false, false, false, false, false, false, false, false, false, false, false, false, false, false, false, false, false, false, false, false, true]], \"label\": \"Search Day 29\", \"method\": \"restyle\"}]}], \"template\": {\"data\": {\"bar\": [{\"error_x\": {\"color\": \"#2a3f5f\"}, \"error_y\": {\"color\": \"#2a3f5f\"}, \"marker\": {\"line\": {\"color\": \"#E5ECF6\", \"width\": 0.5}}, \"type\": \"bar\"}], \"barpolar\": [{\"marker\": {\"line\": {\"color\": \"#E5ECF6\", \"width\": 0.5}}, \"type\": \"barpolar\"}], \"carpet\": [{\"aaxis\": {\"endlinecolor\": \"#2a3f5f\", \"gridcolor\": \"white\", \"linecolor\": \"white\", \"minorgridcolor\": \"white\", \"startlinecolor\": \"#2a3f5f\"}, \"baxis\": {\"endlinecolor\": \"#2a3f5f\", \"gridcolor\": \"white\", \"linecolor\": \"white\", \"minorgridcolor\": \"white\", \"startlinecolor\": \"#2a3f5f\"}, \"type\": \"carpet\"}], \"choropleth\": [{\"colorbar\": {\"outlinewidth\": 0, \"ticks\": \"\"}, \"type\": \"choropleth\"}], \"contour\": [{\"colorbar\": {\"outlinewidth\": 0, \"ticks\": \"\"}, \"colorscale\": [[0.0, \"#0d0887\"], [0.1111111111111111, \"#46039f\"], [0.2222222222222222, \"#7201a8\"], [0.3333333333333333, \"#9c179e\"], [0.4444444444444444, \"#bd3786\"], [0.5555555555555556, \"#d8576b\"], [0.6666666666666666, \"#ed7953\"], [0.7777777777777778, \"#fb9f3a\"], [0.8888888888888888, \"#fdca26\"], [1.0, \"#f0f921\"]], \"type\": \"contour\"}], \"contourcarpet\": [{\"colorbar\": {\"outlinewidth\": 0, \"ticks\": \"\"}, \"type\": \"contourcarpet\"}], \"heatmap\": [{\"colorbar\": {\"outlinewidth\": 0, \"ticks\": \"\"}, \"colorscale\": [[0.0, \"#0d0887\"], [0.1111111111111111, \"#46039f\"], [0.2222222222222222, \"#7201a8\"], [0.3333333333333333, \"#9c179e\"], [0.4444444444444444, \"#bd3786\"], [0.5555555555555556, \"#d8576b\"], [0.6666666666666666, \"#ed7953\"], [0.7777777777777778, \"#fb9f3a\"], [0.8888888888888888, \"#fdca26\"], [1.0, \"#f0f921\"]], \"type\": \"heatmap\"}], \"heatmapgl\": [{\"colorbar\": {\"outlinewidth\": 0, \"ticks\": \"\"}, \"colorscale\": [[0.0, \"#0d0887\"], [0.1111111111111111, \"#46039f\"], [0.2222222222222222, \"#7201a8\"], [0.3333333333333333, \"#9c179e\"], [0.4444444444444444, \"#bd3786\"], [0.5555555555555556, \"#d8576b\"], [0.6666666666666666, \"#ed7953\"], [0.7777777777777778, \"#fb9f3a\"], [0.8888888888888888, \"#fdca26\"], [1.0, \"#f0f921\"]], \"type\": \"heatmapgl\"}], \"histogram\": [{\"marker\": {\"colorbar\": {\"outlinewidth\": 0, \"ticks\": \"\"}}, \"type\": \"histogram\"}], \"histogram2d\": [{\"colorbar\": {\"outlinewidth\": 0, \"ticks\": \"\"}, \"colorscale\": [[0.0, \"#0d0887\"], [0.1111111111111111, \"#46039f\"], [0.2222222222222222, \"#7201a8\"], [0.3333333333333333, \"#9c179e\"], [0.4444444444444444, \"#bd3786\"], [0.5555555555555556, \"#d8576b\"], [0.6666666666666666, \"#ed7953\"], [0.7777777777777778, \"#fb9f3a\"], [0.8888888888888888, \"#fdca26\"], [1.0, \"#f0f921\"]], \"type\": \"histogram2d\"}], \"histogram2dcontour\": [{\"colorbar\": {\"outlinewidth\": 0, \"ticks\": \"\"}, \"colorscale\": [[0.0, \"#0d0887\"], [0.1111111111111111, \"#46039f\"], [0.2222222222222222, \"#7201a8\"], [0.3333333333333333, \"#9c179e\"], [0.4444444444444444, \"#bd3786\"], [0.5555555555555556, \"#d8576b\"], [0.6666666666666666, \"#ed7953\"], [0.7777777777777778, \"#fb9f3a\"], [0.8888888888888888, \"#fdca26\"], [1.0, \"#f0f921\"]], \"type\": \"histogram2dcontour\"}], \"mesh3d\": [{\"colorbar\": {\"outlinewidth\": 0, \"ticks\": \"\"}, \"type\": \"mesh3d\"}], \"parcoords\": [{\"line\": {\"colorbar\": {\"outlinewidth\": 0, \"ticks\": \"\"}}, \"type\": \"parcoords\"}], \"pie\": [{\"automargin\": true, \"type\": \"pie\"}], \"scatter\": [{\"marker\": {\"colorbar\": {\"outlinewidth\": 0, \"ticks\": \"\"}}, \"type\": \"scatter\"}], \"scatter3d\": [{\"line\": {\"colorbar\": {\"outlinewidth\": 0, \"ticks\": \"\"}}, \"marker\": {\"colorbar\": {\"outlinewidth\": 0, \"ticks\": \"\"}}, \"type\": \"scatter3d\"}], \"scattercarpet\": [{\"marker\": {\"colorbar\": {\"outlinewidth\": 0, \"ticks\": \"\"}}, \"type\": \"scattercarpet\"}], \"scattergeo\": [{\"marker\": {\"colorbar\": {\"outlinewidth\": 0, \"ticks\": \"\"}}, \"type\": \"scattergeo\"}], \"scattergl\": [{\"marker\": {\"colorbar\": {\"outlinewidth\": 0, \"ticks\": \"\"}}, \"type\": \"scattergl\"}], \"scattermapbox\": [{\"marker\": {\"colorbar\": {\"outlinewidth\": 0, \"ticks\": \"\"}}, \"type\": \"scattermapbox\"}], \"scatterpolar\": [{\"marker\": {\"colorbar\": {\"outlinewidth\": 0, \"ticks\": \"\"}}, \"type\": \"scatterpolar\"}], \"scatterpolargl\": [{\"marker\": {\"colorbar\": {\"outlinewidth\": 0, \"ticks\": \"\"}}, \"type\": \"scatterpolargl\"}], \"scatterternary\": [{\"marker\": {\"colorbar\": {\"outlinewidth\": 0, \"ticks\": \"\"}}, \"type\": \"scatterternary\"}], \"surface\": [{\"colorbar\": {\"outlinewidth\": 0, \"ticks\": \"\"}, \"colorscale\": [[0.0, \"#0d0887\"], [0.1111111111111111, \"#46039f\"], [0.2222222222222222, \"#7201a8\"], [0.3333333333333333, \"#9c179e\"], [0.4444444444444444, \"#bd3786\"], [0.5555555555555556, \"#d8576b\"], [0.6666666666666666, \"#ed7953\"], [0.7777777777777778, \"#fb9f3a\"], [0.8888888888888888, \"#fdca26\"], [1.0, \"#f0f921\"]], \"type\": \"surface\"}], \"table\": [{\"cells\": {\"fill\": {\"color\": \"#EBF0F8\"}, \"line\": {\"color\": \"white\"}}, \"header\": {\"fill\": {\"color\": \"#C8D4E3\"}, \"line\": {\"color\": \"white\"}}, \"type\": \"table\"}]}, \"layout\": {\"annotationdefaults\": {\"arrowcolor\": \"#2a3f5f\", \"arrowhead\": 0, \"arrowwidth\": 1}, \"coloraxis\": {\"colorbar\": {\"outlinewidth\": 0, \"ticks\": \"\"}}, \"colorscale\": {\"diverging\": [[0, \"#8e0152\"], [0.1, \"#c51b7d\"], [0.2, \"#de77ae\"], [0.3, \"#f1b6da\"], [0.4, \"#fde0ef\"], [0.5, \"#f7f7f7\"], [0.6, \"#e6f5d0\"], [0.7, \"#b8e186\"], [0.8, \"#7fbc41\"], [0.9, \"#4d9221\"], [1, \"#276419\"]], \"sequential\": [[0.0, \"#0d0887\"], [0.1111111111111111, \"#46039f\"], [0.2222222222222222, \"#7201a8\"], [0.3333333333333333, \"#9c179e\"], [0.4444444444444444, \"#bd3786\"], [0.5555555555555556, \"#d8576b\"], [0.6666666666666666, \"#ed7953\"], [0.7777777777777778, \"#fb9f3a\"], [0.8888888888888888, \"#fdca26\"], [1.0, \"#f0f921\"]], \"sequentialminus\": [[0.0, \"#0d0887\"], [0.1111111111111111, \"#46039f\"], [0.2222222222222222, \"#7201a8\"], [0.3333333333333333, \"#9c179e\"], [0.4444444444444444, \"#bd3786\"], [0.5555555555555556, \"#d8576b\"], [0.6666666666666666, \"#ed7953\"], [0.7777777777777778, \"#fb9f3a\"], [0.8888888888888888, \"#fdca26\"], [1.0, \"#f0f921\"]]}, \"colorway\": [\"#636efa\", \"#EF553B\", \"#00cc96\", \"#ab63fa\", \"#FFA15A\", \"#19d3f3\", \"#FF6692\", \"#B6E880\", \"#FF97FF\", \"#FECB52\"], \"font\": {\"color\": \"#2a3f5f\"}, \"geo\": {\"bgcolor\": \"white\", \"lakecolor\": \"white\", \"landcolor\": \"#E5ECF6\", \"showlakes\": true, \"showland\": true, \"subunitcolor\": \"white\"}, \"hoverlabel\": {\"align\": \"left\"}, \"hovermode\": \"closest\", \"mapbox\": {\"style\": \"light\"}, \"paper_bgcolor\": \"white\", \"plot_bgcolor\": \"#E5ECF6\", \"polar\": {\"angularaxis\": {\"gridcolor\": \"white\", \"linecolor\": \"white\", \"ticks\": \"\"}, \"bgcolor\": \"#E5ECF6\", \"radialaxis\": {\"gridcolor\": \"white\", \"linecolor\": \"white\", \"ticks\": \"\"}}, \"scene\": {\"xaxis\": {\"backgroundcolor\": \"#E5ECF6\", \"gridcolor\": \"white\", \"gridwidth\": 2, \"linecolor\": \"white\", \"showbackground\": true, \"ticks\": \"\", \"zerolinecolor\": \"white\"}, \"yaxis\": {\"backgroundcolor\": \"#E5ECF6\", \"gridcolor\": \"white\", \"gridwidth\": 2, \"linecolor\": \"white\", \"showbackground\": true, \"ticks\": \"\", \"zerolinecolor\": \"white\"}, \"zaxis\": {\"backgroundcolor\": \"#E5ECF6\", \"gridcolor\": \"white\", \"gridwidth\": 2, \"linecolor\": \"white\", \"showbackground\": true, \"ticks\": \"\", \"zerolinecolor\": \"white\"}}, \"shapedefaults\": {\"line\": {\"color\": \"#2a3f5f\"}}, \"ternary\": {\"aaxis\": {\"gridcolor\": \"white\", \"linecolor\": \"white\", \"ticks\": \"\"}, \"baxis\": {\"gridcolor\": \"white\", \"linecolor\": \"white\", \"ticks\": \"\"}, \"bgcolor\": \"#E5ECF6\", \"caxis\": {\"gridcolor\": \"white\", \"linecolor\": \"white\", \"ticks\": \"\"}}, \"title\": {\"x\": 0.05}, \"xaxis\": {\"automargin\": true, \"gridcolor\": \"white\", \"linecolor\": \"white\", \"ticks\": \"\", \"title\": {\"standoff\": 15}, \"zerolinecolor\": \"white\", \"zerolinewidth\": 2}, \"yaxis\": {\"automargin\": true, \"gridcolor\": \"white\", \"linecolor\": \"white\", \"ticks\": \"\", \"title\": {\"standoff\": 15}, \"zerolinecolor\": \"white\", \"zerolinewidth\": 2}}}},                        {\"responsive\": true}                    ).then(function(){\n",
       "                            \n",
       "var gd = document.getElementById('3dc6294b-1b7b-4070-8174-97bc4f4c73cc');\n",
       "var x = new MutationObserver(function (mutations, observer) {{\n",
       "        var display = window.getComputedStyle(gd).display;\n",
       "        if (!display || display === 'none') {{\n",
       "            console.log([gd, 'removed!']);\n",
       "            Plotly.purge(gd);\n",
       "            observer.disconnect();\n",
       "        }}\n",
       "}});\n",
       "\n",
       "// Listen for the removal of the full notebook cells\n",
       "var notebookContainer = gd.closest('#notebook-container');\n",
       "if (notebookContainer) {{\n",
       "    x.observe(notebookContainer, {childList: true});\n",
       "}}\n",
       "\n",
       "// Listen for the clearing of the current output cell\n",
       "var outputEl = gd.closest('.output');\n",
       "if (outputEl) {{\n",
       "    x.observe(outputEl, {childList: true});\n",
       "}}\n",
       "\n",
       "                        })                };                });            </script>        </div>"
      ]
     },
     "metadata": {},
     "output_type": "display_data"
    }
   ],
   "source": [
    "df_date = df_pca\n",
    "\n",
    "data_slider = []\n",
    "\n",
    "for days in df_date['date2'].unique():\n",
    "\n",
    "    # I select the day\n",
    "    df_days = df_date[df_date['date2'] == days]\n",
    "\n",
    "    for col in df_days.columns:  # I transform the columns into string type so I can:\n",
    "        df_days[col] = df_days[col].astype(str)\n",
    "\n",
    "    ### create the dictionary with the data for the current year\n",
    "    data_one_day = dict(\n",
    "                        type='choropleth',\n",
    "                        locations=[\"AK\",\"MT\",\"ND\",\"SD\",\"VT\", \"WY\"], # Spatial coordinates\n",
    "                        z = df_days['Dysgeusia'].astype(float), # Data to be color-coded\n",
    "                        locationmode = 'USA-states', # set of locations match entries in `locations`\n",
    "                        colorscale = 'Reds',\n",
    "                        colorbar_title = \"Dysgeusia Average per State\"\n",
    "                        )\n",
    " \n",
    "    data_slider.append(data_one_day)\n",
    "    \n",
    "\n",
    "##  I create the steps for the slider\n",
    "steps = []\n",
    "\n",
    "for i in range(len(data_slider)):\n",
    "    step = dict(method='restyle',\n",
    "                args=['visible', [False] * len(data_slider)],\n",
    "                label='Search Day {}'.format(i)) # label to be displayed for each step (day)\n",
    "    step['args'][1][i] = True\n",
    "    steps.append(step)\n",
    "\n",
    "##  I create the 'sliders' object from the 'steps' \n",
    "sliders = [dict(active=0, pad={\"t\": 1}, steps=steps)] \n",
    "\n",
    "\n",
    "# I set up the layout (including slider option)\n",
    "layout = dict(geo=dict(scope='world',\n",
    "                       projection={'type': 'mercator'}),\n",
    "              sliders=sliders)\n",
    "       \n",
    "\n",
    "\n",
    "# I create the figure object:\n",
    "fig = dict(data=data_slider, layout=layout) \n",
    "\n",
    "\n",
    "# to plot in the notebook\n",
    "plotly.offline.iplot(fig)\n"
   ]
  },
  {
   "cell_type": "code",
   "execution_count": 155,
   "metadata": {},
   "outputs": [
    {
     "data": {
      "text/html": [
       "<div>\n",
       "<style scoped>\n",
       "    .dataframe tbody tr th:only-of-type {\n",
       "        vertical-align: middle;\n",
       "    }\n",
       "\n",
       "    .dataframe tbody tr th {\n",
       "        vertical-align: top;\n",
       "    }\n",
       "\n",
       "    .dataframe thead th {\n",
       "        text-align: right;\n",
       "    }\n",
       "</style>\n",
       "<table border=\"1\" class=\"dataframe\">\n",
       "  <thead>\n",
       "    <tr style=\"text-align: right;\">\n",
       "      <th></th>\n",
       "      <th>Adrenal crisis</th>\n",
       "      <th>Ageusia</th>\n",
       "      <th>Allergic conjunctivitis</th>\n",
       "      <th>Amenorrhea</th>\n",
       "      <th>Angular cheilitis</th>\n",
       "      <th>Anosmia</th>\n",
       "      <th>Asphyxia</th>\n",
       "      <th>Atheroma</th>\n",
       "      <th>Auditory hallucination</th>\n",
       "      <th>Balance disorder</th>\n",
       "      <th>...</th>\n",
       "      <th>Subdural hematoma</th>\n",
       "      <th>Tachypnea</th>\n",
       "      <th>Tenderness</th>\n",
       "      <th>Thyroid nodule</th>\n",
       "      <th>Trichoptilosis</th>\n",
       "      <th>Upper respiratory tract infection</th>\n",
       "      <th>Urethritis</th>\n",
       "      <th>Urinary urgency</th>\n",
       "      <th>Ventricular fibrillation</th>\n",
       "      <th>hospitalized_new</th>\n",
       "    </tr>\n",
       "  </thead>\n",
       "  <tbody>\n",
       "    <tr>\n",
       "      <th>0</th>\n",
       "      <td>0.242395</td>\n",
       "      <td>1.000000</td>\n",
       "      <td>0.337980</td>\n",
       "      <td>0.190876</td>\n",
       "      <td>0.329669</td>\n",
       "      <td>1.000000</td>\n",
       "      <td>0.017390</td>\n",
       "      <td>0.447195</td>\n",
       "      <td>0.065826</td>\n",
       "      <td>0.339399</td>\n",
       "      <td>...</td>\n",
       "      <td>0.173611</td>\n",
       "      <td>0.454545</td>\n",
       "      <td>0.147368</td>\n",
       "      <td>0.000000</td>\n",
       "      <td>0.058757</td>\n",
       "      <td>0.431432</td>\n",
       "      <td>0.044330</td>\n",
       "      <td>0.340649</td>\n",
       "      <td>0.069176</td>\n",
       "      <td>6</td>\n",
       "    </tr>\n",
       "    <tr>\n",
       "      <th>1</th>\n",
       "      <td>0.134936</td>\n",
       "      <td>0.282752</td>\n",
       "      <td>0.041096</td>\n",
       "      <td>0.070828</td>\n",
       "      <td>0.329669</td>\n",
       "      <td>0.322087</td>\n",
       "      <td>0.053443</td>\n",
       "      <td>0.125413</td>\n",
       "      <td>0.078431</td>\n",
       "      <td>0.428571</td>\n",
       "      <td>...</td>\n",
       "      <td>0.000000</td>\n",
       "      <td>0.546320</td>\n",
       "      <td>0.115088</td>\n",
       "      <td>0.142392</td>\n",
       "      <td>0.785311</td>\n",
       "      <td>0.250794</td>\n",
       "      <td>0.148454</td>\n",
       "      <td>0.650794</td>\n",
       "      <td>0.076297</td>\n",
       "      <td>14</td>\n",
       "    </tr>\n",
       "    <tr>\n",
       "      <th>2</th>\n",
       "      <td>0.189892</td>\n",
       "      <td>0.131008</td>\n",
       "      <td>0.337980</td>\n",
       "      <td>0.343337</td>\n",
       "      <td>0.156448</td>\n",
       "      <td>0.003374</td>\n",
       "      <td>0.021066</td>\n",
       "      <td>0.453795</td>\n",
       "      <td>0.354797</td>\n",
       "      <td>0.414923</td>\n",
       "      <td>...</td>\n",
       "      <td>0.088542</td>\n",
       "      <td>0.261472</td>\n",
       "      <td>0.063860</td>\n",
       "      <td>0.082181</td>\n",
       "      <td>0.676836</td>\n",
       "      <td>0.137826</td>\n",
       "      <td>0.176289</td>\n",
       "      <td>0.340649</td>\n",
       "      <td>0.294846</td>\n",
       "      <td>11</td>\n",
       "    </tr>\n",
       "    <tr>\n",
       "      <th>3</th>\n",
       "      <td>0.001472</td>\n",
       "      <td>0.345430</td>\n",
       "      <td>0.337980</td>\n",
       "      <td>0.000000</td>\n",
       "      <td>0.042283</td>\n",
       "      <td>0.103815</td>\n",
       "      <td>0.033084</td>\n",
       "      <td>0.216997</td>\n",
       "      <td>0.492997</td>\n",
       "      <td>0.232029</td>\n",
       "      <td>...</td>\n",
       "      <td>0.023727</td>\n",
       "      <td>0.138528</td>\n",
       "      <td>0.203509</td>\n",
       "      <td>0.544345</td>\n",
       "      <td>0.572881</td>\n",
       "      <td>0.130369</td>\n",
       "      <td>0.000000</td>\n",
       "      <td>0.340649</td>\n",
       "      <td>0.294846</td>\n",
       "      <td>5</td>\n",
       "    </tr>\n",
       "    <tr>\n",
       "      <th>4</th>\n",
       "      <td>0.058391</td>\n",
       "      <td>0.345430</td>\n",
       "      <td>0.000000</td>\n",
       "      <td>0.475390</td>\n",
       "      <td>0.329669</td>\n",
       "      <td>0.291814</td>\n",
       "      <td>0.013856</td>\n",
       "      <td>0.580858</td>\n",
       "      <td>0.544818</td>\n",
       "      <td>0.515014</td>\n",
       "      <td>...</td>\n",
       "      <td>0.261018</td>\n",
       "      <td>0.242424</td>\n",
       "      <td>0.476491</td>\n",
       "      <td>0.194467</td>\n",
       "      <td>0.229379</td>\n",
       "      <td>0.077337</td>\n",
       "      <td>0.184536</td>\n",
       "      <td>0.340649</td>\n",
       "      <td>0.268566</td>\n",
       "      <td>-36</td>\n",
       "    </tr>\n",
       "  </tbody>\n",
       "</table>\n",
       "<p>5 rows × 101 columns</p>\n",
       "</div>"
      ],
      "text/plain": [
       "   Adrenal crisis   Ageusia  Allergic conjunctivitis  Amenorrhea  \\\n",
       "0        0.242395  1.000000                 0.337980    0.190876   \n",
       "1        0.134936  0.282752                 0.041096    0.070828   \n",
       "2        0.189892  0.131008                 0.337980    0.343337   \n",
       "3        0.001472  0.345430                 0.337980    0.000000   \n",
       "4        0.058391  0.345430                 0.000000    0.475390   \n",
       "\n",
       "   Angular cheilitis   Anosmia  Asphyxia  Atheroma  Auditory hallucination  \\\n",
       "0           0.329669  1.000000  0.017390  0.447195                0.065826   \n",
       "1           0.329669  0.322087  0.053443  0.125413                0.078431   \n",
       "2           0.156448  0.003374  0.021066  0.453795                0.354797   \n",
       "3           0.042283  0.103815  0.033084  0.216997                0.492997   \n",
       "4           0.329669  0.291814  0.013856  0.580858                0.544818   \n",
       "\n",
       "   Balance disorder  ...  Subdural hematoma  Tachypnea  Tenderness  \\\n",
       "0          0.339399  ...           0.173611   0.454545    0.147368   \n",
       "1          0.428571  ...           0.000000   0.546320    0.115088   \n",
       "2          0.414923  ...           0.088542   0.261472    0.063860   \n",
       "3          0.232029  ...           0.023727   0.138528    0.203509   \n",
       "4          0.515014  ...           0.261018   0.242424    0.476491   \n",
       "\n",
       "   Thyroid nodule  Trichoptilosis  Upper respiratory tract infection  \\\n",
       "0        0.000000        0.058757                           0.431432   \n",
       "1        0.142392        0.785311                           0.250794   \n",
       "2        0.082181        0.676836                           0.137826   \n",
       "3        0.544345        0.572881                           0.130369   \n",
       "4        0.194467        0.229379                           0.077337   \n",
       "\n",
       "   Urethritis  Urinary urgency  Ventricular fibrillation  hospitalized_new  \n",
       "0    0.044330         0.340649                  0.069176                 6  \n",
       "1    0.148454         0.650794                  0.076297                14  \n",
       "2    0.176289         0.340649                  0.294846                11  \n",
       "3    0.000000         0.340649                  0.294846                 5  \n",
       "4    0.184536         0.340649                  0.268566               -36  \n",
       "\n",
       "[5 rows x 101 columns]"
      ]
     },
     "execution_count": 155,
     "metadata": {},
     "output_type": "execute_result"
    }
   ],
   "source": [
    "df_pca2=df_pca\n",
    "df_pca2.drop('country_region', axis=1, inplace=True)\n",
    "df_pca2.drop('sub_region_1', axis=1, inplace=True)\n",
    "df_pca2.drop('date', axis=1, inplace=True)\n",
    "df_pca2.drop('date2', axis=1, inplace=True)\n",
    "df_pca2.head()"
   ]
  },
  {
   "cell_type": "code",
   "execution_count": 57,
   "metadata": {},
   "outputs": [
    {
     "data": {
      "text/html": [
       "<div>\n",
       "<style scoped>\n",
       "    .dataframe tbody tr th:only-of-type {\n",
       "        vertical-align: middle;\n",
       "    }\n",
       "\n",
       "    .dataframe tbody tr th {\n",
       "        vertical-align: top;\n",
       "    }\n",
       "\n",
       "    .dataframe thead th {\n",
       "        text-align: right;\n",
       "    }\n",
       "</style>\n",
       "<table border=\"1\" class=\"dataframe\">\n",
       "  <thead>\n",
       "    <tr style=\"text-align: right;\">\n",
       "      <th></th>\n",
       "      <th>Adrenal crisis</th>\n",
       "      <th>Ageusia</th>\n",
       "      <th>Allergic conjunctivitis</th>\n",
       "      <th>Amenorrhea</th>\n",
       "      <th>Angular cheilitis</th>\n",
       "      <th>Anosmia</th>\n",
       "      <th>Asphyxia</th>\n",
       "      <th>Atheroma</th>\n",
       "      <th>Auditory hallucination</th>\n",
       "      <th>Balance disorder</th>\n",
       "      <th>...</th>\n",
       "      <th>Subdural hematoma</th>\n",
       "      <th>Tachypnea</th>\n",
       "      <th>Tenderness</th>\n",
       "      <th>Thyroid nodule</th>\n",
       "      <th>Trichoptilosis</th>\n",
       "      <th>Upper respiratory tract infection</th>\n",
       "      <th>Urethritis</th>\n",
       "      <th>Urinary urgency</th>\n",
       "      <th>Ventricular fibrillation</th>\n",
       "      <th>hospitalized_new</th>\n",
       "    </tr>\n",
       "  </thead>\n",
       "  <tbody>\n",
       "    <tr>\n",
       "      <th>count</th>\n",
       "      <td>130.000000</td>\n",
       "      <td>130.000000</td>\n",
       "      <td>130.000000</td>\n",
       "      <td>130.000000</td>\n",
       "      <td>130.000000</td>\n",
       "      <td>130.000000</td>\n",
       "      <td>130.000000</td>\n",
       "      <td>130.000000</td>\n",
       "      <td>130.000000</td>\n",
       "      <td>130.000000</td>\n",
       "      <td>...</td>\n",
       "      <td>130.000000</td>\n",
       "      <td>130.000000</td>\n",
       "      <td>130.000000</td>\n",
       "      <td>130.000000</td>\n",
       "      <td>130.000000</td>\n",
       "      <td>130.000000</td>\n",
       "      <td>130.000000</td>\n",
       "      <td>130.000000</td>\n",
       "      <td>130.000000</td>\n",
       "      <td>130.000000</td>\n",
       "    </tr>\n",
       "    <tr>\n",
       "      <th>mean</th>\n",
       "      <td>0.227550</td>\n",
       "      <td>0.345430</td>\n",
       "      <td>0.337980</td>\n",
       "      <td>0.393062</td>\n",
       "      <td>0.329669</td>\n",
       "      <td>0.291814</td>\n",
       "      <td>0.100347</td>\n",
       "      <td>0.340735</td>\n",
       "      <td>0.354797</td>\n",
       "      <td>0.407752</td>\n",
       "      <td>...</td>\n",
       "      <td>0.261018</td>\n",
       "      <td>0.302293</td>\n",
       "      <td>0.385998</td>\n",
       "      <td>0.394612</td>\n",
       "      <td>0.341093</td>\n",
       "      <td>0.103257</td>\n",
       "      <td>0.296253</td>\n",
       "      <td>0.340649</td>\n",
       "      <td>0.294846</td>\n",
       "      <td>31.976923</td>\n",
       "    </tr>\n",
       "    <tr>\n",
       "      <th>std</th>\n",
       "      <td>0.199417</td>\n",
       "      <td>0.251469</td>\n",
       "      <td>0.250584</td>\n",
       "      <td>0.215991</td>\n",
       "      <td>0.167074</td>\n",
       "      <td>0.261541</td>\n",
       "      <td>0.186448</td>\n",
       "      <td>0.199704</td>\n",
       "      <td>0.199065</td>\n",
       "      <td>0.227720</td>\n",
       "      <td>...</td>\n",
       "      <td>0.154484</td>\n",
       "      <td>0.205008</td>\n",
       "      <td>0.219863</td>\n",
       "      <td>0.197991</td>\n",
       "      <td>0.230078</td>\n",
       "      <td>0.110853</td>\n",
       "      <td>0.192141</td>\n",
       "      <td>0.215297</td>\n",
       "      <td>0.188054</td>\n",
       "      <td>39.403786</td>\n",
       "    </tr>\n",
       "    <tr>\n",
       "      <th>min</th>\n",
       "      <td>0.000000</td>\n",
       "      <td>0.000000</td>\n",
       "      <td>0.000000</td>\n",
       "      <td>0.000000</td>\n",
       "      <td>0.000000</td>\n",
       "      <td>0.000000</td>\n",
       "      <td>0.000000</td>\n",
       "      <td>0.000000</td>\n",
       "      <td>0.000000</td>\n",
       "      <td>0.000000</td>\n",
       "      <td>...</td>\n",
       "      <td>0.000000</td>\n",
       "      <td>0.000000</td>\n",
       "      <td>0.000000</td>\n",
       "      <td>0.000000</td>\n",
       "      <td>0.000000</td>\n",
       "      <td>0.000000</td>\n",
       "      <td>0.000000</td>\n",
       "      <td>0.000000</td>\n",
       "      <td>0.000000</td>\n",
       "      <td>-45.000000</td>\n",
       "    </tr>\n",
       "    <tr>\n",
       "      <th>25%</th>\n",
       "      <td>0.099104</td>\n",
       "      <td>0.171706</td>\n",
       "      <td>0.147421</td>\n",
       "      <td>0.270751</td>\n",
       "      <td>0.301008</td>\n",
       "      <td>0.105305</td>\n",
       "      <td>0.034181</td>\n",
       "      <td>0.192491</td>\n",
       "      <td>0.221886</td>\n",
       "      <td>0.231384</td>\n",
       "      <td>...</td>\n",
       "      <td>0.144935</td>\n",
       "      <td>0.154307</td>\n",
       "      <td>0.225240</td>\n",
       "      <td>0.284039</td>\n",
       "      <td>0.171586</td>\n",
       "      <td>0.045501</td>\n",
       "      <td>0.173732</td>\n",
       "      <td>0.194407</td>\n",
       "      <td>0.155697</td>\n",
       "      <td>8.000000</td>\n",
       "    </tr>\n",
       "    <tr>\n",
       "      <th>50%</th>\n",
       "      <td>0.183415</td>\n",
       "      <td>0.330366</td>\n",
       "      <td>0.337980</td>\n",
       "      <td>0.381089</td>\n",
       "      <td>0.329669</td>\n",
       "      <td>0.220476</td>\n",
       "      <td>0.057582</td>\n",
       "      <td>0.307599</td>\n",
       "      <td>0.354797</td>\n",
       "      <td>0.412092</td>\n",
       "      <td>...</td>\n",
       "      <td>0.260761</td>\n",
       "      <td>0.280147</td>\n",
       "      <td>0.382731</td>\n",
       "      <td>0.394612</td>\n",
       "      <td>0.300920</td>\n",
       "      <td>0.103257</td>\n",
       "      <td>0.296253</td>\n",
       "      <td>0.340649</td>\n",
       "      <td>0.294846</td>\n",
       "      <td>19.000000</td>\n",
       "    </tr>\n",
       "    <tr>\n",
       "      <th>75%</th>\n",
       "      <td>0.281008</td>\n",
       "      <td>0.407512</td>\n",
       "      <td>0.400891</td>\n",
       "      <td>0.528172</td>\n",
       "      <td>0.337711</td>\n",
       "      <td>0.352993</td>\n",
       "      <td>0.086467</td>\n",
       "      <td>0.463686</td>\n",
       "      <td>0.503193</td>\n",
       "      <td>0.560732</td>\n",
       "      <td>...</td>\n",
       "      <td>0.327524</td>\n",
       "      <td>0.397741</td>\n",
       "      <td>0.492473</td>\n",
       "      <td>0.498520</td>\n",
       "      <td>0.468804</td>\n",
       "      <td>0.103257</td>\n",
       "      <td>0.334498</td>\n",
       "      <td>0.453767</td>\n",
       "      <td>0.376370</td>\n",
       "      <td>44.000000</td>\n",
       "    </tr>\n",
       "    <tr>\n",
       "      <th>max</th>\n",
       "      <td>1.000000</td>\n",
       "      <td>1.000000</td>\n",
       "      <td>1.000000</td>\n",
       "      <td>1.000000</td>\n",
       "      <td>1.000000</td>\n",
       "      <td>1.000000</td>\n",
       "      <td>1.000000</td>\n",
       "      <td>1.000000</td>\n",
       "      <td>1.000000</td>\n",
       "      <td>1.000000</td>\n",
       "      <td>...</td>\n",
       "      <td>0.699208</td>\n",
       "      <td>1.000000</td>\n",
       "      <td>1.000000</td>\n",
       "      <td>1.000000</td>\n",
       "      <td>1.000000</td>\n",
       "      <td>1.000000</td>\n",
       "      <td>1.000000</td>\n",
       "      <td>1.000000</td>\n",
       "      <td>1.000000</td>\n",
       "      <td>234.000000</td>\n",
       "    </tr>\n",
       "  </tbody>\n",
       "</table>\n",
       "<p>8 rows × 101 columns</p>\n",
       "</div>"
      ],
      "text/plain": [
       "       Adrenal crisis     Ageusia  Allergic conjunctivitis  Amenorrhea  \\\n",
       "count      130.000000  130.000000               130.000000  130.000000   \n",
       "mean         0.227550    0.345430                 0.337980    0.393062   \n",
       "std          0.199417    0.251469                 0.250584    0.215991   \n",
       "min          0.000000    0.000000                 0.000000    0.000000   \n",
       "25%          0.099104    0.171706                 0.147421    0.270751   \n",
       "50%          0.183415    0.330366                 0.337980    0.381089   \n",
       "75%          0.281008    0.407512                 0.400891    0.528172   \n",
       "max          1.000000    1.000000                 1.000000    1.000000   \n",
       "\n",
       "       Angular cheilitis     Anosmia    Asphyxia    Atheroma  \\\n",
       "count         130.000000  130.000000  130.000000  130.000000   \n",
       "mean            0.329669    0.291814    0.100347    0.340735   \n",
       "std             0.167074    0.261541    0.186448    0.199704   \n",
       "min             0.000000    0.000000    0.000000    0.000000   \n",
       "25%             0.301008    0.105305    0.034181    0.192491   \n",
       "50%             0.329669    0.220476    0.057582    0.307599   \n",
       "75%             0.337711    0.352993    0.086467    0.463686   \n",
       "max             1.000000    1.000000    1.000000    1.000000   \n",
       "\n",
       "       Auditory hallucination  Balance disorder  ...  Subdural hematoma  \\\n",
       "count              130.000000        130.000000  ...         130.000000   \n",
       "mean                 0.354797          0.407752  ...           0.261018   \n",
       "std                  0.199065          0.227720  ...           0.154484   \n",
       "min                  0.000000          0.000000  ...           0.000000   \n",
       "25%                  0.221886          0.231384  ...           0.144935   \n",
       "50%                  0.354797          0.412092  ...           0.260761   \n",
       "75%                  0.503193          0.560732  ...           0.327524   \n",
       "max                  1.000000          1.000000  ...           0.699208   \n",
       "\n",
       "        Tachypnea  Tenderness  Thyroid nodule  Trichoptilosis  \\\n",
       "count  130.000000  130.000000      130.000000      130.000000   \n",
       "mean     0.302293    0.385998        0.394612        0.341093   \n",
       "std      0.205008    0.219863        0.197991        0.230078   \n",
       "min      0.000000    0.000000        0.000000        0.000000   \n",
       "25%      0.154307    0.225240        0.284039        0.171586   \n",
       "50%      0.280147    0.382731        0.394612        0.300920   \n",
       "75%      0.397741    0.492473        0.498520        0.468804   \n",
       "max      1.000000    1.000000        1.000000        1.000000   \n",
       "\n",
       "       Upper respiratory tract infection  Urethritis  Urinary urgency  \\\n",
       "count                         130.000000  130.000000       130.000000   \n",
       "mean                            0.103257    0.296253         0.340649   \n",
       "std                             0.110853    0.192141         0.215297   \n",
       "min                             0.000000    0.000000         0.000000   \n",
       "25%                             0.045501    0.173732         0.194407   \n",
       "50%                             0.103257    0.296253         0.340649   \n",
       "75%                             0.103257    0.334498         0.453767   \n",
       "max                             1.000000    1.000000         1.000000   \n",
       "\n",
       "       Ventricular fibrillation  hospitalized_new  \n",
       "count                130.000000        130.000000  \n",
       "mean                   0.294846         31.976923  \n",
       "std                    0.188054         39.403786  \n",
       "min                    0.000000        -45.000000  \n",
       "25%                    0.155697          8.000000  \n",
       "50%                    0.294846         19.000000  \n",
       "75%                    0.376370         44.000000  \n",
       "max                    1.000000        234.000000  \n",
       "\n",
       "[8 rows x 101 columns]"
      ]
     },
     "execution_count": 57,
     "metadata": {},
     "output_type": "execute_result"
    }
   ],
   "source": [
    "df_pca_stat=df_pca.describe()\n",
    "df_pca_stat"
   ]
  },
  {
   "cell_type": "code",
   "execution_count": 58,
   "metadata": {},
   "outputs": [
    {
     "data": {
      "text/plain": [
       "FactorAnalyzer(bounds=(0.005, 1), impute='median', is_corr_matrix=False,\n",
       "               method='minres', n_factors=101, rotation='varimax',\n",
       "               rotation_kwargs={}, use_smc=True)"
      ]
     },
     "execution_count": 58,
     "metadata": {},
     "output_type": "execute_result"
    }
   ],
   "source": [
    "# Calculate scores for variables\n",
    "from factor_analyzer import FactorAnalyzer\n",
    "df_sc= FactorAnalyzer(n_factors=101,rotation=\"varimax\")\n",
    "df_sc"
   ]
  },
  {
   "cell_type": "code",
   "execution_count": 59,
   "metadata": {},
   "outputs": [
    {
     "data": {
      "text/html": [
       "<div>\n",
       "<style scoped>\n",
       "    .dataframe tbody tr th:only-of-type {\n",
       "        vertical-align: middle;\n",
       "    }\n",
       "\n",
       "    .dataframe tbody tr th {\n",
       "        vertical-align: top;\n",
       "    }\n",
       "\n",
       "    .dataframe thead th {\n",
       "        text-align: right;\n",
       "    }\n",
       "</style>\n",
       "<table border=\"1\" class=\"dataframe\">\n",
       "  <thead>\n",
       "    <tr style=\"text-align: right;\">\n",
       "      <th></th>\n",
       "      <th>0</th>\n",
       "      <th>1</th>\n",
       "      <th>2</th>\n",
       "      <th>3</th>\n",
       "      <th>4</th>\n",
       "      <th>5</th>\n",
       "      <th>6</th>\n",
       "      <th>7</th>\n",
       "      <th>8</th>\n",
       "      <th>9</th>\n",
       "      <th>...</th>\n",
       "      <th>91</th>\n",
       "      <th>92</th>\n",
       "      <th>93</th>\n",
       "      <th>94</th>\n",
       "      <th>95</th>\n",
       "      <th>96</th>\n",
       "      <th>97</th>\n",
       "      <th>98</th>\n",
       "      <th>99</th>\n",
       "      <th>100</th>\n",
       "    </tr>\n",
       "  </thead>\n",
       "  <tbody>\n",
       "    <tr>\n",
       "      <th>0</th>\n",
       "      <td>0.146299</td>\n",
       "      <td>0.246336</td>\n",
       "      <td>-0.031775</td>\n",
       "      <td>0.079934</td>\n",
       "      <td>-0.000039</td>\n",
       "      <td>-0.024770</td>\n",
       "      <td>0.015853</td>\n",
       "      <td>-0.020485</td>\n",
       "      <td>0.022460</td>\n",
       "      <td>-0.069905</td>\n",
       "      <td>...</td>\n",
       "      <td>0.001790</td>\n",
       "      <td>0.005229</td>\n",
       "      <td>0.005999</td>\n",
       "      <td>0.002826</td>\n",
       "      <td>0.006837</td>\n",
       "      <td>0.003503</td>\n",
       "      <td>0.001236</td>\n",
       "      <td>0.000552</td>\n",
       "      <td>-0.000041</td>\n",
       "      <td>0.0</td>\n",
       "    </tr>\n",
       "    <tr>\n",
       "      <th>1</th>\n",
       "      <td>0.098237</td>\n",
       "      <td>0.856333</td>\n",
       "      <td>-0.072080</td>\n",
       "      <td>-0.006813</td>\n",
       "      <td>-0.012556</td>\n",
       "      <td>0.003223</td>\n",
       "      <td>0.051160</td>\n",
       "      <td>-0.003382</td>\n",
       "      <td>0.059600</td>\n",
       "      <td>0.026125</td>\n",
       "      <td>...</td>\n",
       "      <td>0.005196</td>\n",
       "      <td>-0.049314</td>\n",
       "      <td>-0.003395</td>\n",
       "      <td>0.005912</td>\n",
       "      <td>-0.028900</td>\n",
       "      <td>-0.006957</td>\n",
       "      <td>-0.027751</td>\n",
       "      <td>-0.017741</td>\n",
       "      <td>-0.078156</td>\n",
       "      <td>0.0</td>\n",
       "    </tr>\n",
       "    <tr>\n",
       "      <th>2</th>\n",
       "      <td>-0.103717</td>\n",
       "      <td>-0.083189</td>\n",
       "      <td>0.878413</td>\n",
       "      <td>0.098151</td>\n",
       "      <td>0.047407</td>\n",
       "      <td>-0.016910</td>\n",
       "      <td>-0.058342</td>\n",
       "      <td>-0.002117</td>\n",
       "      <td>0.016409</td>\n",
       "      <td>0.006105</td>\n",
       "      <td>...</td>\n",
       "      <td>-0.012345</td>\n",
       "      <td>0.001845</td>\n",
       "      <td>-0.007164</td>\n",
       "      <td>0.001636</td>\n",
       "      <td>-0.002781</td>\n",
       "      <td>0.000118</td>\n",
       "      <td>0.000061</td>\n",
       "      <td>-0.000370</td>\n",
       "      <td>0.000028</td>\n",
       "      <td>0.0</td>\n",
       "    </tr>\n",
       "    <tr>\n",
       "      <th>3</th>\n",
       "      <td>-0.060843</td>\n",
       "      <td>0.019368</td>\n",
       "      <td>0.017675</td>\n",
       "      <td>-0.028991</td>\n",
       "      <td>0.059479</td>\n",
       "      <td>0.031805</td>\n",
       "      <td>0.108389</td>\n",
       "      <td>-0.037084</td>\n",
       "      <td>-0.072036</td>\n",
       "      <td>-0.043909</td>\n",
       "      <td>...</td>\n",
       "      <td>-0.004159</td>\n",
       "      <td>0.007319</td>\n",
       "      <td>-0.005415</td>\n",
       "      <td>0.000571</td>\n",
       "      <td>0.005050</td>\n",
       "      <td>-0.002480</td>\n",
       "      <td>-0.000946</td>\n",
       "      <td>0.000186</td>\n",
       "      <td>0.000064</td>\n",
       "      <td>0.0</td>\n",
       "    </tr>\n",
       "    <tr>\n",
       "      <th>4</th>\n",
       "      <td>-0.119079</td>\n",
       "      <td>-0.000026</td>\n",
       "      <td>0.006549</td>\n",
       "      <td>-0.038477</td>\n",
       "      <td>0.001316</td>\n",
       "      <td>-0.004661</td>\n",
       "      <td>-0.008564</td>\n",
       "      <td>0.037823</td>\n",
       "      <td>-0.006864</td>\n",
       "      <td>0.926712</td>\n",
       "      <td>...</td>\n",
       "      <td>-0.000491</td>\n",
       "      <td>0.004831</td>\n",
       "      <td>0.004193</td>\n",
       "      <td>-0.000270</td>\n",
       "      <td>-0.003350</td>\n",
       "      <td>0.001178</td>\n",
       "      <td>-0.000754</td>\n",
       "      <td>-0.000310</td>\n",
       "      <td>-0.000111</td>\n",
       "      <td>0.0</td>\n",
       "    </tr>\n",
       "    <tr>\n",
       "      <th>...</th>\n",
       "      <td>...</td>\n",
       "      <td>...</td>\n",
       "      <td>...</td>\n",
       "      <td>...</td>\n",
       "      <td>...</td>\n",
       "      <td>...</td>\n",
       "      <td>...</td>\n",
       "      <td>...</td>\n",
       "      <td>...</td>\n",
       "      <td>...</td>\n",
       "      <td>...</td>\n",
       "      <td>...</td>\n",
       "      <td>...</td>\n",
       "      <td>...</td>\n",
       "      <td>...</td>\n",
       "      <td>...</td>\n",
       "      <td>...</td>\n",
       "      <td>...</td>\n",
       "      <td>...</td>\n",
       "      <td>...</td>\n",
       "      <td>...</td>\n",
       "    </tr>\n",
       "    <tr>\n",
       "      <th>96</th>\n",
       "      <td>0.906391</td>\n",
       "      <td>0.030839</td>\n",
       "      <td>-0.005146</td>\n",
       "      <td>-0.045873</td>\n",
       "      <td>-0.043705</td>\n",
       "      <td>-0.023040</td>\n",
       "      <td>0.019900</td>\n",
       "      <td>-0.005343</td>\n",
       "      <td>-0.004048</td>\n",
       "      <td>-0.045480</td>\n",
       "      <td>...</td>\n",
       "      <td>-0.017235</td>\n",
       "      <td>-0.071974</td>\n",
       "      <td>-0.018658</td>\n",
       "      <td>-0.017533</td>\n",
       "      <td>-0.002945</td>\n",
       "      <td>0.024340</td>\n",
       "      <td>-0.090113</td>\n",
       "      <td>-0.026291</td>\n",
       "      <td>-0.049000</td>\n",
       "      <td>0.0</td>\n",
       "    </tr>\n",
       "    <tr>\n",
       "      <th>97</th>\n",
       "      <td>-0.048097</td>\n",
       "      <td>0.063732</td>\n",
       "      <td>-0.053744</td>\n",
       "      <td>-0.053954</td>\n",
       "      <td>0.036680</td>\n",
       "      <td>-0.011148</td>\n",
       "      <td>0.038958</td>\n",
       "      <td>-0.012055</td>\n",
       "      <td>0.091258</td>\n",
       "      <td>0.004369</td>\n",
       "      <td>...</td>\n",
       "      <td>-0.013724</td>\n",
       "      <td>0.012772</td>\n",
       "      <td>-0.003176</td>\n",
       "      <td>0.005940</td>\n",
       "      <td>-0.001106</td>\n",
       "      <td>0.000736</td>\n",
       "      <td>0.000694</td>\n",
       "      <td>-0.000678</td>\n",
       "      <td>-0.000136</td>\n",
       "      <td>0.0</td>\n",
       "    </tr>\n",
       "    <tr>\n",
       "      <th>98</th>\n",
       "      <td>0.019458</td>\n",
       "      <td>0.050508</td>\n",
       "      <td>0.010264</td>\n",
       "      <td>0.007048</td>\n",
       "      <td>0.010389</td>\n",
       "      <td>0.050762</td>\n",
       "      <td>0.086732</td>\n",
       "      <td>0.068795</td>\n",
       "      <td>0.016073</td>\n",
       "      <td>0.017078</td>\n",
       "      <td>...</td>\n",
       "      <td>0.005551</td>\n",
       "      <td>-0.001925</td>\n",
       "      <td>-0.001375</td>\n",
       "      <td>-0.007139</td>\n",
       "      <td>0.004307</td>\n",
       "      <td>0.001229</td>\n",
       "      <td>-0.000377</td>\n",
       "      <td>0.000513</td>\n",
       "      <td>-0.000137</td>\n",
       "      <td>0.0</td>\n",
       "    </tr>\n",
       "    <tr>\n",
       "      <th>99</th>\n",
       "      <td>-0.021896</td>\n",
       "      <td>0.110135</td>\n",
       "      <td>-0.053765</td>\n",
       "      <td>0.015946</td>\n",
       "      <td>0.007035</td>\n",
       "      <td>0.009950</td>\n",
       "      <td>0.891407</td>\n",
       "      <td>0.028330</td>\n",
       "      <td>0.074659</td>\n",
       "      <td>-0.008609</td>\n",
       "      <td>...</td>\n",
       "      <td>0.025760</td>\n",
       "      <td>0.006621</td>\n",
       "      <td>-0.003346</td>\n",
       "      <td>-0.002710</td>\n",
       "      <td>0.003414</td>\n",
       "      <td>0.000957</td>\n",
       "      <td>-0.000902</td>\n",
       "      <td>-0.000550</td>\n",
       "      <td>0.000047</td>\n",
       "      <td>0.0</td>\n",
       "    </tr>\n",
       "    <tr>\n",
       "      <th>100</th>\n",
       "      <td>-0.045572</td>\n",
       "      <td>0.484531</td>\n",
       "      <td>-0.048438</td>\n",
       "      <td>-0.006781</td>\n",
       "      <td>0.012799</td>\n",
       "      <td>0.166469</td>\n",
       "      <td>0.094575</td>\n",
       "      <td>0.075217</td>\n",
       "      <td>0.074047</td>\n",
       "      <td>-0.107853</td>\n",
       "      <td>...</td>\n",
       "      <td>0.032953</td>\n",
       "      <td>0.045380</td>\n",
       "      <td>-0.012811</td>\n",
       "      <td>-0.004702</td>\n",
       "      <td>0.291581</td>\n",
       "      <td>0.020054</td>\n",
       "      <td>-0.003299</td>\n",
       "      <td>-0.001800</td>\n",
       "      <td>0.000426</td>\n",
       "      <td>0.0</td>\n",
       "    </tr>\n",
       "  </tbody>\n",
       "</table>\n",
       "<p>101 rows × 101 columns</p>\n",
       "</div>"
      ],
      "text/plain": [
       "          0         1         2         3         4         5         6    \\\n",
       "0    0.146299  0.246336 -0.031775  0.079934 -0.000039 -0.024770  0.015853   \n",
       "1    0.098237  0.856333 -0.072080 -0.006813 -0.012556  0.003223  0.051160   \n",
       "2   -0.103717 -0.083189  0.878413  0.098151  0.047407 -0.016910 -0.058342   \n",
       "3   -0.060843  0.019368  0.017675 -0.028991  0.059479  0.031805  0.108389   \n",
       "4   -0.119079 -0.000026  0.006549 -0.038477  0.001316 -0.004661 -0.008564   \n",
       "..        ...       ...       ...       ...       ...       ...       ...   \n",
       "96   0.906391  0.030839 -0.005146 -0.045873 -0.043705 -0.023040  0.019900   \n",
       "97  -0.048097  0.063732 -0.053744 -0.053954  0.036680 -0.011148  0.038958   \n",
       "98   0.019458  0.050508  0.010264  0.007048  0.010389  0.050762  0.086732   \n",
       "99  -0.021896  0.110135 -0.053765  0.015946  0.007035  0.009950  0.891407   \n",
       "100 -0.045572  0.484531 -0.048438 -0.006781  0.012799  0.166469  0.094575   \n",
       "\n",
       "          7         8         9    ...       91        92        93   \\\n",
       "0   -0.020485  0.022460 -0.069905  ...  0.001790  0.005229  0.005999   \n",
       "1   -0.003382  0.059600  0.026125  ...  0.005196 -0.049314 -0.003395   \n",
       "2   -0.002117  0.016409  0.006105  ... -0.012345  0.001845 -0.007164   \n",
       "3   -0.037084 -0.072036 -0.043909  ... -0.004159  0.007319 -0.005415   \n",
       "4    0.037823 -0.006864  0.926712  ... -0.000491  0.004831  0.004193   \n",
       "..        ...       ...       ...  ...       ...       ...       ...   \n",
       "96  -0.005343 -0.004048 -0.045480  ... -0.017235 -0.071974 -0.018658   \n",
       "97  -0.012055  0.091258  0.004369  ... -0.013724  0.012772 -0.003176   \n",
       "98   0.068795  0.016073  0.017078  ...  0.005551 -0.001925 -0.001375   \n",
       "99   0.028330  0.074659 -0.008609  ...  0.025760  0.006621 -0.003346   \n",
       "100  0.075217  0.074047 -0.107853  ...  0.032953  0.045380 -0.012811   \n",
       "\n",
       "          94        95        96        97        98        99   100  \n",
       "0    0.002826  0.006837  0.003503  0.001236  0.000552 -0.000041  0.0  \n",
       "1    0.005912 -0.028900 -0.006957 -0.027751 -0.017741 -0.078156  0.0  \n",
       "2    0.001636 -0.002781  0.000118  0.000061 -0.000370  0.000028  0.0  \n",
       "3    0.000571  0.005050 -0.002480 -0.000946  0.000186  0.000064  0.0  \n",
       "4   -0.000270 -0.003350  0.001178 -0.000754 -0.000310 -0.000111  0.0  \n",
       "..        ...       ...       ...       ...       ...       ...  ...  \n",
       "96  -0.017533 -0.002945  0.024340 -0.090113 -0.026291 -0.049000  0.0  \n",
       "97   0.005940 -0.001106  0.000736  0.000694 -0.000678 -0.000136  0.0  \n",
       "98  -0.007139  0.004307  0.001229 -0.000377  0.000513 -0.000137  0.0  \n",
       "99  -0.002710  0.003414  0.000957 -0.000902 -0.000550  0.000047  0.0  \n",
       "100 -0.004702  0.291581  0.020054 -0.003299 -0.001800  0.000426  0.0  \n",
       "\n",
       "[101 rows x 101 columns]"
      ]
     },
     "execution_count": 59,
     "metadata": {},
     "output_type": "execute_result"
    }
   ],
   "source": [
    "df_sc.fit(df_pca2)\n",
    "#get the loadings\n",
    "loadings=df_sc.loadings_\n",
    "#Resultados Loadings\n",
    "results=pd.DataFrame.from_records(loadings)\n",
    "results"
   ]
  },
  {
   "cell_type": "code",
   "execution_count": 60,
   "metadata": {},
   "outputs": [
    {
     "data": {
      "text/html": [
       "<div>\n",
       "<style scoped>\n",
       "    .dataframe tbody tr th:only-of-type {\n",
       "        vertical-align: middle;\n",
       "    }\n",
       "\n",
       "    .dataframe tbody tr th {\n",
       "        vertical-align: top;\n",
       "    }\n",
       "\n",
       "    .dataframe thead th {\n",
       "        text-align: right;\n",
       "    }\n",
       "</style>\n",
       "<table border=\"1\" class=\"dataframe\">\n",
       "  <thead>\n",
       "    <tr style=\"text-align: right;\">\n",
       "      <th></th>\n",
       "      <th>0</th>\n",
       "      <th>1</th>\n",
       "      <th>2</th>\n",
       "    </tr>\n",
       "  </thead>\n",
       "  <tbody>\n",
       "    <tr>\n",
       "      <th>0</th>\n",
       "      <td>0.146299</td>\n",
       "      <td>0.246336</td>\n",
       "      <td>-0.031775</td>\n",
       "    </tr>\n",
       "    <tr>\n",
       "      <th>1</th>\n",
       "      <td>0.098237</td>\n",
       "      <td>0.856333</td>\n",
       "      <td>-0.072080</td>\n",
       "    </tr>\n",
       "    <tr>\n",
       "      <th>2</th>\n",
       "      <td>-0.103717</td>\n",
       "      <td>-0.083189</td>\n",
       "      <td>0.878413</td>\n",
       "    </tr>\n",
       "    <tr>\n",
       "      <th>3</th>\n",
       "      <td>-0.060843</td>\n",
       "      <td>0.019368</td>\n",
       "      <td>0.017675</td>\n",
       "    </tr>\n",
       "    <tr>\n",
       "      <th>4</th>\n",
       "      <td>-0.119079</td>\n",
       "      <td>-0.000026</td>\n",
       "      <td>0.006549</td>\n",
       "    </tr>\n",
       "    <tr>\n",
       "      <th>...</th>\n",
       "      <td>...</td>\n",
       "      <td>...</td>\n",
       "      <td>...</td>\n",
       "    </tr>\n",
       "    <tr>\n",
       "      <th>96</th>\n",
       "      <td>0.906391</td>\n",
       "      <td>0.030839</td>\n",
       "      <td>-0.005146</td>\n",
       "    </tr>\n",
       "    <tr>\n",
       "      <th>97</th>\n",
       "      <td>-0.048097</td>\n",
       "      <td>0.063732</td>\n",
       "      <td>-0.053744</td>\n",
       "    </tr>\n",
       "    <tr>\n",
       "      <th>98</th>\n",
       "      <td>0.019458</td>\n",
       "      <td>0.050508</td>\n",
       "      <td>0.010264</td>\n",
       "    </tr>\n",
       "    <tr>\n",
       "      <th>99</th>\n",
       "      <td>-0.021896</td>\n",
       "      <td>0.110135</td>\n",
       "      <td>-0.053765</td>\n",
       "    </tr>\n",
       "    <tr>\n",
       "      <th>100</th>\n",
       "      <td>-0.045572</td>\n",
       "      <td>0.484531</td>\n",
       "      <td>-0.048438</td>\n",
       "    </tr>\n",
       "  </tbody>\n",
       "</table>\n",
       "<p>101 rows × 3 columns</p>\n",
       "</div>"
      ],
      "text/plain": [
       "            0         1         2\n",
       "0    0.146299  0.246336 -0.031775\n",
       "1    0.098237  0.856333 -0.072080\n",
       "2   -0.103717 -0.083189  0.878413\n",
       "3   -0.060843  0.019368  0.017675\n",
       "4   -0.119079 -0.000026  0.006549\n",
       "..        ...       ...       ...\n",
       "96   0.906391  0.030839 -0.005146\n",
       "97  -0.048097  0.063732 -0.053744\n",
       "98   0.019458  0.050508  0.010264\n",
       "99  -0.021896  0.110135 -0.053765\n",
       "100 -0.045572  0.484531 -0.048438\n",
       "\n",
       "[101 rows x 3 columns]"
      ]
     },
     "execution_count": 60,
     "metadata": {},
     "output_type": "execute_result"
    }
   ],
   "source": [
    "sc=results[[0,1,2]]\n",
    "sc"
   ]
  },
  {
   "cell_type": "code",
   "execution_count": 61,
   "metadata": {},
   "outputs": [
    {
     "name": "stderr",
     "output_type": "stream",
     "text": [
      "C:\\Users\\Javier\\Anaconda3\\lib\\site-packages\\pandas\\core\\frame.py:4304: SettingWithCopyWarning:\n",
      "\n",
      "\n",
      "A value is trying to be set on a copy of a slice from a DataFrame\n",
      "\n",
      "See the caveats in the documentation: https://pandas.pydata.org/pandas-docs/stable/user_guide/indexing.html#returning-a-view-versus-a-copy\n",
      "\n"
     ]
    },
    {
     "data": {
      "text/html": [
       "<div>\n",
       "<style scoped>\n",
       "    .dataframe tbody tr th:only-of-type {\n",
       "        vertical-align: middle;\n",
       "    }\n",
       "\n",
       "    .dataframe tbody tr th {\n",
       "        vertical-align: top;\n",
       "    }\n",
       "\n",
       "    .dataframe thead th {\n",
       "        text-align: right;\n",
       "    }\n",
       "</style>\n",
       "<table border=\"1\" class=\"dataframe\">\n",
       "  <thead>\n",
       "    <tr style=\"text-align: right;\">\n",
       "      <th></th>\n",
       "      <th>variable</th>\n",
       "      <th>F1</th>\n",
       "      <th>F2</th>\n",
       "      <th>F3</th>\n",
       "    </tr>\n",
       "  </thead>\n",
       "  <tbody>\n",
       "    <tr>\n",
       "      <th>0</th>\n",
       "      <td>Adrenal crisis</td>\n",
       "      <td>0.146299</td>\n",
       "      <td>0.246336</td>\n",
       "      <td>-0.031775</td>\n",
       "    </tr>\n",
       "    <tr>\n",
       "      <th>1</th>\n",
       "      <td>Ageusia</td>\n",
       "      <td>0.098237</td>\n",
       "      <td>0.856333</td>\n",
       "      <td>-0.072080</td>\n",
       "    </tr>\n",
       "    <tr>\n",
       "      <th>2</th>\n",
       "      <td>Allergic conjunctivitis</td>\n",
       "      <td>-0.103717</td>\n",
       "      <td>-0.083189</td>\n",
       "      <td>0.878413</td>\n",
       "    </tr>\n",
       "    <tr>\n",
       "      <th>3</th>\n",
       "      <td>Amenorrhea</td>\n",
       "      <td>-0.060843</td>\n",
       "      <td>0.019368</td>\n",
       "      <td>0.017675</td>\n",
       "    </tr>\n",
       "    <tr>\n",
       "      <th>4</th>\n",
       "      <td>Angular cheilitis</td>\n",
       "      <td>-0.119079</td>\n",
       "      <td>-0.000026</td>\n",
       "      <td>0.006549</td>\n",
       "    </tr>\n",
       "    <tr>\n",
       "      <th>...</th>\n",
       "      <td>...</td>\n",
       "      <td>...</td>\n",
       "      <td>...</td>\n",
       "      <td>...</td>\n",
       "    </tr>\n",
       "    <tr>\n",
       "      <th>96</th>\n",
       "      <td>Upper respiratory tract infection</td>\n",
       "      <td>0.906391</td>\n",
       "      <td>0.030839</td>\n",
       "      <td>-0.005146</td>\n",
       "    </tr>\n",
       "    <tr>\n",
       "      <th>97</th>\n",
       "      <td>Urethritis</td>\n",
       "      <td>-0.048097</td>\n",
       "      <td>0.063732</td>\n",
       "      <td>-0.053744</td>\n",
       "    </tr>\n",
       "    <tr>\n",
       "      <th>98</th>\n",
       "      <td>Urinary urgency</td>\n",
       "      <td>0.019458</td>\n",
       "      <td>0.050508</td>\n",
       "      <td>0.010264</td>\n",
       "    </tr>\n",
       "    <tr>\n",
       "      <th>99</th>\n",
       "      <td>Ventricular fibrillation</td>\n",
       "      <td>-0.021896</td>\n",
       "      <td>0.110135</td>\n",
       "      <td>-0.053765</td>\n",
       "    </tr>\n",
       "    <tr>\n",
       "      <th>100</th>\n",
       "      <td>hospitalized_new</td>\n",
       "      <td>-0.045572</td>\n",
       "      <td>0.484531</td>\n",
       "      <td>-0.048438</td>\n",
       "    </tr>\n",
       "  </tbody>\n",
       "</table>\n",
       "<p>101 rows × 4 columns</p>\n",
       "</div>"
      ],
      "text/plain": [
       "                              variable        F1        F2        F3\n",
       "0                       Adrenal crisis  0.146299  0.246336 -0.031775\n",
       "1                              Ageusia  0.098237  0.856333 -0.072080\n",
       "2              Allergic conjunctivitis -0.103717 -0.083189  0.878413\n",
       "3                           Amenorrhea -0.060843  0.019368  0.017675\n",
       "4                    Angular cheilitis -0.119079 -0.000026  0.006549\n",
       "..                                 ...       ...       ...       ...\n",
       "96   Upper respiratory tract infection  0.906391  0.030839 -0.005146\n",
       "97                          Urethritis -0.048097  0.063732 -0.053744\n",
       "98                     Urinary urgency  0.019458  0.050508  0.010264\n",
       "99            Ventricular fibrillation -0.021896  0.110135 -0.053765\n",
       "100                   hospitalized_new -0.045572  0.484531 -0.048438\n",
       "\n",
       "[101 rows x 4 columns]"
      ]
     },
     "execution_count": 61,
     "metadata": {},
     "output_type": "execute_result"
    }
   ],
   "source": [
    "sc.rename(columns={0:'F1', 1:'F2', 2:'F3',3:'F4', 4:'F5'}, inplace=True)\n",
    "df_sc=df_pca2.columns.tolist()\n",
    "df_sc=pd.DataFrame(df_sc)\n",
    "df_sc.rename(columns={0:'variable'},\n",
    "                 inplace=True)\n",
    "df_sc['F1']=sc['F1']\n",
    "df_sc['F2']=sc['F2']\n",
    "df_sc['F3']=sc['F3']\n",
    "df_sc"
   ]
  },
  {
   "cell_type": "code",
   "execution_count": 62,
   "metadata": {},
   "outputs": [
    {
     "data": {
      "application/vnd.plotly.v1+json": {
       "config": {
        "plotlyServerURL": "https://plot.ly"
       },
       "data": [
        {
         "hovertemplate": "F1=%{x}<br>F2=%{y}<br>variable=%{text}<extra></extra>",
         "legendgroup": "",
         "marker": {
          "color": "#636efa",
          "symbol": "circle"
         },
         "mode": "markers+text",
         "name": "",
         "orientation": "v",
         "showlegend": false,
         "text": [
          "Adrenal crisis",
          "Ageusia",
          "Allergic conjunctivitis",
          "Amenorrhea",
          "Angular cheilitis",
          "Anosmia",
          "Asphyxia",
          "Atheroma",
          "Auditory hallucination",
          "Balance disorder",
          "Beau's lines",
          "Bleeding on probing",
          "Burning Chest Pain",
          "Burning mouth syndrome",
          "Cataplexy",
          "Chorea",
          "Cleft lip and cleft palate",
          "Clouding of consciousness",
          "Crackles",
          "Crepitus",
          "Croup",
          "Cyanosis",
          "Depersonalization",
          "Developmental disability",
          "Dysautonomia",
          "Dysgeusia",
          "Dyspareunia",
          "Dystonia",
          "Dysuria",
          "Epiphora",
          "Esophagitis",
          "Eye pain",
          "Facial swelling",
          "Fibrocystic breast changes",
          "Focal seizure",
          "Gastroparesis",
          "Gingival recession",
          "Globus pharyngis",
          "Goitre",
          "Grandiosity",
          "Granuloma",
          "Hemolysis",
          "Hemoptysis",
          "Hepatic encephalopathy",
          "Hepatotoxicity",
          "Hydrocephalus",
          "Hypercalcaemia",
          "Hypercapnia",
          "Hyperemesis gravidarum",
          "Hypersomnia",
          "Hyperventilation",
          "Hypocalcaemia",
          "Hypochondriasis",
          "Hypomania",
          "Kyphosis",
          "Laryngitis",
          "Leukorrhea",
          "Malabsorption",
          "Male infertility",
          "Mitral insufficiency",
          "Muscle atrophy",
          "Myoclonus",
          "Nasal polyp",
          "Neck mass",
          "Neutropenia",
          "Night terror",
          "Nocturnal enuresis",
          "Nystagmus",
          "Onychorrhexis",
          "Osteophyte",
          "Papule",
          "Pericarditis",
          "Petechia",
          "Photodermatitis",
          "Photophobia",
          "Polydipsia",
          "Polyuria",
          "Ptosis",
          "Pulmonary edema",
          "Rectal pain",
          "Rectal prolapse",
          "Rheum",
          "Round ligament pain",
          "Rumination",
          "Sensitivity to sound",
          "Shallow breathing",
          "Spasticity",
          "Splenomegaly",
          "Sputum",
          "Stomach rumble",
          "Stridor",
          "Subdural hematoma",
          "Tachypnea",
          "Tenderness",
          "Thyroid nodule",
          "Trichoptilosis",
          "Upper respiratory tract infection",
          "Urethritis",
          "Urinary urgency",
          "Ventricular fibrillation",
          "hospitalized_new"
         ],
         "textposition": "top center",
         "type": "scatter",
         "x": [
          0.14629908019750948,
          0.09823726798932716,
          -0.10371724232072102,
          -0.06084282949861571,
          -0.1190788260490668,
          0.29035238862180335,
          -0.12042469995998485,
          0.17385890091669223,
          -0.08366199158562633,
          -0.1536827201120268,
          0.0017641095885292692,
          -0.1549878097179523,
          0.24190978016911896,
          -0.21540560233332462,
          0.030000275620437424,
          0.19039511625402258,
          -0.03891942402896976,
          -0.2037286622575448,
          0.24479957306615388,
          -0.04748938273067619,
          0.9113806913965514,
          0.06842751271721019,
          -0.03477073001330037,
          0.07289664673501958,
          -0.023326875435587265,
          0.172804720669319,
          -0.1114314767306863,
          -0.12322578638035676,
          -0.16426712403727578,
          0.18496718668061768,
          -0.08252600848343546,
          0.0931177811194716,
          -0.27300635404343737,
          -0.07621571443094288,
          -0.043521230584688514,
          -0.22049189009675293,
          -0.11556860595609658,
          0.16773567935924383,
          -0.13909896846503386,
          -0.14418850742500688,
          0.030047390628690676,
          0.4235321731980818,
          0.3327853830205047,
          -0.10916798354230757,
          0.07290803984464427,
          0.009954855978531513,
          -0.19463513548799866,
          -0.1290408198024547,
          -0.08636629509423964,
          0.006513867425776399,
          0.19823508799805628,
          -0.1121907830113988,
          0.6470904788818317,
          -0.03169673368965794,
          -0.12780827451799134,
          0.5379688785538941,
          -0.17886258122175805,
          0.04127023294888438,
          -0.18010684387210946,
          -0.07945268881841262,
          -0.060906300967801114,
          -0.05257702760651532,
          0.019768658712927385,
          -0.04932575355789677,
          0.018906433133852513,
          -0.06049857078100649,
          -0.12790593258839283,
          -0.12741271738760787,
          0.09956107768960817,
          -0.28971871877537536,
          -0.10779052099216589,
          0.0831440644936974,
          -0.12805849272669423,
          0.02558682432445426,
          -0.04939508151643276,
          -0.02050046296384208,
          -0.0886585635510115,
          -0.04472428045322122,
          0.2372248198721624,
          0.0090690323280016,
          -0.09162309570817441,
          0.2822870281044542,
          -0.14634422840852324,
          0.04849009461223004,
          -0.020946183187607065,
          0.677807353173304,
          0.07762617722682792,
          0.04665114998202483,
          0.7776857004711044,
          0.05047054255408864,
          0.4066178539357451,
          -0.14615165000179084,
          0.3177653601303282,
          -0.08183794469057018,
          -0.1446773638928438,
          0.12432438099712474,
          0.9063908156991324,
          -0.04809737283228893,
          0.019457879218877153,
          -0.021895599082493528,
          -0.04557224020104743
         ],
         "xaxis": "x",
         "y": [
          0.2463364143583939,
          0.8563332321283263,
          -0.08318923676313711,
          0.019368189916178235,
          -2.6250238105416895e-05,
          0.7975677736252134,
          -0.08848021225184523,
          0.07828892836535313,
          -0.04214958358760128,
          0.057666498094264905,
          -0.07069532258557634,
          -0.059560228519166473,
          0.07574707108621154,
          -0.012638197103117161,
          0.09445225110723779,
          0.11797397349418229,
          0.11789609442631724,
          0.2024054183299981,
          0.27310747631780063,
          -0.005608620194349711,
          0.133221745926485,
          0.053570527098617184,
          0.1038507239478023,
          0.11045201188041083,
          0.2580046859847326,
          0.5967237705674815,
          -0.05003137076511625,
          0.14876026214063487,
          0.024943526851357787,
          0.1389891155122775,
          0.012116498617434695,
          0.12181960475289544,
          0.008905665644213181,
          0.09304958789251815,
          0.020402186320421893,
          0.01114721814024789,
          0.007502832170929342,
          0.08607670793724197,
          -0.03386009234598347,
          0.033192110169709445,
          0.10321028151736784,
          0.3587062699887673,
          0.2253503250146864,
          0.13735018159513734,
          0.08726574915772485,
          0.27277976688567035,
          0.1860746998003422,
          -0.11925070811852544,
          0.06582628309894836,
          0.05896124178930083,
          -0.024967924399501986,
          0.1712219250185351,
          0.2208860904435874,
          0.0014109330979164753,
          0.0955866481851062,
          0.014443642649378993,
          -0.005016922285732543,
          0.00629426734280351,
          0.07494790014169465,
          0.1211168119125404,
          -0.006503716673703685,
          -0.032736358442972464,
          0.06004587831922393,
          0.046960439131145636,
          0.10927546085555169,
          0.05717075922527873,
          -0.009455250524870064,
          0.042825604156505416,
          -0.026783049337293405,
          0.08733035598228821,
          -0.06708587118309796,
          0.21715615870182745,
          -0.0950284855411557,
          -0.04608445023100175,
          -0.03328611079546185,
          0.0914634284225838,
          0.03651456448329165,
          0.11778567447180163,
          0.03297949028924324,
          -0.004078693714363046,
          -0.052311313266696934,
          -0.010492261034692496,
          0.0015501863258194062,
          0.0553136070017746,
          0.018652272313374466,
          0.01120300672086896,
          0.16924222641396366,
          0.16114444783888468,
          0.09203493412358765,
          0.14902200445258812,
          0.26830444617997706,
          0.0611421504158267,
          0.2240477852476643,
          0.029808585008842238,
          0.020517079320751065,
          -0.07959306383856948,
          0.03083865401451861,
          0.06373227262933562,
          0.05050835016729674,
          0.11013484879388528,
          0.4845311924933778
         ],
         "yaxis": "y"
        }
       ],
       "layout": {
        "legend": {
         "tracegroupgap": 0
        },
        "margin": {
         "t": 60
        },
        "template": {
         "data": {
          "bar": [
           {
            "error_x": {
             "color": "#2a3f5f"
            },
            "error_y": {
             "color": "#2a3f5f"
            },
            "marker": {
             "line": {
              "color": "#E5ECF6",
              "width": 0.5
             }
            },
            "type": "bar"
           }
          ],
          "barpolar": [
           {
            "marker": {
             "line": {
              "color": "#E5ECF6",
              "width": 0.5
             }
            },
            "type": "barpolar"
           }
          ],
          "carpet": [
           {
            "aaxis": {
             "endlinecolor": "#2a3f5f",
             "gridcolor": "white",
             "linecolor": "white",
             "minorgridcolor": "white",
             "startlinecolor": "#2a3f5f"
            },
            "baxis": {
             "endlinecolor": "#2a3f5f",
             "gridcolor": "white",
             "linecolor": "white",
             "minorgridcolor": "white",
             "startlinecolor": "#2a3f5f"
            },
            "type": "carpet"
           }
          ],
          "choropleth": [
           {
            "colorbar": {
             "outlinewidth": 0,
             "ticks": ""
            },
            "type": "choropleth"
           }
          ],
          "contour": [
           {
            "colorbar": {
             "outlinewidth": 0,
             "ticks": ""
            },
            "colorscale": [
             [
              0,
              "#0d0887"
             ],
             [
              0.1111111111111111,
              "#46039f"
             ],
             [
              0.2222222222222222,
              "#7201a8"
             ],
             [
              0.3333333333333333,
              "#9c179e"
             ],
             [
              0.4444444444444444,
              "#bd3786"
             ],
             [
              0.5555555555555556,
              "#d8576b"
             ],
             [
              0.6666666666666666,
              "#ed7953"
             ],
             [
              0.7777777777777778,
              "#fb9f3a"
             ],
             [
              0.8888888888888888,
              "#fdca26"
             ],
             [
              1,
              "#f0f921"
             ]
            ],
            "type": "contour"
           }
          ],
          "contourcarpet": [
           {
            "colorbar": {
             "outlinewidth": 0,
             "ticks": ""
            },
            "type": "contourcarpet"
           }
          ],
          "heatmap": [
           {
            "colorbar": {
             "outlinewidth": 0,
             "ticks": ""
            },
            "colorscale": [
             [
              0,
              "#0d0887"
             ],
             [
              0.1111111111111111,
              "#46039f"
             ],
             [
              0.2222222222222222,
              "#7201a8"
             ],
             [
              0.3333333333333333,
              "#9c179e"
             ],
             [
              0.4444444444444444,
              "#bd3786"
             ],
             [
              0.5555555555555556,
              "#d8576b"
             ],
             [
              0.6666666666666666,
              "#ed7953"
             ],
             [
              0.7777777777777778,
              "#fb9f3a"
             ],
             [
              0.8888888888888888,
              "#fdca26"
             ],
             [
              1,
              "#f0f921"
             ]
            ],
            "type": "heatmap"
           }
          ],
          "heatmapgl": [
           {
            "colorbar": {
             "outlinewidth": 0,
             "ticks": ""
            },
            "colorscale": [
             [
              0,
              "#0d0887"
             ],
             [
              0.1111111111111111,
              "#46039f"
             ],
             [
              0.2222222222222222,
              "#7201a8"
             ],
             [
              0.3333333333333333,
              "#9c179e"
             ],
             [
              0.4444444444444444,
              "#bd3786"
             ],
             [
              0.5555555555555556,
              "#d8576b"
             ],
             [
              0.6666666666666666,
              "#ed7953"
             ],
             [
              0.7777777777777778,
              "#fb9f3a"
             ],
             [
              0.8888888888888888,
              "#fdca26"
             ],
             [
              1,
              "#f0f921"
             ]
            ],
            "type": "heatmapgl"
           }
          ],
          "histogram": [
           {
            "marker": {
             "colorbar": {
              "outlinewidth": 0,
              "ticks": ""
             }
            },
            "type": "histogram"
           }
          ],
          "histogram2d": [
           {
            "colorbar": {
             "outlinewidth": 0,
             "ticks": ""
            },
            "colorscale": [
             [
              0,
              "#0d0887"
             ],
             [
              0.1111111111111111,
              "#46039f"
             ],
             [
              0.2222222222222222,
              "#7201a8"
             ],
             [
              0.3333333333333333,
              "#9c179e"
             ],
             [
              0.4444444444444444,
              "#bd3786"
             ],
             [
              0.5555555555555556,
              "#d8576b"
             ],
             [
              0.6666666666666666,
              "#ed7953"
             ],
             [
              0.7777777777777778,
              "#fb9f3a"
             ],
             [
              0.8888888888888888,
              "#fdca26"
             ],
             [
              1,
              "#f0f921"
             ]
            ],
            "type": "histogram2d"
           }
          ],
          "histogram2dcontour": [
           {
            "colorbar": {
             "outlinewidth": 0,
             "ticks": ""
            },
            "colorscale": [
             [
              0,
              "#0d0887"
             ],
             [
              0.1111111111111111,
              "#46039f"
             ],
             [
              0.2222222222222222,
              "#7201a8"
             ],
             [
              0.3333333333333333,
              "#9c179e"
             ],
             [
              0.4444444444444444,
              "#bd3786"
             ],
             [
              0.5555555555555556,
              "#d8576b"
             ],
             [
              0.6666666666666666,
              "#ed7953"
             ],
             [
              0.7777777777777778,
              "#fb9f3a"
             ],
             [
              0.8888888888888888,
              "#fdca26"
             ],
             [
              1,
              "#f0f921"
             ]
            ],
            "type": "histogram2dcontour"
           }
          ],
          "mesh3d": [
           {
            "colorbar": {
             "outlinewidth": 0,
             "ticks": ""
            },
            "type": "mesh3d"
           }
          ],
          "parcoords": [
           {
            "line": {
             "colorbar": {
              "outlinewidth": 0,
              "ticks": ""
             }
            },
            "type": "parcoords"
           }
          ],
          "pie": [
           {
            "automargin": true,
            "type": "pie"
           }
          ],
          "scatter": [
           {
            "marker": {
             "colorbar": {
              "outlinewidth": 0,
              "ticks": ""
             }
            },
            "type": "scatter"
           }
          ],
          "scatter3d": [
           {
            "line": {
             "colorbar": {
              "outlinewidth": 0,
              "ticks": ""
             }
            },
            "marker": {
             "colorbar": {
              "outlinewidth": 0,
              "ticks": ""
             }
            },
            "type": "scatter3d"
           }
          ],
          "scattercarpet": [
           {
            "marker": {
             "colorbar": {
              "outlinewidth": 0,
              "ticks": ""
             }
            },
            "type": "scattercarpet"
           }
          ],
          "scattergeo": [
           {
            "marker": {
             "colorbar": {
              "outlinewidth": 0,
              "ticks": ""
             }
            },
            "type": "scattergeo"
           }
          ],
          "scattergl": [
           {
            "marker": {
             "colorbar": {
              "outlinewidth": 0,
              "ticks": ""
             }
            },
            "type": "scattergl"
           }
          ],
          "scattermapbox": [
           {
            "marker": {
             "colorbar": {
              "outlinewidth": 0,
              "ticks": ""
             }
            },
            "type": "scattermapbox"
           }
          ],
          "scatterpolar": [
           {
            "marker": {
             "colorbar": {
              "outlinewidth": 0,
              "ticks": ""
             }
            },
            "type": "scatterpolar"
           }
          ],
          "scatterpolargl": [
           {
            "marker": {
             "colorbar": {
              "outlinewidth": 0,
              "ticks": ""
             }
            },
            "type": "scatterpolargl"
           }
          ],
          "scatterternary": [
           {
            "marker": {
             "colorbar": {
              "outlinewidth": 0,
              "ticks": ""
             }
            },
            "type": "scatterternary"
           }
          ],
          "surface": [
           {
            "colorbar": {
             "outlinewidth": 0,
             "ticks": ""
            },
            "colorscale": [
             [
              0,
              "#0d0887"
             ],
             [
              0.1111111111111111,
              "#46039f"
             ],
             [
              0.2222222222222222,
              "#7201a8"
             ],
             [
              0.3333333333333333,
              "#9c179e"
             ],
             [
              0.4444444444444444,
              "#bd3786"
             ],
             [
              0.5555555555555556,
              "#d8576b"
             ],
             [
              0.6666666666666666,
              "#ed7953"
             ],
             [
              0.7777777777777778,
              "#fb9f3a"
             ],
             [
              0.8888888888888888,
              "#fdca26"
             ],
             [
              1,
              "#f0f921"
             ]
            ],
            "type": "surface"
           }
          ],
          "table": [
           {
            "cells": {
             "fill": {
              "color": "#EBF0F8"
             },
             "line": {
              "color": "white"
             }
            },
            "header": {
             "fill": {
              "color": "#C8D4E3"
             },
             "line": {
              "color": "white"
             }
            },
            "type": "table"
           }
          ]
         },
         "layout": {
          "annotationdefaults": {
           "arrowcolor": "#2a3f5f",
           "arrowhead": 0,
           "arrowwidth": 1
          },
          "coloraxis": {
           "colorbar": {
            "outlinewidth": 0,
            "ticks": ""
           }
          },
          "colorscale": {
           "diverging": [
            [
             0,
             "#8e0152"
            ],
            [
             0.1,
             "#c51b7d"
            ],
            [
             0.2,
             "#de77ae"
            ],
            [
             0.3,
             "#f1b6da"
            ],
            [
             0.4,
             "#fde0ef"
            ],
            [
             0.5,
             "#f7f7f7"
            ],
            [
             0.6,
             "#e6f5d0"
            ],
            [
             0.7,
             "#b8e186"
            ],
            [
             0.8,
             "#7fbc41"
            ],
            [
             0.9,
             "#4d9221"
            ],
            [
             1,
             "#276419"
            ]
           ],
           "sequential": [
            [
             0,
             "#0d0887"
            ],
            [
             0.1111111111111111,
             "#46039f"
            ],
            [
             0.2222222222222222,
             "#7201a8"
            ],
            [
             0.3333333333333333,
             "#9c179e"
            ],
            [
             0.4444444444444444,
             "#bd3786"
            ],
            [
             0.5555555555555556,
             "#d8576b"
            ],
            [
             0.6666666666666666,
             "#ed7953"
            ],
            [
             0.7777777777777778,
             "#fb9f3a"
            ],
            [
             0.8888888888888888,
             "#fdca26"
            ],
            [
             1,
             "#f0f921"
            ]
           ],
           "sequentialminus": [
            [
             0,
             "#0d0887"
            ],
            [
             0.1111111111111111,
             "#46039f"
            ],
            [
             0.2222222222222222,
             "#7201a8"
            ],
            [
             0.3333333333333333,
             "#9c179e"
            ],
            [
             0.4444444444444444,
             "#bd3786"
            ],
            [
             0.5555555555555556,
             "#d8576b"
            ],
            [
             0.6666666666666666,
             "#ed7953"
            ],
            [
             0.7777777777777778,
             "#fb9f3a"
            ],
            [
             0.8888888888888888,
             "#fdca26"
            ],
            [
             1,
             "#f0f921"
            ]
           ]
          },
          "colorway": [
           "#636efa",
           "#EF553B",
           "#00cc96",
           "#ab63fa",
           "#FFA15A",
           "#19d3f3",
           "#FF6692",
           "#B6E880",
           "#FF97FF",
           "#FECB52"
          ],
          "font": {
           "color": "#2a3f5f"
          },
          "geo": {
           "bgcolor": "white",
           "lakecolor": "white",
           "landcolor": "#E5ECF6",
           "showlakes": true,
           "showland": true,
           "subunitcolor": "white"
          },
          "hoverlabel": {
           "align": "left"
          },
          "hovermode": "closest",
          "mapbox": {
           "style": "light"
          },
          "paper_bgcolor": "white",
          "plot_bgcolor": "#E5ECF6",
          "polar": {
           "angularaxis": {
            "gridcolor": "white",
            "linecolor": "white",
            "ticks": ""
           },
           "bgcolor": "#E5ECF6",
           "radialaxis": {
            "gridcolor": "white",
            "linecolor": "white",
            "ticks": ""
           }
          },
          "scene": {
           "xaxis": {
            "backgroundcolor": "#E5ECF6",
            "gridcolor": "white",
            "gridwidth": 2,
            "linecolor": "white",
            "showbackground": true,
            "ticks": "",
            "zerolinecolor": "white"
           },
           "yaxis": {
            "backgroundcolor": "#E5ECF6",
            "gridcolor": "white",
            "gridwidth": 2,
            "linecolor": "white",
            "showbackground": true,
            "ticks": "",
            "zerolinecolor": "white"
           },
           "zaxis": {
            "backgroundcolor": "#E5ECF6",
            "gridcolor": "white",
            "gridwidth": 2,
            "linecolor": "white",
            "showbackground": true,
            "ticks": "",
            "zerolinecolor": "white"
           }
          },
          "shapedefaults": {
           "line": {
            "color": "#2a3f5f"
           }
          },
          "ternary": {
           "aaxis": {
            "gridcolor": "white",
            "linecolor": "white",
            "ticks": ""
           },
           "baxis": {
            "gridcolor": "white",
            "linecolor": "white",
            "ticks": ""
           },
           "bgcolor": "#E5ECF6",
           "caxis": {
            "gridcolor": "white",
            "linecolor": "white",
            "ticks": ""
           }
          },
          "title": {
           "x": 0.05
          },
          "xaxis": {
           "automargin": true,
           "gridcolor": "white",
           "linecolor": "white",
           "ticks": "",
           "title": {
            "standoff": 15
           },
           "zerolinecolor": "white",
           "zerolinewidth": 2
          },
          "yaxis": {
           "automargin": true,
           "gridcolor": "white",
           "linecolor": "white",
           "ticks": "",
           "title": {
            "standoff": 15
           },
           "zerolinecolor": "white",
           "zerolinewidth": 2
          }
         }
        },
        "title": {
         "text": "Variable Scores",
         "x": 0.5
        },
        "xaxis": {
         "anchor": "y",
         "domain": [
          0,
          1
         ],
         "title": {
          "text": "F1"
         }
        },
        "yaxis": {
         "anchor": "x",
         "domain": [
          0,
          1
         ],
         "title": {
          "text": "F2"
         }
        }
       }
      },
      "text/html": [
       "<div>                            <div id=\"5d0dd432-4a5c-4222-ba42-eb4fe2cc0e80\" class=\"plotly-graph-div\" style=\"height:525px; width:100%;\"></div>            <script type=\"text/javascript\">                require([\"plotly\"], function(Plotly) {                    window.PLOTLYENV=window.PLOTLYENV || {};                                    if (document.getElementById(\"5d0dd432-4a5c-4222-ba42-eb4fe2cc0e80\")) {                    Plotly.newPlot(                        \"5d0dd432-4a5c-4222-ba42-eb4fe2cc0e80\",                        [{\"hovertemplate\": \"F1=%{x}<br>F2=%{y}<br>variable=%{text}<extra></extra>\", \"legendgroup\": \"\", \"marker\": {\"color\": \"#636efa\", \"symbol\": \"circle\"}, \"mode\": \"markers+text\", \"name\": \"\", \"orientation\": \"v\", \"showlegend\": false, \"text\": [\"Adrenal crisis\", \"Ageusia\", \"Allergic conjunctivitis\", \"Amenorrhea\", \"Angular cheilitis\", \"Anosmia\", \"Asphyxia\", \"Atheroma\", \"Auditory hallucination\", \"Balance disorder\", \"Beau's lines\", \"Bleeding on probing\", \"Burning Chest Pain\", \"Burning mouth syndrome\", \"Cataplexy\", \"Chorea\", \"Cleft lip and cleft palate\", \"Clouding of consciousness\", \"Crackles\", \"Crepitus\", \"Croup\", \"Cyanosis\", \"Depersonalization\", \"Developmental disability\", \"Dysautonomia\", \"Dysgeusia\", \"Dyspareunia\", \"Dystonia\", \"Dysuria\", \"Epiphora\", \"Esophagitis\", \"Eye pain\", \"Facial swelling\", \"Fibrocystic breast changes\", \"Focal seizure\", \"Gastroparesis\", \"Gingival recession\", \"Globus pharyngis\", \"Goitre\", \"Grandiosity\", \"Granuloma\", \"Hemolysis\", \"Hemoptysis\", \"Hepatic encephalopathy\", \"Hepatotoxicity\", \"Hydrocephalus\", \"Hypercalcaemia\", \"Hypercapnia\", \"Hyperemesis gravidarum\", \"Hypersomnia\", \"Hyperventilation\", \"Hypocalcaemia\", \"Hypochondriasis\", \"Hypomania\", \"Kyphosis\", \"Laryngitis\", \"Leukorrhea\", \"Malabsorption\", \"Male infertility\", \"Mitral insufficiency\", \"Muscle atrophy\", \"Myoclonus\", \"Nasal polyp\", \"Neck mass\", \"Neutropenia\", \"Night terror\", \"Nocturnal enuresis\", \"Nystagmus\", \"Onychorrhexis\", \"Osteophyte\", \"Papule\", \"Pericarditis\", \"Petechia\", \"Photodermatitis\", \"Photophobia\", \"Polydipsia\", \"Polyuria\", \"Ptosis\", \"Pulmonary edema\", \"Rectal pain\", \"Rectal prolapse\", \"Rheum\", \"Round ligament pain\", \"Rumination\", \"Sensitivity to sound\", \"Shallow breathing\", \"Spasticity\", \"Splenomegaly\", \"Sputum\", \"Stomach rumble\", \"Stridor\", \"Subdural hematoma\", \"Tachypnea\", \"Tenderness\", \"Thyroid nodule\", \"Trichoptilosis\", \"Upper respiratory tract infection\", \"Urethritis\", \"Urinary urgency\", \"Ventricular fibrillation\", \"hospitalized_new\"], \"textposition\": \"top center\", \"type\": \"scatter\", \"x\": [0.14629908019750948, 0.09823726798932716, -0.10371724232072102, -0.06084282949861571, -0.1190788260490668, 0.29035238862180335, -0.12042469995998485, 0.17385890091669223, -0.08366199158562633, -0.1536827201120268, 0.0017641095885292692, -0.1549878097179523, 0.24190978016911896, -0.21540560233332462, 0.030000275620437424, 0.19039511625402258, -0.03891942402896976, -0.2037286622575448, 0.24479957306615388, -0.04748938273067619, 0.9113806913965514, 0.06842751271721019, -0.03477073001330037, 0.07289664673501958, -0.023326875435587265, 0.172804720669319, -0.1114314767306863, -0.12322578638035676, -0.16426712403727578, 0.18496718668061768, -0.08252600848343546, 0.0931177811194716, -0.27300635404343737, -0.07621571443094288, -0.043521230584688514, -0.22049189009675293, -0.11556860595609658, 0.16773567935924383, -0.13909896846503386, -0.14418850742500688, 0.030047390628690676, 0.4235321731980818, 0.3327853830205047, -0.10916798354230757, 0.07290803984464427, 0.009954855978531513, -0.19463513548799866, -0.1290408198024547, -0.08636629509423964, 0.006513867425776399, 0.19823508799805628, -0.1121907830113988, 0.6470904788818317, -0.03169673368965794, -0.12780827451799134, 0.5379688785538941, -0.17886258122175805, 0.04127023294888438, -0.18010684387210946, -0.07945268881841262, -0.060906300967801114, -0.05257702760651532, 0.019768658712927385, -0.04932575355789677, 0.018906433133852513, -0.06049857078100649, -0.12790593258839283, -0.12741271738760787, 0.09956107768960817, -0.28971871877537536, -0.10779052099216589, 0.0831440644936974, -0.12805849272669423, 0.02558682432445426, -0.04939508151643276, -0.02050046296384208, -0.0886585635510115, -0.04472428045322122, 0.2372248198721624, 0.0090690323280016, -0.09162309570817441, 0.2822870281044542, -0.14634422840852324, 0.04849009461223004, -0.020946183187607065, 0.677807353173304, 0.07762617722682792, 0.04665114998202483, 0.7776857004711044, 0.05047054255408864, 0.4066178539357451, -0.14615165000179084, 0.3177653601303282, -0.08183794469057018, -0.1446773638928438, 0.12432438099712474, 0.9063908156991324, -0.04809737283228893, 0.019457879218877153, -0.021895599082493528, -0.04557224020104743], \"xaxis\": \"x\", \"y\": [0.2463364143583939, 0.8563332321283263, -0.08318923676313711, 0.019368189916178235, -2.6250238105416895e-05, 0.7975677736252134, -0.08848021225184523, 0.07828892836535313, -0.04214958358760128, 0.057666498094264905, -0.07069532258557634, -0.059560228519166473, 0.07574707108621154, -0.012638197103117161, 0.09445225110723779, 0.11797397349418229, 0.11789609442631724, 0.2024054183299981, 0.27310747631780063, -0.005608620194349711, 0.133221745926485, 0.053570527098617184, 0.1038507239478023, 0.11045201188041083, 0.2580046859847326, 0.5967237705674815, -0.05003137076511625, 0.14876026214063487, 0.024943526851357787, 0.1389891155122775, 0.012116498617434695, 0.12181960475289544, 0.008905665644213181, 0.09304958789251815, 0.020402186320421893, 0.01114721814024789, 0.007502832170929342, 0.08607670793724197, -0.03386009234598347, 0.033192110169709445, 0.10321028151736784, 0.3587062699887673, 0.2253503250146864, 0.13735018159513734, 0.08726574915772485, 0.27277976688567035, 0.1860746998003422, -0.11925070811852544, 0.06582628309894836, 0.05896124178930083, -0.024967924399501986, 0.1712219250185351, 0.2208860904435874, 0.0014109330979164753, 0.0955866481851062, 0.014443642649378993, -0.005016922285732543, 0.00629426734280351, 0.07494790014169465, 0.1211168119125404, -0.006503716673703685, -0.032736358442972464, 0.06004587831922393, 0.046960439131145636, 0.10927546085555169, 0.05717075922527873, -0.009455250524870064, 0.042825604156505416, -0.026783049337293405, 0.08733035598228821, -0.06708587118309796, 0.21715615870182745, -0.0950284855411557, -0.04608445023100175, -0.03328611079546185, 0.0914634284225838, 0.03651456448329165, 0.11778567447180163, 0.03297949028924324, -0.004078693714363046, -0.052311313266696934, -0.010492261034692496, 0.0015501863258194062, 0.0553136070017746, 0.018652272313374466, 0.01120300672086896, 0.16924222641396366, 0.16114444783888468, 0.09203493412358765, 0.14902200445258812, 0.26830444617997706, 0.0611421504158267, 0.2240477852476643, 0.029808585008842238, 0.020517079320751065, -0.07959306383856948, 0.03083865401451861, 0.06373227262933562, 0.05050835016729674, 0.11013484879388528, 0.4845311924933778], \"yaxis\": \"y\"}],                        {\"legend\": {\"tracegroupgap\": 0}, \"margin\": {\"t\": 60}, \"template\": {\"data\": {\"bar\": [{\"error_x\": {\"color\": \"#2a3f5f\"}, \"error_y\": {\"color\": \"#2a3f5f\"}, \"marker\": {\"line\": {\"color\": \"#E5ECF6\", \"width\": 0.5}}, \"type\": \"bar\"}], \"barpolar\": [{\"marker\": {\"line\": {\"color\": \"#E5ECF6\", \"width\": 0.5}}, \"type\": \"barpolar\"}], \"carpet\": [{\"aaxis\": {\"endlinecolor\": \"#2a3f5f\", \"gridcolor\": \"white\", \"linecolor\": \"white\", \"minorgridcolor\": \"white\", \"startlinecolor\": \"#2a3f5f\"}, \"baxis\": {\"endlinecolor\": \"#2a3f5f\", \"gridcolor\": \"white\", \"linecolor\": \"white\", \"minorgridcolor\": \"white\", \"startlinecolor\": \"#2a3f5f\"}, \"type\": \"carpet\"}], \"choropleth\": [{\"colorbar\": {\"outlinewidth\": 0, \"ticks\": \"\"}, \"type\": \"choropleth\"}], \"contour\": [{\"colorbar\": {\"outlinewidth\": 0, \"ticks\": \"\"}, \"colorscale\": [[0.0, \"#0d0887\"], [0.1111111111111111, \"#46039f\"], [0.2222222222222222, \"#7201a8\"], [0.3333333333333333, \"#9c179e\"], [0.4444444444444444, \"#bd3786\"], [0.5555555555555556, \"#d8576b\"], [0.6666666666666666, \"#ed7953\"], [0.7777777777777778, \"#fb9f3a\"], [0.8888888888888888, \"#fdca26\"], [1.0, \"#f0f921\"]], \"type\": \"contour\"}], \"contourcarpet\": [{\"colorbar\": {\"outlinewidth\": 0, \"ticks\": \"\"}, \"type\": \"contourcarpet\"}], \"heatmap\": [{\"colorbar\": {\"outlinewidth\": 0, \"ticks\": \"\"}, \"colorscale\": [[0.0, \"#0d0887\"], [0.1111111111111111, \"#46039f\"], [0.2222222222222222, \"#7201a8\"], [0.3333333333333333, \"#9c179e\"], [0.4444444444444444, \"#bd3786\"], [0.5555555555555556, \"#d8576b\"], [0.6666666666666666, \"#ed7953\"], [0.7777777777777778, \"#fb9f3a\"], [0.8888888888888888, \"#fdca26\"], [1.0, \"#f0f921\"]], \"type\": \"heatmap\"}], \"heatmapgl\": [{\"colorbar\": {\"outlinewidth\": 0, \"ticks\": \"\"}, \"colorscale\": [[0.0, \"#0d0887\"], [0.1111111111111111, \"#46039f\"], [0.2222222222222222, \"#7201a8\"], [0.3333333333333333, \"#9c179e\"], [0.4444444444444444, \"#bd3786\"], [0.5555555555555556, \"#d8576b\"], [0.6666666666666666, \"#ed7953\"], [0.7777777777777778, \"#fb9f3a\"], [0.8888888888888888, \"#fdca26\"], [1.0, \"#f0f921\"]], \"type\": \"heatmapgl\"}], \"histogram\": [{\"marker\": {\"colorbar\": {\"outlinewidth\": 0, \"ticks\": \"\"}}, \"type\": \"histogram\"}], \"histogram2d\": [{\"colorbar\": {\"outlinewidth\": 0, \"ticks\": \"\"}, \"colorscale\": [[0.0, \"#0d0887\"], [0.1111111111111111, \"#46039f\"], [0.2222222222222222, \"#7201a8\"], [0.3333333333333333, \"#9c179e\"], [0.4444444444444444, \"#bd3786\"], [0.5555555555555556, \"#d8576b\"], [0.6666666666666666, \"#ed7953\"], [0.7777777777777778, \"#fb9f3a\"], [0.8888888888888888, \"#fdca26\"], [1.0, \"#f0f921\"]], \"type\": \"histogram2d\"}], \"histogram2dcontour\": [{\"colorbar\": {\"outlinewidth\": 0, \"ticks\": \"\"}, \"colorscale\": [[0.0, \"#0d0887\"], [0.1111111111111111, \"#46039f\"], [0.2222222222222222, \"#7201a8\"], [0.3333333333333333, \"#9c179e\"], [0.4444444444444444, \"#bd3786\"], [0.5555555555555556, \"#d8576b\"], [0.6666666666666666, \"#ed7953\"], [0.7777777777777778, \"#fb9f3a\"], [0.8888888888888888, \"#fdca26\"], [1.0, \"#f0f921\"]], \"type\": \"histogram2dcontour\"}], \"mesh3d\": [{\"colorbar\": {\"outlinewidth\": 0, \"ticks\": \"\"}, \"type\": \"mesh3d\"}], \"parcoords\": [{\"line\": {\"colorbar\": {\"outlinewidth\": 0, \"ticks\": \"\"}}, \"type\": \"parcoords\"}], \"pie\": [{\"automargin\": true, \"type\": \"pie\"}], \"scatter\": [{\"marker\": {\"colorbar\": {\"outlinewidth\": 0, \"ticks\": \"\"}}, \"type\": \"scatter\"}], \"scatter3d\": [{\"line\": {\"colorbar\": {\"outlinewidth\": 0, \"ticks\": \"\"}}, \"marker\": {\"colorbar\": {\"outlinewidth\": 0, \"ticks\": \"\"}}, \"type\": \"scatter3d\"}], \"scattercarpet\": [{\"marker\": {\"colorbar\": {\"outlinewidth\": 0, \"ticks\": \"\"}}, \"type\": \"scattercarpet\"}], \"scattergeo\": [{\"marker\": {\"colorbar\": {\"outlinewidth\": 0, \"ticks\": \"\"}}, \"type\": \"scattergeo\"}], \"scattergl\": [{\"marker\": {\"colorbar\": {\"outlinewidth\": 0, \"ticks\": \"\"}}, \"type\": \"scattergl\"}], \"scattermapbox\": [{\"marker\": {\"colorbar\": {\"outlinewidth\": 0, \"ticks\": \"\"}}, \"type\": \"scattermapbox\"}], \"scatterpolar\": [{\"marker\": {\"colorbar\": {\"outlinewidth\": 0, \"ticks\": \"\"}}, \"type\": \"scatterpolar\"}], \"scatterpolargl\": [{\"marker\": {\"colorbar\": {\"outlinewidth\": 0, \"ticks\": \"\"}}, \"type\": \"scatterpolargl\"}], \"scatterternary\": [{\"marker\": {\"colorbar\": {\"outlinewidth\": 0, \"ticks\": \"\"}}, \"type\": \"scatterternary\"}], \"surface\": [{\"colorbar\": {\"outlinewidth\": 0, \"ticks\": \"\"}, \"colorscale\": [[0.0, \"#0d0887\"], [0.1111111111111111, \"#46039f\"], [0.2222222222222222, \"#7201a8\"], [0.3333333333333333, \"#9c179e\"], [0.4444444444444444, \"#bd3786\"], [0.5555555555555556, \"#d8576b\"], [0.6666666666666666, \"#ed7953\"], [0.7777777777777778, \"#fb9f3a\"], [0.8888888888888888, \"#fdca26\"], [1.0, \"#f0f921\"]], \"type\": \"surface\"}], \"table\": [{\"cells\": {\"fill\": {\"color\": \"#EBF0F8\"}, \"line\": {\"color\": \"white\"}}, \"header\": {\"fill\": {\"color\": \"#C8D4E3\"}, \"line\": {\"color\": \"white\"}}, \"type\": \"table\"}]}, \"layout\": {\"annotationdefaults\": {\"arrowcolor\": \"#2a3f5f\", \"arrowhead\": 0, \"arrowwidth\": 1}, \"coloraxis\": {\"colorbar\": {\"outlinewidth\": 0, \"ticks\": \"\"}}, \"colorscale\": {\"diverging\": [[0, \"#8e0152\"], [0.1, \"#c51b7d\"], [0.2, \"#de77ae\"], [0.3, \"#f1b6da\"], [0.4, \"#fde0ef\"], [0.5, \"#f7f7f7\"], [0.6, \"#e6f5d0\"], [0.7, \"#b8e186\"], [0.8, \"#7fbc41\"], [0.9, \"#4d9221\"], [1, \"#276419\"]], \"sequential\": [[0.0, \"#0d0887\"], [0.1111111111111111, \"#46039f\"], [0.2222222222222222, \"#7201a8\"], [0.3333333333333333, \"#9c179e\"], [0.4444444444444444, \"#bd3786\"], [0.5555555555555556, \"#d8576b\"], [0.6666666666666666, \"#ed7953\"], [0.7777777777777778, \"#fb9f3a\"], [0.8888888888888888, \"#fdca26\"], [1.0, \"#f0f921\"]], \"sequentialminus\": [[0.0, \"#0d0887\"], [0.1111111111111111, \"#46039f\"], [0.2222222222222222, \"#7201a8\"], [0.3333333333333333, \"#9c179e\"], [0.4444444444444444, \"#bd3786\"], [0.5555555555555556, \"#d8576b\"], [0.6666666666666666, \"#ed7953\"], [0.7777777777777778, \"#fb9f3a\"], [0.8888888888888888, \"#fdca26\"], [1.0, \"#f0f921\"]]}, \"colorway\": [\"#636efa\", \"#EF553B\", \"#00cc96\", \"#ab63fa\", \"#FFA15A\", \"#19d3f3\", \"#FF6692\", \"#B6E880\", \"#FF97FF\", \"#FECB52\"], \"font\": {\"color\": \"#2a3f5f\"}, \"geo\": {\"bgcolor\": \"white\", \"lakecolor\": \"white\", \"landcolor\": \"#E5ECF6\", \"showlakes\": true, \"showland\": true, \"subunitcolor\": \"white\"}, \"hoverlabel\": {\"align\": \"left\"}, \"hovermode\": \"closest\", \"mapbox\": {\"style\": \"light\"}, \"paper_bgcolor\": \"white\", \"plot_bgcolor\": \"#E5ECF6\", \"polar\": {\"angularaxis\": {\"gridcolor\": \"white\", \"linecolor\": \"white\", \"ticks\": \"\"}, \"bgcolor\": \"#E5ECF6\", \"radialaxis\": {\"gridcolor\": \"white\", \"linecolor\": \"white\", \"ticks\": \"\"}}, \"scene\": {\"xaxis\": {\"backgroundcolor\": \"#E5ECF6\", \"gridcolor\": \"white\", \"gridwidth\": 2, \"linecolor\": \"white\", \"showbackground\": true, \"ticks\": \"\", \"zerolinecolor\": \"white\"}, \"yaxis\": {\"backgroundcolor\": \"#E5ECF6\", \"gridcolor\": \"white\", \"gridwidth\": 2, \"linecolor\": \"white\", \"showbackground\": true, \"ticks\": \"\", \"zerolinecolor\": \"white\"}, \"zaxis\": {\"backgroundcolor\": \"#E5ECF6\", \"gridcolor\": \"white\", \"gridwidth\": 2, \"linecolor\": \"white\", \"showbackground\": true, \"ticks\": \"\", \"zerolinecolor\": \"white\"}}, \"shapedefaults\": {\"line\": {\"color\": \"#2a3f5f\"}}, \"ternary\": {\"aaxis\": {\"gridcolor\": \"white\", \"linecolor\": \"white\", \"ticks\": \"\"}, \"baxis\": {\"gridcolor\": \"white\", \"linecolor\": \"white\", \"ticks\": \"\"}, \"bgcolor\": \"#E5ECF6\", \"caxis\": {\"gridcolor\": \"white\", \"linecolor\": \"white\", \"ticks\": \"\"}}, \"title\": {\"x\": 0.05}, \"xaxis\": {\"automargin\": true, \"gridcolor\": \"white\", \"linecolor\": \"white\", \"ticks\": \"\", \"title\": {\"standoff\": 15}, \"zerolinecolor\": \"white\", \"zerolinewidth\": 2}, \"yaxis\": {\"automargin\": true, \"gridcolor\": \"white\", \"linecolor\": \"white\", \"ticks\": \"\", \"title\": {\"standoff\": 15}, \"zerolinecolor\": \"white\", \"zerolinewidth\": 2}}}, \"title\": {\"text\": \"Variable Scores\", \"x\": 0.5}, \"xaxis\": {\"anchor\": \"y\", \"domain\": [0.0, 1.0], \"title\": {\"text\": \"F1\"}}, \"yaxis\": {\"anchor\": \"x\", \"domain\": [0.0, 1.0], \"title\": {\"text\": \"F2\"}}},                        {\"responsive\": true}                    ).then(function(){\n",
       "                            \n",
       "var gd = document.getElementById('5d0dd432-4a5c-4222-ba42-eb4fe2cc0e80');\n",
       "var x = new MutationObserver(function (mutations, observer) {{\n",
       "        var display = window.getComputedStyle(gd).display;\n",
       "        if (!display || display === 'none') {{\n",
       "            console.log([gd, 'removed!']);\n",
       "            Plotly.purge(gd);\n",
       "            observer.disconnect();\n",
       "        }}\n",
       "}});\n",
       "\n",
       "// Listen for the removal of the full notebook cells\n",
       "var notebookContainer = gd.closest('#notebook-container');\n",
       "if (notebookContainer) {{\n",
       "    x.observe(notebookContainer, {childList: true});\n",
       "}}\n",
       "\n",
       "// Listen for the clearing of the current output cell\n",
       "var outputEl = gd.closest('.output');\n",
       "if (outputEl) {{\n",
       "    x.observe(outputEl, {childList: true});\n",
       "}}\n",
       "\n",
       "                        })                };                });            </script>        </div>"
      ]
     },
     "metadata": {},
     "output_type": "display_data"
    },
    {
     "data": {
      "application/vnd.plotly.v1+json": {
       "config": {
        "plotlyServerURL": "https://plot.ly"
       },
       "data": [
        {
         "hovertemplate": "F2=%{x}<br>F3=%{y}<br>variable=%{text}<extra></extra>",
         "legendgroup": "",
         "marker": {
          "color": "#636efa",
          "symbol": "circle"
         },
         "mode": "markers+text",
         "name": "",
         "orientation": "v",
         "showlegend": false,
         "text": [
          "Adrenal crisis",
          "Ageusia",
          "Allergic conjunctivitis",
          "Amenorrhea",
          "Angular cheilitis",
          "Anosmia",
          "Asphyxia",
          "Atheroma",
          "Auditory hallucination",
          "Balance disorder",
          "Beau's lines",
          "Bleeding on probing",
          "Burning Chest Pain",
          "Burning mouth syndrome",
          "Cataplexy",
          "Chorea",
          "Cleft lip and cleft palate",
          "Clouding of consciousness",
          "Crackles",
          "Crepitus",
          "Croup",
          "Cyanosis",
          "Depersonalization",
          "Developmental disability",
          "Dysautonomia",
          "Dysgeusia",
          "Dyspareunia",
          "Dystonia",
          "Dysuria",
          "Epiphora",
          "Esophagitis",
          "Eye pain",
          "Facial swelling",
          "Fibrocystic breast changes",
          "Focal seizure",
          "Gastroparesis",
          "Gingival recession",
          "Globus pharyngis",
          "Goitre",
          "Grandiosity",
          "Granuloma",
          "Hemolysis",
          "Hemoptysis",
          "Hepatic encephalopathy",
          "Hepatotoxicity",
          "Hydrocephalus",
          "Hypercalcaemia",
          "Hypercapnia",
          "Hyperemesis gravidarum",
          "Hypersomnia",
          "Hyperventilation",
          "Hypocalcaemia",
          "Hypochondriasis",
          "Hypomania",
          "Kyphosis",
          "Laryngitis",
          "Leukorrhea",
          "Malabsorption",
          "Male infertility",
          "Mitral insufficiency",
          "Muscle atrophy",
          "Myoclonus",
          "Nasal polyp",
          "Neck mass",
          "Neutropenia",
          "Night terror",
          "Nocturnal enuresis",
          "Nystagmus",
          "Onychorrhexis",
          "Osteophyte",
          "Papule",
          "Pericarditis",
          "Petechia",
          "Photodermatitis",
          "Photophobia",
          "Polydipsia",
          "Polyuria",
          "Ptosis",
          "Pulmonary edema",
          "Rectal pain",
          "Rectal prolapse",
          "Rheum",
          "Round ligament pain",
          "Rumination",
          "Sensitivity to sound",
          "Shallow breathing",
          "Spasticity",
          "Splenomegaly",
          "Sputum",
          "Stomach rumble",
          "Stridor",
          "Subdural hematoma",
          "Tachypnea",
          "Tenderness",
          "Thyroid nodule",
          "Trichoptilosis",
          "Upper respiratory tract infection",
          "Urethritis",
          "Urinary urgency",
          "Ventricular fibrillation",
          "hospitalized_new"
         ],
         "textposition": "top center",
         "type": "scatter",
         "x": [
          0.2463364143583939,
          0.8563332321283263,
          -0.08318923676313711,
          0.019368189916178235,
          -2.6250238105416895e-05,
          0.7975677736252134,
          -0.08848021225184523,
          0.07828892836535313,
          -0.04214958358760128,
          0.057666498094264905,
          -0.07069532258557634,
          -0.059560228519166473,
          0.07574707108621154,
          -0.012638197103117161,
          0.09445225110723779,
          0.11797397349418229,
          0.11789609442631724,
          0.2024054183299981,
          0.27310747631780063,
          -0.005608620194349711,
          0.133221745926485,
          0.053570527098617184,
          0.1038507239478023,
          0.11045201188041083,
          0.2580046859847326,
          0.5967237705674815,
          -0.05003137076511625,
          0.14876026214063487,
          0.024943526851357787,
          0.1389891155122775,
          0.012116498617434695,
          0.12181960475289544,
          0.008905665644213181,
          0.09304958789251815,
          0.020402186320421893,
          0.01114721814024789,
          0.007502832170929342,
          0.08607670793724197,
          -0.03386009234598347,
          0.033192110169709445,
          0.10321028151736784,
          0.3587062699887673,
          0.2253503250146864,
          0.13735018159513734,
          0.08726574915772485,
          0.27277976688567035,
          0.1860746998003422,
          -0.11925070811852544,
          0.06582628309894836,
          0.05896124178930083,
          -0.024967924399501986,
          0.1712219250185351,
          0.2208860904435874,
          0.0014109330979164753,
          0.0955866481851062,
          0.014443642649378993,
          -0.005016922285732543,
          0.00629426734280351,
          0.07494790014169465,
          0.1211168119125404,
          -0.006503716673703685,
          -0.032736358442972464,
          0.06004587831922393,
          0.046960439131145636,
          0.10927546085555169,
          0.05717075922527873,
          -0.009455250524870064,
          0.042825604156505416,
          -0.026783049337293405,
          0.08733035598228821,
          -0.06708587118309796,
          0.21715615870182745,
          -0.0950284855411557,
          -0.04608445023100175,
          -0.03328611079546185,
          0.0914634284225838,
          0.03651456448329165,
          0.11778567447180163,
          0.03297949028924324,
          -0.004078693714363046,
          -0.052311313266696934,
          -0.010492261034692496,
          0.0015501863258194062,
          0.0553136070017746,
          0.018652272313374466,
          0.01120300672086896,
          0.16924222641396366,
          0.16114444783888468,
          0.09203493412358765,
          0.14902200445258812,
          0.26830444617997706,
          0.0611421504158267,
          0.2240477852476643,
          0.029808585008842238,
          0.020517079320751065,
          -0.07959306383856948,
          0.03083865401451861,
          0.06373227262933562,
          0.05050835016729674,
          0.11013484879388528,
          0.4845311924933778
         ],
         "xaxis": "x",
         "y": [
          -0.03177532752932407,
          -0.07207988196738689,
          0.8784129491129276,
          0.01767504883741805,
          0.006548782146931677,
          -0.018974049535525808,
          0.0721503468527009,
          -0.08852633728132606,
          0.11066141216126628,
          -0.026464795378513737,
          0.04140640132362396,
          0.03285558682573719,
          -0.05400897902304905,
          0.037008566350504736,
          0.03287830808675768,
          -0.13446217884761827,
          -0.0032820009578426717,
          0.03340423571790318,
          -0.06894448673615518,
          -0.002629510412310913,
          -0.01063707336781458,
          -0.013160793075923343,
          -0.07052845771002798,
          0.0021238976602133493,
          0.018891262554926815,
          0.016407104478988507,
          0.07114656607793815,
          -0.07465237886522832,
          0.06636333410564622,
          0.08211320209901139,
          -0.0492513183756875,
          -0.02039409260304736,
          0.2616986668248246,
          0.03682244057423897,
          -0.010949015869838144,
          -0.02339701059600616,
          0.011413920546286656,
          -0.08138723089604175,
          0.08096954168773778,
          0.052855860330373323,
          0.004428531306975071,
          0.014211029443609939,
          -0.0529557523511998,
          -0.023607412006069736,
          -0.042496688430423736,
          0.012096432362065195,
          0.0059920157444204175,
          -0.012067707850789413,
          -0.03024531900495416,
          0.0160980564034781,
          -0.18184391702184055,
          -0.014083036083836546,
          -0.09442691925760362,
          -0.07449899425151019,
          0.04487815977201756,
          -0.059633365450388616,
          0.04396057169022092,
          -0.0746814064334431,
          -0.059825059792113486,
          0.08638209104350916,
          -0.005080154781485895,
          -0.06162141234374196,
          0.02174816943797742,
          0.16844398028643118,
          -0.01327358175973282,
          0.010619320644758467,
          -0.0004979657880259305,
          0.06378402312836284,
          -0.026043515097890612,
          0.16174337077794176,
          -0.033680231462320354,
          -0.07722061288672255,
          0.008167553127068818,
          0.09572149485130324,
          -0.023295608579692675,
          0.011317771876566459,
          -0.0018378329925781947,
          0.029138143117491584,
          -0.011834510111768715,
          -0.07621578408746245,
          -0.033038734484194573,
          0.07922942289249064,
          -0.042473992033526774,
          0.008365026453981622,
          -0.032991592287832376,
          -0.025282856875335488,
          -0.0033739379769213308,
          0.024286977571830914,
          -0.06064957229953466,
          -0.031251368325410527,
          -0.07542787078871793,
          -0.06646120880906313,
          -0.10984738186116164,
          0.020482921408303188,
          0.10643604538639125,
          -0.039749318578518954,
          -0.00514598607489731,
          -0.0537438980680552,
          0.010264396747277414,
          -0.05376533789925972,
          -0.048438388568684564
         ],
         "yaxis": "y"
        }
       ],
       "layout": {
        "legend": {
         "tracegroupgap": 0
        },
        "margin": {
         "t": 60
        },
        "template": {
         "data": {
          "bar": [
           {
            "error_x": {
             "color": "#2a3f5f"
            },
            "error_y": {
             "color": "#2a3f5f"
            },
            "marker": {
             "line": {
              "color": "#E5ECF6",
              "width": 0.5
             }
            },
            "type": "bar"
           }
          ],
          "barpolar": [
           {
            "marker": {
             "line": {
              "color": "#E5ECF6",
              "width": 0.5
             }
            },
            "type": "barpolar"
           }
          ],
          "carpet": [
           {
            "aaxis": {
             "endlinecolor": "#2a3f5f",
             "gridcolor": "white",
             "linecolor": "white",
             "minorgridcolor": "white",
             "startlinecolor": "#2a3f5f"
            },
            "baxis": {
             "endlinecolor": "#2a3f5f",
             "gridcolor": "white",
             "linecolor": "white",
             "minorgridcolor": "white",
             "startlinecolor": "#2a3f5f"
            },
            "type": "carpet"
           }
          ],
          "choropleth": [
           {
            "colorbar": {
             "outlinewidth": 0,
             "ticks": ""
            },
            "type": "choropleth"
           }
          ],
          "contour": [
           {
            "colorbar": {
             "outlinewidth": 0,
             "ticks": ""
            },
            "colorscale": [
             [
              0,
              "#0d0887"
             ],
             [
              0.1111111111111111,
              "#46039f"
             ],
             [
              0.2222222222222222,
              "#7201a8"
             ],
             [
              0.3333333333333333,
              "#9c179e"
             ],
             [
              0.4444444444444444,
              "#bd3786"
             ],
             [
              0.5555555555555556,
              "#d8576b"
             ],
             [
              0.6666666666666666,
              "#ed7953"
             ],
             [
              0.7777777777777778,
              "#fb9f3a"
             ],
             [
              0.8888888888888888,
              "#fdca26"
             ],
             [
              1,
              "#f0f921"
             ]
            ],
            "type": "contour"
           }
          ],
          "contourcarpet": [
           {
            "colorbar": {
             "outlinewidth": 0,
             "ticks": ""
            },
            "type": "contourcarpet"
           }
          ],
          "heatmap": [
           {
            "colorbar": {
             "outlinewidth": 0,
             "ticks": ""
            },
            "colorscale": [
             [
              0,
              "#0d0887"
             ],
             [
              0.1111111111111111,
              "#46039f"
             ],
             [
              0.2222222222222222,
              "#7201a8"
             ],
             [
              0.3333333333333333,
              "#9c179e"
             ],
             [
              0.4444444444444444,
              "#bd3786"
             ],
             [
              0.5555555555555556,
              "#d8576b"
             ],
             [
              0.6666666666666666,
              "#ed7953"
             ],
             [
              0.7777777777777778,
              "#fb9f3a"
             ],
             [
              0.8888888888888888,
              "#fdca26"
             ],
             [
              1,
              "#f0f921"
             ]
            ],
            "type": "heatmap"
           }
          ],
          "heatmapgl": [
           {
            "colorbar": {
             "outlinewidth": 0,
             "ticks": ""
            },
            "colorscale": [
             [
              0,
              "#0d0887"
             ],
             [
              0.1111111111111111,
              "#46039f"
             ],
             [
              0.2222222222222222,
              "#7201a8"
             ],
             [
              0.3333333333333333,
              "#9c179e"
             ],
             [
              0.4444444444444444,
              "#bd3786"
             ],
             [
              0.5555555555555556,
              "#d8576b"
             ],
             [
              0.6666666666666666,
              "#ed7953"
             ],
             [
              0.7777777777777778,
              "#fb9f3a"
             ],
             [
              0.8888888888888888,
              "#fdca26"
             ],
             [
              1,
              "#f0f921"
             ]
            ],
            "type": "heatmapgl"
           }
          ],
          "histogram": [
           {
            "marker": {
             "colorbar": {
              "outlinewidth": 0,
              "ticks": ""
             }
            },
            "type": "histogram"
           }
          ],
          "histogram2d": [
           {
            "colorbar": {
             "outlinewidth": 0,
             "ticks": ""
            },
            "colorscale": [
             [
              0,
              "#0d0887"
             ],
             [
              0.1111111111111111,
              "#46039f"
             ],
             [
              0.2222222222222222,
              "#7201a8"
             ],
             [
              0.3333333333333333,
              "#9c179e"
             ],
             [
              0.4444444444444444,
              "#bd3786"
             ],
             [
              0.5555555555555556,
              "#d8576b"
             ],
             [
              0.6666666666666666,
              "#ed7953"
             ],
             [
              0.7777777777777778,
              "#fb9f3a"
             ],
             [
              0.8888888888888888,
              "#fdca26"
             ],
             [
              1,
              "#f0f921"
             ]
            ],
            "type": "histogram2d"
           }
          ],
          "histogram2dcontour": [
           {
            "colorbar": {
             "outlinewidth": 0,
             "ticks": ""
            },
            "colorscale": [
             [
              0,
              "#0d0887"
             ],
             [
              0.1111111111111111,
              "#46039f"
             ],
             [
              0.2222222222222222,
              "#7201a8"
             ],
             [
              0.3333333333333333,
              "#9c179e"
             ],
             [
              0.4444444444444444,
              "#bd3786"
             ],
             [
              0.5555555555555556,
              "#d8576b"
             ],
             [
              0.6666666666666666,
              "#ed7953"
             ],
             [
              0.7777777777777778,
              "#fb9f3a"
             ],
             [
              0.8888888888888888,
              "#fdca26"
             ],
             [
              1,
              "#f0f921"
             ]
            ],
            "type": "histogram2dcontour"
           }
          ],
          "mesh3d": [
           {
            "colorbar": {
             "outlinewidth": 0,
             "ticks": ""
            },
            "type": "mesh3d"
           }
          ],
          "parcoords": [
           {
            "line": {
             "colorbar": {
              "outlinewidth": 0,
              "ticks": ""
             }
            },
            "type": "parcoords"
           }
          ],
          "pie": [
           {
            "automargin": true,
            "type": "pie"
           }
          ],
          "scatter": [
           {
            "marker": {
             "colorbar": {
              "outlinewidth": 0,
              "ticks": ""
             }
            },
            "type": "scatter"
           }
          ],
          "scatter3d": [
           {
            "line": {
             "colorbar": {
              "outlinewidth": 0,
              "ticks": ""
             }
            },
            "marker": {
             "colorbar": {
              "outlinewidth": 0,
              "ticks": ""
             }
            },
            "type": "scatter3d"
           }
          ],
          "scattercarpet": [
           {
            "marker": {
             "colorbar": {
              "outlinewidth": 0,
              "ticks": ""
             }
            },
            "type": "scattercarpet"
           }
          ],
          "scattergeo": [
           {
            "marker": {
             "colorbar": {
              "outlinewidth": 0,
              "ticks": ""
             }
            },
            "type": "scattergeo"
           }
          ],
          "scattergl": [
           {
            "marker": {
             "colorbar": {
              "outlinewidth": 0,
              "ticks": ""
             }
            },
            "type": "scattergl"
           }
          ],
          "scattermapbox": [
           {
            "marker": {
             "colorbar": {
              "outlinewidth": 0,
              "ticks": ""
             }
            },
            "type": "scattermapbox"
           }
          ],
          "scatterpolar": [
           {
            "marker": {
             "colorbar": {
              "outlinewidth": 0,
              "ticks": ""
             }
            },
            "type": "scatterpolar"
           }
          ],
          "scatterpolargl": [
           {
            "marker": {
             "colorbar": {
              "outlinewidth": 0,
              "ticks": ""
             }
            },
            "type": "scatterpolargl"
           }
          ],
          "scatterternary": [
           {
            "marker": {
             "colorbar": {
              "outlinewidth": 0,
              "ticks": ""
             }
            },
            "type": "scatterternary"
           }
          ],
          "surface": [
           {
            "colorbar": {
             "outlinewidth": 0,
             "ticks": ""
            },
            "colorscale": [
             [
              0,
              "#0d0887"
             ],
             [
              0.1111111111111111,
              "#46039f"
             ],
             [
              0.2222222222222222,
              "#7201a8"
             ],
             [
              0.3333333333333333,
              "#9c179e"
             ],
             [
              0.4444444444444444,
              "#bd3786"
             ],
             [
              0.5555555555555556,
              "#d8576b"
             ],
             [
              0.6666666666666666,
              "#ed7953"
             ],
             [
              0.7777777777777778,
              "#fb9f3a"
             ],
             [
              0.8888888888888888,
              "#fdca26"
             ],
             [
              1,
              "#f0f921"
             ]
            ],
            "type": "surface"
           }
          ],
          "table": [
           {
            "cells": {
             "fill": {
              "color": "#EBF0F8"
             },
             "line": {
              "color": "white"
             }
            },
            "header": {
             "fill": {
              "color": "#C8D4E3"
             },
             "line": {
              "color": "white"
             }
            },
            "type": "table"
           }
          ]
         },
         "layout": {
          "annotationdefaults": {
           "arrowcolor": "#2a3f5f",
           "arrowhead": 0,
           "arrowwidth": 1
          },
          "coloraxis": {
           "colorbar": {
            "outlinewidth": 0,
            "ticks": ""
           }
          },
          "colorscale": {
           "diverging": [
            [
             0,
             "#8e0152"
            ],
            [
             0.1,
             "#c51b7d"
            ],
            [
             0.2,
             "#de77ae"
            ],
            [
             0.3,
             "#f1b6da"
            ],
            [
             0.4,
             "#fde0ef"
            ],
            [
             0.5,
             "#f7f7f7"
            ],
            [
             0.6,
             "#e6f5d0"
            ],
            [
             0.7,
             "#b8e186"
            ],
            [
             0.8,
             "#7fbc41"
            ],
            [
             0.9,
             "#4d9221"
            ],
            [
             1,
             "#276419"
            ]
           ],
           "sequential": [
            [
             0,
             "#0d0887"
            ],
            [
             0.1111111111111111,
             "#46039f"
            ],
            [
             0.2222222222222222,
             "#7201a8"
            ],
            [
             0.3333333333333333,
             "#9c179e"
            ],
            [
             0.4444444444444444,
             "#bd3786"
            ],
            [
             0.5555555555555556,
             "#d8576b"
            ],
            [
             0.6666666666666666,
             "#ed7953"
            ],
            [
             0.7777777777777778,
             "#fb9f3a"
            ],
            [
             0.8888888888888888,
             "#fdca26"
            ],
            [
             1,
             "#f0f921"
            ]
           ],
           "sequentialminus": [
            [
             0,
             "#0d0887"
            ],
            [
             0.1111111111111111,
             "#46039f"
            ],
            [
             0.2222222222222222,
             "#7201a8"
            ],
            [
             0.3333333333333333,
             "#9c179e"
            ],
            [
             0.4444444444444444,
             "#bd3786"
            ],
            [
             0.5555555555555556,
             "#d8576b"
            ],
            [
             0.6666666666666666,
             "#ed7953"
            ],
            [
             0.7777777777777778,
             "#fb9f3a"
            ],
            [
             0.8888888888888888,
             "#fdca26"
            ],
            [
             1,
             "#f0f921"
            ]
           ]
          },
          "colorway": [
           "#636efa",
           "#EF553B",
           "#00cc96",
           "#ab63fa",
           "#FFA15A",
           "#19d3f3",
           "#FF6692",
           "#B6E880",
           "#FF97FF",
           "#FECB52"
          ],
          "font": {
           "color": "#2a3f5f"
          },
          "geo": {
           "bgcolor": "white",
           "lakecolor": "white",
           "landcolor": "#E5ECF6",
           "showlakes": true,
           "showland": true,
           "subunitcolor": "white"
          },
          "hoverlabel": {
           "align": "left"
          },
          "hovermode": "closest",
          "mapbox": {
           "style": "light"
          },
          "paper_bgcolor": "white",
          "plot_bgcolor": "#E5ECF6",
          "polar": {
           "angularaxis": {
            "gridcolor": "white",
            "linecolor": "white",
            "ticks": ""
           },
           "bgcolor": "#E5ECF6",
           "radialaxis": {
            "gridcolor": "white",
            "linecolor": "white",
            "ticks": ""
           }
          },
          "scene": {
           "xaxis": {
            "backgroundcolor": "#E5ECF6",
            "gridcolor": "white",
            "gridwidth": 2,
            "linecolor": "white",
            "showbackground": true,
            "ticks": "",
            "zerolinecolor": "white"
           },
           "yaxis": {
            "backgroundcolor": "#E5ECF6",
            "gridcolor": "white",
            "gridwidth": 2,
            "linecolor": "white",
            "showbackground": true,
            "ticks": "",
            "zerolinecolor": "white"
           },
           "zaxis": {
            "backgroundcolor": "#E5ECF6",
            "gridcolor": "white",
            "gridwidth": 2,
            "linecolor": "white",
            "showbackground": true,
            "ticks": "",
            "zerolinecolor": "white"
           }
          },
          "shapedefaults": {
           "line": {
            "color": "#2a3f5f"
           }
          },
          "ternary": {
           "aaxis": {
            "gridcolor": "white",
            "linecolor": "white",
            "ticks": ""
           },
           "baxis": {
            "gridcolor": "white",
            "linecolor": "white",
            "ticks": ""
           },
           "bgcolor": "#E5ECF6",
           "caxis": {
            "gridcolor": "white",
            "linecolor": "white",
            "ticks": ""
           }
          },
          "title": {
           "x": 0.05
          },
          "xaxis": {
           "automargin": true,
           "gridcolor": "white",
           "linecolor": "white",
           "ticks": "",
           "title": {
            "standoff": 15
           },
           "zerolinecolor": "white",
           "zerolinewidth": 2
          },
          "yaxis": {
           "automargin": true,
           "gridcolor": "white",
           "linecolor": "white",
           "ticks": "",
           "title": {
            "standoff": 15
           },
           "zerolinecolor": "white",
           "zerolinewidth": 2
          }
         }
        },
        "title": {
         "text": "Variable Scores",
         "x": 0.5
        },
        "xaxis": {
         "anchor": "y",
         "domain": [
          0,
          1
         ],
         "title": {
          "text": "F2"
         }
        },
        "yaxis": {
         "anchor": "x",
         "domain": [
          0,
          1
         ],
         "title": {
          "text": "F3"
         }
        }
       }
      },
      "text/html": [
       "<div>                            <div id=\"3622cc57-58fb-43ee-9bd2-e30af97e6b48\" class=\"plotly-graph-div\" style=\"height:525px; width:100%;\"></div>            <script type=\"text/javascript\">                require([\"plotly\"], function(Plotly) {                    window.PLOTLYENV=window.PLOTLYENV || {};                                    if (document.getElementById(\"3622cc57-58fb-43ee-9bd2-e30af97e6b48\")) {                    Plotly.newPlot(                        \"3622cc57-58fb-43ee-9bd2-e30af97e6b48\",                        [{\"hovertemplate\": \"F2=%{x}<br>F3=%{y}<br>variable=%{text}<extra></extra>\", \"legendgroup\": \"\", \"marker\": {\"color\": \"#636efa\", \"symbol\": \"circle\"}, \"mode\": \"markers+text\", \"name\": \"\", \"orientation\": \"v\", \"showlegend\": false, \"text\": [\"Adrenal crisis\", \"Ageusia\", \"Allergic conjunctivitis\", \"Amenorrhea\", \"Angular cheilitis\", \"Anosmia\", \"Asphyxia\", \"Atheroma\", \"Auditory hallucination\", \"Balance disorder\", \"Beau's lines\", \"Bleeding on probing\", \"Burning Chest Pain\", \"Burning mouth syndrome\", \"Cataplexy\", \"Chorea\", \"Cleft lip and cleft palate\", \"Clouding of consciousness\", \"Crackles\", \"Crepitus\", \"Croup\", \"Cyanosis\", \"Depersonalization\", \"Developmental disability\", \"Dysautonomia\", \"Dysgeusia\", \"Dyspareunia\", \"Dystonia\", \"Dysuria\", \"Epiphora\", \"Esophagitis\", \"Eye pain\", \"Facial swelling\", \"Fibrocystic breast changes\", \"Focal seizure\", \"Gastroparesis\", \"Gingival recession\", \"Globus pharyngis\", \"Goitre\", \"Grandiosity\", \"Granuloma\", \"Hemolysis\", \"Hemoptysis\", \"Hepatic encephalopathy\", \"Hepatotoxicity\", \"Hydrocephalus\", \"Hypercalcaemia\", \"Hypercapnia\", \"Hyperemesis gravidarum\", \"Hypersomnia\", \"Hyperventilation\", \"Hypocalcaemia\", \"Hypochondriasis\", \"Hypomania\", \"Kyphosis\", \"Laryngitis\", \"Leukorrhea\", \"Malabsorption\", \"Male infertility\", \"Mitral insufficiency\", \"Muscle atrophy\", \"Myoclonus\", \"Nasal polyp\", \"Neck mass\", \"Neutropenia\", \"Night terror\", \"Nocturnal enuresis\", \"Nystagmus\", \"Onychorrhexis\", \"Osteophyte\", \"Papule\", \"Pericarditis\", \"Petechia\", \"Photodermatitis\", \"Photophobia\", \"Polydipsia\", \"Polyuria\", \"Ptosis\", \"Pulmonary edema\", \"Rectal pain\", \"Rectal prolapse\", \"Rheum\", \"Round ligament pain\", \"Rumination\", \"Sensitivity to sound\", \"Shallow breathing\", \"Spasticity\", \"Splenomegaly\", \"Sputum\", \"Stomach rumble\", \"Stridor\", \"Subdural hematoma\", \"Tachypnea\", \"Tenderness\", \"Thyroid nodule\", \"Trichoptilosis\", \"Upper respiratory tract infection\", \"Urethritis\", \"Urinary urgency\", \"Ventricular fibrillation\", \"hospitalized_new\"], \"textposition\": \"top center\", \"type\": \"scatter\", \"x\": [0.2463364143583939, 0.8563332321283263, -0.08318923676313711, 0.019368189916178235, -2.6250238105416895e-05, 0.7975677736252134, -0.08848021225184523, 0.07828892836535313, -0.04214958358760128, 0.057666498094264905, -0.07069532258557634, -0.059560228519166473, 0.07574707108621154, -0.012638197103117161, 0.09445225110723779, 0.11797397349418229, 0.11789609442631724, 0.2024054183299981, 0.27310747631780063, -0.005608620194349711, 0.133221745926485, 0.053570527098617184, 0.1038507239478023, 0.11045201188041083, 0.2580046859847326, 0.5967237705674815, -0.05003137076511625, 0.14876026214063487, 0.024943526851357787, 0.1389891155122775, 0.012116498617434695, 0.12181960475289544, 0.008905665644213181, 0.09304958789251815, 0.020402186320421893, 0.01114721814024789, 0.007502832170929342, 0.08607670793724197, -0.03386009234598347, 0.033192110169709445, 0.10321028151736784, 0.3587062699887673, 0.2253503250146864, 0.13735018159513734, 0.08726574915772485, 0.27277976688567035, 0.1860746998003422, -0.11925070811852544, 0.06582628309894836, 0.05896124178930083, -0.024967924399501986, 0.1712219250185351, 0.2208860904435874, 0.0014109330979164753, 0.0955866481851062, 0.014443642649378993, -0.005016922285732543, 0.00629426734280351, 0.07494790014169465, 0.1211168119125404, -0.006503716673703685, -0.032736358442972464, 0.06004587831922393, 0.046960439131145636, 0.10927546085555169, 0.05717075922527873, -0.009455250524870064, 0.042825604156505416, -0.026783049337293405, 0.08733035598228821, -0.06708587118309796, 0.21715615870182745, -0.0950284855411557, -0.04608445023100175, -0.03328611079546185, 0.0914634284225838, 0.03651456448329165, 0.11778567447180163, 0.03297949028924324, -0.004078693714363046, -0.052311313266696934, -0.010492261034692496, 0.0015501863258194062, 0.0553136070017746, 0.018652272313374466, 0.01120300672086896, 0.16924222641396366, 0.16114444783888468, 0.09203493412358765, 0.14902200445258812, 0.26830444617997706, 0.0611421504158267, 0.2240477852476643, 0.029808585008842238, 0.020517079320751065, -0.07959306383856948, 0.03083865401451861, 0.06373227262933562, 0.05050835016729674, 0.11013484879388528, 0.4845311924933778], \"xaxis\": \"x\", \"y\": [-0.03177532752932407, -0.07207988196738689, 0.8784129491129276, 0.01767504883741805, 0.006548782146931677, -0.018974049535525808, 0.0721503468527009, -0.08852633728132606, 0.11066141216126628, -0.026464795378513737, 0.04140640132362396, 0.03285558682573719, -0.05400897902304905, 0.037008566350504736, 0.03287830808675768, -0.13446217884761827, -0.0032820009578426717, 0.03340423571790318, -0.06894448673615518, -0.002629510412310913, -0.01063707336781458, -0.013160793075923343, -0.07052845771002798, 0.0021238976602133493, 0.018891262554926815, 0.016407104478988507, 0.07114656607793815, -0.07465237886522832, 0.06636333410564622, 0.08211320209901139, -0.0492513183756875, -0.02039409260304736, 0.2616986668248246, 0.03682244057423897, -0.010949015869838144, -0.02339701059600616, 0.011413920546286656, -0.08138723089604175, 0.08096954168773778, 0.052855860330373323, 0.004428531306975071, 0.014211029443609939, -0.0529557523511998, -0.023607412006069736, -0.042496688430423736, 0.012096432362065195, 0.0059920157444204175, -0.012067707850789413, -0.03024531900495416, 0.0160980564034781, -0.18184391702184055, -0.014083036083836546, -0.09442691925760362, -0.07449899425151019, 0.04487815977201756, -0.059633365450388616, 0.04396057169022092, -0.0746814064334431, -0.059825059792113486, 0.08638209104350916, -0.005080154781485895, -0.06162141234374196, 0.02174816943797742, 0.16844398028643118, -0.01327358175973282, 0.010619320644758467, -0.0004979657880259305, 0.06378402312836284, -0.026043515097890612, 0.16174337077794176, -0.033680231462320354, -0.07722061288672255, 0.008167553127068818, 0.09572149485130324, -0.023295608579692675, 0.011317771876566459, -0.0018378329925781947, 0.029138143117491584, -0.011834510111768715, -0.07621578408746245, -0.033038734484194573, 0.07922942289249064, -0.042473992033526774, 0.008365026453981622, -0.032991592287832376, -0.025282856875335488, -0.0033739379769213308, 0.024286977571830914, -0.06064957229953466, -0.031251368325410527, -0.07542787078871793, -0.06646120880906313, -0.10984738186116164, 0.020482921408303188, 0.10643604538639125, -0.039749318578518954, -0.00514598607489731, -0.0537438980680552, 0.010264396747277414, -0.05376533789925972, -0.048438388568684564], \"yaxis\": \"y\"}],                        {\"legend\": {\"tracegroupgap\": 0}, \"margin\": {\"t\": 60}, \"template\": {\"data\": {\"bar\": [{\"error_x\": {\"color\": \"#2a3f5f\"}, \"error_y\": {\"color\": \"#2a3f5f\"}, \"marker\": {\"line\": {\"color\": \"#E5ECF6\", \"width\": 0.5}}, \"type\": \"bar\"}], \"barpolar\": [{\"marker\": {\"line\": {\"color\": \"#E5ECF6\", \"width\": 0.5}}, \"type\": \"barpolar\"}], \"carpet\": [{\"aaxis\": {\"endlinecolor\": \"#2a3f5f\", \"gridcolor\": \"white\", \"linecolor\": \"white\", \"minorgridcolor\": \"white\", \"startlinecolor\": \"#2a3f5f\"}, \"baxis\": {\"endlinecolor\": \"#2a3f5f\", \"gridcolor\": \"white\", \"linecolor\": \"white\", \"minorgridcolor\": \"white\", \"startlinecolor\": \"#2a3f5f\"}, \"type\": \"carpet\"}], \"choropleth\": [{\"colorbar\": {\"outlinewidth\": 0, \"ticks\": \"\"}, \"type\": \"choropleth\"}], \"contour\": [{\"colorbar\": {\"outlinewidth\": 0, \"ticks\": \"\"}, \"colorscale\": [[0.0, \"#0d0887\"], [0.1111111111111111, \"#46039f\"], [0.2222222222222222, \"#7201a8\"], [0.3333333333333333, \"#9c179e\"], [0.4444444444444444, \"#bd3786\"], [0.5555555555555556, \"#d8576b\"], [0.6666666666666666, \"#ed7953\"], [0.7777777777777778, \"#fb9f3a\"], [0.8888888888888888, \"#fdca26\"], [1.0, \"#f0f921\"]], \"type\": \"contour\"}], \"contourcarpet\": [{\"colorbar\": {\"outlinewidth\": 0, \"ticks\": \"\"}, \"type\": \"contourcarpet\"}], \"heatmap\": [{\"colorbar\": {\"outlinewidth\": 0, \"ticks\": \"\"}, \"colorscale\": [[0.0, \"#0d0887\"], [0.1111111111111111, \"#46039f\"], [0.2222222222222222, \"#7201a8\"], [0.3333333333333333, \"#9c179e\"], [0.4444444444444444, \"#bd3786\"], [0.5555555555555556, \"#d8576b\"], [0.6666666666666666, \"#ed7953\"], [0.7777777777777778, \"#fb9f3a\"], [0.8888888888888888, \"#fdca26\"], [1.0, \"#f0f921\"]], \"type\": \"heatmap\"}], \"heatmapgl\": [{\"colorbar\": {\"outlinewidth\": 0, \"ticks\": \"\"}, \"colorscale\": [[0.0, \"#0d0887\"], [0.1111111111111111, \"#46039f\"], [0.2222222222222222, \"#7201a8\"], [0.3333333333333333, \"#9c179e\"], [0.4444444444444444, \"#bd3786\"], [0.5555555555555556, \"#d8576b\"], [0.6666666666666666, \"#ed7953\"], [0.7777777777777778, \"#fb9f3a\"], [0.8888888888888888, \"#fdca26\"], [1.0, \"#f0f921\"]], \"type\": \"heatmapgl\"}], \"histogram\": [{\"marker\": {\"colorbar\": {\"outlinewidth\": 0, \"ticks\": \"\"}}, \"type\": \"histogram\"}], \"histogram2d\": [{\"colorbar\": {\"outlinewidth\": 0, \"ticks\": \"\"}, \"colorscale\": [[0.0, \"#0d0887\"], [0.1111111111111111, \"#46039f\"], [0.2222222222222222, \"#7201a8\"], [0.3333333333333333, \"#9c179e\"], [0.4444444444444444, \"#bd3786\"], [0.5555555555555556, \"#d8576b\"], [0.6666666666666666, \"#ed7953\"], [0.7777777777777778, \"#fb9f3a\"], [0.8888888888888888, \"#fdca26\"], [1.0, \"#f0f921\"]], \"type\": \"histogram2d\"}], \"histogram2dcontour\": [{\"colorbar\": {\"outlinewidth\": 0, \"ticks\": \"\"}, \"colorscale\": [[0.0, \"#0d0887\"], [0.1111111111111111, \"#46039f\"], [0.2222222222222222, \"#7201a8\"], [0.3333333333333333, \"#9c179e\"], [0.4444444444444444, \"#bd3786\"], [0.5555555555555556, \"#d8576b\"], [0.6666666666666666, \"#ed7953\"], [0.7777777777777778, \"#fb9f3a\"], [0.8888888888888888, \"#fdca26\"], [1.0, \"#f0f921\"]], \"type\": \"histogram2dcontour\"}], \"mesh3d\": [{\"colorbar\": {\"outlinewidth\": 0, \"ticks\": \"\"}, \"type\": \"mesh3d\"}], \"parcoords\": [{\"line\": {\"colorbar\": {\"outlinewidth\": 0, \"ticks\": \"\"}}, \"type\": \"parcoords\"}], \"pie\": [{\"automargin\": true, \"type\": \"pie\"}], \"scatter\": [{\"marker\": {\"colorbar\": {\"outlinewidth\": 0, \"ticks\": \"\"}}, \"type\": \"scatter\"}], \"scatter3d\": [{\"line\": {\"colorbar\": {\"outlinewidth\": 0, \"ticks\": \"\"}}, \"marker\": {\"colorbar\": {\"outlinewidth\": 0, \"ticks\": \"\"}}, \"type\": \"scatter3d\"}], \"scattercarpet\": [{\"marker\": {\"colorbar\": {\"outlinewidth\": 0, \"ticks\": \"\"}}, \"type\": \"scattercarpet\"}], \"scattergeo\": [{\"marker\": {\"colorbar\": {\"outlinewidth\": 0, \"ticks\": \"\"}}, \"type\": \"scattergeo\"}], \"scattergl\": [{\"marker\": {\"colorbar\": {\"outlinewidth\": 0, \"ticks\": \"\"}}, \"type\": \"scattergl\"}], \"scattermapbox\": [{\"marker\": {\"colorbar\": {\"outlinewidth\": 0, \"ticks\": \"\"}}, \"type\": \"scattermapbox\"}], \"scatterpolar\": [{\"marker\": {\"colorbar\": {\"outlinewidth\": 0, \"ticks\": \"\"}}, \"type\": \"scatterpolar\"}], \"scatterpolargl\": [{\"marker\": {\"colorbar\": {\"outlinewidth\": 0, \"ticks\": \"\"}}, \"type\": \"scatterpolargl\"}], \"scatterternary\": [{\"marker\": {\"colorbar\": {\"outlinewidth\": 0, \"ticks\": \"\"}}, \"type\": \"scatterternary\"}], \"surface\": [{\"colorbar\": {\"outlinewidth\": 0, \"ticks\": \"\"}, \"colorscale\": [[0.0, \"#0d0887\"], [0.1111111111111111, \"#46039f\"], [0.2222222222222222, \"#7201a8\"], [0.3333333333333333, \"#9c179e\"], [0.4444444444444444, \"#bd3786\"], [0.5555555555555556, \"#d8576b\"], [0.6666666666666666, \"#ed7953\"], [0.7777777777777778, \"#fb9f3a\"], [0.8888888888888888, \"#fdca26\"], [1.0, \"#f0f921\"]], \"type\": \"surface\"}], \"table\": [{\"cells\": {\"fill\": {\"color\": \"#EBF0F8\"}, \"line\": {\"color\": \"white\"}}, \"header\": {\"fill\": {\"color\": \"#C8D4E3\"}, \"line\": {\"color\": \"white\"}}, \"type\": \"table\"}]}, \"layout\": {\"annotationdefaults\": {\"arrowcolor\": \"#2a3f5f\", \"arrowhead\": 0, \"arrowwidth\": 1}, \"coloraxis\": {\"colorbar\": {\"outlinewidth\": 0, \"ticks\": \"\"}}, \"colorscale\": {\"diverging\": [[0, \"#8e0152\"], [0.1, \"#c51b7d\"], [0.2, \"#de77ae\"], [0.3, \"#f1b6da\"], [0.4, \"#fde0ef\"], [0.5, \"#f7f7f7\"], [0.6, \"#e6f5d0\"], [0.7, \"#b8e186\"], [0.8, \"#7fbc41\"], [0.9, \"#4d9221\"], [1, \"#276419\"]], \"sequential\": [[0.0, \"#0d0887\"], [0.1111111111111111, \"#46039f\"], [0.2222222222222222, \"#7201a8\"], [0.3333333333333333, \"#9c179e\"], [0.4444444444444444, \"#bd3786\"], [0.5555555555555556, \"#d8576b\"], [0.6666666666666666, \"#ed7953\"], [0.7777777777777778, \"#fb9f3a\"], [0.8888888888888888, \"#fdca26\"], [1.0, \"#f0f921\"]], \"sequentialminus\": [[0.0, \"#0d0887\"], [0.1111111111111111, \"#46039f\"], [0.2222222222222222, \"#7201a8\"], [0.3333333333333333, \"#9c179e\"], [0.4444444444444444, \"#bd3786\"], [0.5555555555555556, \"#d8576b\"], [0.6666666666666666, \"#ed7953\"], [0.7777777777777778, \"#fb9f3a\"], [0.8888888888888888, \"#fdca26\"], [1.0, \"#f0f921\"]]}, \"colorway\": [\"#636efa\", \"#EF553B\", \"#00cc96\", \"#ab63fa\", \"#FFA15A\", \"#19d3f3\", \"#FF6692\", \"#B6E880\", \"#FF97FF\", \"#FECB52\"], \"font\": {\"color\": \"#2a3f5f\"}, \"geo\": {\"bgcolor\": \"white\", \"lakecolor\": \"white\", \"landcolor\": \"#E5ECF6\", \"showlakes\": true, \"showland\": true, \"subunitcolor\": \"white\"}, \"hoverlabel\": {\"align\": \"left\"}, \"hovermode\": \"closest\", \"mapbox\": {\"style\": \"light\"}, \"paper_bgcolor\": \"white\", \"plot_bgcolor\": \"#E5ECF6\", \"polar\": {\"angularaxis\": {\"gridcolor\": \"white\", \"linecolor\": \"white\", \"ticks\": \"\"}, \"bgcolor\": \"#E5ECF6\", \"radialaxis\": {\"gridcolor\": \"white\", \"linecolor\": \"white\", \"ticks\": \"\"}}, \"scene\": {\"xaxis\": {\"backgroundcolor\": \"#E5ECF6\", \"gridcolor\": \"white\", \"gridwidth\": 2, \"linecolor\": \"white\", \"showbackground\": true, \"ticks\": \"\", \"zerolinecolor\": \"white\"}, \"yaxis\": {\"backgroundcolor\": \"#E5ECF6\", \"gridcolor\": \"white\", \"gridwidth\": 2, \"linecolor\": \"white\", \"showbackground\": true, \"ticks\": \"\", \"zerolinecolor\": \"white\"}, \"zaxis\": {\"backgroundcolor\": \"#E5ECF6\", \"gridcolor\": \"white\", \"gridwidth\": 2, \"linecolor\": \"white\", \"showbackground\": true, \"ticks\": \"\", \"zerolinecolor\": \"white\"}}, \"shapedefaults\": {\"line\": {\"color\": \"#2a3f5f\"}}, \"ternary\": {\"aaxis\": {\"gridcolor\": \"white\", \"linecolor\": \"white\", \"ticks\": \"\"}, \"baxis\": {\"gridcolor\": \"white\", \"linecolor\": \"white\", \"ticks\": \"\"}, \"bgcolor\": \"#E5ECF6\", \"caxis\": {\"gridcolor\": \"white\", \"linecolor\": \"white\", \"ticks\": \"\"}}, \"title\": {\"x\": 0.05}, \"xaxis\": {\"automargin\": true, \"gridcolor\": \"white\", \"linecolor\": \"white\", \"ticks\": \"\", \"title\": {\"standoff\": 15}, \"zerolinecolor\": \"white\", \"zerolinewidth\": 2}, \"yaxis\": {\"automargin\": true, \"gridcolor\": \"white\", \"linecolor\": \"white\", \"ticks\": \"\", \"title\": {\"standoff\": 15}, \"zerolinecolor\": \"white\", \"zerolinewidth\": 2}}}, \"title\": {\"text\": \"Variable Scores\", \"x\": 0.5}, \"xaxis\": {\"anchor\": \"y\", \"domain\": [0.0, 1.0], \"title\": {\"text\": \"F2\"}}, \"yaxis\": {\"anchor\": \"x\", \"domain\": [0.0, 1.0], \"title\": {\"text\": \"F3\"}}},                        {\"responsive\": true}                    ).then(function(){\n",
       "                            \n",
       "var gd = document.getElementById('3622cc57-58fb-43ee-9bd2-e30af97e6b48');\n",
       "var x = new MutationObserver(function (mutations, observer) {{\n",
       "        var display = window.getComputedStyle(gd).display;\n",
       "        if (!display || display === 'none') {{\n",
       "            console.log([gd, 'removed!']);\n",
       "            Plotly.purge(gd);\n",
       "            observer.disconnect();\n",
       "        }}\n",
       "}});\n",
       "\n",
       "// Listen for the removal of the full notebook cells\n",
       "var notebookContainer = gd.closest('#notebook-container');\n",
       "if (notebookContainer) {{\n",
       "    x.observe(notebookContainer, {childList: true});\n",
       "}}\n",
       "\n",
       "// Listen for the clearing of the current output cell\n",
       "var outputEl = gd.closest('.output');\n",
       "if (outputEl) {{\n",
       "    x.observe(outputEl, {childList: true});\n",
       "}}\n",
       "\n",
       "                        })                };                });            </script>        </div>"
      ]
     },
     "metadata": {},
     "output_type": "display_data"
    },
    {
     "data": {
      "application/vnd.plotly.v1+json": {
       "config": {
        "plotlyServerURL": "https://plot.ly"
       },
       "data": [
        {
         "hovertemplate": "F1=%{x}<br>F3=%{y}<br>variable=%{text}<extra></extra>",
         "legendgroup": "",
         "marker": {
          "color": "#636efa",
          "symbol": "circle"
         },
         "mode": "markers+text",
         "name": "",
         "orientation": "v",
         "showlegend": false,
         "text": [
          "Adrenal crisis",
          "Ageusia",
          "Allergic conjunctivitis",
          "Amenorrhea",
          "Angular cheilitis",
          "Anosmia",
          "Asphyxia",
          "Atheroma",
          "Auditory hallucination",
          "Balance disorder",
          "Beau's lines",
          "Bleeding on probing",
          "Burning Chest Pain",
          "Burning mouth syndrome",
          "Cataplexy",
          "Chorea",
          "Cleft lip and cleft palate",
          "Clouding of consciousness",
          "Crackles",
          "Crepitus",
          "Croup",
          "Cyanosis",
          "Depersonalization",
          "Developmental disability",
          "Dysautonomia",
          "Dysgeusia",
          "Dyspareunia",
          "Dystonia",
          "Dysuria",
          "Epiphora",
          "Esophagitis",
          "Eye pain",
          "Facial swelling",
          "Fibrocystic breast changes",
          "Focal seizure",
          "Gastroparesis",
          "Gingival recession",
          "Globus pharyngis",
          "Goitre",
          "Grandiosity",
          "Granuloma",
          "Hemolysis",
          "Hemoptysis",
          "Hepatic encephalopathy",
          "Hepatotoxicity",
          "Hydrocephalus",
          "Hypercalcaemia",
          "Hypercapnia",
          "Hyperemesis gravidarum",
          "Hypersomnia",
          "Hyperventilation",
          "Hypocalcaemia",
          "Hypochondriasis",
          "Hypomania",
          "Kyphosis",
          "Laryngitis",
          "Leukorrhea",
          "Malabsorption",
          "Male infertility",
          "Mitral insufficiency",
          "Muscle atrophy",
          "Myoclonus",
          "Nasal polyp",
          "Neck mass",
          "Neutropenia",
          "Night terror",
          "Nocturnal enuresis",
          "Nystagmus",
          "Onychorrhexis",
          "Osteophyte",
          "Papule",
          "Pericarditis",
          "Petechia",
          "Photodermatitis",
          "Photophobia",
          "Polydipsia",
          "Polyuria",
          "Ptosis",
          "Pulmonary edema",
          "Rectal pain",
          "Rectal prolapse",
          "Rheum",
          "Round ligament pain",
          "Rumination",
          "Sensitivity to sound",
          "Shallow breathing",
          "Spasticity",
          "Splenomegaly",
          "Sputum",
          "Stomach rumble",
          "Stridor",
          "Subdural hematoma",
          "Tachypnea",
          "Tenderness",
          "Thyroid nodule",
          "Trichoptilosis",
          "Upper respiratory tract infection",
          "Urethritis",
          "Urinary urgency",
          "Ventricular fibrillation",
          "hospitalized_new"
         ],
         "textposition": "top center",
         "type": "scatter",
         "x": [
          0.14629908019750948,
          0.09823726798932716,
          -0.10371724232072102,
          -0.06084282949861571,
          -0.1190788260490668,
          0.29035238862180335,
          -0.12042469995998485,
          0.17385890091669223,
          -0.08366199158562633,
          -0.1536827201120268,
          0.0017641095885292692,
          -0.1549878097179523,
          0.24190978016911896,
          -0.21540560233332462,
          0.030000275620437424,
          0.19039511625402258,
          -0.03891942402896976,
          -0.2037286622575448,
          0.24479957306615388,
          -0.04748938273067619,
          0.9113806913965514,
          0.06842751271721019,
          -0.03477073001330037,
          0.07289664673501958,
          -0.023326875435587265,
          0.172804720669319,
          -0.1114314767306863,
          -0.12322578638035676,
          -0.16426712403727578,
          0.18496718668061768,
          -0.08252600848343546,
          0.0931177811194716,
          -0.27300635404343737,
          -0.07621571443094288,
          -0.043521230584688514,
          -0.22049189009675293,
          -0.11556860595609658,
          0.16773567935924383,
          -0.13909896846503386,
          -0.14418850742500688,
          0.030047390628690676,
          0.4235321731980818,
          0.3327853830205047,
          -0.10916798354230757,
          0.07290803984464427,
          0.009954855978531513,
          -0.19463513548799866,
          -0.1290408198024547,
          -0.08636629509423964,
          0.006513867425776399,
          0.19823508799805628,
          -0.1121907830113988,
          0.6470904788818317,
          -0.03169673368965794,
          -0.12780827451799134,
          0.5379688785538941,
          -0.17886258122175805,
          0.04127023294888438,
          -0.18010684387210946,
          -0.07945268881841262,
          -0.060906300967801114,
          -0.05257702760651532,
          0.019768658712927385,
          -0.04932575355789677,
          0.018906433133852513,
          -0.06049857078100649,
          -0.12790593258839283,
          -0.12741271738760787,
          0.09956107768960817,
          -0.28971871877537536,
          -0.10779052099216589,
          0.0831440644936974,
          -0.12805849272669423,
          0.02558682432445426,
          -0.04939508151643276,
          -0.02050046296384208,
          -0.0886585635510115,
          -0.04472428045322122,
          0.2372248198721624,
          0.0090690323280016,
          -0.09162309570817441,
          0.2822870281044542,
          -0.14634422840852324,
          0.04849009461223004,
          -0.020946183187607065,
          0.677807353173304,
          0.07762617722682792,
          0.04665114998202483,
          0.7776857004711044,
          0.05047054255408864,
          0.4066178539357451,
          -0.14615165000179084,
          0.3177653601303282,
          -0.08183794469057018,
          -0.1446773638928438,
          0.12432438099712474,
          0.9063908156991324,
          -0.04809737283228893,
          0.019457879218877153,
          -0.021895599082493528,
          -0.04557224020104743
         ],
         "xaxis": "x",
         "y": [
          -0.03177532752932407,
          -0.07207988196738689,
          0.8784129491129276,
          0.01767504883741805,
          0.006548782146931677,
          -0.018974049535525808,
          0.0721503468527009,
          -0.08852633728132606,
          0.11066141216126628,
          -0.026464795378513737,
          0.04140640132362396,
          0.03285558682573719,
          -0.05400897902304905,
          0.037008566350504736,
          0.03287830808675768,
          -0.13446217884761827,
          -0.0032820009578426717,
          0.03340423571790318,
          -0.06894448673615518,
          -0.002629510412310913,
          -0.01063707336781458,
          -0.013160793075923343,
          -0.07052845771002798,
          0.0021238976602133493,
          0.018891262554926815,
          0.016407104478988507,
          0.07114656607793815,
          -0.07465237886522832,
          0.06636333410564622,
          0.08211320209901139,
          -0.0492513183756875,
          -0.02039409260304736,
          0.2616986668248246,
          0.03682244057423897,
          -0.010949015869838144,
          -0.02339701059600616,
          0.011413920546286656,
          -0.08138723089604175,
          0.08096954168773778,
          0.052855860330373323,
          0.004428531306975071,
          0.014211029443609939,
          -0.0529557523511998,
          -0.023607412006069736,
          -0.042496688430423736,
          0.012096432362065195,
          0.0059920157444204175,
          -0.012067707850789413,
          -0.03024531900495416,
          0.0160980564034781,
          -0.18184391702184055,
          -0.014083036083836546,
          -0.09442691925760362,
          -0.07449899425151019,
          0.04487815977201756,
          -0.059633365450388616,
          0.04396057169022092,
          -0.0746814064334431,
          -0.059825059792113486,
          0.08638209104350916,
          -0.005080154781485895,
          -0.06162141234374196,
          0.02174816943797742,
          0.16844398028643118,
          -0.01327358175973282,
          0.010619320644758467,
          -0.0004979657880259305,
          0.06378402312836284,
          -0.026043515097890612,
          0.16174337077794176,
          -0.033680231462320354,
          -0.07722061288672255,
          0.008167553127068818,
          0.09572149485130324,
          -0.023295608579692675,
          0.011317771876566459,
          -0.0018378329925781947,
          0.029138143117491584,
          -0.011834510111768715,
          -0.07621578408746245,
          -0.033038734484194573,
          0.07922942289249064,
          -0.042473992033526774,
          0.008365026453981622,
          -0.032991592287832376,
          -0.025282856875335488,
          -0.0033739379769213308,
          0.024286977571830914,
          -0.06064957229953466,
          -0.031251368325410527,
          -0.07542787078871793,
          -0.06646120880906313,
          -0.10984738186116164,
          0.020482921408303188,
          0.10643604538639125,
          -0.039749318578518954,
          -0.00514598607489731,
          -0.0537438980680552,
          0.010264396747277414,
          -0.05376533789925972,
          -0.048438388568684564
         ],
         "yaxis": "y"
        }
       ],
       "layout": {
        "legend": {
         "tracegroupgap": 0
        },
        "margin": {
         "t": 60
        },
        "template": {
         "data": {
          "bar": [
           {
            "error_x": {
             "color": "#2a3f5f"
            },
            "error_y": {
             "color": "#2a3f5f"
            },
            "marker": {
             "line": {
              "color": "#E5ECF6",
              "width": 0.5
             }
            },
            "type": "bar"
           }
          ],
          "barpolar": [
           {
            "marker": {
             "line": {
              "color": "#E5ECF6",
              "width": 0.5
             }
            },
            "type": "barpolar"
           }
          ],
          "carpet": [
           {
            "aaxis": {
             "endlinecolor": "#2a3f5f",
             "gridcolor": "white",
             "linecolor": "white",
             "minorgridcolor": "white",
             "startlinecolor": "#2a3f5f"
            },
            "baxis": {
             "endlinecolor": "#2a3f5f",
             "gridcolor": "white",
             "linecolor": "white",
             "minorgridcolor": "white",
             "startlinecolor": "#2a3f5f"
            },
            "type": "carpet"
           }
          ],
          "choropleth": [
           {
            "colorbar": {
             "outlinewidth": 0,
             "ticks": ""
            },
            "type": "choropleth"
           }
          ],
          "contour": [
           {
            "colorbar": {
             "outlinewidth": 0,
             "ticks": ""
            },
            "colorscale": [
             [
              0,
              "#0d0887"
             ],
             [
              0.1111111111111111,
              "#46039f"
             ],
             [
              0.2222222222222222,
              "#7201a8"
             ],
             [
              0.3333333333333333,
              "#9c179e"
             ],
             [
              0.4444444444444444,
              "#bd3786"
             ],
             [
              0.5555555555555556,
              "#d8576b"
             ],
             [
              0.6666666666666666,
              "#ed7953"
             ],
             [
              0.7777777777777778,
              "#fb9f3a"
             ],
             [
              0.8888888888888888,
              "#fdca26"
             ],
             [
              1,
              "#f0f921"
             ]
            ],
            "type": "contour"
           }
          ],
          "contourcarpet": [
           {
            "colorbar": {
             "outlinewidth": 0,
             "ticks": ""
            },
            "type": "contourcarpet"
           }
          ],
          "heatmap": [
           {
            "colorbar": {
             "outlinewidth": 0,
             "ticks": ""
            },
            "colorscale": [
             [
              0,
              "#0d0887"
             ],
             [
              0.1111111111111111,
              "#46039f"
             ],
             [
              0.2222222222222222,
              "#7201a8"
             ],
             [
              0.3333333333333333,
              "#9c179e"
             ],
             [
              0.4444444444444444,
              "#bd3786"
             ],
             [
              0.5555555555555556,
              "#d8576b"
             ],
             [
              0.6666666666666666,
              "#ed7953"
             ],
             [
              0.7777777777777778,
              "#fb9f3a"
             ],
             [
              0.8888888888888888,
              "#fdca26"
             ],
             [
              1,
              "#f0f921"
             ]
            ],
            "type": "heatmap"
           }
          ],
          "heatmapgl": [
           {
            "colorbar": {
             "outlinewidth": 0,
             "ticks": ""
            },
            "colorscale": [
             [
              0,
              "#0d0887"
             ],
             [
              0.1111111111111111,
              "#46039f"
             ],
             [
              0.2222222222222222,
              "#7201a8"
             ],
             [
              0.3333333333333333,
              "#9c179e"
             ],
             [
              0.4444444444444444,
              "#bd3786"
             ],
             [
              0.5555555555555556,
              "#d8576b"
             ],
             [
              0.6666666666666666,
              "#ed7953"
             ],
             [
              0.7777777777777778,
              "#fb9f3a"
             ],
             [
              0.8888888888888888,
              "#fdca26"
             ],
             [
              1,
              "#f0f921"
             ]
            ],
            "type": "heatmapgl"
           }
          ],
          "histogram": [
           {
            "marker": {
             "colorbar": {
              "outlinewidth": 0,
              "ticks": ""
             }
            },
            "type": "histogram"
           }
          ],
          "histogram2d": [
           {
            "colorbar": {
             "outlinewidth": 0,
             "ticks": ""
            },
            "colorscale": [
             [
              0,
              "#0d0887"
             ],
             [
              0.1111111111111111,
              "#46039f"
             ],
             [
              0.2222222222222222,
              "#7201a8"
             ],
             [
              0.3333333333333333,
              "#9c179e"
             ],
             [
              0.4444444444444444,
              "#bd3786"
             ],
             [
              0.5555555555555556,
              "#d8576b"
             ],
             [
              0.6666666666666666,
              "#ed7953"
             ],
             [
              0.7777777777777778,
              "#fb9f3a"
             ],
             [
              0.8888888888888888,
              "#fdca26"
             ],
             [
              1,
              "#f0f921"
             ]
            ],
            "type": "histogram2d"
           }
          ],
          "histogram2dcontour": [
           {
            "colorbar": {
             "outlinewidth": 0,
             "ticks": ""
            },
            "colorscale": [
             [
              0,
              "#0d0887"
             ],
             [
              0.1111111111111111,
              "#46039f"
             ],
             [
              0.2222222222222222,
              "#7201a8"
             ],
             [
              0.3333333333333333,
              "#9c179e"
             ],
             [
              0.4444444444444444,
              "#bd3786"
             ],
             [
              0.5555555555555556,
              "#d8576b"
             ],
             [
              0.6666666666666666,
              "#ed7953"
             ],
             [
              0.7777777777777778,
              "#fb9f3a"
             ],
             [
              0.8888888888888888,
              "#fdca26"
             ],
             [
              1,
              "#f0f921"
             ]
            ],
            "type": "histogram2dcontour"
           }
          ],
          "mesh3d": [
           {
            "colorbar": {
             "outlinewidth": 0,
             "ticks": ""
            },
            "type": "mesh3d"
           }
          ],
          "parcoords": [
           {
            "line": {
             "colorbar": {
              "outlinewidth": 0,
              "ticks": ""
             }
            },
            "type": "parcoords"
           }
          ],
          "pie": [
           {
            "automargin": true,
            "type": "pie"
           }
          ],
          "scatter": [
           {
            "marker": {
             "colorbar": {
              "outlinewidth": 0,
              "ticks": ""
             }
            },
            "type": "scatter"
           }
          ],
          "scatter3d": [
           {
            "line": {
             "colorbar": {
              "outlinewidth": 0,
              "ticks": ""
             }
            },
            "marker": {
             "colorbar": {
              "outlinewidth": 0,
              "ticks": ""
             }
            },
            "type": "scatter3d"
           }
          ],
          "scattercarpet": [
           {
            "marker": {
             "colorbar": {
              "outlinewidth": 0,
              "ticks": ""
             }
            },
            "type": "scattercarpet"
           }
          ],
          "scattergeo": [
           {
            "marker": {
             "colorbar": {
              "outlinewidth": 0,
              "ticks": ""
             }
            },
            "type": "scattergeo"
           }
          ],
          "scattergl": [
           {
            "marker": {
             "colorbar": {
              "outlinewidth": 0,
              "ticks": ""
             }
            },
            "type": "scattergl"
           }
          ],
          "scattermapbox": [
           {
            "marker": {
             "colorbar": {
              "outlinewidth": 0,
              "ticks": ""
             }
            },
            "type": "scattermapbox"
           }
          ],
          "scatterpolar": [
           {
            "marker": {
             "colorbar": {
              "outlinewidth": 0,
              "ticks": ""
             }
            },
            "type": "scatterpolar"
           }
          ],
          "scatterpolargl": [
           {
            "marker": {
             "colorbar": {
              "outlinewidth": 0,
              "ticks": ""
             }
            },
            "type": "scatterpolargl"
           }
          ],
          "scatterternary": [
           {
            "marker": {
             "colorbar": {
              "outlinewidth": 0,
              "ticks": ""
             }
            },
            "type": "scatterternary"
           }
          ],
          "surface": [
           {
            "colorbar": {
             "outlinewidth": 0,
             "ticks": ""
            },
            "colorscale": [
             [
              0,
              "#0d0887"
             ],
             [
              0.1111111111111111,
              "#46039f"
             ],
             [
              0.2222222222222222,
              "#7201a8"
             ],
             [
              0.3333333333333333,
              "#9c179e"
             ],
             [
              0.4444444444444444,
              "#bd3786"
             ],
             [
              0.5555555555555556,
              "#d8576b"
             ],
             [
              0.6666666666666666,
              "#ed7953"
             ],
             [
              0.7777777777777778,
              "#fb9f3a"
             ],
             [
              0.8888888888888888,
              "#fdca26"
             ],
             [
              1,
              "#f0f921"
             ]
            ],
            "type": "surface"
           }
          ],
          "table": [
           {
            "cells": {
             "fill": {
              "color": "#EBF0F8"
             },
             "line": {
              "color": "white"
             }
            },
            "header": {
             "fill": {
              "color": "#C8D4E3"
             },
             "line": {
              "color": "white"
             }
            },
            "type": "table"
           }
          ]
         },
         "layout": {
          "annotationdefaults": {
           "arrowcolor": "#2a3f5f",
           "arrowhead": 0,
           "arrowwidth": 1
          },
          "coloraxis": {
           "colorbar": {
            "outlinewidth": 0,
            "ticks": ""
           }
          },
          "colorscale": {
           "diverging": [
            [
             0,
             "#8e0152"
            ],
            [
             0.1,
             "#c51b7d"
            ],
            [
             0.2,
             "#de77ae"
            ],
            [
             0.3,
             "#f1b6da"
            ],
            [
             0.4,
             "#fde0ef"
            ],
            [
             0.5,
             "#f7f7f7"
            ],
            [
             0.6,
             "#e6f5d0"
            ],
            [
             0.7,
             "#b8e186"
            ],
            [
             0.8,
             "#7fbc41"
            ],
            [
             0.9,
             "#4d9221"
            ],
            [
             1,
             "#276419"
            ]
           ],
           "sequential": [
            [
             0,
             "#0d0887"
            ],
            [
             0.1111111111111111,
             "#46039f"
            ],
            [
             0.2222222222222222,
             "#7201a8"
            ],
            [
             0.3333333333333333,
             "#9c179e"
            ],
            [
             0.4444444444444444,
             "#bd3786"
            ],
            [
             0.5555555555555556,
             "#d8576b"
            ],
            [
             0.6666666666666666,
             "#ed7953"
            ],
            [
             0.7777777777777778,
             "#fb9f3a"
            ],
            [
             0.8888888888888888,
             "#fdca26"
            ],
            [
             1,
             "#f0f921"
            ]
           ],
           "sequentialminus": [
            [
             0,
             "#0d0887"
            ],
            [
             0.1111111111111111,
             "#46039f"
            ],
            [
             0.2222222222222222,
             "#7201a8"
            ],
            [
             0.3333333333333333,
             "#9c179e"
            ],
            [
             0.4444444444444444,
             "#bd3786"
            ],
            [
             0.5555555555555556,
             "#d8576b"
            ],
            [
             0.6666666666666666,
             "#ed7953"
            ],
            [
             0.7777777777777778,
             "#fb9f3a"
            ],
            [
             0.8888888888888888,
             "#fdca26"
            ],
            [
             1,
             "#f0f921"
            ]
           ]
          },
          "colorway": [
           "#636efa",
           "#EF553B",
           "#00cc96",
           "#ab63fa",
           "#FFA15A",
           "#19d3f3",
           "#FF6692",
           "#B6E880",
           "#FF97FF",
           "#FECB52"
          ],
          "font": {
           "color": "#2a3f5f"
          },
          "geo": {
           "bgcolor": "white",
           "lakecolor": "white",
           "landcolor": "#E5ECF6",
           "showlakes": true,
           "showland": true,
           "subunitcolor": "white"
          },
          "hoverlabel": {
           "align": "left"
          },
          "hovermode": "closest",
          "mapbox": {
           "style": "light"
          },
          "paper_bgcolor": "white",
          "plot_bgcolor": "#E5ECF6",
          "polar": {
           "angularaxis": {
            "gridcolor": "white",
            "linecolor": "white",
            "ticks": ""
           },
           "bgcolor": "#E5ECF6",
           "radialaxis": {
            "gridcolor": "white",
            "linecolor": "white",
            "ticks": ""
           }
          },
          "scene": {
           "xaxis": {
            "backgroundcolor": "#E5ECF6",
            "gridcolor": "white",
            "gridwidth": 2,
            "linecolor": "white",
            "showbackground": true,
            "ticks": "",
            "zerolinecolor": "white"
           },
           "yaxis": {
            "backgroundcolor": "#E5ECF6",
            "gridcolor": "white",
            "gridwidth": 2,
            "linecolor": "white",
            "showbackground": true,
            "ticks": "",
            "zerolinecolor": "white"
           },
           "zaxis": {
            "backgroundcolor": "#E5ECF6",
            "gridcolor": "white",
            "gridwidth": 2,
            "linecolor": "white",
            "showbackground": true,
            "ticks": "",
            "zerolinecolor": "white"
           }
          },
          "shapedefaults": {
           "line": {
            "color": "#2a3f5f"
           }
          },
          "ternary": {
           "aaxis": {
            "gridcolor": "white",
            "linecolor": "white",
            "ticks": ""
           },
           "baxis": {
            "gridcolor": "white",
            "linecolor": "white",
            "ticks": ""
           },
           "bgcolor": "#E5ECF6",
           "caxis": {
            "gridcolor": "white",
            "linecolor": "white",
            "ticks": ""
           }
          },
          "title": {
           "x": 0.05
          },
          "xaxis": {
           "automargin": true,
           "gridcolor": "white",
           "linecolor": "white",
           "ticks": "",
           "title": {
            "standoff": 15
           },
           "zerolinecolor": "white",
           "zerolinewidth": 2
          },
          "yaxis": {
           "automargin": true,
           "gridcolor": "white",
           "linecolor": "white",
           "ticks": "",
           "title": {
            "standoff": 15
           },
           "zerolinecolor": "white",
           "zerolinewidth": 2
          }
         }
        },
        "title": {
         "text": "Variable Scores",
         "x": 0.5
        },
        "xaxis": {
         "anchor": "y",
         "domain": [
          0,
          1
         ],
         "title": {
          "text": "F1"
         }
        },
        "yaxis": {
         "anchor": "x",
         "domain": [
          0,
          1
         ],
         "title": {
          "text": "F3"
         }
        }
       }
      },
      "text/html": [
       "<div>                            <div id=\"059af589-7808-4925-a70b-585dd99eb9c5\" class=\"plotly-graph-div\" style=\"height:525px; width:100%;\"></div>            <script type=\"text/javascript\">                require([\"plotly\"], function(Plotly) {                    window.PLOTLYENV=window.PLOTLYENV || {};                                    if (document.getElementById(\"059af589-7808-4925-a70b-585dd99eb9c5\")) {                    Plotly.newPlot(                        \"059af589-7808-4925-a70b-585dd99eb9c5\",                        [{\"hovertemplate\": \"F1=%{x}<br>F3=%{y}<br>variable=%{text}<extra></extra>\", \"legendgroup\": \"\", \"marker\": {\"color\": \"#636efa\", \"symbol\": \"circle\"}, \"mode\": \"markers+text\", \"name\": \"\", \"orientation\": \"v\", \"showlegend\": false, \"text\": [\"Adrenal crisis\", \"Ageusia\", \"Allergic conjunctivitis\", \"Amenorrhea\", \"Angular cheilitis\", \"Anosmia\", \"Asphyxia\", \"Atheroma\", \"Auditory hallucination\", \"Balance disorder\", \"Beau's lines\", \"Bleeding on probing\", \"Burning Chest Pain\", \"Burning mouth syndrome\", \"Cataplexy\", \"Chorea\", \"Cleft lip and cleft palate\", \"Clouding of consciousness\", \"Crackles\", \"Crepitus\", \"Croup\", \"Cyanosis\", \"Depersonalization\", \"Developmental disability\", \"Dysautonomia\", \"Dysgeusia\", \"Dyspareunia\", \"Dystonia\", \"Dysuria\", \"Epiphora\", \"Esophagitis\", \"Eye pain\", \"Facial swelling\", \"Fibrocystic breast changes\", \"Focal seizure\", \"Gastroparesis\", \"Gingival recession\", \"Globus pharyngis\", \"Goitre\", \"Grandiosity\", \"Granuloma\", \"Hemolysis\", \"Hemoptysis\", \"Hepatic encephalopathy\", \"Hepatotoxicity\", \"Hydrocephalus\", \"Hypercalcaemia\", \"Hypercapnia\", \"Hyperemesis gravidarum\", \"Hypersomnia\", \"Hyperventilation\", \"Hypocalcaemia\", \"Hypochondriasis\", \"Hypomania\", \"Kyphosis\", \"Laryngitis\", \"Leukorrhea\", \"Malabsorption\", \"Male infertility\", \"Mitral insufficiency\", \"Muscle atrophy\", \"Myoclonus\", \"Nasal polyp\", \"Neck mass\", \"Neutropenia\", \"Night terror\", \"Nocturnal enuresis\", \"Nystagmus\", \"Onychorrhexis\", \"Osteophyte\", \"Papule\", \"Pericarditis\", \"Petechia\", \"Photodermatitis\", \"Photophobia\", \"Polydipsia\", \"Polyuria\", \"Ptosis\", \"Pulmonary edema\", \"Rectal pain\", \"Rectal prolapse\", \"Rheum\", \"Round ligament pain\", \"Rumination\", \"Sensitivity to sound\", \"Shallow breathing\", \"Spasticity\", \"Splenomegaly\", \"Sputum\", \"Stomach rumble\", \"Stridor\", \"Subdural hematoma\", \"Tachypnea\", \"Tenderness\", \"Thyroid nodule\", \"Trichoptilosis\", \"Upper respiratory tract infection\", \"Urethritis\", \"Urinary urgency\", \"Ventricular fibrillation\", \"hospitalized_new\"], \"textposition\": \"top center\", \"type\": \"scatter\", \"x\": [0.14629908019750948, 0.09823726798932716, -0.10371724232072102, -0.06084282949861571, -0.1190788260490668, 0.29035238862180335, -0.12042469995998485, 0.17385890091669223, -0.08366199158562633, -0.1536827201120268, 0.0017641095885292692, -0.1549878097179523, 0.24190978016911896, -0.21540560233332462, 0.030000275620437424, 0.19039511625402258, -0.03891942402896976, -0.2037286622575448, 0.24479957306615388, -0.04748938273067619, 0.9113806913965514, 0.06842751271721019, -0.03477073001330037, 0.07289664673501958, -0.023326875435587265, 0.172804720669319, -0.1114314767306863, -0.12322578638035676, -0.16426712403727578, 0.18496718668061768, -0.08252600848343546, 0.0931177811194716, -0.27300635404343737, -0.07621571443094288, -0.043521230584688514, -0.22049189009675293, -0.11556860595609658, 0.16773567935924383, -0.13909896846503386, -0.14418850742500688, 0.030047390628690676, 0.4235321731980818, 0.3327853830205047, -0.10916798354230757, 0.07290803984464427, 0.009954855978531513, -0.19463513548799866, -0.1290408198024547, -0.08636629509423964, 0.006513867425776399, 0.19823508799805628, -0.1121907830113988, 0.6470904788818317, -0.03169673368965794, -0.12780827451799134, 0.5379688785538941, -0.17886258122175805, 0.04127023294888438, -0.18010684387210946, -0.07945268881841262, -0.060906300967801114, -0.05257702760651532, 0.019768658712927385, -0.04932575355789677, 0.018906433133852513, -0.06049857078100649, -0.12790593258839283, -0.12741271738760787, 0.09956107768960817, -0.28971871877537536, -0.10779052099216589, 0.0831440644936974, -0.12805849272669423, 0.02558682432445426, -0.04939508151643276, -0.02050046296384208, -0.0886585635510115, -0.04472428045322122, 0.2372248198721624, 0.0090690323280016, -0.09162309570817441, 0.2822870281044542, -0.14634422840852324, 0.04849009461223004, -0.020946183187607065, 0.677807353173304, 0.07762617722682792, 0.04665114998202483, 0.7776857004711044, 0.05047054255408864, 0.4066178539357451, -0.14615165000179084, 0.3177653601303282, -0.08183794469057018, -0.1446773638928438, 0.12432438099712474, 0.9063908156991324, -0.04809737283228893, 0.019457879218877153, -0.021895599082493528, -0.04557224020104743], \"xaxis\": \"x\", \"y\": [-0.03177532752932407, -0.07207988196738689, 0.8784129491129276, 0.01767504883741805, 0.006548782146931677, -0.018974049535525808, 0.0721503468527009, -0.08852633728132606, 0.11066141216126628, -0.026464795378513737, 0.04140640132362396, 0.03285558682573719, -0.05400897902304905, 0.037008566350504736, 0.03287830808675768, -0.13446217884761827, -0.0032820009578426717, 0.03340423571790318, -0.06894448673615518, -0.002629510412310913, -0.01063707336781458, -0.013160793075923343, -0.07052845771002798, 0.0021238976602133493, 0.018891262554926815, 0.016407104478988507, 0.07114656607793815, -0.07465237886522832, 0.06636333410564622, 0.08211320209901139, -0.0492513183756875, -0.02039409260304736, 0.2616986668248246, 0.03682244057423897, -0.010949015869838144, -0.02339701059600616, 0.011413920546286656, -0.08138723089604175, 0.08096954168773778, 0.052855860330373323, 0.004428531306975071, 0.014211029443609939, -0.0529557523511998, -0.023607412006069736, -0.042496688430423736, 0.012096432362065195, 0.0059920157444204175, -0.012067707850789413, -0.03024531900495416, 0.0160980564034781, -0.18184391702184055, -0.014083036083836546, -0.09442691925760362, -0.07449899425151019, 0.04487815977201756, -0.059633365450388616, 0.04396057169022092, -0.0746814064334431, -0.059825059792113486, 0.08638209104350916, -0.005080154781485895, -0.06162141234374196, 0.02174816943797742, 0.16844398028643118, -0.01327358175973282, 0.010619320644758467, -0.0004979657880259305, 0.06378402312836284, -0.026043515097890612, 0.16174337077794176, -0.033680231462320354, -0.07722061288672255, 0.008167553127068818, 0.09572149485130324, -0.023295608579692675, 0.011317771876566459, -0.0018378329925781947, 0.029138143117491584, -0.011834510111768715, -0.07621578408746245, -0.033038734484194573, 0.07922942289249064, -0.042473992033526774, 0.008365026453981622, -0.032991592287832376, -0.025282856875335488, -0.0033739379769213308, 0.024286977571830914, -0.06064957229953466, -0.031251368325410527, -0.07542787078871793, -0.06646120880906313, -0.10984738186116164, 0.020482921408303188, 0.10643604538639125, -0.039749318578518954, -0.00514598607489731, -0.0537438980680552, 0.010264396747277414, -0.05376533789925972, -0.048438388568684564], \"yaxis\": \"y\"}],                        {\"legend\": {\"tracegroupgap\": 0}, \"margin\": {\"t\": 60}, \"template\": {\"data\": {\"bar\": [{\"error_x\": {\"color\": \"#2a3f5f\"}, \"error_y\": {\"color\": \"#2a3f5f\"}, \"marker\": {\"line\": {\"color\": \"#E5ECF6\", \"width\": 0.5}}, \"type\": \"bar\"}], \"barpolar\": [{\"marker\": {\"line\": {\"color\": \"#E5ECF6\", \"width\": 0.5}}, \"type\": \"barpolar\"}], \"carpet\": [{\"aaxis\": {\"endlinecolor\": \"#2a3f5f\", \"gridcolor\": \"white\", \"linecolor\": \"white\", \"minorgridcolor\": \"white\", \"startlinecolor\": \"#2a3f5f\"}, \"baxis\": {\"endlinecolor\": \"#2a3f5f\", \"gridcolor\": \"white\", \"linecolor\": \"white\", \"minorgridcolor\": \"white\", \"startlinecolor\": \"#2a3f5f\"}, \"type\": \"carpet\"}], \"choropleth\": [{\"colorbar\": {\"outlinewidth\": 0, \"ticks\": \"\"}, \"type\": \"choropleth\"}], \"contour\": [{\"colorbar\": {\"outlinewidth\": 0, \"ticks\": \"\"}, \"colorscale\": [[0.0, \"#0d0887\"], [0.1111111111111111, \"#46039f\"], [0.2222222222222222, \"#7201a8\"], [0.3333333333333333, \"#9c179e\"], [0.4444444444444444, \"#bd3786\"], [0.5555555555555556, \"#d8576b\"], [0.6666666666666666, \"#ed7953\"], [0.7777777777777778, \"#fb9f3a\"], [0.8888888888888888, \"#fdca26\"], [1.0, \"#f0f921\"]], \"type\": \"contour\"}], \"contourcarpet\": [{\"colorbar\": {\"outlinewidth\": 0, \"ticks\": \"\"}, \"type\": \"contourcarpet\"}], \"heatmap\": [{\"colorbar\": {\"outlinewidth\": 0, \"ticks\": \"\"}, \"colorscale\": [[0.0, \"#0d0887\"], [0.1111111111111111, \"#46039f\"], [0.2222222222222222, \"#7201a8\"], [0.3333333333333333, \"#9c179e\"], [0.4444444444444444, \"#bd3786\"], [0.5555555555555556, \"#d8576b\"], [0.6666666666666666, \"#ed7953\"], [0.7777777777777778, \"#fb9f3a\"], [0.8888888888888888, \"#fdca26\"], [1.0, \"#f0f921\"]], \"type\": \"heatmap\"}], \"heatmapgl\": [{\"colorbar\": {\"outlinewidth\": 0, \"ticks\": \"\"}, \"colorscale\": [[0.0, \"#0d0887\"], [0.1111111111111111, \"#46039f\"], [0.2222222222222222, \"#7201a8\"], [0.3333333333333333, \"#9c179e\"], [0.4444444444444444, \"#bd3786\"], [0.5555555555555556, \"#d8576b\"], [0.6666666666666666, \"#ed7953\"], [0.7777777777777778, \"#fb9f3a\"], [0.8888888888888888, \"#fdca26\"], [1.0, \"#f0f921\"]], \"type\": \"heatmapgl\"}], \"histogram\": [{\"marker\": {\"colorbar\": {\"outlinewidth\": 0, \"ticks\": \"\"}}, \"type\": \"histogram\"}], \"histogram2d\": [{\"colorbar\": {\"outlinewidth\": 0, \"ticks\": \"\"}, \"colorscale\": [[0.0, \"#0d0887\"], [0.1111111111111111, \"#46039f\"], [0.2222222222222222, \"#7201a8\"], [0.3333333333333333, \"#9c179e\"], [0.4444444444444444, \"#bd3786\"], [0.5555555555555556, \"#d8576b\"], [0.6666666666666666, \"#ed7953\"], [0.7777777777777778, \"#fb9f3a\"], [0.8888888888888888, \"#fdca26\"], [1.0, \"#f0f921\"]], \"type\": \"histogram2d\"}], \"histogram2dcontour\": [{\"colorbar\": {\"outlinewidth\": 0, \"ticks\": \"\"}, \"colorscale\": [[0.0, \"#0d0887\"], [0.1111111111111111, \"#46039f\"], [0.2222222222222222, \"#7201a8\"], [0.3333333333333333, \"#9c179e\"], [0.4444444444444444, \"#bd3786\"], [0.5555555555555556, \"#d8576b\"], [0.6666666666666666, \"#ed7953\"], [0.7777777777777778, \"#fb9f3a\"], [0.8888888888888888, \"#fdca26\"], [1.0, \"#f0f921\"]], \"type\": \"histogram2dcontour\"}], \"mesh3d\": [{\"colorbar\": {\"outlinewidth\": 0, \"ticks\": \"\"}, \"type\": \"mesh3d\"}], \"parcoords\": [{\"line\": {\"colorbar\": {\"outlinewidth\": 0, \"ticks\": \"\"}}, \"type\": \"parcoords\"}], \"pie\": [{\"automargin\": true, \"type\": \"pie\"}], \"scatter\": [{\"marker\": {\"colorbar\": {\"outlinewidth\": 0, \"ticks\": \"\"}}, \"type\": \"scatter\"}], \"scatter3d\": [{\"line\": {\"colorbar\": {\"outlinewidth\": 0, \"ticks\": \"\"}}, \"marker\": {\"colorbar\": {\"outlinewidth\": 0, \"ticks\": \"\"}}, \"type\": \"scatter3d\"}], \"scattercarpet\": [{\"marker\": {\"colorbar\": {\"outlinewidth\": 0, \"ticks\": \"\"}}, \"type\": \"scattercarpet\"}], \"scattergeo\": [{\"marker\": {\"colorbar\": {\"outlinewidth\": 0, \"ticks\": \"\"}}, \"type\": \"scattergeo\"}], \"scattergl\": [{\"marker\": {\"colorbar\": {\"outlinewidth\": 0, \"ticks\": \"\"}}, \"type\": \"scattergl\"}], \"scattermapbox\": [{\"marker\": {\"colorbar\": {\"outlinewidth\": 0, \"ticks\": \"\"}}, \"type\": \"scattermapbox\"}], \"scatterpolar\": [{\"marker\": {\"colorbar\": {\"outlinewidth\": 0, \"ticks\": \"\"}}, \"type\": \"scatterpolar\"}], \"scatterpolargl\": [{\"marker\": {\"colorbar\": {\"outlinewidth\": 0, \"ticks\": \"\"}}, \"type\": \"scatterpolargl\"}], \"scatterternary\": [{\"marker\": {\"colorbar\": {\"outlinewidth\": 0, \"ticks\": \"\"}}, \"type\": \"scatterternary\"}], \"surface\": [{\"colorbar\": {\"outlinewidth\": 0, \"ticks\": \"\"}, \"colorscale\": [[0.0, \"#0d0887\"], [0.1111111111111111, \"#46039f\"], [0.2222222222222222, \"#7201a8\"], [0.3333333333333333, \"#9c179e\"], [0.4444444444444444, \"#bd3786\"], [0.5555555555555556, \"#d8576b\"], [0.6666666666666666, \"#ed7953\"], [0.7777777777777778, \"#fb9f3a\"], [0.8888888888888888, \"#fdca26\"], [1.0, \"#f0f921\"]], \"type\": \"surface\"}], \"table\": [{\"cells\": {\"fill\": {\"color\": \"#EBF0F8\"}, \"line\": {\"color\": \"white\"}}, \"header\": {\"fill\": {\"color\": \"#C8D4E3\"}, \"line\": {\"color\": \"white\"}}, \"type\": \"table\"}]}, \"layout\": {\"annotationdefaults\": {\"arrowcolor\": \"#2a3f5f\", \"arrowhead\": 0, \"arrowwidth\": 1}, \"coloraxis\": {\"colorbar\": {\"outlinewidth\": 0, \"ticks\": \"\"}}, \"colorscale\": {\"diverging\": [[0, \"#8e0152\"], [0.1, \"#c51b7d\"], [0.2, \"#de77ae\"], [0.3, \"#f1b6da\"], [0.4, \"#fde0ef\"], [0.5, \"#f7f7f7\"], [0.6, \"#e6f5d0\"], [0.7, \"#b8e186\"], [0.8, \"#7fbc41\"], [0.9, \"#4d9221\"], [1, \"#276419\"]], \"sequential\": [[0.0, \"#0d0887\"], [0.1111111111111111, \"#46039f\"], [0.2222222222222222, \"#7201a8\"], [0.3333333333333333, \"#9c179e\"], [0.4444444444444444, \"#bd3786\"], [0.5555555555555556, \"#d8576b\"], [0.6666666666666666, \"#ed7953\"], [0.7777777777777778, \"#fb9f3a\"], [0.8888888888888888, \"#fdca26\"], [1.0, \"#f0f921\"]], \"sequentialminus\": [[0.0, \"#0d0887\"], [0.1111111111111111, \"#46039f\"], [0.2222222222222222, \"#7201a8\"], [0.3333333333333333, \"#9c179e\"], [0.4444444444444444, \"#bd3786\"], [0.5555555555555556, \"#d8576b\"], [0.6666666666666666, \"#ed7953\"], [0.7777777777777778, \"#fb9f3a\"], [0.8888888888888888, \"#fdca26\"], [1.0, \"#f0f921\"]]}, \"colorway\": [\"#636efa\", \"#EF553B\", \"#00cc96\", \"#ab63fa\", \"#FFA15A\", \"#19d3f3\", \"#FF6692\", \"#B6E880\", \"#FF97FF\", \"#FECB52\"], \"font\": {\"color\": \"#2a3f5f\"}, \"geo\": {\"bgcolor\": \"white\", \"lakecolor\": \"white\", \"landcolor\": \"#E5ECF6\", \"showlakes\": true, \"showland\": true, \"subunitcolor\": \"white\"}, \"hoverlabel\": {\"align\": \"left\"}, \"hovermode\": \"closest\", \"mapbox\": {\"style\": \"light\"}, \"paper_bgcolor\": \"white\", \"plot_bgcolor\": \"#E5ECF6\", \"polar\": {\"angularaxis\": {\"gridcolor\": \"white\", \"linecolor\": \"white\", \"ticks\": \"\"}, \"bgcolor\": \"#E5ECF6\", \"radialaxis\": {\"gridcolor\": \"white\", \"linecolor\": \"white\", \"ticks\": \"\"}}, \"scene\": {\"xaxis\": {\"backgroundcolor\": \"#E5ECF6\", \"gridcolor\": \"white\", \"gridwidth\": 2, \"linecolor\": \"white\", \"showbackground\": true, \"ticks\": \"\", \"zerolinecolor\": \"white\"}, \"yaxis\": {\"backgroundcolor\": \"#E5ECF6\", \"gridcolor\": \"white\", \"gridwidth\": 2, \"linecolor\": \"white\", \"showbackground\": true, \"ticks\": \"\", \"zerolinecolor\": \"white\"}, \"zaxis\": {\"backgroundcolor\": \"#E5ECF6\", \"gridcolor\": \"white\", \"gridwidth\": 2, \"linecolor\": \"white\", \"showbackground\": true, \"ticks\": \"\", \"zerolinecolor\": \"white\"}}, \"shapedefaults\": {\"line\": {\"color\": \"#2a3f5f\"}}, \"ternary\": {\"aaxis\": {\"gridcolor\": \"white\", \"linecolor\": \"white\", \"ticks\": \"\"}, \"baxis\": {\"gridcolor\": \"white\", \"linecolor\": \"white\", \"ticks\": \"\"}, \"bgcolor\": \"#E5ECF6\", \"caxis\": {\"gridcolor\": \"white\", \"linecolor\": \"white\", \"ticks\": \"\"}}, \"title\": {\"x\": 0.05}, \"xaxis\": {\"automargin\": true, \"gridcolor\": \"white\", \"linecolor\": \"white\", \"ticks\": \"\", \"title\": {\"standoff\": 15}, \"zerolinecolor\": \"white\", \"zerolinewidth\": 2}, \"yaxis\": {\"automargin\": true, \"gridcolor\": \"white\", \"linecolor\": \"white\", \"ticks\": \"\", \"title\": {\"standoff\": 15}, \"zerolinecolor\": \"white\", \"zerolinewidth\": 2}}}, \"title\": {\"text\": \"Variable Scores\", \"x\": 0.5}, \"xaxis\": {\"anchor\": \"y\", \"domain\": [0.0, 1.0], \"title\": {\"text\": \"F1\"}}, \"yaxis\": {\"anchor\": \"x\", \"domain\": [0.0, 1.0], \"title\": {\"text\": \"F3\"}}},                        {\"responsive\": true}                    ).then(function(){\n",
       "                            \n",
       "var gd = document.getElementById('059af589-7808-4925-a70b-585dd99eb9c5');\n",
       "var x = new MutationObserver(function (mutations, observer) {{\n",
       "        var display = window.getComputedStyle(gd).display;\n",
       "        if (!display || display === 'none') {{\n",
       "            console.log([gd, 'removed!']);\n",
       "            Plotly.purge(gd);\n",
       "            observer.disconnect();\n",
       "        }}\n",
       "}});\n",
       "\n",
       "// Listen for the removal of the full notebook cells\n",
       "var notebookContainer = gd.closest('#notebook-container');\n",
       "if (notebookContainer) {{\n",
       "    x.observe(notebookContainer, {childList: true});\n",
       "}}\n",
       "\n",
       "// Listen for the clearing of the current output cell\n",
       "var outputEl = gd.closest('.output');\n",
       "if (outputEl) {{\n",
       "    x.observe(outputEl, {childList: true});\n",
       "}}\n",
       "\n",
       "                        })                };                });            </script>        </div>"
      ]
     },
     "metadata": {},
     "output_type": "display_data"
    }
   ],
   "source": [
    "import plotly.express as px\n",
    "fig = px.scatter(df_sc, x='F1', y='F2', text='variable', size_max=100)\n",
    "fig.update_traces(textposition='top center')\n",
    "fig.update_layout(title_text='Variable Scores', title_x=0.5)\n",
    "fig.show()\n",
    "fig = px.scatter(df_sc, x='F2', y='F3', text='variable', size_max=100)\n",
    "fig.update_traces(textposition='top center')\n",
    "fig.update_layout(title_text='Variable Scores', title_x=0.5)\n",
    "fig.show()\n",
    "fig = px.scatter(df_sc, x='F1', y='F3', text='variable', size_max=100)\n",
    "fig.update_traces(textposition='top center')\n",
    "fig.update_layout(title_text='Variable Scores', title_x=0.5)\n",
    "fig.show()\n",
    "\n",
    "#F1 is more related with "
   ]
  },
  {
   "cell_type": "code",
   "execution_count": 63,
   "metadata": {},
   "outputs": [
    {
     "data": {
      "text/html": [
       "<div>\n",
       "<style scoped>\n",
       "    .dataframe tbody tr th:only-of-type {\n",
       "        vertical-align: middle;\n",
       "    }\n",
       "\n",
       "    .dataframe tbody tr th {\n",
       "        vertical-align: top;\n",
       "    }\n",
       "\n",
       "    .dataframe thead th {\n",
       "        text-align: right;\n",
       "    }\n",
       "</style>\n",
       "<table border=\"1\" class=\"dataframe\">\n",
       "  <thead>\n",
       "    <tr style=\"text-align: right;\">\n",
       "      <th></th>\n",
       "      <th>variable</th>\n",
       "      <th>F1</th>\n",
       "      <th>F2</th>\n",
       "      <th>F3</th>\n",
       "      <th>conmunalities</th>\n",
       "    </tr>\n",
       "  </thead>\n",
       "  <tbody>\n",
       "    <tr>\n",
       "      <th>0</th>\n",
       "      <td>Adrenal crisis</td>\n",
       "      <td>0.146299</td>\n",
       "      <td>0.246336</td>\n",
       "      <td>-0.031775</td>\n",
       "      <td>0.360860</td>\n",
       "    </tr>\n",
       "    <tr>\n",
       "      <th>1</th>\n",
       "      <td>Ageusia</td>\n",
       "      <td>0.098237</td>\n",
       "      <td>0.856333</td>\n",
       "      <td>-0.072080</td>\n",
       "      <td>0.882491</td>\n",
       "    </tr>\n",
       "    <tr>\n",
       "      <th>2</th>\n",
       "      <td>Allergic conjunctivitis</td>\n",
       "      <td>-0.103717</td>\n",
       "      <td>-0.083189</td>\n",
       "      <td>0.878413</td>\n",
       "      <td>0.691506</td>\n",
       "    </tr>\n",
       "    <tr>\n",
       "      <th>3</th>\n",
       "      <td>Amenorrhea</td>\n",
       "      <td>-0.060843</td>\n",
       "      <td>0.019368</td>\n",
       "      <td>0.017675</td>\n",
       "      <td>-0.023800</td>\n",
       "    </tr>\n",
       "    <tr>\n",
       "      <th>4</th>\n",
       "      <td>Angular cheilitis</td>\n",
       "      <td>-0.119079</td>\n",
       "      <td>-0.000026</td>\n",
       "      <td>0.006549</td>\n",
       "      <td>-0.112556</td>\n",
       "    </tr>\n",
       "    <tr>\n",
       "      <th>...</th>\n",
       "      <td>...</td>\n",
       "      <td>...</td>\n",
       "      <td>...</td>\n",
       "      <td>...</td>\n",
       "      <td>...</td>\n",
       "    </tr>\n",
       "    <tr>\n",
       "      <th>96</th>\n",
       "      <td>Upper respiratory tract infection</td>\n",
       "      <td>0.906391</td>\n",
       "      <td>0.030839</td>\n",
       "      <td>-0.005146</td>\n",
       "      <td>0.932083</td>\n",
       "    </tr>\n",
       "    <tr>\n",
       "      <th>97</th>\n",
       "      <td>Urethritis</td>\n",
       "      <td>-0.048097</td>\n",
       "      <td>0.063732</td>\n",
       "      <td>-0.053744</td>\n",
       "      <td>-0.038109</td>\n",
       "    </tr>\n",
       "    <tr>\n",
       "      <th>98</th>\n",
       "      <td>Urinary urgency</td>\n",
       "      <td>0.019458</td>\n",
       "      <td>0.050508</td>\n",
       "      <td>0.010264</td>\n",
       "      <td>0.080231</td>\n",
       "    </tr>\n",
       "    <tr>\n",
       "      <th>99</th>\n",
       "      <td>Ventricular fibrillation</td>\n",
       "      <td>-0.021896</td>\n",
       "      <td>0.110135</td>\n",
       "      <td>-0.053765</td>\n",
       "      <td>0.034474</td>\n",
       "    </tr>\n",
       "    <tr>\n",
       "      <th>100</th>\n",
       "      <td>hospitalized_new</td>\n",
       "      <td>-0.045572</td>\n",
       "      <td>0.484531</td>\n",
       "      <td>-0.048438</td>\n",
       "      <td>0.390521</td>\n",
       "    </tr>\n",
       "  </tbody>\n",
       "</table>\n",
       "<p>101 rows × 5 columns</p>\n",
       "</div>"
      ],
      "text/plain": [
       "                              variable        F1        F2        F3  \\\n",
       "0                       Adrenal crisis  0.146299  0.246336 -0.031775   \n",
       "1                              Ageusia  0.098237  0.856333 -0.072080   \n",
       "2              Allergic conjunctivitis -0.103717 -0.083189  0.878413   \n",
       "3                           Amenorrhea -0.060843  0.019368  0.017675   \n",
       "4                    Angular cheilitis -0.119079 -0.000026  0.006549   \n",
       "..                                 ...       ...       ...       ...   \n",
       "96   Upper respiratory tract infection  0.906391  0.030839 -0.005146   \n",
       "97                          Urethritis -0.048097  0.063732 -0.053744   \n",
       "98                     Urinary urgency  0.019458  0.050508  0.010264   \n",
       "99            Ventricular fibrillation -0.021896  0.110135 -0.053765   \n",
       "100                   hospitalized_new -0.045572  0.484531 -0.048438   \n",
       "\n",
       "     conmunalities  \n",
       "0         0.360860  \n",
       "1         0.882491  \n",
       "2         0.691506  \n",
       "3        -0.023800  \n",
       "4        -0.112556  \n",
       "..             ...  \n",
       "96        0.932083  \n",
       "97       -0.038109  \n",
       "98        0.080231  \n",
       "99        0.034474  \n",
       "100       0.390521  \n",
       "\n",
       "[101 rows x 5 columns]"
      ]
     },
     "execution_count": 63,
     "metadata": {},
     "output_type": "execute_result"
    }
   ],
   "source": [
    "df_sc['conmunalities'] = df_sc['F1']+df_sc['F2']+df_sc['F3']\n",
    "df_sc"
   ]
  },
  {
   "cell_type": "code",
   "execution_count": 156,
   "metadata": {},
   "outputs": [
    {
     "data": {
      "text/html": [
       "<div>\n",
       "<style scoped>\n",
       "    .dataframe tbody tr th:only-of-type {\n",
       "        vertical-align: middle;\n",
       "    }\n",
       "\n",
       "    .dataframe tbody tr th {\n",
       "        vertical-align: top;\n",
       "    }\n",
       "\n",
       "    .dataframe thead th {\n",
       "        text-align: right;\n",
       "    }\n",
       "</style>\n",
       "<table border=\"1\" class=\"dataframe\">\n",
       "  <thead>\n",
       "    <tr style=\"text-align: right;\">\n",
       "      <th></th>\n",
       "      <th>Adrenal crisis</th>\n",
       "      <th>Ageusia</th>\n",
       "      <th>Allergic conjunctivitis</th>\n",
       "      <th>Amenorrhea</th>\n",
       "      <th>Angular cheilitis</th>\n",
       "      <th>Anosmia</th>\n",
       "      <th>Asphyxia</th>\n",
       "      <th>Atheroma</th>\n",
       "      <th>Auditory hallucination</th>\n",
       "      <th>Balance disorder</th>\n",
       "      <th>...</th>\n",
       "      <th>Stridor</th>\n",
       "      <th>Subdural hematoma</th>\n",
       "      <th>Tachypnea</th>\n",
       "      <th>Tenderness</th>\n",
       "      <th>Thyroid nodule</th>\n",
       "      <th>Trichoptilosis</th>\n",
       "      <th>Upper respiratory tract infection</th>\n",
       "      <th>Urethritis</th>\n",
       "      <th>Urinary urgency</th>\n",
       "      <th>Ventricular fibrillation</th>\n",
       "    </tr>\n",
       "  </thead>\n",
       "  <tbody>\n",
       "    <tr>\n",
       "      <th>0</th>\n",
       "      <td>0.242395</td>\n",
       "      <td>1.000000</td>\n",
       "      <td>0.337980</td>\n",
       "      <td>0.190876</td>\n",
       "      <td>0.329669</td>\n",
       "      <td>1.000000</td>\n",
       "      <td>0.017390</td>\n",
       "      <td>0.447195</td>\n",
       "      <td>0.065826</td>\n",
       "      <td>0.339399</td>\n",
       "      <td>...</td>\n",
       "      <td>0.513116</td>\n",
       "      <td>0.173611</td>\n",
       "      <td>0.454545</td>\n",
       "      <td>0.147368</td>\n",
       "      <td>0.000000</td>\n",
       "      <td>0.058757</td>\n",
       "      <td>0.431432</td>\n",
       "      <td>0.044330</td>\n",
       "      <td>0.340649</td>\n",
       "      <td>0.069176</td>\n",
       "    </tr>\n",
       "    <tr>\n",
       "      <th>1</th>\n",
       "      <td>0.134936</td>\n",
       "      <td>0.282752</td>\n",
       "      <td>0.041096</td>\n",
       "      <td>0.070828</td>\n",
       "      <td>0.329669</td>\n",
       "      <td>0.322087</td>\n",
       "      <td>0.053443</td>\n",
       "      <td>0.125413</td>\n",
       "      <td>0.078431</td>\n",
       "      <td>0.428571</td>\n",
       "      <td>...</td>\n",
       "      <td>0.687303</td>\n",
       "      <td>0.000000</td>\n",
       "      <td>0.546320</td>\n",
       "      <td>0.115088</td>\n",
       "      <td>0.142392</td>\n",
       "      <td>0.785311</td>\n",
       "      <td>0.250794</td>\n",
       "      <td>0.148454</td>\n",
       "      <td>0.650794</td>\n",
       "      <td>0.076297</td>\n",
       "    </tr>\n",
       "    <tr>\n",
       "      <th>2</th>\n",
       "      <td>0.189892</td>\n",
       "      <td>0.131008</td>\n",
       "      <td>0.337980</td>\n",
       "      <td>0.343337</td>\n",
       "      <td>0.156448</td>\n",
       "      <td>0.003374</td>\n",
       "      <td>0.021066</td>\n",
       "      <td>0.453795</td>\n",
       "      <td>0.354797</td>\n",
       "      <td>0.414923</td>\n",
       "      <td>...</td>\n",
       "      <td>0.203326</td>\n",
       "      <td>0.088542</td>\n",
       "      <td>0.261472</td>\n",
       "      <td>0.063860</td>\n",
       "      <td>0.082181</td>\n",
       "      <td>0.676836</td>\n",
       "      <td>0.137826</td>\n",
       "      <td>0.176289</td>\n",
       "      <td>0.340649</td>\n",
       "      <td>0.294846</td>\n",
       "    </tr>\n",
       "    <tr>\n",
       "      <th>3</th>\n",
       "      <td>0.001472</td>\n",
       "      <td>0.345430</td>\n",
       "      <td>0.337980</td>\n",
       "      <td>0.000000</td>\n",
       "      <td>0.042283</td>\n",
       "      <td>0.103815</td>\n",
       "      <td>0.033084</td>\n",
       "      <td>0.216997</td>\n",
       "      <td>0.492997</td>\n",
       "      <td>0.232029</td>\n",
       "      <td>...</td>\n",
       "      <td>0.203326</td>\n",
       "      <td>0.023727</td>\n",
       "      <td>0.138528</td>\n",
       "      <td>0.203509</td>\n",
       "      <td>0.544345</td>\n",
       "      <td>0.572881</td>\n",
       "      <td>0.130369</td>\n",
       "      <td>0.000000</td>\n",
       "      <td>0.340649</td>\n",
       "      <td>0.294846</td>\n",
       "    </tr>\n",
       "    <tr>\n",
       "      <th>4</th>\n",
       "      <td>0.058391</td>\n",
       "      <td>0.345430</td>\n",
       "      <td>0.000000</td>\n",
       "      <td>0.475390</td>\n",
       "      <td>0.329669</td>\n",
       "      <td>0.291814</td>\n",
       "      <td>0.013856</td>\n",
       "      <td>0.580858</td>\n",
       "      <td>0.544818</td>\n",
       "      <td>0.515014</td>\n",
       "      <td>...</td>\n",
       "      <td>0.486884</td>\n",
       "      <td>0.261018</td>\n",
       "      <td>0.242424</td>\n",
       "      <td>0.476491</td>\n",
       "      <td>0.194467</td>\n",
       "      <td>0.229379</td>\n",
       "      <td>0.077337</td>\n",
       "      <td>0.184536</td>\n",
       "      <td>0.340649</td>\n",
       "      <td>0.268566</td>\n",
       "    </tr>\n",
       "    <tr>\n",
       "      <th>...</th>\n",
       "      <td>...</td>\n",
       "      <td>...</td>\n",
       "      <td>...</td>\n",
       "      <td>...</td>\n",
       "      <td>...</td>\n",
       "      <td>...</td>\n",
       "      <td>...</td>\n",
       "      <td>...</td>\n",
       "      <td>...</td>\n",
       "      <td>...</td>\n",
       "      <td>...</td>\n",
       "      <td>...</td>\n",
       "      <td>...</td>\n",
       "      <td>...</td>\n",
       "      <td>...</td>\n",
       "      <td>...</td>\n",
       "      <td>...</td>\n",
       "      <td>...</td>\n",
       "      <td>...</td>\n",
       "      <td>...</td>\n",
       "      <td>...</td>\n",
       "    </tr>\n",
       "    <tr>\n",
       "      <th>125</th>\n",
       "      <td>0.029605</td>\n",
       "      <td>0.210046</td>\n",
       "      <td>0.000000</td>\n",
       "      <td>0.393062</td>\n",
       "      <td>0.000000</td>\n",
       "      <td>0.024441</td>\n",
       "      <td>0.078663</td>\n",
       "      <td>0.340735</td>\n",
       "      <td>0.036530</td>\n",
       "      <td>0.436214</td>\n",
       "      <td>...</td>\n",
       "      <td>0.030457</td>\n",
       "      <td>0.699208</td>\n",
       "      <td>1.000000</td>\n",
       "      <td>0.767857</td>\n",
       "      <td>0.102564</td>\n",
       "      <td>0.341093</td>\n",
       "      <td>0.035044</td>\n",
       "      <td>0.284585</td>\n",
       "      <td>0.340649</td>\n",
       "      <td>0.294846</td>\n",
       "    </tr>\n",
       "    <tr>\n",
       "      <th>126</th>\n",
       "      <td>0.066729</td>\n",
       "      <td>0.602740</td>\n",
       "      <td>0.337980</td>\n",
       "      <td>1.000000</td>\n",
       "      <td>0.329669</td>\n",
       "      <td>0.156425</td>\n",
       "      <td>0.079646</td>\n",
       "      <td>0.416667</td>\n",
       "      <td>0.579909</td>\n",
       "      <td>0.514403</td>\n",
       "      <td>...</td>\n",
       "      <td>0.053299</td>\n",
       "      <td>0.168865</td>\n",
       "      <td>0.302293</td>\n",
       "      <td>0.607143</td>\n",
       "      <td>0.825641</td>\n",
       "      <td>0.202532</td>\n",
       "      <td>0.093450</td>\n",
       "      <td>0.296443</td>\n",
       "      <td>0.162791</td>\n",
       "      <td>0.294846</td>\n",
       "    </tr>\n",
       "    <tr>\n",
       "      <th>127</th>\n",
       "      <td>0.136748</td>\n",
       "      <td>0.305936</td>\n",
       "      <td>0.337980</td>\n",
       "      <td>0.437326</td>\n",
       "      <td>0.329669</td>\n",
       "      <td>0.191341</td>\n",
       "      <td>0.023599</td>\n",
       "      <td>1.000000</td>\n",
       "      <td>0.182648</td>\n",
       "      <td>0.897119</td>\n",
       "      <td>...</td>\n",
       "      <td>0.096447</td>\n",
       "      <td>0.459103</td>\n",
       "      <td>0.173913</td>\n",
       "      <td>0.316964</td>\n",
       "      <td>0.335897</td>\n",
       "      <td>0.230380</td>\n",
       "      <td>0.036713</td>\n",
       "      <td>0.169960</td>\n",
       "      <td>0.340649</td>\n",
       "      <td>0.491713</td>\n",
       "    </tr>\n",
       "    <tr>\n",
       "      <th>128</th>\n",
       "      <td>0.331767</td>\n",
       "      <td>0.504566</td>\n",
       "      <td>0.337980</td>\n",
       "      <td>0.111421</td>\n",
       "      <td>0.329669</td>\n",
       "      <td>0.175978</td>\n",
       "      <td>0.038840</td>\n",
       "      <td>0.823718</td>\n",
       "      <td>0.118721</td>\n",
       "      <td>0.510288</td>\n",
       "      <td>...</td>\n",
       "      <td>0.073604</td>\n",
       "      <td>0.501319</td>\n",
       "      <td>0.487923</td>\n",
       "      <td>0.607143</td>\n",
       "      <td>0.487179</td>\n",
       "      <td>0.070886</td>\n",
       "      <td>0.103257</td>\n",
       "      <td>0.335968</td>\n",
       "      <td>0.340649</td>\n",
       "      <td>0.569061</td>\n",
       "    </tr>\n",
       "    <tr>\n",
       "      <th>129</th>\n",
       "      <td>0.034305</td>\n",
       "      <td>1.000000</td>\n",
       "      <td>0.337980</td>\n",
       "      <td>0.000000</td>\n",
       "      <td>0.329669</td>\n",
       "      <td>0.354050</td>\n",
       "      <td>0.034907</td>\n",
       "      <td>0.442308</td>\n",
       "      <td>0.187215</td>\n",
       "      <td>0.456790</td>\n",
       "      <td>...</td>\n",
       "      <td>0.154822</td>\n",
       "      <td>0.232190</td>\n",
       "      <td>0.214976</td>\n",
       "      <td>0.620536</td>\n",
       "      <td>0.312821</td>\n",
       "      <td>1.000000</td>\n",
       "      <td>0.007509</td>\n",
       "      <td>1.000000</td>\n",
       "      <td>0.616279</td>\n",
       "      <td>0.071823</td>\n",
       "    </tr>\n",
       "  </tbody>\n",
       "</table>\n",
       "<p>130 rows × 100 columns</p>\n",
       "</div>"
      ],
      "text/plain": [
       "     Adrenal crisis   Ageusia  Allergic conjunctivitis  Amenorrhea  \\\n",
       "0          0.242395  1.000000                 0.337980    0.190876   \n",
       "1          0.134936  0.282752                 0.041096    0.070828   \n",
       "2          0.189892  0.131008                 0.337980    0.343337   \n",
       "3          0.001472  0.345430                 0.337980    0.000000   \n",
       "4          0.058391  0.345430                 0.000000    0.475390   \n",
       "..              ...       ...                      ...         ...   \n",
       "125        0.029605  0.210046                 0.000000    0.393062   \n",
       "126        0.066729  0.602740                 0.337980    1.000000   \n",
       "127        0.136748  0.305936                 0.337980    0.437326   \n",
       "128        0.331767  0.504566                 0.337980    0.111421   \n",
       "129        0.034305  1.000000                 0.337980    0.000000   \n",
       "\n",
       "     Angular cheilitis   Anosmia  Asphyxia  Atheroma  Auditory hallucination  \\\n",
       "0             0.329669  1.000000  0.017390  0.447195                0.065826   \n",
       "1             0.329669  0.322087  0.053443  0.125413                0.078431   \n",
       "2             0.156448  0.003374  0.021066  0.453795                0.354797   \n",
       "3             0.042283  0.103815  0.033084  0.216997                0.492997   \n",
       "4             0.329669  0.291814  0.013856  0.580858                0.544818   \n",
       "..                 ...       ...       ...       ...                     ...   \n",
       "125           0.000000  0.024441  0.078663  0.340735                0.036530   \n",
       "126           0.329669  0.156425  0.079646  0.416667                0.579909   \n",
       "127           0.329669  0.191341  0.023599  1.000000                0.182648   \n",
       "128           0.329669  0.175978  0.038840  0.823718                0.118721   \n",
       "129           0.329669  0.354050  0.034907  0.442308                0.187215   \n",
       "\n",
       "     Balance disorder  ...   Stridor  Subdural hematoma  Tachypnea  \\\n",
       "0            0.339399  ...  0.513116           0.173611   0.454545   \n",
       "1            0.428571  ...  0.687303           0.000000   0.546320   \n",
       "2            0.414923  ...  0.203326           0.088542   0.261472   \n",
       "3            0.232029  ...  0.203326           0.023727   0.138528   \n",
       "4            0.515014  ...  0.486884           0.261018   0.242424   \n",
       "..                ...  ...       ...                ...        ...   \n",
       "125          0.436214  ...  0.030457           0.699208   1.000000   \n",
       "126          0.514403  ...  0.053299           0.168865   0.302293   \n",
       "127          0.897119  ...  0.096447           0.459103   0.173913   \n",
       "128          0.510288  ...  0.073604           0.501319   0.487923   \n",
       "129          0.456790  ...  0.154822           0.232190   0.214976   \n",
       "\n",
       "     Tenderness  Thyroid nodule  Trichoptilosis  \\\n",
       "0      0.147368        0.000000        0.058757   \n",
       "1      0.115088        0.142392        0.785311   \n",
       "2      0.063860        0.082181        0.676836   \n",
       "3      0.203509        0.544345        0.572881   \n",
       "4      0.476491        0.194467        0.229379   \n",
       "..          ...             ...             ...   \n",
       "125    0.767857        0.102564        0.341093   \n",
       "126    0.607143        0.825641        0.202532   \n",
       "127    0.316964        0.335897        0.230380   \n",
       "128    0.607143        0.487179        0.070886   \n",
       "129    0.620536        0.312821        1.000000   \n",
       "\n",
       "     Upper respiratory tract infection  Urethritis  Urinary urgency  \\\n",
       "0                             0.431432    0.044330         0.340649   \n",
       "1                             0.250794    0.148454         0.650794   \n",
       "2                             0.137826    0.176289         0.340649   \n",
       "3                             0.130369    0.000000         0.340649   \n",
       "4                             0.077337    0.184536         0.340649   \n",
       "..                                 ...         ...              ...   \n",
       "125                           0.035044    0.284585         0.340649   \n",
       "126                           0.093450    0.296443         0.162791   \n",
       "127                           0.036713    0.169960         0.340649   \n",
       "128                           0.103257    0.335968         0.340649   \n",
       "129                           0.007509    1.000000         0.616279   \n",
       "\n",
       "     Ventricular fibrillation  \n",
       "0                    0.069176  \n",
       "1                    0.076297  \n",
       "2                    0.294846  \n",
       "3                    0.294846  \n",
       "4                    0.268566  \n",
       "..                        ...  \n",
       "125                  0.294846  \n",
       "126                  0.294846  \n",
       "127                  0.491713  \n",
       "128                  0.569061  \n",
       "129                  0.071823  \n",
       "\n",
       "[130 rows x 100 columns]"
      ]
     },
     "execution_count": 156,
     "metadata": {},
     "output_type": "execute_result"
    }
   ],
   "source": [
    "df_pca2.drop('hospitalized_new',axis=1, inplace=True)\n",
    "df_pca3=df_pca2\n",
    "df_pca3"
   ]
  },
  {
   "cell_type": "code",
   "execution_count": 157,
   "metadata": {},
   "outputs": [],
   "source": [
    "w=df_pca3\n",
    "u, s, vt = np.linalg.svd(w-np.mean(w,0))"
   ]
  },
  {
   "cell_type": "code",
   "execution_count": 158,
   "metadata": {},
   "outputs": [
    {
     "data": {
      "image/png": "[encoded data removed]",
      "text/plain": [
       "<Figure size 432x288 with 1 Axes>"
      ]
     },
     "metadata": {
      "needs_background": "light"
     },
     "output_type": "display_data"
    }
   ],
   "source": [
    "variances = np.var(w @ vt.T, 0)\n",
    "plt.plot(variances/np.sum(variances), label=\"var. for each PC\")\n",
    "#plt.plot(np.cumsum(variances/np.sum(variances)), label=\"cumulative var. ratio\")\n",
    "plt.xlabel(\"principal component\")\n",
    "plt.xlim([0,50])\n",
    "plt.ylabel(\"variance ratio\")\n",
    "plt.plot((s**2)/(np.sum(s**2)), \"o\", label=\"normalized eigenvalues of the covariance\")\n",
    "plt.axhline(y=0.045, color='r', linestyle='--')\n",
    "plt.legend()\n",
    "plt.show()"
   ]
  },
  {
   "cell_type": "code",
   "execution_count": 159,
   "metadata": {},
   "outputs": [
    {
     "data": {
      "text/html": [
       "<div>\n",
       "<style scoped>\n",
       "    .dataframe tbody tr th:only-of-type {\n",
       "        vertical-align: middle;\n",
       "    }\n",
       "\n",
       "    .dataframe tbody tr th {\n",
       "        vertical-align: top;\n",
       "    }\n",
       "\n",
       "    .dataframe thead th {\n",
       "        text-align: right;\n",
       "    }\n",
       "</style>\n",
       "<table border=\"1\" class=\"dataframe\">\n",
       "  <thead>\n",
       "    <tr style=\"text-align: right;\">\n",
       "      <th></th>\n",
       "      <th>PC1</th>\n",
       "      <th>PC2</th>\n",
       "    </tr>\n",
       "  </thead>\n",
       "  <tbody>\n",
       "    <tr>\n",
       "      <th>0</th>\n",
       "      <td>1.923742</td>\n",
       "      <td>0.589073</td>\n",
       "    </tr>\n",
       "    <tr>\n",
       "      <th>1</th>\n",
       "      <td>1.699244</td>\n",
       "      <td>-0.304618</td>\n",
       "    </tr>\n",
       "    <tr>\n",
       "      <th>2</th>\n",
       "      <td>0.943795</td>\n",
       "      <td>-0.537321</td>\n",
       "    </tr>\n",
       "    <tr>\n",
       "      <th>3</th>\n",
       "      <td>0.579014</td>\n",
       "      <td>-0.583678</td>\n",
       "    </tr>\n",
       "    <tr>\n",
       "      <th>4</th>\n",
       "      <td>0.562395</td>\n",
       "      <td>-0.249007</td>\n",
       "    </tr>\n",
       "    <tr>\n",
       "      <th>...</th>\n",
       "      <td>...</td>\n",
       "      <td>...</td>\n",
       "    </tr>\n",
       "    <tr>\n",
       "      <th>125</th>\n",
       "      <td>0.033724</td>\n",
       "      <td>-0.028040</td>\n",
       "    </tr>\n",
       "    <tr>\n",
       "      <th>126</th>\n",
       "      <td>-0.574237</td>\n",
       "      <td>0.731558</td>\n",
       "    </tr>\n",
       "    <tr>\n",
       "      <th>127</th>\n",
       "      <td>-0.376639</td>\n",
       "      <td>0.211358</td>\n",
       "    </tr>\n",
       "    <tr>\n",
       "      <th>128</th>\n",
       "      <td>-0.382312</td>\n",
       "      <td>0.514642</td>\n",
       "    </tr>\n",
       "    <tr>\n",
       "      <th>129</th>\n",
       "      <td>-0.347407</td>\n",
       "      <td>0.856627</td>\n",
       "    </tr>\n",
       "  </tbody>\n",
       "</table>\n",
       "<p>130 rows × 2 columns</p>\n",
       "</div>"
      ],
      "text/plain": [
       "          PC1       PC2\n",
       "0    1.923742  0.589073\n",
       "1    1.699244 -0.304618\n",
       "2    0.943795 -0.537321\n",
       "3    0.579014 -0.583678\n",
       "4    0.562395 -0.249007\n",
       "..        ...       ...\n",
       "125  0.033724 -0.028040\n",
       "126 -0.574237  0.731558\n",
       "127 -0.376639  0.211358\n",
       "128 -0.382312  0.514642\n",
       "129 -0.347407  0.856627\n",
       "\n",
       "[130 rows x 2 columns]"
      ]
     },
     "execution_count": 159,
     "metadata": {},
     "output_type": "execute_result"
    }
   ],
   "source": [
    "from sklearn.decomposition import PCA\n",
    "n_components = 2\n",
    "df_pca4=PCA(n_components=n_components)\n",
    "principalComponents = df_pca4.fit_transform(df_pca3)\n",
    "principal_pca_df = pd.DataFrame(data=principalComponents,columns=['PC'+str(i+1) for i in range(n_components)])\n",
    "principal_pca_df"
   ]
  },
  {
   "cell_type": "code",
   "execution_count": 160,
   "metadata": {},
   "outputs": [
    {
     "data": {
      "image/png": "[encoded data removed]",
      "text/plain": [
       "<Figure size 432x288 with 1 Axes>"
      ]
     },
     "metadata": {
      "needs_background": "light"
     },
     "output_type": "display_data"
    }
   ],
   "source": [
    "from scipy.cluster.hierarchy import linkage\n",
    "z = linkage(principal_pca_df , method='average',metric='euclidean')\n",
    "distances = z[-20:,2]\n",
    "\n",
    "inverted_dist = distances[::-1]\n",
    "cluster_num= np.arange (1, len(inverted_dist) + 1)\n",
    "\n",
    "plt.plot(cluster_num,inverted_dist)\n",
    "plt.xlim([0,20])\n",
    "plt.axvline(x=3, color='r', linestyle='--')\n",
    "\n",
    "plt.show()"
   ]
  },
  {
   "cell_type": "code",
   "execution_count": 161,
   "metadata": {},
   "outputs": [
    {
     "data": {
      "text/html": [
       "<div>\n",
       "<style scoped>\n",
       "    .dataframe tbody tr th:only-of-type {\n",
       "        vertical-align: middle;\n",
       "    }\n",
       "\n",
       "    .dataframe tbody tr th {\n",
       "        vertical-align: top;\n",
       "    }\n",
       "\n",
       "    .dataframe thead th {\n",
       "        text-align: right;\n",
       "    }\n",
       "</style>\n",
       "<table border=\"1\" class=\"dataframe\">\n",
       "  <thead>\n",
       "    <tr style=\"text-align: right;\">\n",
       "      <th></th>\n",
       "      <th>PC1</th>\n",
       "      <th>PC2</th>\n",
       "      <th>hospitalized_new</th>\n",
       "    </tr>\n",
       "  </thead>\n",
       "  <tbody>\n",
       "    <tr>\n",
       "      <th>0</th>\n",
       "      <td>1.923742</td>\n",
       "      <td>0.589073</td>\n",
       "      <td>6</td>\n",
       "    </tr>\n",
       "    <tr>\n",
       "      <th>1</th>\n",
       "      <td>1.699244</td>\n",
       "      <td>-0.304618</td>\n",
       "      <td>14</td>\n",
       "    </tr>\n",
       "    <tr>\n",
       "      <th>2</th>\n",
       "      <td>0.943795</td>\n",
       "      <td>-0.537321</td>\n",
       "      <td>11</td>\n",
       "    </tr>\n",
       "    <tr>\n",
       "      <th>3</th>\n",
       "      <td>0.579014</td>\n",
       "      <td>-0.583678</td>\n",
       "      <td>5</td>\n",
       "    </tr>\n",
       "    <tr>\n",
       "      <th>4</th>\n",
       "      <td>0.562395</td>\n",
       "      <td>-0.249007</td>\n",
       "      <td>-36</td>\n",
       "    </tr>\n",
       "  </tbody>\n",
       "</table>\n",
       "</div>"
      ],
      "text/plain": [
       "        PC1       PC2  hospitalized_new\n",
       "0  1.923742  0.589073                 6\n",
       "1  1.699244 -0.304618                14\n",
       "2  0.943795 -0.537321                11\n",
       "3  0.579014 -0.583678                 5\n",
       "4  0.562395 -0.249007               -36"
      ]
     },
     "execution_count": 161,
     "metadata": {},
     "output_type": "execute_result"
    }
   ],
   "source": [
    "principal_pca_df['hospitalized_new']= df['hospitalized_new']\n",
    "principal_pca_df.head()"
   ]
  },
  {
   "cell_type": "code",
   "execution_count": 162,
   "metadata": {},
   "outputs": [],
   "source": [
    "class KMeans1:\n",
    "    def __init__(self, k=5, max_iters=100, verbose=True):\n",
    "        self.k = k\n",
    "        self.max_iters = max_iters\n",
    "        self.verbose = verbose\n",
    "    def fit(self, x):\n",
    "        n,d = x.shape\n",
    "        init_centers = np.random.choice(n, self.k, replace=False)\n",
    "        mu = x[init_centers]\n",
    "        for t in range(self.max_iters):\n",
    "            distances = np.sum((mu[None,:,:] - x[:,None,:])**2, -1) # n x k\n",
    "            membership = np.argmin(distances, 1)\n",
    "            mu_new = mu.copy()\n",
    "            for i in range(self.k):\n",
    "                mu_new[i,:] = np.mean(x[membership==i], 0)\n",
    "            if np.allclose(mu_new, mu):\n",
    "                if self.verbose:\n",
    "                    print(f'converged after {t} iterations, cost {np.sum(np.min(distances,1))}')\n",
    "                break\n",
    "            mu = mu_new\n",
    "        return mu, membership"
   ]
  },
  {
   "cell_type": "code",
   "execution_count": 163,
   "metadata": {},
   "outputs": [],
   "source": [
    "x, y = principal_pca_df[['PC1','PC2']], principal_pca_df['hospitalized_new']"
   ]
  },
  {
   "cell_type": "code",
   "execution_count": 164,
   "metadata": {},
   "outputs": [
    {
     "name": "stdout",
     "output_type": "stream",
     "text": [
      "converged after 9 iterations, cost 32.025030237497774\n"
     ]
    }
   ],
   "source": [
    "x=np.array(x)\n",
    "kmeans = KMeans1(3)\n",
    "mu,cl = kmeans.fit(x)"
   ]
  },
  {
   "cell_type": "code",
   "execution_count": 165,
   "metadata": {
    "scrolled": true
   },
   "outputs": [
    {
     "data": {
      "text/plain": [
       "Text(0, 0.5, 'PC2')"
      ]
     },
     "execution_count": 165,
     "metadata": {},
     "output_type": "execute_result"
    },
    {
     "data": {
      "image/png": "[encoded data removed]",
      "text/plain": [
       "<Figure size 360x288 with 1 Axes>"
      ]
     },
     "metadata": {
      "needs_background": "light"
     },
     "output_type": "display_data"
    }
   ],
   "source": [
    "# plotting the result\n",
    "fig, axes = plt.subplots(nrows=1, constrained_layout=True, figsize=(5, 4))\n",
    "plt.scatter(x[:,0], x[:,1], c=cl, s=1,cmap=plt.cm.get_cmap(\"viridis\", 3))\n",
    "plt.scatter(mu[:,0], mu[:,1], marker='x',cmap=plt.cm.get_cmap(\"viridis\", 3))\n",
    "plt.title('clustering result')\n",
    "plt.xlabel('PC1')\n",
    "plt.ylabel('PC2')"
   ]
  },
  {
   "cell_type": "code",
   "execution_count": 166,
   "metadata": {},
   "outputs": [
    {
     "data": {
      "text/html": [
       "<div>\n",
       "<style scoped>\n",
       "    .dataframe tbody tr th:only-of-type {\n",
       "        vertical-align: middle;\n",
       "    }\n",
       "\n",
       "    .dataframe tbody tr th {\n",
       "        vertical-align: top;\n",
       "    }\n",
       "\n",
       "    .dataframe thead th {\n",
       "        text-align: right;\n",
       "    }\n",
       "</style>\n",
       "<table border=\"1\" class=\"dataframe\">\n",
       "  <thead>\n",
       "    <tr style=\"text-align: right;\">\n",
       "      <th></th>\n",
       "      <th>PC1</th>\n",
       "      <th>PC2</th>\n",
       "      <th>hospitalized_new</th>\n",
       "      <th>sub_region_1</th>\n",
       "    </tr>\n",
       "  </thead>\n",
       "  <tbody>\n",
       "    <tr>\n",
       "      <th>0</th>\n",
       "      <td>1.923742</td>\n",
       "      <td>0.589073</td>\n",
       "      <td>6</td>\n",
       "      <td>Alaska</td>\n",
       "    </tr>\n",
       "    <tr>\n",
       "      <th>1</th>\n",
       "      <td>1.699244</td>\n",
       "      <td>-0.304618</td>\n",
       "      <td>14</td>\n",
       "      <td>Montana</td>\n",
       "    </tr>\n",
       "    <tr>\n",
       "      <th>2</th>\n",
       "      <td>0.943795</td>\n",
       "      <td>-0.537321</td>\n",
       "      <td>11</td>\n",
       "      <td>North Dakota</td>\n",
       "    </tr>\n",
       "    <tr>\n",
       "      <th>3</th>\n",
       "      <td>0.579014</td>\n",
       "      <td>-0.583678</td>\n",
       "      <td>5</td>\n",
       "      <td>South Dakota</td>\n",
       "    </tr>\n",
       "    <tr>\n",
       "      <th>4</th>\n",
       "      <td>0.562395</td>\n",
       "      <td>-0.249007</td>\n",
       "      <td>-36</td>\n",
       "      <td>Vermont</td>\n",
       "    </tr>\n",
       "    <tr>\n",
       "      <th>5</th>\n",
       "      <td>0.049165</td>\n",
       "      <td>-0.705207</td>\n",
       "      <td>0</td>\n",
       "      <td>Wyoming</td>\n",
       "    </tr>\n",
       "    <tr>\n",
       "      <th>6</th>\n",
       "      <td>0.205539</td>\n",
       "      <td>-0.967592</td>\n",
       "      <td>0</td>\n",
       "      <td>Alaska</td>\n",
       "    </tr>\n",
       "    <tr>\n",
       "      <th>7</th>\n",
       "      <td>0.405411</td>\n",
       "      <td>-0.916556</td>\n",
       "      <td>0</td>\n",
       "      <td>Montana</td>\n",
       "    </tr>\n",
       "    <tr>\n",
       "      <th>8</th>\n",
       "      <td>0.434212</td>\n",
       "      <td>-0.637676</td>\n",
       "      <td>0</td>\n",
       "      <td>North Dakota</td>\n",
       "    </tr>\n",
       "    <tr>\n",
       "      <th>9</th>\n",
       "      <td>0.334844</td>\n",
       "      <td>-0.711133</td>\n",
       "      <td>0</td>\n",
       "      <td>South Dakota</td>\n",
       "    </tr>\n",
       "    <tr>\n",
       "      <th>10</th>\n",
       "      <td>-0.206642</td>\n",
       "      <td>-0.478986</td>\n",
       "      <td>0</td>\n",
       "      <td>Vermont</td>\n",
       "    </tr>\n",
       "    <tr>\n",
       "      <th>11</th>\n",
       "      <td>1.926153</td>\n",
       "      <td>0.621204</td>\n",
       "      <td>8</td>\n",
       "      <td>Wyoming</td>\n",
       "    </tr>\n",
       "    <tr>\n",
       "      <th>12</th>\n",
       "      <td>1.121718</td>\n",
       "      <td>0.238688</td>\n",
       "      <td>16</td>\n",
       "      <td>Alaska</td>\n",
       "    </tr>\n",
       "    <tr>\n",
       "      <th>13</th>\n",
       "      <td>1.082180</td>\n",
       "      <td>0.023914</td>\n",
       "      <td>23</td>\n",
       "      <td>Montana</td>\n",
       "    </tr>\n",
       "    <tr>\n",
       "      <th>14</th>\n",
       "      <td>0.666317</td>\n",
       "      <td>0.182146</td>\n",
       "      <td>8</td>\n",
       "      <td>North Dakota</td>\n",
       "    </tr>\n",
       "    <tr>\n",
       "      <th>15</th>\n",
       "      <td>0.364698</td>\n",
       "      <td>-0.061613</td>\n",
       "      <td>6</td>\n",
       "      <td>South Dakota</td>\n",
       "    </tr>\n",
       "    <tr>\n",
       "      <th>16</th>\n",
       "      <td>0.218698</td>\n",
       "      <td>-0.141854</td>\n",
       "      <td>0</td>\n",
       "      <td>Vermont</td>\n",
       "    </tr>\n",
       "    <tr>\n",
       "      <th>17</th>\n",
       "      <td>0.087143</td>\n",
       "      <td>-0.189739</td>\n",
       "      <td>1</td>\n",
       "      <td>Wyoming</td>\n",
       "    </tr>\n",
       "    <tr>\n",
       "      <th>18</th>\n",
       "      <td>0.062693</td>\n",
       "      <td>-0.318349</td>\n",
       "      <td>1</td>\n",
       "      <td>Alaska</td>\n",
       "    </tr>\n",
       "    <tr>\n",
       "      <th>19</th>\n",
       "      <td>0.003467</td>\n",
       "      <td>-0.449865</td>\n",
       "      <td>2</td>\n",
       "      <td>Montana</td>\n",
       "    </tr>\n",
       "    <tr>\n",
       "      <th>20</th>\n",
       "      <td>-0.000323</td>\n",
       "      <td>-0.844881</td>\n",
       "      <td>2</td>\n",
       "      <td>North Dakota</td>\n",
       "    </tr>\n",
       "    <tr>\n",
       "      <th>21</th>\n",
       "      <td>-0.187915</td>\n",
       "      <td>-0.955840</td>\n",
       "      <td>2</td>\n",
       "      <td>South Dakota</td>\n",
       "    </tr>\n",
       "    <tr>\n",
       "      <th>22</th>\n",
       "      <td>-0.271293</td>\n",
       "      <td>-0.125280</td>\n",
       "      <td>8</td>\n",
       "      <td>Vermont</td>\n",
       "    </tr>\n",
       "    <tr>\n",
       "      <th>23</th>\n",
       "      <td>-0.439265</td>\n",
       "      <td>-0.009094</td>\n",
       "      <td>12</td>\n",
       "      <td>Wyoming</td>\n",
       "    </tr>\n",
       "    <tr>\n",
       "      <th>24</th>\n",
       "      <td>-0.478780</td>\n",
       "      <td>-0.150471</td>\n",
       "      <td>8</td>\n",
       "      <td>Alaska</td>\n",
       "    </tr>\n",
       "    <tr>\n",
       "      <th>25</th>\n",
       "      <td>0.011534</td>\n",
       "      <td>-0.307401</td>\n",
       "      <td>15</td>\n",
       "      <td>Montana</td>\n",
       "    </tr>\n",
       "    <tr>\n",
       "      <th>26</th>\n",
       "      <td>-0.352121</td>\n",
       "      <td>-0.261632</td>\n",
       "      <td>16</td>\n",
       "      <td>North Dakota</td>\n",
       "    </tr>\n",
       "    <tr>\n",
       "      <th>27</th>\n",
       "      <td>0.000491</td>\n",
       "      <td>-0.494649</td>\n",
       "      <td>37</td>\n",
       "      <td>South Dakota</td>\n",
       "    </tr>\n",
       "    <tr>\n",
       "      <th>28</th>\n",
       "      <td>-0.483457</td>\n",
       "      <td>0.018129</td>\n",
       "      <td>34</td>\n",
       "      <td>Vermont</td>\n",
       "    </tr>\n",
       "    <tr>\n",
       "      <th>29</th>\n",
       "      <td>-0.474530</td>\n",
       "      <td>-0.284675</td>\n",
       "      <td>34</td>\n",
       "      <td>Wyoming</td>\n",
       "    </tr>\n",
       "    <tr>\n",
       "      <th>30</th>\n",
       "      <td>-0.617846</td>\n",
       "      <td>-0.138545</td>\n",
       "      <td>39</td>\n",
       "      <td>Alaska</td>\n",
       "    </tr>\n",
       "    <tr>\n",
       "      <th>31</th>\n",
       "      <td>-0.417976</td>\n",
       "      <td>-0.112955</td>\n",
       "      <td>54</td>\n",
       "      <td>Montana</td>\n",
       "    </tr>\n",
       "    <tr>\n",
       "      <th>32</th>\n",
       "      <td>-0.357107</td>\n",
       "      <td>-0.006100</td>\n",
       "      <td>53</td>\n",
       "      <td>North Dakota</td>\n",
       "    </tr>\n",
       "    <tr>\n",
       "      <th>33</th>\n",
       "      <td>-0.228509</td>\n",
       "      <td>0.212075</td>\n",
       "      <td>53</td>\n",
       "      <td>South Dakota</td>\n",
       "    </tr>\n",
       "    <tr>\n",
       "      <th>34</th>\n",
       "      <td>-0.219618</td>\n",
       "      <td>0.069555</td>\n",
       "      <td>54</td>\n",
       "      <td>Vermont</td>\n",
       "    </tr>\n",
       "    <tr>\n",
       "      <th>35</th>\n",
       "      <td>0.030770</td>\n",
       "      <td>0.264255</td>\n",
       "      <td>39</td>\n",
       "      <td>Wyoming</td>\n",
       "    </tr>\n",
       "    <tr>\n",
       "      <th>36</th>\n",
       "      <td>-0.131024</td>\n",
       "      <td>0.494476</td>\n",
       "      <td>45</td>\n",
       "      <td>Alaska</td>\n",
       "    </tr>\n",
       "    <tr>\n",
       "      <th>37</th>\n",
       "      <td>-0.134884</td>\n",
       "      <td>0.858585</td>\n",
       "      <td>117</td>\n",
       "      <td>Montana</td>\n",
       "    </tr>\n",
       "    <tr>\n",
       "      <th>38</th>\n",
       "      <td>0.252429</td>\n",
       "      <td>1.090013</td>\n",
       "      <td>57</td>\n",
       "      <td>North Dakota</td>\n",
       "    </tr>\n",
       "    <tr>\n",
       "      <th>39</th>\n",
       "      <td>0.048383</td>\n",
       "      <td>1.406125</td>\n",
       "      <td>148</td>\n",
       "      <td>South Dakota</td>\n",
       "    </tr>\n",
       "    <tr>\n",
       "      <th>40</th>\n",
       "      <td>1.674164</td>\n",
       "      <td>-0.409092</td>\n",
       "      <td>3</td>\n",
       "      <td>Vermont</td>\n",
       "    </tr>\n",
       "    <tr>\n",
       "      <th>41</th>\n",
       "      <td>1.800541</td>\n",
       "      <td>0.609973</td>\n",
       "      <td>14</td>\n",
       "      <td>Wyoming</td>\n",
       "    </tr>\n",
       "    <tr>\n",
       "      <th>42</th>\n",
       "      <td>1.392267</td>\n",
       "      <td>0.175037</td>\n",
       "      <td>14</td>\n",
       "      <td>Alaska</td>\n",
       "    </tr>\n",
       "    <tr>\n",
       "      <th>43</th>\n",
       "      <td>0.701589</td>\n",
       "      <td>-0.162012</td>\n",
       "      <td>8</td>\n",
       "      <td>Montana</td>\n",
       "    </tr>\n",
       "    <tr>\n",
       "      <th>44</th>\n",
       "      <td>0.860387</td>\n",
       "      <td>-0.014407</td>\n",
       "      <td>12</td>\n",
       "      <td>North Dakota</td>\n",
       "    </tr>\n",
       "    <tr>\n",
       "      <th>45</th>\n",
       "      <td>0.479989</td>\n",
       "      <td>0.169650</td>\n",
       "      <td>20</td>\n",
       "      <td>South Dakota</td>\n",
       "    </tr>\n",
       "    <tr>\n",
       "      <th>46</th>\n",
       "      <td>0.503487</td>\n",
       "      <td>-0.300172</td>\n",
       "      <td>19</td>\n",
       "      <td>Vermont</td>\n",
       "    </tr>\n",
       "    <tr>\n",
       "      <th>47</th>\n",
       "      <td>0.224914</td>\n",
       "      <td>-0.077281</td>\n",
       "      <td>20</td>\n",
       "      <td>Wyoming</td>\n",
       "    </tr>\n",
       "    <tr>\n",
       "      <th>48</th>\n",
       "      <td>0.243819</td>\n",
       "      <td>-0.252524</td>\n",
       "      <td>20</td>\n",
       "      <td>Alaska</td>\n",
       "    </tr>\n",
       "    <tr>\n",
       "      <th>49</th>\n",
       "      <td>-0.078257</td>\n",
       "      <td>-0.627753</td>\n",
       "      <td>22</td>\n",
       "      <td>Montana</td>\n",
       "    </tr>\n",
       "  </tbody>\n",
       "</table>\n",
       "</div>"
      ],
      "text/plain": [
       "         PC1       PC2  hospitalized_new  sub_region_1\n",
       "0   1.923742  0.589073                 6        Alaska\n",
       "1   1.699244 -0.304618                14       Montana\n",
       "2   0.943795 -0.537321                11  North Dakota\n",
       "3   0.579014 -0.583678                 5  South Dakota\n",
       "4   0.562395 -0.249007               -36       Vermont\n",
       "5   0.049165 -0.705207                 0       Wyoming\n",
       "6   0.205539 -0.967592                 0        Alaska\n",
       "7   0.405411 -0.916556                 0       Montana\n",
       "8   0.434212 -0.637676                 0  North Dakota\n",
       "9   0.334844 -0.711133                 0  South Dakota\n",
       "10 -0.206642 -0.478986                 0       Vermont\n",
       "11  1.926153  0.621204                 8       Wyoming\n",
       "12  1.121718  0.238688                16        Alaska\n",
       "13  1.082180  0.023914                23       Montana\n",
       "14  0.666317  0.182146                 8  North Dakota\n",
       "15  0.364698 -0.061613                 6  South Dakota\n",
       "16  0.218698 -0.141854                 0       Vermont\n",
       "17  0.087143 -0.189739                 1       Wyoming\n",
       "18  0.062693 -0.318349                 1        Alaska\n",
       "19  0.003467 -0.449865                 2       Montana\n",
       "20 -0.000323 -0.844881                 2  North Dakota\n",
       "21 -0.187915 -0.955840                 2  South Dakota\n",
       "22 -0.271293 -0.125280                 8       Vermont\n",
       "23 -0.439265 -0.009094                12       Wyoming\n",
       "24 -0.478780 -0.150471                 8        Alaska\n",
       "25  0.011534 -0.307401                15       Montana\n",
       "26 -0.352121 -0.261632                16  North Dakota\n",
       "27  0.000491 -0.494649                37  South Dakota\n",
       "28 -0.483457  0.018129                34       Vermont\n",
       "29 -0.474530 -0.284675                34       Wyoming\n",
       "30 -0.617846 -0.138545                39        Alaska\n",
       "31 -0.417976 -0.112955                54       Montana\n",
       "32 -0.357107 -0.006100                53  North Dakota\n",
       "33 -0.228509  0.212075                53  South Dakota\n",
       "34 -0.219618  0.069555                54       Vermont\n",
       "35  0.030770  0.264255                39       Wyoming\n",
       "36 -0.131024  0.494476                45        Alaska\n",
       "37 -0.134884  0.858585               117       Montana\n",
       "38  0.252429  1.090013                57  North Dakota\n",
       "39  0.048383  1.406125               148  South Dakota\n",
       "40  1.674164 -0.409092                 3       Vermont\n",
       "41  1.800541  0.609973                14       Wyoming\n",
       "42  1.392267  0.175037                14        Alaska\n",
       "43  0.701589 -0.162012                 8       Montana\n",
       "44  0.860387 -0.014407                12  North Dakota\n",
       "45  0.479989  0.169650                20  South Dakota\n",
       "46  0.503487 -0.300172                19       Vermont\n",
       "47  0.224914 -0.077281                20       Wyoming\n",
       "48  0.243819 -0.252524                20        Alaska\n",
       "49 -0.078257 -0.627753                22       Montana"
      ]
     },
     "execution_count": 166,
     "metadata": {},
     "output_type": "execute_result"
    }
   ],
   "source": [
    "df_pca4 = pd.read_excel('finalDf_clean_ms_imputed.xlsx')# State average per variable imputed into missing data\n",
    "principal_pca_df['sub_region_1'] = df_pca4['sub_region_1']\n",
    "principal_pca_df.head(50)"
   ]
  },
  {
   "cell_type": "code",
   "execution_count": 167,
   "metadata": {},
   "outputs": [
    {
     "data": {
      "text/plain": [
       "<matplotlib.legend.Legend at 0x170e53553c8>"
      ]
     },
     "execution_count": 167,
     "metadata": {},
     "output_type": "execute_result"
    },
    {
     "data": {
      "image/png": "[encoded data removed]",
      "text/plain": [
       "<Figure size 360x288 with 1 Axes>"
      ]
     },
     "metadata": {
      "needs_background": "light"
     },
     "output_type": "display_data"
    },
    {
     "data": {
      "image/png": "[encoded data removed]",
      "text/plain": [
       "<Figure size 360x360 with 1 Axes>"
      ]
     },
     "metadata": {
      "needs_background": "light"
     },
     "output_type": "display_data"
    }
   ],
   "source": [
    "# plotting the result\n",
    "fig, axes = plt.subplots(nrows=1, constrained_layout=True, figsize=(5, 4))\n",
    "plt.scatter(x[:,0], x[:,1], c=cl, s=1,cmap=plt.cm.get_cmap(\"viridis\", 5))\n",
    "plt.scatter(mu[:,0], mu[:,1], marker='x',cmap=plt.cm.get_cmap(\"viridis\", 5))\n",
    "plt.title('clustering result')\n",
    "plt.legend\n",
    "plt.xlabel('PC1')\n",
    "plt.ylabel('PC2')\n",
    "\n",
    "\n",
    "sns.lmplot( x='PC1',y='PC2', data=principal_pca_df, fit_reg=False, hue='sub_region_1', legend=False)\n",
    "plt.legend(loc='upper right')"
   ]
  },
  {
   "cell_type": "code",
   "execution_count": null,
   "metadata": {},
   "outputs": [],
   "source": []
  }
 ],
 "metadata": {
  "kernelspec": {
   "display_name": "Python 3",
   "language": "python",
   "name": "python3"
  },
  "language_info": {
   "codemirror_mode": {
    "name": "ipython",
    "version": 3
   },
   "file_extension": ".py",
   "mimetype": "text/x-python",
   "name": "python",
   "nbconvert_exporter": "python",
   "pygments_lexer": "ipython3",
   "version": "3.7.4"
  }
 },
 "nbformat": 4,
 "nbformat_minor": 4
}
